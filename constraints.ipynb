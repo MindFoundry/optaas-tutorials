{
 "cells": [
  {
   "cell_type": "markdown",
   "metadata": {},
   "source": [
    "# OPTaaS Constraints\n",
    "Constraints allow you to specify relationships between the parameters you want to optimize, or just constrain the values that a parameter can take. \n",
    "\n",
    "For example, you may want an optional parameter to always be enabled if another parameter is set to `True`, or you may want an IntParameter to be between 0 and 10, but never 3."
   ]
  },
  {
   "cell_type": "markdown",
   "metadata": {},
   "source": [
    "## Numeric constraints\n",
    "You can use all the familiar numeric and comparison operators.\n",
    "\n",
    "Constraints are automatically converted to string expressions in a format that can be parsed by OPTaaS."
   ]
  },
  {
   "cell_type": "code",
   "execution_count": 1,
   "metadata": {},
   "outputs": [
    {
     "data": {
      "text/plain": [
       "#id_x < #id_y"
      ]
     },
     "execution_count": 1,
     "metadata": {},
     "output_type": "execute_result"
    }
   ],
   "source": [
    "from mindfoundry.optaas.client.parameter import IntParameter\n",
    "from mindfoundry.optaas.client.constraint import Constraint\n",
    "\n",
    "x = IntParameter(\"x\", id=\"id_x\", minimum=0, maximum=20)\n",
    "y = IntParameter(\"y\", id=\"id_y\", minimum=0, maximum=20)\n",
    "\n",
    "Constraint(x<y)"
   ]
  },
  {
   "cell_type": "code",
   "execution_count": 2,
   "metadata": {},
   "outputs": [
    {
     "data": {
      "text/plain": [
       "( #id_x + #id_y ) == 25"
      ]
     },
     "execution_count": 2,
     "metadata": {},
     "output_type": "execute_result"
    }
   ],
   "source": [
    "Constraint(x+y == 25)"
   ]
  },
  {
   "cell_type": "code",
   "execution_count": 3,
   "metadata": {
    "scrolled": true
   },
   "outputs": [
    {
     "data": {
      "text/plain": [
       "( #id_x ** 2 ) < ( #id_y % 2 )"
      ]
     },
     "execution_count": 3,
     "metadata": {},
     "output_type": "execute_result"
    }
   ],
   "source": [
    "Constraint(x**2 < y%2)"
   ]
  },
  {
   "cell_type": "markdown",
   "metadata": {},
   "source": [
    "If you don't specify an `id` for a parameter, the object id will be used instead - but it's not very readable!"
   ]
  },
  {
   "cell_type": "code",
   "execution_count": 4,
   "metadata": {
    "scrolled": true
   },
   "outputs": [
    {
     "data": {
      "text/plain": [
       "( #id_x // #id_y ) <= #2310508967304"
      ]
     },
     "execution_count": 4,
     "metadata": {},
     "output_type": "execute_result"
    }
   ],
   "source": [
    "no_id = IntParameter(\"no_id\", minimum=0, maximum=20)\n",
    "\n",
    "Constraint(x // y <= no_id)"
   ]
  },
  {
   "cell_type": "markdown",
   "metadata": {},
   "source": [
    "## Logical operators\n",
    "Use the binary operators `|` and `&` instead of `or` and `and` (this is because `or` and `and` cannot be overridden).\n",
    "\n",
    "Enclose the operands in brackets to avoid any errors due to the precedence of the binary operators."
   ]
  },
  {
   "cell_type": "code",
   "execution_count": 5,
   "metadata": {
    "scrolled": true
   },
   "outputs": [
    {
     "data": {
      "text/plain": [
       "( #id_x < 3 ) || ( ( #id_x > 5 ) && ( #id_y >= 7 ) )"
      ]
     },
     "execution_count": 5,
     "metadata": {},
     "output_type": "execute_result"
    }
   ],
   "source": [
    "Constraint((x<3) | (x>5) & (y>=7))"
   ]
  },
  {
   "cell_type": "markdown",
   "metadata": {},
   "source": [
    "## Optional parameters\n",
    "Use `is_present` and `is_absent` to create constraints based on whether a parameter is present in a configuration."
   ]
  },
  {
   "cell_type": "code",
   "execution_count": 6,
   "metadata": {},
   "outputs": [],
   "source": [
    "from mindfoundry.optaas.client.parameter import FloatParameter\n",
    "\n",
    "z = FloatParameter(\"z\", id=\"id_z\", minimum=0, maximum=1, optional=True)"
   ]
  },
  {
   "cell_type": "markdown",
   "metadata": {},
   "source": [
    "Note that you can create conditional constraints that only apply when a condition is true (in this case, if `z` is present)."
   ]
  },
  {
   "cell_type": "code",
   "execution_count": 7,
   "metadata": {
    "scrolled": true
   },
   "outputs": [
    {
     "data": {
      "text/plain": [
       "if #id_z is_present then #id_z >= ( #id_x / #id_y )"
      ]
     },
     "execution_count": 7,
     "metadata": {},
     "output_type": "execute_result"
    }
   ],
   "source": [
    "Constraint(when=z.is_present(), then=z >= x/y)"
   ]
  },
  {
   "cell_type": "code",
   "execution_count": 8,
   "metadata": {
    "scrolled": true
   },
   "outputs": [
    {
     "data": {
      "text/plain": [
       "if ( #id_x == 0 ) && ( #id_y == 0 ) then #id_z is_absent"
      ]
     },
     "execution_count": 8,
     "metadata": {},
     "output_type": "execute_result"
    }
   ],
   "source": [
    "Constraint(when=(x==0) & (y==0), then=z.is_absent())"
   ]
  },
  {
   "cell_type": "markdown",
   "metadata": {},
   "source": [
    "## Choices\n",
    "You can use `is_present` and `is_absent` with parameters that are part of a choice."
   ]
  },
  {
   "cell_type": "code",
   "execution_count": 9,
   "metadata": {},
   "outputs": [],
   "source": [
    "from mindfoundry.optaas.client.parameter import ChoiceParameter\n",
    "\n",
    "choice = ChoiceParameter(\"xy\", [x, y], id=\"id_choice\", default=y)"
   ]
  },
  {
   "cell_type": "code",
   "execution_count": 10,
   "metadata": {
    "scrolled": true
   },
   "outputs": [
    {
     "data": {
      "text/plain": [
       "if #id_x is_present then #id_z < 0.5"
      ]
     },
     "execution_count": 10,
     "metadata": {},
     "output_type": "execute_result"
    }
   ],
   "source": [
    "Constraint(when=x.is_present(), then=z<0.5)"
   ]
  },
  {
   "cell_type": "markdown",
   "metadata": {},
   "source": [
    "You can also use `==` and `!=` with choices:"
   ]
  },
  {
   "cell_type": "code",
   "execution_count": 11,
   "metadata": {
    "scrolled": true
   },
   "outputs": [
    {
     "data": {
      "text/plain": [
       "if #id_choice == #id_x then #id_z < 0.5"
      ]
     },
     "execution_count": 11,
     "metadata": {},
     "output_type": "execute_result"
    }
   ],
   "source": [
    "Constraint(when=choice==x, then=z<0.5)"
   ]
  },
  {
   "cell_type": "code",
   "execution_count": 12,
   "metadata": {
    "scrolled": true
   },
   "outputs": [
    {
     "data": {
      "text/plain": [
       "if #id_z == 1 then #id_choice != #id_x"
      ]
     },
     "execution_count": 12,
     "metadata": {},
     "output_type": "execute_result"
    }
   ],
   "source": [
    "Constraint(when=z==1, then=choice!=x)"
   ]
  },
  {
   "cell_type": "markdown",
   "metadata": {},
   "source": [
    "## Categoricals\n",
    "You can use `==`, `!=`, `is_present` and `is_absent` with categoricals as well."
   ]
  },
  {
   "cell_type": "code",
   "execution_count": 13,
   "metadata": {},
   "outputs": [
    {
     "data": {
      "text/plain": [
       "if #id_abc == 'a' then #id_x == 0"
      ]
     },
     "execution_count": 13,
     "metadata": {},
     "output_type": "execute_result"
    }
   ],
   "source": [
    "from mindfoundry.optaas.client.parameter import CategoricalParameter\n",
    "\n",
    "abc = CategoricalParameter('abc', ['a', 'b', 'c'], id='id_abc')\n",
    "\n",
    "Constraint(when=abc == \"a\", then=x == 0)"
   ]
  },
  {
   "cell_type": "code",
   "execution_count": 14,
   "metadata": {},
   "outputs": [
    {
     "data": {
      "text/plain": [
       "if #id_x > 1 then #id_abc != 'c'"
      ]
     },
     "execution_count": 14,
     "metadata": {},
     "output_type": "execute_result"
    }
   ],
   "source": [
    "Constraint(when=x > 1, then=abc != \"c\")"
   ]
  },
  {
   "cell_type": "markdown",
   "metadata": {},
   "source": [
    "## Use them when creating a Task"
   ]
  },
  {
   "cell_type": "code",
   "execution_count": 15,
   "metadata": {},
   "outputs": [],
   "source": [
    "from mindfoundry.optaas.client.client import OPTaaSClient\n",
    "\n",
    "client = OPTaaSClient('https://optaas.mindfoundry.ai', '<Your OPTaaS API key>')\n",
    "\n",
    "task = client.create_task(\n",
    "    title='My Task With Constraints', \n",
    "    parameters=[abc, choice, z],\n",
    "    constraints=[\n",
    "        Constraint(when=(x==0) & (y==0), then=z.is_absent()),\n",
    "        Constraint(when=choice==x, then=z < 0.5),\n",
    "        Constraint(when=x==1, then=abc != \"c\")\n",
    "    ]\n",
    ")"
   ]
  },
  {
   "cell_type": "markdown",
   "metadata": {},
   "source": [
    "All generated configurations will obey the constraints:"
   ]
  },
  {
   "cell_type": "code",
   "execution_count": 16,
   "metadata": {},
   "outputs": [
    {
     "data": {
      "text/plain": [
       "[{ 'id': '23ee1a18-2023-4dd1-aa26-b5ab53e7cdb0',\n",
       "   'type': 'default',\n",
       "   'values': {'abc': 'a', 'xy': {'y': 10}, 'z': 0.5}},\n",
       " { 'id': 'b4f81e54-7d0f-433f-ac04-65051c87d44f',\n",
       "   'type': 'exploration',\n",
       "   'values': {'abc': 'c', 'xy': {'y': 15}, 'z': 0.9515548389615546}},\n",
       " { 'id': 'fb2601f5-e46c-4350-b6ff-4825d775d91f',\n",
       "   'type': 'exploration',\n",
       "   'values': {'abc': 'a', 'xy': {'y': 17}, 'z': 0.7398269222209167}},\n",
       " { 'id': '0187de36-6396-4c1f-a12f-33240c6c389f',\n",
       "   'type': 'exploration',\n",
       "   'values': {'abc': 'b', 'xy': {'y': 8}}},\n",
       " { 'id': 'f2302695-2a91-4939-a88c-7c46b53aaac4',\n",
       "   'type': 'exploration',\n",
       "   'values': {'abc': 'a', 'xy': {'x': 7}, 'z': 0.15017385522863147}},\n",
       " { 'id': 'd86acbae-b559-4df7-b451-5ee9bf9628ee',\n",
       "   'type': 'exploration',\n",
       "   'values': {'abc': 'c', 'xy': {'y': 12}, 'z': 0.6904773645824779}},\n",
       " { 'id': 'a38e0fe6-0b5c-4b86-8211-dcd35ef42490',\n",
       "   'type': 'exploration',\n",
       "   'values': {'abc': 'b', 'xy': {'y': 12}}},\n",
       " { 'id': '82865333-83cd-48bf-a80d-9d8989ce57d9',\n",
       "   'type': 'exploration',\n",
       "   'values': {'abc': 'a', 'xy': {'y': 8}}},\n",
       " { 'id': '6da87b98-9bd0-4489-b9d6-6f2e0fa4528f',\n",
       "   'type': 'exploration',\n",
       "   'values': {'abc': 'a', 'xy': {'y': 1}}},\n",
       " { 'id': '116e1897-233d-4028-a579-3cedc92db259',\n",
       "   'type': 'exploration',\n",
       "   'values': {'abc': 'a', 'xy': {'y': 6}}}]"
      ]
     },
     "execution_count": 16,
     "metadata": {},
     "output_type": "execute_result"
    }
   ],
   "source": [
    "task.generate_configurations(10)"
   ]
  },
  {
   "cell_type": "markdown",
   "metadata": {},
   "source": [
    "If a configuration violates a constraint, it will not be accepted:"
   ]
  },
  {
   "cell_type": "code",
   "execution_count": 17,
   "metadata": {},
   "outputs": [
    {
     "ename": "OPTaaSError",
     "evalue": "Configuration violates constraint: if #id_choice == #id_x then #id_z < 0.5",
     "output_type": "error",
     "traceback": [
      "\u001b[1;31m---------------------------------------------------------------------------\u001b[0m",
      "\u001b[1;31mOPTaaSError\u001b[0m                               Traceback (most recent call last)",
      "\u001b[1;32m<ipython-input-17-7125e499d984>\u001b[0m in \u001b[0;36m<module>\u001b[1;34m()\u001b[0m\n\u001b[1;32m----> 1\u001b[1;33m \u001b[0mtask\u001b[0m\u001b[1;33m.\u001b[0m\u001b[0madd_user_defined_configuration\u001b[0m\u001b[1;33m(\u001b[0m\u001b[1;33m{\u001b[0m\u001b[1;34m'xy'\u001b[0m\u001b[1;33m:\u001b[0m \u001b[1;33m{\u001b[0m\u001b[1;34m'x'\u001b[0m\u001b[1;33m:\u001b[0m \u001b[1;36m1\u001b[0m\u001b[1;33m}\u001b[0m\u001b[1;33m,\u001b[0m \u001b[1;34m'z'\u001b[0m\u001b[1;33m:\u001b[0m \u001b[1;36m0.5\u001b[0m\u001b[1;33m,\u001b[0m \u001b[1;34m'abc'\u001b[0m\u001b[1;33m:\u001b[0m \u001b[1;34m'c'\u001b[0m\u001b[1;33m}\u001b[0m\u001b[1;33m)\u001b[0m\u001b[1;33m\u001b[0m\u001b[0m\n\u001b[0m",
      "\u001b[1;32mc:\\users\\con symeonides\\pycharmprojects\\optaas\\optaas-client\\mindfoundry\\optaas\\client\\task.py\u001b[0m in \u001b[0;36madd_user_defined_configuration\u001b[1;34m(self, values, score, user_defined_data)\u001b[0m\n\u001b[0;32m    141\u001b[0m             \u001b[0mbody\u001b[0m\u001b[1;33m[\u001b[0m\u001b[1;34m'results'\u001b[0m\u001b[1;33m]\u001b[0m \u001b[1;33m=\u001b[0m \u001b[1;33m[\u001b[0m\u001b[0mself\u001b[0m\u001b[1;33m.\u001b[0m\u001b[0m_make_result_body\u001b[0m\u001b[1;33m(\u001b[0m\u001b[0mscore\u001b[0m\u001b[1;33m,\u001b[0m \u001b[0muser_defined_data\u001b[0m\u001b[1;33m)\u001b[0m\u001b[1;33m]\u001b[0m\u001b[1;33m\u001b[0m\u001b[0m\n\u001b[0;32m    142\u001b[0m \u001b[1;33m\u001b[0m\u001b[0m\n\u001b[1;32m--> 143\u001b[1;33m         \u001b[0mresponse\u001b[0m \u001b[1;33m=\u001b[0m \u001b[0mself\u001b[0m\u001b[1;33m.\u001b[0m\u001b[0m_session\u001b[0m\u001b[1;33m.\u001b[0m\u001b[0mpost\u001b[0m\u001b[1;33m(\u001b[0m\u001b[0mself\u001b[0m\u001b[1;33m.\u001b[0m\u001b[0m_configurations_url\u001b[0m\u001b[1;33m,\u001b[0m \u001b[0mbody\u001b[0m\u001b[1;33m)\u001b[0m\u001b[1;33m\u001b[0m\u001b[0m\n\u001b[0m\u001b[0;32m    144\u001b[0m         \u001b[1;32mreturn\u001b[0m \u001b[0mConfiguration\u001b[0m\u001b[1;33m(\u001b[0m\u001b[0mresponse\u001b[0m\u001b[1;33m.\u001b[0m\u001b[0mbody\u001b[0m\u001b[1;33m[\u001b[0m\u001b[1;34m'configurations'\u001b[0m\u001b[1;33m]\u001b[0m\u001b[1;33m[\u001b[0m\u001b[1;36m0\u001b[0m\u001b[1;33m]\u001b[0m\u001b[1;33m)\u001b[0m\u001b[1;33m\u001b[0m\u001b[0m\n\u001b[0;32m    145\u001b[0m \u001b[1;33m\u001b[0m\u001b[0m\n",
      "\u001b[1;32mc:\\users\\con symeonides\\pycharmprojects\\optaas\\optaas-client\\mindfoundry\\optaas\\client\\session.py\u001b[0m in \u001b[0;36mpost\u001b[1;34m(self, endpoint, body)\u001b[0m\n\u001b[0;32m     53\u001b[0m             \u001b[1;33m:\u001b[0m\u001b[1;32mclass\u001b[0m\u001b[1;33m:\u001b[0m\u001b[0;31m`\u001b[0m\u001b[1;33m.\u001b[0m\u001b[0mOPTaaSError\u001b[0m\u001b[0;31m`\u001b[0m \u001b[1;32mif\u001b[0m \u001b[0man\u001b[0m \u001b[0merror\u001b[0m \u001b[0mresponse\u001b[0m \u001b[1;32mis\u001b[0m \u001b[0mreceived\u001b[0m\u001b[1;33m.\u001b[0m\u001b[1;33m\u001b[0m\u001b[0m\n\u001b[0;32m     54\u001b[0m         \"\"\"\n\u001b[1;32m---> 55\u001b[1;33m         \u001b[1;32mreturn\u001b[0m \u001b[0mOPTaaSResponse\u001b[0m\u001b[1;33m(\u001b[0m\u001b[0mself\u001b[0m\u001b[1;33m.\u001b[0m\u001b[0m_session\u001b[0m\u001b[1;33m.\u001b[0m\u001b[0mpost\u001b[0m\u001b[1;33m(\u001b[0m\u001b[0mself\u001b[0m\u001b[1;33m.\u001b[0m\u001b[0m_root_url\u001b[0m \u001b[1;33m+\u001b[0m \u001b[0mendpoint\u001b[0m\u001b[1;33m,\u001b[0m \u001b[0mjson\u001b[0m\u001b[1;33m=\u001b[0m\u001b[0mbody\u001b[0m\u001b[1;33m,\u001b[0m \u001b[0mheaders\u001b[0m\u001b[1;33m=\u001b[0m\u001b[0mself\u001b[0m\u001b[1;33m.\u001b[0m\u001b[0m_headers\u001b[0m\u001b[1;33m)\u001b[0m\u001b[1;33m)\u001b[0m\u001b[1;33m\u001b[0m\u001b[0m\n\u001b[0m\u001b[0;32m     56\u001b[0m \u001b[1;33m\u001b[0m\u001b[0m\n\u001b[0;32m     57\u001b[0m     \u001b[1;32mdef\u001b[0m \u001b[0mput\u001b[0m\u001b[1;33m(\u001b[0m\u001b[0mself\u001b[0m\u001b[1;33m,\u001b[0m \u001b[0mendpoint\u001b[0m\u001b[1;33m:\u001b[0m \u001b[0mstr\u001b[0m\u001b[1;33m,\u001b[0m \u001b[0mbody\u001b[0m\u001b[1;33m:\u001b[0m \u001b[0mdict\u001b[0m\u001b[1;33m)\u001b[0m \u001b[1;33m->\u001b[0m \u001b[0mOPTaaSResponse\u001b[0m\u001b[1;33m:\u001b[0m\u001b[1;33m\u001b[0m\u001b[0m\n",
      "\u001b[1;32mc:\\users\\con symeonides\\pycharmprojects\\optaas\\optaas-client\\mindfoundry\\optaas\\client\\session.py\u001b[0m in \u001b[0;36m__init__\u001b[1;34m(self, response)\u001b[0m\n\u001b[0;32m     24\u001b[0m             \u001b[0mself\u001b[0m\u001b[1;33m.\u001b[0m\u001b[0mbody\u001b[0m \u001b[1;33m=\u001b[0m \u001b[0mresponse\u001b[0m\u001b[1;33m.\u001b[0m\u001b[0mjson\u001b[0m\u001b[1;33m(\u001b[0m\u001b[1;33m)\u001b[0m\u001b[1;33m\u001b[0m\u001b[0m\n\u001b[0;32m     25\u001b[0m         \u001b[1;32melse\u001b[0m\u001b[1;33m:\u001b[0m\u001b[1;33m\u001b[0m\u001b[0m\n\u001b[1;32m---> 26\u001b[1;33m             \u001b[1;32mraise\u001b[0m \u001b[0mOPTaaSError\u001b[0m\u001b[1;33m(\u001b[0m\u001b[0mresponse\u001b[0m\u001b[1;33m)\u001b[0m\u001b[1;33m\u001b[0m\u001b[0m\n\u001b[0m\u001b[0;32m     27\u001b[0m \u001b[1;33m\u001b[0m\u001b[0m\n\u001b[0;32m     28\u001b[0m \u001b[1;33m\u001b[0m\u001b[0m\n",
      "\u001b[1;31mOPTaaSError\u001b[0m: Configuration violates constraint: if #id_choice == #id_x then #id_z < 0.5"
     ]
    }
   ],
   "source": [
    "task.add_user_defined_configuration({'xy': {'x': 1}, 'z': 0.5, 'abc': 'c'})"
   ]
  }
 ],
 "metadata": {
  "kernelspec": {
   "display_name": "Python 3",
   "language": "python",
   "name": "python3"
  },
  "language_info": {
   "codemirror_mode": {
    "name": "ipython",
    "version": 3
   },
   "file_extension": ".py",
   "mimetype": "text/x-python",
   "name": "python",
   "nbconvert_exporter": "python",
   "pygments_lexer": "ipython3",
   "version": "3.6.4"
  }
 },
 "nbformat": 4,
 "nbformat_minor": 2
}
