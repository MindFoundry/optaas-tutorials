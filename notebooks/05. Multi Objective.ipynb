{
 "cells": [
  {
   "cell_type": "markdown",
   "metadata": {},
   "source": [
    "# OPTaaS Multi-Objective\n",
    "\n",
    "### <span style=\"color:red\">Note:</span> To run this notebook, you need an API Key. You can get one <a href=\"mailto:charles.brecque@mindfoundry.ai\">here</a>.\n",
    "\n",
    "OPTaaS can optimize multiple objectives within a single Task. Your scoring function should return a dictionary of scores for each objective. You can also optionally return a dictionary of variances for each objective (i.e. return a tuple of dictionaries).\n",
    "\n",
    "Please note: `ChoiceParameters` and any parameter with `optional=True` are not currently supported for multi-objective tasks."
   ]
  },
  {
   "cell_type": "markdown",
   "metadata": {},
   "source": [
    "## Define your parameters and objectives\n",
    "We will use [this multi-objective optimization example](https://sop.tik.ee.ethz.ch/download/supplementary/testproblems/dtlz2/index.php#Formulation):"
   ]
  },
  {
   "cell_type": "code",
   "execution_count": 1,
   "metadata": {},
   "outputs": [],
   "source": [
    "import math\n",
    "\n",
    "from mindfoundry.optaas.client.parameter import FloatParameter\n",
    "from mindfoundry.optaas.client.objective import Objective\n",
    "from mindfoundry.optaas.client.goal import Goal\n",
    "\n",
    "parameters=[\n",
    "    FloatParameter('x1', minimum=0, maximum=1),\n",
    "    FloatParameter('x2', minimum=0, maximum=1)\n",
    "]\n",
    "\n",
    "objectives = [\n",
    "    Objective(\"f1\", goal=Goal.max),  # or goal=Goal.min as appropriate\n",
    "    Objective(\"f2\", goal=Goal.max)   # you can also specify known_min_score and known_max_score\n",
    "]\n",
    "\n",
    "def scoring_function(x1, x2):\n",
    "    g = ((x1 - 0.5) ** 2) + ((x2 - 0.5) ** 2)\n",
    "    x1_pi2 = x1 * math.pi / 2\n",
    "    f1 = ((1 + g) * math.cos(x1_pi2))\n",
    "    f2 = ((1 + g) * math.sin(x1_pi2))\n",
    "    return {\"f1\": f1, \"f2\": f2}"
   ]
  },
  {
   "cell_type": "markdown",
   "metadata": {},
   "source": [
    "## Connect to OPTaaS using your API Key"
   ]
  },
  {
   "cell_type": "code",
   "execution_count": 2,
   "metadata": {},
   "outputs": [],
   "source": [
    "from mindfoundry.optaas.client.client import OPTaaSClient\n",
    "\n",
    "client = OPTaaSClient('https://optaas.mindfoundry.ai', '<Your OPTaaS API key>')"
   ]
  },
  {
   "cell_type": "markdown",
   "metadata": {},
   "source": [
    "## Create your Task"
   ]
  },
  {
   "cell_type": "code",
   "execution_count": 3,
   "metadata": {},
   "outputs": [],
   "source": [
    "task = client.create_task(\n",
    "    title='Multi-objective Example',\n",
    "    parameters=parameters,\n",
    "    objectives=objectives,\n",
    "    initial_configurations=4\n",
    ")"
   ]
  },
  {
   "cell_type": "markdown",
   "metadata": {},
   "source": [
    "## Run your Task"
   ]
  },
  {
   "cell_type": "code",
   "execution_count": 4,
   "metadata": {},
   "outputs": [
    {
     "name": "stdout",
     "output_type": "stream",
     "text": [
      "Running task \"Multi-objective Example\" for 20 iterations\n",
      "(no score threshold set)\n",
      "\n",
      "Iteration: 0    Score: {'f1': 0.7071067811865476, 'f2': 0.7071067811865476}\n",
      "Configuration: {'x1': 0.5, 'x2': 0.5}\n",
      "\n",
      "Iteration: 1    Score: {'f1': 0.43051886141072604, 'f2': 1.0393644740751975}\n",
      "Configuration: {'x1': 0.75, 'x2': 0.25}\n",
      "\n",
      "Iteration: 2    Score: {'f1': 1.0393644740751975, 'f2': 0.430518861410726}\n",
      "Configuration: {'x1': 0.25, 'x2': 0.75}\n",
      "\n",
      "Iteration: 3    Score: {'f1': 0.8574530376869998, 'f2': 0.5729318028014647}\n",
      "Configuration: {'x1': 0.375, 'x2': 0.375}\n",
      "\n",
      "Iteration: 4    Score: {'f1': 4.7123888625546236e-08, 'f2': 1.49999996}\n",
      "Configuration: {'x1': 0.99999998, 'x2': 0.99999998}\n",
      "\n",
      "Iteration: 5    Score: {'f1': 0.8567007900253867, 'f2': 0.910775318358169}\n",
      "Configuration: {'x1': 0.519470803111379, 'x2': 0.0}\n",
      "\n",
      "Iteration: 6    Score: {'f1': 1.5, 'f2': 0.0}\n",
      "Configuration: {'x1': 0.0, 'x2': 0.0}\n",
      "\n",
      "Iteration: 7    Score: {'f1': 4.7123889253864754e-08, 'f2': 1.4999999799999997}\n",
      "Configuration: {'x1': 0.99999998, 'x2': 0.0}\n",
      "\n",
      "Iteration: 8    Score: {'f1': 4.080697230963917e-08, 'f2': 1.298926268979364}\n",
      "Configuration: {'x1': 0.99999998, 'x2': 0.7211928773251168}\n",
      "\n",
      "Iteration: 9    Score: {'f1': 0.4876540182264989, 'f2': 1.2231932712693305}\n",
      "Configuration: {'x1': 0.7584907716275973, 'x2': 0.99999998}\n",
      "\n",
      "Iteration: 10    Score: {'f1': 0.04765939267110146, 'f2': 1.4791475178415543}\n",
      "Configuration: {'x1': 0.9794946629229769, 'x2': 0.0}\n",
      "\n",
      "Iteration: 11    Score: {'f1': 0.1111749469363839, 'f2': 1.4493810811010408}\n",
      "Configuration: {'x1': 0.9512634390586995, 'x2': 0.99999998}\n",
      "\n",
      "Iteration: 12    Score: {'f1': 1.4999999800000003, 'f2': 0.0}\n",
      "Configuration: {'x1': 0.0, 'x2': 0.99999998}\n",
      "\n",
      "Iteration: 13    Score: {'f1': 0.8773543838541155, 'f2': 0.8903956297179462}\n",
      "Configuration: {'x1': 0.5046964583777411, 'x2': 0.99999998}\n",
      "\n",
      "Iteration: 14    Score: {'f1': 0.7341389275069955, 'f2': 1.0251257860988}\n",
      "Configuration: {'x1': 0.6043537379922155, 'x2': 0.0}\n",
      "\n",
      "Iteration: 15    Score: {'f1': 0.8960189184529699, 'f2': 0.8716891730875018}\n",
      "Configuration: {'x1': 0.4912384747711132, 'x2': 0.0}\n",
      "\n",
      "Iteration: 16    Score: {'f1': 0.9471186585308919, 'f2': 0.8190133326411542}\n",
      "Configuration: {'x1': 0.4539038939840255, 'x2': 0.99999998}\n",
      "\n",
      "Iteration: 17    Score: {'f1': 1.3686815146527993, 'f2': 0.2630538101835009}\n",
      "Configuration: {'x1': 0.12088114539325229, 'x2': 0.0}\n",
      "\n",
      "Iteration: 18    Score: {'f1': 1.2845558923075076, 'f2': 0.39888747546846554}\n",
      "Configuration: {'x1': 0.1916767324621011, 'x2': 0.99999998}\n",
      "\n",
      "Iteration: 19    Score: {'f1': 0.9412528715084808, 'f2': 0.8251721318515597}\n",
      "Configuration: {'x1': 0.4582245544522904, 'x2': 0.0}\n",
      "\n",
      "Task Completed\n",
      "\n"
     ]
    }
   ],
   "source": [
    "task.run(scoring_function, max_iterations=20)"
   ]
  }
 ],
 "metadata": {
  "kernelspec": {
   "display_name": "Python 3",
   "language": "python",
   "name": "python3"
  },
  "language_info": {
   "codemirror_mode": {
    "name": "ipython",
    "version": 3
   },
   "file_extension": ".py",
   "mimetype": "text/x-python",
   "name": "python",
   "nbconvert_exporter": "python",
   "pygments_lexer": "ipython3",
   "version": "3.6.4"
  },
  "nav_menu": {},
  "toc": {
   "navigate_menu": true,
   "number_sections": false,
   "sideBar": true,
   "threshold": 6,
   "toc_cell": false,
   "toc_section_display": "block",
   "toc_window_display": false
  }
 },
 "nbformat": 4,
 "nbformat_minor": 2
}
