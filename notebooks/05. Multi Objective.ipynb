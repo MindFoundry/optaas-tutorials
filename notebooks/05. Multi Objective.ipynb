{
 "cells": [
  {
   "cell_type": "markdown",
   "metadata": {},
   "source": [
    "# OPTaaS Multi-Objective\n",
    "\n",
    "### <span style=\"color:red\">Note:</span> To run this notebook, you need an API Key. You can get one <a href=\"mailto:charles.brecque@mindfoundry.ai\">here</a>.\n",
    "\n",
    "OPTaaS can optimize multiple objectives within a single Task. Your scoring function should return a dictionary of scores for each objective."
   ]
  },
  {
   "cell_type": "markdown",
   "metadata": {},
   "source": [
    "## Define your parameters and objectives\n",
    "For a simple demonstration, we will use 2 FloatParameters: `x` and `y`.\n",
    "\n",
    "Our objectives will be:\n",
    "* Maximize the sum `x + y`\n",
    "* Minimize the product `x * y`"
   ]
  },
  {
   "cell_type": "code",
   "execution_count": 1,
   "metadata": {},
   "outputs": [],
   "source": [
    "from mindfoundry.optaas.client.parameter import FloatParameter\n",
    "from mindfoundry.optaas.client.objective import Objective\n",
    "from mindfoundry.optaas.client.goal import Goal\n",
    "\n",
    "parameters=[\n",
    "    FloatParameter('x', minimum=0, maximum=1),\n",
    "    FloatParameter('y', minimum=0, maximum=1)\n",
    "]\n",
    "\n",
    "objectives = [\n",
    "    Objective(\"sum\", goal=Goal.max, min_known_score=0, max_known_score=2),\n",
    "    Objective(\"product\", goal=Goal.min, min_known_score=0, max_known_score=1),\n",
    "]\n",
    "\n",
    "def scoring_function(x, y):\n",
    "    return {\"sum\": x + y, \"product\": x * y}"
   ]
  },
  {
   "cell_type": "markdown",
   "metadata": {},
   "source": [
    "## Connect to OPTaaS using your API Key"
   ]
  },
  {
   "cell_type": "code",
   "execution_count": 2,
   "metadata": {},
   "outputs": [],
   "source": [
    "from mindfoundry.optaas.client.client import OPTaaSClient\n",
    "\n",
    "client = OPTaaSClient('https://optaas.mindfoundry.ai', '<Your OPTaaS API key>')"
   ]
  },
  {
   "cell_type": "markdown",
   "metadata": {},
   "source": [
    "## Create your Task"
   ]
  },
  {
   "cell_type": "code",
   "execution_count": 3,
   "metadata": {},
   "outputs": [],
   "source": [
    "task = client.create_task(\n",
    "    title='Multi-objective Example',\n",
    "    parameters=parameters,\n",
    "    objectives=objectives\n",
    ")"
   ]
  },
  {
   "cell_type": "code",
   "execution_count": 4,
   "metadata": {
    "scrolled": false
   },
   "outputs": [
    {
     "data": {
      "text/plain": [
       "{'id': '82949215-9eda-4100-adc3-85ca13c9f4b4',\n",
       " 'title': 'Multi-objective Example',\n",
       " 'status': 'running',\n",
       " 'dateCreated': '2018-09-12T13:12:04+00:00',\n",
       " 'parameters': [{'id': '2398751205248',\n",
       "   'name': 'x',\n",
       "   'type': 'number',\n",
       "   'minimum': 0,\n",
       "   'maximum': 1},\n",
       "  {'id': '2398751205360',\n",
       "   'name': 'y',\n",
       "   'type': 'number',\n",
       "   'minimum': 0,\n",
       "   'maximum': 1}],\n",
       " 'constraints': [],\n",
       " 'initialConfigurations': 10,\n",
       " 'numberOfIterations': 0,\n",
       " '_links': {'configurations': {'href': '/api/v1/tasks/82949215-9eda-4100-adc3-85ca13c9f4b4/configurations'},\n",
       "  'results': {'href': '/api/v1/tasks/82949215-9eda-4100-adc3-85ca13c9f4b4/results'},\n",
       "  'complete': {'href': '/api/v1/tasks/82949215-9eda-4100-adc3-85ca13c9f4b4/status/done'},\n",
       "  'resume': {'href': '/api/v1/tasks/82949215-9eda-4100-adc3-85ca13c9f4b4/status/running'},\n",
       "  'self': {'href': '/api/v1/tasks/82949215-9eda-4100-adc3-85ca13c9f4b4'}},\n",
       " 'objectives': [{'id': 'sum',\n",
       "   'goal': 'max',\n",
       "   'minKnownScore': 0,\n",
       "   'maxKnownScore': 2},\n",
       "  {'id': 'product', 'goal': 'min', 'minKnownScore': 0, 'maxKnownScore': 1}]}"
      ]
     },
     "execution_count": 4,
     "metadata": {},
     "output_type": "execute_result"
    }
   ],
   "source": [
    "task.json"
   ]
  }
 ],
 "metadata": {
  "kernelspec": {
   "display_name": "Python 3",
   "language": "python",
   "name": "python3"
  },
  "language_info": {
   "codemirror_mode": {
    "name": "ipython",
    "version": 3
   },
   "file_extension": ".py",
   "mimetype": "text/x-python",
   "name": "python",
   "nbconvert_exporter": "python",
   "pygments_lexer": "ipython3",
   "version": "3.6.5"
  },
  "nav_menu": {},
  "toc": {
   "navigate_menu": true,
   "number_sections": false,
   "sideBar": true,
   "threshold": 6,
   "toc_cell": false,
   "toc_section_display": "block",
   "toc_window_display": false
  }
 },
 "nbformat": 4,
 "nbformat_minor": 2
}
