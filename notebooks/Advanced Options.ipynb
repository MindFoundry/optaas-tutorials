{
 "cells": [
  {
   "cell_type": "markdown",
   "metadata": {},
   "source": [
    "# OPTaaS - Advanced Options\n",
    "\n",
    "### <span style=\"color:red\">Note:</span> To run this notebook, you need an API Key. You can get one <a href=\"mailto:charles.brecque@mindfoundry.ai\">here</a>."
   ]
  },
  {
   "cell_type": "markdown",
   "metadata": {},
   "source": [
    "## Connect to the OPTaaS server using your API Key"
   ]
  },
  {
   "cell_type": "code",
   "execution_count": 1,
   "metadata": {},
   "outputs": [],
   "source": [
    "from mindfoundry.optaas.client.client import OPTaaSClient\n",
    "\n",
    "client = OPTaaSClient('https://optaas.mindfoundry.ai', '<Your OPTaaS API key>')"
   ]
  },
  {
   "cell_type": "markdown",
   "metadata": {},
   "source": [
    "## Store additional data in a Task\n",
    "\n",
    "This can be a JSON, array, string, number or boolean:"
   ]
  },
  {
   "cell_type": "code",
   "execution_count": 2,
   "metadata": {},
   "outputs": [
    {
     "name": "stdout",
     "output_type": "stream",
     "text": [
      "{'description': 'Lorem ipsum...', 'tags': ['abc', 'defg']}\n"
     ]
    }
   ],
   "source": [
    "from mindfoundry.optaas.client.parameter import FloatParameter\n",
    "\n",
    "task = client.create_task(\n",
    "    title='My Task with User-defined Data', \n",
    "    parameters=[\n",
    "        FloatParameter('x', minimum=0, maximum=5),\n",
    "        FloatParameter('y', minimum=1, maximum=5),\n",
    "    ],\n",
    "    user_defined_data={\n",
    "        'description': 'Lorem ipsum...',\n",
    "        'tags': ['abc', 'defg']\n",
    "    }\n",
    ")\n",
    "\n",
    "print(task.user_defined_data)"
   ]
  },
  {
   "cell_type": "markdown",
   "metadata": {},
   "source": [
    "## Warm start\n",
    "\n",
    "If you've already tried some configurations, you can record the scores upfront, thus giving the optimizer a \"warm start\":"
   ]
  },
  {
   "cell_type": "code",
   "execution_count": 3,
   "metadata": {
    "scrolled": false
   },
   "outputs": [
    {
     "data": {
      "text/plain": [
       "[{ 'configuration': 'd85df0bf-0b50-4279-ac4e-9b6fda22d749',\n",
       "   'id': 4457,\n",
       "   'score': 0.0,\n",
       "   'user_defined_data': None},\n",
       " { 'configuration': 'fda7e52d-220d-406b-98fc-8ac12b70b4f8',\n",
       "   'id': 4458,\n",
       "   'score': 1.5,\n",
       "   'user_defined_data': None},\n",
       " { 'configuration': '8326c3e2-0942-4757-8da5-1a5a976d3df5',\n",
       "   'id': 4459,\n",
       "   'score': 0.4166666666666667,\n",
       "   'user_defined_data': None}]"
      ]
     },
     "execution_count": 3,
     "metadata": {},
     "output_type": "execute_result"
    }
   ],
   "source": [
    "def scoring_function(x, y):\n",
    "    return (x * y) - (x / y)\n",
    "\n",
    "warm_start_values = [\n",
    "    {'x': 0, 'y': 1},\n",
    "    {'x': 1, 'y': 2},\n",
    "    {'x': 0.5, 'y': 1.5},\n",
    "]\n",
    "for values in warm_start_values:\n",
    "    task.add_user_defined_configuration(values, scoring_function(**values))\n",
    "\n",
    "task.get_results()"
   ]
  },
  {
   "cell_type": "markdown",
   "metadata": {},
   "source": [
    "## Store additional data in a Result\n",
    "\n",
    "This can be a JSON, array, string, number or boolean:"
   ]
  },
  {
   "cell_type": "code",
   "execution_count": 4,
   "metadata": {},
   "outputs": [
    {
     "data": {
      "text/plain": [
       "[{ 'configuration': '343d76e9-2a8d-46c7-8722-979920efb11a',\n",
       "   'id': 4460,\n",
       "   'score': 0.6744889678888644,\n",
       "   'user_defined_data': {'Any data': ['you', 'like']}}]"
      ]
     },
     "execution_count": 4,
     "metadata": {},
     "output_type": "execute_result"
    }
   ],
   "source": [
    "configuration = task.generate_configurations()[0]\n",
    "score = scoring_function(**configuration.values)\n",
    "task.record_result(configuration, score, user_defined_data={'Any data': ['you', 'like']})\n",
    "\n",
    "task.get_results()[-1:]"
   ]
  },
  {
   "cell_type": "markdown",
   "metadata": {},
   "source": [
    "## Report an error\n",
    "\n",
    "If you encountered an error while calculating the score for a configuration, you can report it:"
   ]
  },
  {
   "cell_type": "code",
   "execution_count": 5,
   "metadata": {},
   "outputs": [
    {
     "name": "stdout",
     "output_type": "stream",
     "text": [
      "Score: None  Unexpected error: code 12345\n"
     ]
    }
   ],
   "source": [
    "error_configuration = task.generate_configurations()[0]\n",
    "next_configuration = task.record_result(error_configuration, \n",
    "                                        error='Unexpected error: code 12345')\n",
    "error_result = task.get_results()[-1]\n",
    "print(f'Score: {error_result.score}  {error_result.error}')"
   ]
  },
  {
   "cell_type": "markdown",
   "metadata": {},
   "source": [
    "## Get best result and configuration"
   ]
  },
  {
   "cell_type": "code",
   "execution_count": 6,
   "metadata": {},
   "outputs": [
    {
     "data": {
      "text/plain": [
       "({ 'configuration': 'fda7e52d-220d-406b-98fc-8ac12b70b4f8',\n",
       "   'id': 4458,\n",
       "   'score': 1.5,\n",
       "   'user_defined_data': None}, { 'id': 'fda7e52d-220d-406b-98fc-8ac12b70b4f8',\n",
       "   'type': 'user-defined',\n",
       "   'values': {'x': 1, 'y': 2}})"
      ]
     },
     "execution_count": 6,
     "metadata": {},
     "output_type": "execute_result"
    }
   ],
   "source": [
    "task.get_best_result_and_configuration()"
   ]
  },
  {
   "cell_type": "markdown",
   "metadata": {},
   "source": [
    "## Get top N results and configurations"
   ]
  },
  {
   "cell_type": "code",
   "execution_count": 7,
   "metadata": {},
   "outputs": [
    {
     "data": {
      "text/plain": [
       "\"Score: 1.500 for configuration: {'x': 1, 'y': 2}\""
      ]
     },
     "metadata": {},
     "output_type": "display_data"
    },
    {
     "data": {
      "text/plain": [
       "\"Score: 0.674 for configuration: {'x': 0.5900467432072032, 'y': 1.723369643705435}\""
      ]
     },
     "metadata": {},
     "output_type": "display_data"
    },
    {
     "data": {
      "text/plain": [
       "\"Score: 0.417 for configuration: {'x': 0.5, 'y': 1.5}\""
      ]
     },
     "metadata": {},
     "output_type": "display_data"
    }
   ],
   "source": [
    "for result in task.get_results(limit=3, best_first=True):\n",
    "    configuration = task.get_configuration(result.configuration)\n",
    "    display(f'Score: {result.score:.3f} for configuration: {configuration.values}')"
   ]
  },
  {
   "cell_type": "markdown",
   "metadata": {},
   "source": [
    "## Resume a completed task\n",
    "Completing a task means that no further configurations can be generated and no further results can be recorded for it."
   ]
  },
  {
   "cell_type": "code",
   "execution_count": 8,
   "metadata": {},
   "outputs": [
    {
     "name": "stdout",
     "output_type": "stream",
     "text": [
      "Cannot add configurations to a completed task\n"
     ]
    }
   ],
   "source": [
    "task.complete()\n",
    "try:\n",
    "    task.generate_configurations()\n",
    "except Exception as err:\n",
    "    print(err)"
   ]
  },
  {
   "cell_type": "markdown",
   "metadata": {},
   "source": [
    "However, you can resume a completed task if necessary:"
   ]
  },
  {
   "cell_type": "code",
   "execution_count": 9,
   "metadata": {},
   "outputs": [
    {
     "data": {
      "text/plain": [
       "[{ 'id': '2afcf327-ffc2-4f7e-a075-dc43a0d7f022',\n",
       "   'type': 'exploration',\n",
       "   'values': {'x': 1.8852008532413678, 'y': 2.463925987958365}}]"
      ]
     },
     "execution_count": 9,
     "metadata": {},
     "output_type": "execute_result"
    }
   ],
   "source": [
    "task.resume()\n",
    "task.generate_configurations()"
   ]
  }
 ],
 "metadata": {
  "kernelspec": {
   "display_name": "Python 3",
   "language": "python",
   "name": "python3"
  },
  "language_info": {
   "codemirror_mode": {
    "name": "ipython",
    "version": 3
   },
   "file_extension": ".py",
   "mimetype": "text/x-python",
   "name": "python",
   "nbconvert_exporter": "python",
   "pygments_lexer": "ipython3",
   "version": "3.6.5"
  },
  "nav_menu": {},
  "toc": {
   "navigate_menu": true,
   "number_sections": false,
   "sideBar": true,
   "threshold": 6,
   "toc_cell": false,
   "toc_section_display": "block",
   "toc_window_display": false
  }
 },
 "nbformat": 4,
 "nbformat_minor": 2
}
