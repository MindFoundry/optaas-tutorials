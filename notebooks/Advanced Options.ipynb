{
 "cells": [
  {
   "cell_type": "markdown",
   "metadata": {},
   "source": [
    "# OPTaaS - Advanced Options\n",
    "\n",
    "### <span style=\"color:red\">Note:</span> To run this notebook, you need an API Key. You can get one <a href=\"mailto:charles.brecque@mindfoundry.ai\">here</a>."
   ]
  },
  {
   "cell_type": "markdown",
   "metadata": {},
   "source": [
    "## Connect to the OPTaaS server using your API Key"
   ]
  },
  {
   "cell_type": "code",
   "execution_count": 1,
   "metadata": {},
   "outputs": [],
   "source": [
    "from mindfoundry.optaas.client.client import OPTaaSClient\n",
    "\n",
    "client = OPTaaSClient('https://optaas.mindfoundry.ai', '<Your OPTaaS API key>')"
   ]
  },
  {
   "cell_type": "markdown",
   "metadata": {},
   "source": [
    "## Store additional data in a Task\n",
    "\n",
    "This can be a JSON, array, string, number or boolean:"
   ]
  },
  {
   "cell_type": "code",
   "execution_count": 2,
   "metadata": {},
   "outputs": [
    {
     "name": "stdout",
     "output_type": "stream",
     "text": [
      "{'description': 'Lorem ipsum...', 'tags': ['abc', 'defg']}\n"
     ]
    }
   ],
   "source": [
    "from mindfoundry.optaas.client.parameter import FloatParameter\n",
    "\n",
    "task = client.create_task(\n",
    "    title='My Task with User-defined Data', \n",
    "    parameters=[\n",
    "        FloatParameter('x', minimum=0, maximum=5),\n",
    "        FloatParameter('y', minimum=1, maximum=5),\n",
    "    ],\n",
    "    user_defined_data={\n",
    "        'description': 'Lorem ipsum...',\n",
    "        'tags': ['abc', 'defg']\n",
    "    }\n",
    ")\n",
    "\n",
    "print(task.user_defined_data)"
   ]
  },
  {
   "cell_type": "markdown",
   "metadata": {},
   "source": [
    "## Warm start\n",
    "\n",
    "If you've already tried some configurations, you can record the scores upfront, thus giving the optimizer a \"warm start\":"
   ]
  },
  {
   "cell_type": "code",
   "execution_count": 3,
   "metadata": {
    "scrolled": false
   },
   "outputs": [
    {
     "data": {
      "text/plain": [
       "[{ 'configuration': 'b26e7923-ba7d-472b-83cb-4be88415a755',\n",
       "   'id': 1375,\n",
       "   'score': 0.0,\n",
       "   'user_defined_data': None},\n",
       " { 'configuration': '0ca0760a-4799-4c0b-83d6-b00ab2f2d317',\n",
       "   'id': 1376,\n",
       "   'score': 1.5,\n",
       "   'user_defined_data': None},\n",
       " { 'configuration': 'cb83f24e-8e37-4b52-a4b4-20d7f850a4a2',\n",
       "   'id': 1377,\n",
       "   'score': 0.4166666666666667,\n",
       "   'user_defined_data': None}]"
      ]
     },
     "execution_count": 3,
     "metadata": {},
     "output_type": "execute_result"
    }
   ],
   "source": [
    "def scoring_function(x, y):\n",
    "    return (x * y) - (x / y)\n",
    "\n",
    "warm_start_values = [\n",
    "    {'x': 0, 'y': 1},\n",
    "    {'x': 1, 'y': 2},\n",
    "    {'x': 0.5, 'y': 1.5},\n",
    "]\n",
    "for values in warm_start_values:\n",
    "    task.add_user_defined_configuration(values, scoring_function(**values))\n",
    "\n",
    "task.get_results()"
   ]
  },
  {
   "cell_type": "markdown",
   "metadata": {},
   "source": [
    "## Generate multiple configurations\n",
    "\n",
    "This can be useful if you want to use parallel computation, i.e. generate several configurations and hand them out to separate workers to calculate scores."
   ]
  },
  {
   "cell_type": "code",
   "execution_count": 4,
   "metadata": {
    "scrolled": false
   },
   "outputs": [
    {
     "data": {
      "text/plain": [
       "[{ 'id': 'd602e91a-0c85-496f-b265-ec912cffc364',\n",
       "   'type': 'exploration',\n",
       "   'values': {'x': 2.9135065401063764, 'y': 2.184211007880833}},\n",
       " { 'id': 'b14fe5c2-1689-4551-af53-5ed089cb5426',\n",
       "   'type': 'exploration',\n",
       "   'values': {'x': 4.198055185406863, 'y': 3.0362078865940085}},\n",
       " { 'id': '0ffb39e4-c0a8-49b5-b7ce-bd1b4fdf23c8',\n",
       "   'type': 'exploration',\n",
       "   'values': {'x': 1.0634067189966405, 'y': 2.722215093145843}},\n",
       " { 'id': '318963b2-0886-4c24-b09c-f1b660521b51',\n",
       "   'type': 'default',\n",
       "   'values': {'x': 2.5, 'y': 3.0}},\n",
       " { 'id': '68189324-bdd9-43e9-9292-a10cbc3f9c08',\n",
       "   'type': 'exploration',\n",
       "   'values': {'x': 2.302720263363641, 'y': 4.4328395724605745}}]"
      ]
     },
     "metadata": {},
     "output_type": "display_data"
    }
   ],
   "source": [
    "number_of_workers = 5\n",
    "configurations = task.generate_configurations(number_of_workers)\n",
    "display(configurations)"
   ]
  },
  {
   "cell_type": "markdown",
   "metadata": {},
   "source": [
    "## Store additional data in a Result\n",
    "\n",
    "This can be a JSON, array, string, number or boolean:"
   ]
  },
  {
   "cell_type": "code",
   "execution_count": 5,
   "metadata": {},
   "outputs": [
    {
     "data": {
      "text/plain": [
       "'Worker 0 Score 5.030'"
      ]
     },
     "metadata": {},
     "output_type": "display_data"
    },
    {
     "data": {
      "text/plain": [
       "'Worker 1 Score 11.364'"
      ]
     },
     "metadata": {},
     "output_type": "display_data"
    },
    {
     "data": {
      "text/plain": [
       "'Worker 2 Score 2.504'"
      ]
     },
     "metadata": {},
     "output_type": "display_data"
    },
    {
     "data": {
      "text/plain": [
       "'Worker 3 Score 6.667'"
      ]
     },
     "metadata": {},
     "output_type": "display_data"
    },
    {
     "data": {
      "text/plain": [
       "'Worker 4 Score 9.688'"
      ]
     },
     "metadata": {},
     "output_type": "display_data"
    }
   ],
   "source": [
    "for i, configuration in enumerate(configurations):\n",
    "    score = scoring_function(**configuration.values)\n",
    "    display(f'Worker {i} Score {score:.3f}')\n",
    "    next_configuration = task.record_result(configuration, score, \n",
    "                                            user_defined_data={'worker': i})"
   ]
  },
  {
   "cell_type": "markdown",
   "metadata": {},
   "source": [
    "## Report an error\n",
    "\n",
    "If you encountered an error while calculating the score for a configuration, you can report it:"
   ]
  },
  {
   "cell_type": "code",
   "execution_count": 6,
   "metadata": {},
   "outputs": [
    {
     "name": "stdout",
     "output_type": "stream",
     "text": [
      "Score: None  Unexpected error: code 12345\n"
     ]
    }
   ],
   "source": [
    "error_configuration = task.generate_configurations(1)[0]\n",
    "next_configuration = task.record_result(error_configuration, \n",
    "                                        error='Unexpected error: code 12345')\n",
    "error_result = task.get_results()[-1]\n",
    "print(f'Score: {error_result.score}  {error_result.error}')"
   ]
  },
  {
   "cell_type": "markdown",
   "metadata": {},
   "source": [
    "## Get best result and configuration"
   ]
  },
  {
   "cell_type": "code",
   "execution_count": 7,
   "metadata": {},
   "outputs": [
    {
     "data": {
      "text/plain": [
       "({ 'configuration': 'b14fe5c2-1689-4551-af53-5ed089cb5426',\n",
       "   'id': 1379,\n",
       "   'score': 11.363504313637042,\n",
       "   'user_defined_data': {'worker': 1}},\n",
       " { 'id': 'b14fe5c2-1689-4551-af53-5ed089cb5426',\n",
       "   'type': 'exploration',\n",
       "   'values': {'x': 4.198055185406863, 'y': 3.0362078865940085}})"
      ]
     },
     "execution_count": 7,
     "metadata": {},
     "output_type": "execute_result"
    }
   ],
   "source": [
    "task.get_best_result_and_configuration()"
   ]
  },
  {
   "cell_type": "markdown",
   "metadata": {},
   "source": [
    "## Get top 5 results and configurations"
   ]
  },
  {
   "cell_type": "code",
   "execution_count": 8,
   "metadata": {},
   "outputs": [
    {
     "data": {
      "text/plain": [
       "\"Score: 11.364 for configuration: {'x': 4.198055185406863, 'y': 3.0362078865940085}\""
      ]
     },
     "metadata": {},
     "output_type": "display_data"
    },
    {
     "data": {
      "text/plain": [
       "\"Score: 9.688 for configuration: {'x': 2.302720263363641, 'y': 4.4328395724605745}\""
      ]
     },
     "metadata": {},
     "output_type": "display_data"
    },
    {
     "data": {
      "text/plain": [
       "\"Score: 6.667 for configuration: {'x': 2.5, 'y': 3.0}\""
      ]
     },
     "metadata": {},
     "output_type": "display_data"
    },
    {
     "data": {
      "text/plain": [
       "\"Score: 5.030 for configuration: {'x': 2.9135065401063764, 'y': 2.184211007880833}\""
      ]
     },
     "metadata": {},
     "output_type": "display_data"
    },
    {
     "data": {
      "text/plain": [
       "\"Score: 2.504 for configuration: {'x': 1.0634067189966405, 'y': 2.722215093145843}\""
      ]
     },
     "metadata": {},
     "output_type": "display_data"
    }
   ],
   "source": [
    "for result in task.get_results(limit=5, best_first=True):\n",
    "    configuration = task.get_configuration(result.configuration)\n",
    "    display(f'Score: {result.score:.3f} for configuration: {configuration.values}')"
   ]
  },
  {
   "cell_type": "markdown",
   "metadata": {},
   "source": [
    "## Resume a completed task\n",
    "Completing a task means that no further configurations can be generated and no further results can be recorded for it."
   ]
  },
  {
   "cell_type": "code",
   "execution_count": 9,
   "metadata": {},
   "outputs": [
    {
     "ename": "OPTaaSError",
     "evalue": "Cannot add configurations to a completed task",
     "traceback": [
      "\u001b[1;31m---------------------------------------------------------------------------\u001b[0m",
      "\u001b[1;31mOPTaaSError\u001b[0m                               Traceback (most recent call last)",
      "\u001b[1;32m<ipython-input-9-a29ea6f2589c>\u001b[0m in \u001b[0;36m<module>\u001b[1;34m()\u001b[0m\n\u001b[0;32m      1\u001b[0m \u001b[0mtask\u001b[0m\u001b[1;33m.\u001b[0m\u001b[0mcomplete\u001b[0m\u001b[1;33m(\u001b[0m\u001b[1;33m)\u001b[0m\u001b[1;33m\u001b[0m\u001b[0m\n\u001b[1;32m----> 2\u001b[1;33m \u001b[0mtask\u001b[0m\u001b[1;33m.\u001b[0m\u001b[0mgenerate_configurations\u001b[0m\u001b[1;33m(\u001b[0m\u001b[1;33m)\u001b[0m\u001b[1;33m\u001b[0m\u001b[0m\n\u001b[0m",
      "\u001b[1;32mc:\\users\\csyme\\pycharmprojects\\optaas\\optaas-client\\mindfoundry\\optaas\\client\\task.py\u001b[0m in \u001b[0;36mgenerate_configurations\u001b[1;34m(self, quantity)\u001b[0m\n\u001b[0;32m    180\u001b[0m             \u001b[1;33m:\u001b[0m\u001b[1;32mclass\u001b[0m\u001b[1;33m:\u001b[0m\u001b[0;31m`\u001b[0m\u001b[1;33m.\u001b[0m\u001b[0mOPTaaSError\u001b[0m\u001b[0;31m`\u001b[0m \u001b[1;32mif\u001b[0m \u001b[0mthe\u001b[0m \u001b[0mserver\u001b[0m \u001b[1;32mis\u001b[0m \u001b[0munavailable\u001b[0m \u001b[1;32mor\u001b[0m \u001b[0mthe\u001b[0m \u001b[0mquantity\u001b[0m \u001b[1;32mis\u001b[0m \u001b[0minvalid\u001b[0m\u001b[1;33m.\u001b[0m\u001b[1;33m\u001b[0m\u001b[0m\n\u001b[0;32m    181\u001b[0m         \"\"\"\n\u001b[1;32m--> 182\u001b[1;33m         \u001b[0mresponse\u001b[0m \u001b[1;33m=\u001b[0m \u001b[0mself\u001b[0m\u001b[1;33m.\u001b[0m\u001b[0m_session\u001b[0m\u001b[1;33m.\u001b[0m\u001b[0mpost\u001b[0m\u001b[1;33m(\u001b[0m\u001b[0mself\u001b[0m\u001b[1;33m.\u001b[0m\u001b[0m_configurations_url\u001b[0m \u001b[1;33m+\u001b[0m \u001b[1;34mf'?quantity={quantity}'\u001b[0m\u001b[1;33m,\u001b[0m \u001b[1;33m{\u001b[0m\u001b[1;33m}\u001b[0m\u001b[1;33m)\u001b[0m\u001b[1;33m\u001b[0m\u001b[0m\n\u001b[0m\u001b[0;32m    183\u001b[0m         \u001b[1;32mreturn\u001b[0m \u001b[1;33m[\u001b[0m\u001b[0mConfiguration\u001b[0m\u001b[1;33m(\u001b[0m\u001b[0mjson\u001b[0m\u001b[1;33m)\u001b[0m \u001b[1;32mfor\u001b[0m \u001b[0mjson\u001b[0m \u001b[1;32min\u001b[0m \u001b[0mresponse\u001b[0m\u001b[1;33m.\u001b[0m\u001b[0mbody\u001b[0m\u001b[1;33m[\u001b[0m\u001b[1;34m'configurations'\u001b[0m\u001b[1;33m]\u001b[0m\u001b[1;33m]\u001b[0m\u001b[1;33m\u001b[0m\u001b[0m\n\u001b[0;32m    184\u001b[0m \u001b[1;33m\u001b[0m\u001b[0m\n",
      "\u001b[1;32mc:\\users\\csyme\\pycharmprojects\\optaas\\optaas-client\\mindfoundry\\optaas\\client\\session.py\u001b[0m in \u001b[0;36mpost\u001b[1;34m(self, endpoint, body)\u001b[0m\n\u001b[0;32m     54\u001b[0m             \u001b[1;33m:\u001b[0m\u001b[1;32mclass\u001b[0m\u001b[1;33m:\u001b[0m\u001b[0;31m`\u001b[0m\u001b[1;33m.\u001b[0m\u001b[0mOPTaaSError\u001b[0m\u001b[0;31m`\u001b[0m \u001b[1;32mif\u001b[0m \u001b[0man\u001b[0m \u001b[0merror\u001b[0m \u001b[0mresponse\u001b[0m \u001b[1;32mis\u001b[0m \u001b[0mreceived\u001b[0m\u001b[1;33m.\u001b[0m\u001b[1;33m\u001b[0m\u001b[0m\n\u001b[0;32m     55\u001b[0m         \"\"\"\n\u001b[1;32m---> 56\u001b[1;33m         \u001b[1;32mreturn\u001b[0m \u001b[0mOPTaaSResponse\u001b[0m\u001b[1;33m(\u001b[0m\u001b[0mself\u001b[0m\u001b[1;33m.\u001b[0m\u001b[0m_session\u001b[0m\u001b[1;33m.\u001b[0m\u001b[0mpost\u001b[0m\u001b[1;33m(\u001b[0m\u001b[0mself\u001b[0m\u001b[1;33m.\u001b[0m\u001b[0m_root_url\u001b[0m \u001b[1;33m+\u001b[0m \u001b[0mendpoint\u001b[0m\u001b[1;33m,\u001b[0m \u001b[0mjson\u001b[0m\u001b[1;33m=\u001b[0m\u001b[0mbody\u001b[0m\u001b[1;33m,\u001b[0m \u001b[0mheaders\u001b[0m\u001b[1;33m=\u001b[0m\u001b[0mself\u001b[0m\u001b[1;33m.\u001b[0m\u001b[0m_headers\u001b[0m\u001b[1;33m)\u001b[0m\u001b[1;33m)\u001b[0m\u001b[1;33m\u001b[0m\u001b[0m\n\u001b[0m\u001b[0;32m     57\u001b[0m \u001b[1;33m\u001b[0m\u001b[0m\n\u001b[0;32m     58\u001b[0m     \u001b[1;32mdef\u001b[0m \u001b[0mput\u001b[0m\u001b[1;33m(\u001b[0m\u001b[0mself\u001b[0m\u001b[1;33m,\u001b[0m \u001b[0mendpoint\u001b[0m\u001b[1;33m:\u001b[0m \u001b[0mstr\u001b[0m\u001b[1;33m,\u001b[0m \u001b[0mbody\u001b[0m\u001b[1;33m:\u001b[0m \u001b[0mdict\u001b[0m\u001b[1;33m)\u001b[0m \u001b[1;33m->\u001b[0m \u001b[0mOPTaaSResponse\u001b[0m\u001b[1;33m:\u001b[0m\u001b[1;33m\u001b[0m\u001b[0m\n",
      "\u001b[1;32mc:\\users\\csyme\\pycharmprojects\\optaas\\optaas-client\\mindfoundry\\optaas\\client\\session.py\u001b[0m in \u001b[0;36m__init__\u001b[1;34m(self, response)\u001b[0m\n\u001b[0;32m     24\u001b[0m             \u001b[0mself\u001b[0m\u001b[1;33m.\u001b[0m\u001b[0mbody\u001b[0m \u001b[1;33m=\u001b[0m \u001b[0mresponse\u001b[0m\u001b[1;33m.\u001b[0m\u001b[0mjson\u001b[0m\u001b[1;33m(\u001b[0m\u001b[1;33m)\u001b[0m\u001b[1;33m\u001b[0m\u001b[0m\n\u001b[0;32m     25\u001b[0m         \u001b[1;32melse\u001b[0m\u001b[1;33m:\u001b[0m\u001b[1;33m\u001b[0m\u001b[0m\n\u001b[1;32m---> 26\u001b[1;33m             \u001b[1;32mraise\u001b[0m \u001b[0mOPTaaSError\u001b[0m\u001b[1;33m(\u001b[0m\u001b[0mresponse\u001b[0m\u001b[1;33m)\u001b[0m\u001b[1;33m\u001b[0m\u001b[0m\n\u001b[0m\u001b[0;32m     27\u001b[0m \u001b[1;33m\u001b[0m\u001b[0m\n\u001b[0;32m     28\u001b[0m \u001b[1;33m\u001b[0m\u001b[0m\n",
      "\u001b[1;31mOPTaaSError\u001b[0m: Cannot add configurations to a completed task"
     ],
     "output_type": "error"
    }
   ],
   "source": [
    "task.complete()\n",
    "task.generate_configurations()"
   ]
  },
  {
   "cell_type": "markdown",
   "metadata": {},
   "source": [
    "However, you can resume a completed task if necessary:"
   ]
  },
  {
   "cell_type": "code",
   "execution_count": 10,
   "metadata": {},
   "outputs": [
    {
     "data": {
      "text/plain": [
       "[{ 'id': 'bb6b2d45-3145-4763-8ad2-0bbb347fe85c',\n",
       "   'type': 'exploitation',\n",
       "   'values': {'x': 4.99999998, 'y': 4.99999998}}]"
      ]
     },
     "execution_count": 10,
     "metadata": {},
     "output_type": "execute_result"
    }
   ],
   "source": [
    "task.resume()\n",
    "task.generate_configurations()"
   ]
  }
 ],
 "metadata": {
  "kernelspec": {
   "display_name": "Python 3",
   "language": "python",
   "name": "python3"
  },
  "language_info": {
   "codemirror_mode": {
    "name": "ipython",
    "version": 3
   },
   "file_extension": ".py",
   "mimetype": "text/x-python",
   "name": "python",
   "nbconvert_exporter": "python",
   "pygments_lexer": "ipython3",
   "version": "3.6.4"
  },
  "nav_menu": {},
  "toc": {
   "navigate_menu": true,
   "number_sections": false,
   "sideBar": true,
   "threshold": 6.0,
   "toc_cell": false,
   "toc_section_display": "block",
   "toc_window_display": false
  }
 },
 "nbformat": 4,
 "nbformat_minor": 2
}
