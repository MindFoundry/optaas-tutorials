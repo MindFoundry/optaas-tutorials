{
 "cells": [
  {
   "cell_type": "markdown",
   "metadata": {},
   "source": [
    "# OPTaaS - Advanced Options\n",
    "\n",
    "### <span style=\"color:red\">Note:</span> To run this notebook, you need an API Key. You can get one <a href=\"https://optaas.ai/\">here</a>."
   ]
  },
  {
   "cell_type": "markdown",
   "metadata": {},
   "source": [
    "## Connect to the OPTaaS server using your API Key"
   ]
  },
  {
   "cell_type": "code",
   "execution_count": 1,
   "metadata": {},
   "outputs": [],
   "source": [
    "from mindfoundry.optaas.client.client import OPTaaSClient\n",
    "\n",
    "client = OPTaaSClient('https://optaas.mindfoundry.ai', '<Your OPTaaS API key>')"
   ]
  },
  {
   "cell_type": "markdown",
   "metadata": {},
   "source": [
    "## Store additional data in a Task\n",
    "\n",
    "This can be a JSON, array, string, number or boolean:"
   ]
  },
  {
   "cell_type": "code",
   "execution_count": 2,
   "metadata": {},
   "outputs": [
    {
     "name": "stdout",
     "output_type": "stream",
     "text": [
      "{'description': 'Lorem ipsum...', 'tags': ['abc', 'defg']}\n"
     ]
    }
   ],
   "source": [
    "from mindfoundry.optaas.client.parameter import FloatParameter\n",
    "\n",
    "task = client.create_task(\n",
    "    title='My Task with User-defined Data', \n",
    "    parameters=[\n",
    "        FloatParameter('x', minimum=0, maximum=5),\n",
    "        FloatParameter('y', minimum=1, maximum=5),\n",
    "    ],\n",
    "    user_defined_data={\n",
    "        'description': 'Lorem ipsum...',\n",
    "        'tags': ['abc', 'defg']\n",
    "    }\n",
    ")\n",
    "\n",
    "print(task.user_defined_data)"
   ]
  },
  {
   "cell_type": "markdown",
   "metadata": {},
   "source": [
    "## Warm start\n",
    "\n",
    "If you've already tried some configurations, you can record the scores upfront, thus giving the optimizer a \"warm start\":"
   ]
  },
  {
   "cell_type": "code",
   "execution_count": 3,
   "metadata": {
    "scrolled": false
   },
   "outputs": [
    {
     "data": {
      "text/plain": [
       "[{ 'configuration': '971e36cf-4a67-4647-8f85-ab61468a897f',\n",
       "   'id': 1765,\n",
       "   'score': 0.0,\n",
       "   'user_defined_data': None},\n",
       " { 'configuration': '811f2a7a-ad7c-4a56-b55d-599ce2821005',\n",
       "   'id': 1766,\n",
       "   'score': 1.5,\n",
       "   'user_defined_data': None},\n",
       " { 'configuration': 'ea9a55a9-f152-473c-9e6c-0bb6e9a708ad',\n",
       "   'id': 1767,\n",
       "   'score': 0.4166666666666667,\n",
       "   'user_defined_data': None}]"
      ]
     },
     "execution_count": 3,
     "metadata": {},
     "output_type": "execute_result"
    }
   ],
   "source": [
    "def scoring_function(x, y):\n",
    "    return (x * y) - (x / y)\n",
    "\n",
    "warm_start_values = [\n",
    "    {'x': 0, 'y': 1},\n",
    "    {'x': 1, 'y': 2},\n",
    "    {'x': 0.5, 'y': 1.5},\n",
    "]\n",
    "for values in warm_start_values:\n",
    "    task.add_user_defined_configuration(values, scoring_function(**values))\n",
    "\n",
    "task.get_results()"
   ]
  },
  {
   "cell_type": "markdown",
   "metadata": {},
   "source": [
    "## Generate multiple configurations\n",
    "\n",
    "This can be useful if you want to use parallel computation, i.e. generate several configurations and hand them out to separate workers to calculate scores."
   ]
  },
  {
   "cell_type": "code",
   "execution_count": 4,
   "metadata": {
    "scrolled": false
   },
   "outputs": [
    {
     "data": {
      "text/plain": [
       "[{ 'id': 'b294a8b5-d625-402e-8eb4-540a0e756062',\n",
       "   'type': 'exploration',\n",
       "   'values': {'x': 0.7381561015841065, 'y': 3.769275362896137}},\n",
       " { 'id': '5aeece38-ea5b-4f19-ba52-55f0fbd430eb',\n",
       "   'type': 'exploration',\n",
       "   'values': {'x': 0.8570314819084718, 'y': 4.551593966241775}},\n",
       " { 'id': '9b1e96cd-0aff-4d7c-828e-66ed405a46ae',\n",
       "   'type': 'exploration',\n",
       "   'values': {'x': 4.539677653466581, 'y': 4.174272699678086}},\n",
       " { 'id': '11f0821d-21e1-442a-9c49-b674c6c6259b',\n",
       "   'type': 'default',\n",
       "   'values': {'x': 2.5, 'y': 3.0}},\n",
       " { 'id': 'a46119ca-9518-4dad-a9a5-a0d46280c8d9',\n",
       "   'type': 'exploration',\n",
       "   'values': {'x': 2.9537119330383477, 'y': 3.7582400894566743}}]"
      ]
     },
     "metadata": {},
     "output_type": "display_data"
    }
   ],
   "source": [
    "number_of_workers = 5\n",
    "configurations = task.generate_configurations(number_of_workers)\n",
    "display(configurations)"
   ]
  },
  {
   "cell_type": "markdown",
   "metadata": {},
   "source": [
    "## Store additional data in a Result\n",
    "\n",
    "This can be a JSON, array, string, number or boolean:"
   ]
  },
  {
   "cell_type": "code",
   "execution_count": 5,
   "metadata": {},
   "outputs": [
    {
     "data": {
      "text/plain": [
       "'Worker 0 Score 2.586'"
      ]
     },
     "metadata": {},
     "output_type": "display_data"
    },
    {
     "data": {
      "text/plain": [
       "'Worker 1 Score 3.713'"
      ]
     },
     "metadata": {},
     "output_type": "display_data"
    },
    {
     "data": {
      "text/plain": [
       "'Worker 2 Score 17.862'"
      ]
     },
     "metadata": {},
     "output_type": "display_data"
    },
    {
     "data": {
      "text/plain": [
       "'Worker 3 Score 6.667'"
      ]
     },
     "metadata": {},
     "output_type": "display_data"
    },
    {
     "data": {
      "text/plain": [
       "'Worker 4 Score 10.315'"
      ]
     },
     "metadata": {},
     "output_type": "display_data"
    }
   ],
   "source": [
    "for i, configuration in enumerate(configurations):\n",
    "    score = scoring_function(**configuration.values)\n",
    "    display(f'Worker {i} Score {score:.3f}')\n",
    "    next_configuration = task.record_result(configuration, score, \n",
    "                                            user_defined_data={'worker': i})"
   ]
  },
  {
   "cell_type": "markdown",
   "metadata": {},
   "source": [
    "## Report an error\n",
    "\n",
    "If you encountered an error while calculating the score for a configuration, you can report it:"
   ]
  },
  {
   "cell_type": "code",
   "execution_count": 6,
   "metadata": {},
   "outputs": [
    {
     "name": "stdout",
     "output_type": "stream",
     "text": [
      "Score: None  Unexpected error: code 12345\n"
     ]
    }
   ],
   "source": [
    "error_configuration = task.generate_configurations(1)[0]\n",
    "next_configuration = task.record_result(error_configuration, \n",
    "                                        error='Unexpected error: code 12345')\n",
    "error_result = task.get_results()[-1]\n",
    "print(f'Score: {error_result.score}  {error_result.error}')"
   ]
  },
  {
   "cell_type": "markdown",
   "metadata": {},
   "source": [
    "## Get best result and configuration"
   ]
  },
  {
   "cell_type": "code",
   "execution_count": 7,
   "metadata": {},
   "outputs": [
    {
     "data": {
      "text/plain": [
       "({ 'configuration': '9b1e96cd-0aff-4d7c-828e-66ed405a46ae',\n",
       "   'id': 1770,\n",
       "   'score': 17.862315100248942,\n",
       "   'user_defined_data': {'worker': 2}},\n",
       " { 'id': '9b1e96cd-0aff-4d7c-828e-66ed405a46ae',\n",
       "   'type': 'exploration',\n",
       "   'values': {'x': 4.539677653466581, 'y': 4.174272699678086}})"
      ]
     },
     "execution_count": 7,
     "metadata": {},
     "output_type": "execute_result"
    }
   ],
   "source": [
    "task.get_best_result_and_configuration()"
   ]
  },
  {
   "cell_type": "markdown",
   "metadata": {},
   "source": [
    "## Get top 5 results and configurations"
   ]
  },
  {
   "cell_type": "code",
   "execution_count": 8,
   "metadata": {},
   "outputs": [
    {
     "data": {
      "text/plain": [
       "\"Score: 17.862 for configuration: {'x': 4.539677653466581, 'y': 4.174272699678086}\""
      ]
     },
     "metadata": {},
     "output_type": "display_data"
    },
    {
     "data": {
      "text/plain": [
       "\"Score: 10.315 for configuration: {'x': 2.9537119330383477, 'y': 3.7582400894566743}\""
      ]
     },
     "metadata": {},
     "output_type": "display_data"
    },
    {
     "data": {
      "text/plain": [
       "\"Score: 6.667 for configuration: {'x': 2.5, 'y': 3.0}\""
      ]
     },
     "metadata": {},
     "output_type": "display_data"
    },
    {
     "data": {
      "text/plain": [
       "\"Score: 3.713 for configuration: {'x': 0.8570314819084718, 'y': 4.551593966241775}\""
      ]
     },
     "metadata": {},
     "output_type": "display_data"
    },
    {
     "data": {
      "text/plain": [
       "\"Score: 2.586 for configuration: {'x': 0.7381561015841065, 'y': 3.769275362896137}\""
      ]
     },
     "metadata": {},
     "output_type": "display_data"
    }
   ],
   "source": [
    "for result in task.get_results(limit=5, best_first=True):\n",
    "    configuration = task.get_configuration(result.configuration)\n",
    "    display(f'Score: {result.score:.3f} for configuration: {configuration.values}')"
   ]
  }
 ],
 "metadata": {
  "kernelspec": {
   "display_name": "Python 3",
   "language": "python",
   "name": "python3"
  },
  "language_info": {
   "codemirror_mode": {
    "name": "ipython",
    "version": 3
   },
   "file_extension": ".py",
   "mimetype": "text/x-python",
   "name": "python",
   "nbconvert_exporter": "python",
   "pygments_lexer": "ipython3",
   "version": "3.6.4"
  },
  "nav_menu": {},
  "toc": {
   "navigate_menu": true,
   "number_sections": false,
   "sideBar": true,
   "threshold": 6.0,
   "toc_cell": false,
   "toc_section_display": "block",
   "toc_window_display": false
  }
 },
 "nbformat": 4,
 "nbformat_minor": 2
}
