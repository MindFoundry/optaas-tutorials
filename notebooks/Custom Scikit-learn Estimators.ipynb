{
 "cells": [
  {
   "cell_type": "markdown",
   "metadata": {},
   "source": [
    "# OPTaaS Scikit-learn Custom Optimizable Estimators\n",
    "\n",
    "### <span style=\"color:red\">Note:</span> To run this notebook, you need an API Key. You can get one <a href=\"mailto:charles.brecque@mindfoundry.ai\">here</a>.\n",
    "\n",
    "Using the OPTaaS Python Client, you can optimize any scikit-learn pipeline. For each step or estimator in the pipeline, OPTaaS just needs to know what parameters to optimize and what constraints will apply to them.\n",
    "\n",
    "We have provided pre-defined parameters and constraints for some of the most widely used estimators, such as Random Forest and XGBoost (there is a [tutorial on how to use them](Scikit-learn Pipelines.ipynb)), but you can easily optimize any estimator, whether or not it's part of the sklearn library. Here's an example:"
   ]
  },
  {
   "cell_type": "markdown",
   "metadata": {},
   "source": [
    "## Creating an Optimizable Estimator\n",
    "\n",
    "First we create a class that extends our `OptimizableBaseEstimator` mixin. You'll notice there is an abstract method that we will need to implement:"
   ]
  },
  {
   "cell_type": "code",
   "execution_count": 1,
   "metadata": {
    "scrolled": false
   },
   "outputs": [],
   "source": [
    "from mindfoundry.optaas.client.sklearn_pipelines.mixin import OptimizableBaseEstimator\n",
    "from mindfoundry.optaas.client.sklearn_pipelines.parameter_maker import SklearnParameterMaker\n",
    "from mindfoundry.optaas.client.sklearn_pipelines.utils import ParametersAndConstraints\n",
    "\n",
    "class MyEstimator(OptimizableBaseEstimator):\n",
    "    def make_parameters_and_constraints(self, sk: SklearnParameterMaker, **kwargs) -> ParametersAndConstraints:\n",
    "        pass"
   ]
  },
  {
   "cell_type": "markdown",
   "metadata": {},
   "source": [
    "## Defining Parameters\n",
    "\n",
    "For each of our estimator's hyperparameters that we wish to optimize, we will create a corresponding OPTaaS parameter.\n",
    "\n",
    "The first argument to our method is a `SklearnParameterMaker`. We will use this to create our parameters, i.e. we call `sk.CategoricalParameter` instead of just `CategoricalParameter`.\n",
    "\n",
    "This will ensure that each parameter is automatically assigned a unique id and a default value, which is based on the values set in the estimator's constructor. The parameter name should be exactly the same as the name of the argument in our constructor:"
   ]
  },
  {
   "cell_type": "code",
   "execution_count": 2,
   "metadata": {},
   "outputs": [
    {
     "data": {
      "text/plain": [
       "\"MyEstimator(cat_param='abc')  (default = 'abc')\""
      ]
     },
     "metadata": {},
     "output_type": "display_data"
    },
    {
     "data": {
      "text/plain": [
       "\"MyEstimator(cat_param='def')  (default = 'def')\""
      ]
     },
     "metadata": {},
     "output_type": "display_data"
    }
   ],
   "source": [
    "class MyEstimator(OptimizableBaseEstimator):\n",
    "    def __init__(self, cat_param='abc'):\n",
    "        self.cat_param = cat_param\n",
    "    \n",
    "    def make_parameters_and_constraints(self, sk: SklearnParameterMaker, **kwargs) -> ParametersAndConstraints:\n",
    "        return [\n",
    "            sk.CategoricalParameter(\"cat_param\", values=['abc', 'def', 'ghi'])\n",
    "        ], []\n",
    "\n",
    "display(f\"{MyEstimator()}  (default = 'abc')\")\n",
    "display(f\"{MyEstimator(cat_param='def')}  (default = 'def')\")"
   ]
  },
  {
   "cell_type": "markdown",
   "metadata": {},
   "source": [
    "Convenience methods and constants are provided to help us model all the different scenarios we might come across:"
   ]
  },
  {
   "cell_type": "code",
   "execution_count": 3,
   "metadata": {},
   "outputs": [],
   "source": [
    "from mindfoundry.optaas.client.sklearn_pipelines.utils import SMALLEST_NUMBER_ABOVE_ZERO, LARGEST_NUMBER_BELOW_ONE\n",
    "\n",
    "class MyEstimator(OptimizableBaseEstimator):\n",
    "    def make_parameters_and_constraints(self, sk: SklearnParameterMaker, **kwargs) -> ParametersAndConstraints:\n",
    "        return [\n",
    "            # A float value in the range (0, 1) exclusive\n",
    "            sk.FloatParameter(\"float_param\", minimum=SMALLEST_NUMBER_ABOVE_ZERO, maximum=LARGEST_NUMBER_BELOW_ONE),\n",
    "\n",
    "            # Either an integer or the string 'auto' (there is also FloatOrAuto for floats)\n",
    "            sk.IntOrAuto(\"int_or_auto\", minimum=0, maximum=10),\n",
    "            \n",
    "            # Either an integer or None\n",
    "            sk.IntParameter(\"int_or_none\", minimum=0, maximum=10, optional=True),\n",
    "            \n",
    "            # An integer or a float or a string\n",
    "            sk.ChoiceParameter(\"multi_type_param\", choices=[\n",
    "                sk.IntParameter(\"an_int\", minimum=5, maximum=10),\n",
    "                sk.FloatParameter(\"a_float\", minimum=0, maximum=1),\n",
    "                sk.CategoricalParameter(\"a_string\", values=['abc', 'xyz'])\n",
    "            ]),\n",
    "            \n",
    "            # A list of values, e.g. [1, 0.2, 'c']\n",
    "            sk.GroupParameter(\"list_of_stuff\", items=[\n",
    "                sk.IntParameter(\"an_int\", minimum=0, maximum=5),\n",
    "                sk.FloatParameter(\"a_float\", minimum=0, maximum=0.5),\n",
    "                sk.CategoricalParameter(\"a_string\", values=['a', 'b', 'c']),\n",
    "            ]),\n",
    "            \n",
    "            # A dict value, e.g. {'alpha': 0.5, 'beta': 13}\n",
    "            sk.DictParameter(\"dict_param\", items=[\n",
    "                sk.FloatParameter('alpha', minimum=0.5, maximum=1),\n",
    "                sk.IntParameter('beta', minimum=10, maximum=20)\n",
    "            ])\n",
    "        ], []"
   ]
  },
  {
   "cell_type": "markdown",
   "metadata": {},
   "source": [
    "## Additional arguments\n",
    "\n",
    "Some estimators require additional information in order to optimize their hyperparameters, e.g. for PCA and ICA we need to know how many features are in our dataset, so that we can set a maximum value for the `n_components` parameter.\n",
    "\n",
    "These arguments are provided when a Task is created, and they are made available here as `kwargs`. We can use the `get_required_kwarg` method to raise an error if an argument has not been provided:"
   ]
  },
  {
   "cell_type": "code",
   "execution_count": 4,
   "metadata": {},
   "outputs": [],
   "source": [
    "from sklearn.decomposition import PCA as BasePCA\n",
    "\n",
    "class PCA(BasePCA, OptimizableBaseEstimator):\n",
    "    def make_parameters_and_constraints(self, sk: SklearnParameterMaker, **kwargs) -> ParametersAndConstraints:\n",
    "        feature_count = self.get_required_kwarg(kwargs, 'feature_count')\n",
    "        max_n_components = feature_count - 1 if self.svd_solver == 'arpack' else feature_count\n",
    "\n",
    "        return [\n",
    "            sk.IntParameter('n_components', minimum=1, maximum=max_n_components),\n",
    "            sk.BoolParameter('whiten')\n",
    "        ], []"
   ]
  },
  {
   "cell_type": "markdown",
   "metadata": {},
   "source": [
    "## Constraints\n",
    "\n",
    "Where necessary, we can also implement some constraints to prevent OPTaaS from generating a configuration which our constructor would not accept:"
   ]
  },
  {
   "cell_type": "code",
   "execution_count": 5,
   "metadata": {},
   "outputs": [],
   "source": [
    "from mindfoundry.optaas.client.constraint import Constraint\n",
    "\n",
    "class MyEstimator(OptimizableBaseEstimator):\n",
    "    def __init__(self, cat_param='abc', bool_param=True):\n",
    "        if cat_param == 'abc' and not bool_param:\n",
    "            raise ValueError('Invalid combination of arguments')\n",
    "        self.cat_param = cat_param\n",
    "        self.bool_param = bool_param\n",
    "    \n",
    "    def make_parameters_and_constraints(self, sk: SklearnParameterMaker, **kwargs) -> ParametersAndConstraints:\n",
    "        cat_param = sk.CategoricalParameter(\"cat_param\", values=['abc', 'def', 'ghi'])\n",
    "        bool_param = sk.BoolParameter(\"bool_param\")\n",
    "        constraint = Constraint(when=cat_param == 'abc', then=bool_param == True)\n",
    "        \n",
    "        return [cat_param, bool_param], [constraint]\n",
    "    \n",
    "    def fit():\n",
    "        pass"
   ]
  },
  {
   "cell_type": "markdown",
   "metadata": {},
   "source": [
    "## Creating a Task\n",
    "\n",
    "We now create a task using our new estimator. As you can see, all the parameters and constraints have been generated as expected, and the defaults have been set."
   ]
  },
  {
   "cell_type": "code",
   "execution_count": 6,
   "metadata": {},
   "outputs": [
    {
     "data": {
      "text/plain": [
       "[{'id': 'pipeline',\n",
       "  'name': 'pipeline',\n",
       "  'type': 'group',\n",
       "  'items': [{'id': 'pipeline__pca',\n",
       "    'name': 'pca',\n",
       "    'type': 'group',\n",
       "    'items': [{'id': 'pipeline__pca__n_components',\n",
       "      'name': 'n_components',\n",
       "      'type': 'integer',\n",
       "      'minimum': 1,\n",
       "      'maximum': 19},\n",
       "     {'id': 'pipeline__pca__whiten',\n",
       "      'name': 'whiten',\n",
       "      'type': 'boolean',\n",
       "      'default': False}]},\n",
       "   {'id': 'pipeline__my-estimator',\n",
       "    'name': 'my estimator',\n",
       "    'type': 'group',\n",
       "    'items': [{'id': 'pipeline__my-estimator__cat_param',\n",
       "      'name': 'cat_param',\n",
       "      'type': 'categorical',\n",
       "      'default': 'def',\n",
       "      'enum': ['abc', 'def', 'ghi']},\n",
       "     {'id': 'pipeline__my-estimator__bool_param',\n",
       "      'name': 'bool_param',\n",
       "      'type': 'boolean',\n",
       "      'default': True}]}]}]"
      ]
     },
     "metadata": {},
     "output_type": "display_data"
    },
    {
     "data": {
      "text/plain": [
       "[\"if #pipeline__my-estimator__cat_param == 'abc' then #pipeline__my-estimator__bool_param == true\"]"
      ]
     },
     "metadata": {},
     "output_type": "display_data"
    }
   ],
   "source": [
    "from mindfoundry.optaas.client.client import OPTaaSClient\n",
    "from mindfoundry.optaas.client.sklearn_pipelines.mixin import OptimizablePipeline\n",
    "\n",
    "client = OPTaaSClient('https://optaas.mindfoundry.ai', '<Your OPTaaS API key>')\n",
    "\n",
    "task = client.create_sklearn_task(\n",
    "    title='My Custom Estimator Task', \n",
    "    pipeline=OptimizablePipeline([\n",
    "        ('pca', PCA(svd_solver='arpack')),\n",
    "        ('my estimator', MyEstimator(cat_param='def'))\n",
    "    ]),\n",
    "    feature_count=20\n",
    ")\n",
    "\n",
    "display(task.parameters, task.constraints)"
   ]
  },
  {
   "cell_type": "markdown",
   "metadata": {},
   "source": [
    "## Generating pipelines\n",
    "\n",
    "We can now generate some configurations for our task and use them to create pipelines:"
   ]
  },
  {
   "cell_type": "code",
   "execution_count": 7,
   "metadata": {},
   "outputs": [
    {
     "data": {
      "text/plain": [
       "Pipeline(memory=None,\n",
       "     steps=[('pca', PCA(copy=True, iterated_power='auto', n_components=10, random_state=None,\n",
       "  svd_solver='arpack', tol=0.0, whiten=False)), ('my estimator', MyEstimator(bool_param=True, cat_param='def'))])"
      ]
     },
     "metadata": {},
     "output_type": "display_data"
    },
    {
     "data": {
      "text/plain": [
       "Pipeline(memory=None,\n",
       "     steps=[('pca', PCA(copy=True, iterated_power='auto', n_components=3, random_state=None,\n",
       "  svd_solver='arpack', tol=0.0, whiten=False)), ('my estimator', MyEstimator(bool_param=True, cat_param='ghi'))])"
      ]
     },
     "metadata": {},
     "output_type": "display_data"
    },
    {
     "data": {
      "text/plain": [
       "Pipeline(memory=None,\n",
       "     steps=[('pca', PCA(copy=True, iterated_power='auto', n_components=15, random_state=None,\n",
       "  svd_solver='arpack', tol=0.0, whiten=False)), ('my estimator', MyEstimator(bool_param=True, cat_param='abc'))])"
      ]
     },
     "metadata": {},
     "output_type": "display_data"
    },
    {
     "data": {
      "text/plain": [
       "Pipeline(memory=None,\n",
       "     steps=[('pca', PCA(copy=True, iterated_power='auto', n_components=3, random_state=None,\n",
       "  svd_solver='arpack', tol=0.0, whiten=False)), ('my estimator', MyEstimator(bool_param=True, cat_param='abc'))])"
      ]
     },
     "metadata": {},
     "output_type": "display_data"
    },
    {
     "data": {
      "text/plain": [
       "Pipeline(memory=None,\n",
       "     steps=[('pca', PCA(copy=True, iterated_power='auto', n_components=8, random_state=None,\n",
       "  svd_solver='arpack', tol=0.0, whiten=False)), ('my estimator', MyEstimator(bool_param=True, cat_param='abc'))])"
      ]
     },
     "metadata": {},
     "output_type": "display_data"
    }
   ],
   "source": [
    "for configuration in task.generate_configurations(5):\n",
    "    display(task.make_pipeline(configuration))"
   ]
  },
  {
   "cell_type": "markdown",
   "metadata": {},
   "source": [
    "## Optional Estimators\n",
    "\n",
    "Any estimator can be an optional step in a pipeline by simply calling `optional_step(estimator)` as demonstrated [here](Scikit-learn Pipelines.ipynb).\n",
    "\n",
    "However, if you want your estimator to **always** be optional, you can simply use the `OptionalStepMixin`:"
   ]
  },
  {
   "cell_type": "code",
   "execution_count": 8,
   "metadata": {},
   "outputs": [],
   "source": [
    "from mindfoundry.optaas.client.sklearn_pipelines.mixin import OptionalStepMixin\n",
    "\n",
    "class MyOptionalEstimator(MyEstimator, OptionalStepMixin):\n",
    "    pass"
   ]
  }
 ],
 "metadata": {
  "kernelspec": {
   "display_name": "Python 3",
   "language": "python",
   "name": "python3"
  },
  "language_info": {
   "codemirror_mode": {
    "name": "ipython",
    "version": 3
   },
   "file_extension": ".py",
   "mimetype": "text/x-python",
   "name": "python",
   "nbconvert_exporter": "python",
   "pygments_lexer": "ipython3",
   "version": "3.6.5"
  },
  "nav_menu": {},
  "toc": {
   "navigate_menu": true,
   "number_sections": false,
   "sideBar": true,
   "threshold": 6,
   "toc_cell": false,
   "toc_section_display": "block",
   "toc_window_display": false
  }
 },
 "nbformat": 4,
 "nbformat_minor": 2
}
