{
 "cells": [
  {
   "cell_type": "markdown",
   "metadata": {},
   "source": [
    "# OPTaaS: Plotting Results\n",
    "You can use a library like matplotlib to display a live view of your optimization results."
   ]
  },
  {
   "cell_type": "markdown",
   "metadata": {},
   "source": [
    "### Set up matplotlib"
   ]
  },
  {
   "cell_type": "code",
   "execution_count": 1,
   "metadata": {},
   "outputs": [],
   "source": [
    "%matplotlib inline"
   ]
  },
  {
   "cell_type": "markdown",
   "metadata": {},
   "source": [
    "## Define your scoring function\n",
    "For this example we will use the [Ackley function](https://www.sfu.ca/~ssurjano/ackley.html), which is widely used for testing optimization algorithms."
   ]
  },
  {
   "cell_type": "code",
   "execution_count": 2,
   "metadata": {},
   "outputs": [],
   "source": [
    "from math import pi\n",
    "import numpy as np\n",
    "\n",
    "def ackley_function(x, y):\n",
    "    a = 20\n",
    "    b = 0.2\n",
    "    c = pi * 2\n",
    "    d = 2\n",
    "\n",
    "    sum1 = x ** 2 + y ** 2\n",
    "    sum2 = np.cos(c * x) + np.cos(c * y)\n",
    "\n",
    "    term1 = a * np.exp(-b * np.sqrt(sum1 / d))\n",
    "    term2 = np.exp(sum2 / d)\n",
    "\n",
    "    return -term1 - term2 + a + np.exp(1)"
   ]
  },
  {
   "cell_type": "markdown",
   "metadata": {},
   "source": [
    "## Connect to the OPTaaS server and create a Task"
   ]
  },
  {
   "cell_type": "code",
   "execution_count": 3,
   "metadata": {},
   "outputs": [],
   "source": [
    "from mindfoundry.optaas.client.client import OPTaaSClient, Goal\n",
    "from mindfoundry.optaas.client.parameter import FloatParameter\n",
    "\n",
    "client = OPTaaSClient('https://optaas.mindfoundry.ai', '<Your OPTaaS API key>')\n",
    "\n",
    "task = client.create_task(\n",
    "    title='Ackley Optimization',\n",
    "    parameters=[\n",
    "        FloatParameter(name='x', minimum=-32.768, maximum=32.768, default=32.768),\n",
    "        FloatParameter(name='y', minimum=-32.768, maximum=32.768, default=32.768)\n",
    "    ], \n",
    "    goal=Goal.min\n",
    ")"
   ]
  },
  {
   "cell_type": "markdown",
   "metadata": {},
   "source": [
    "## Wrap your scoring function in a Plotting function"
   ]
  },
  {
   "cell_type": "code",
   "execution_count": 4,
   "metadata": {
    "scrolled": true
   },
   "outputs": [],
   "source": [
    "from IPython.display import clear_output\n",
    "import math\n",
    "import pandas as pd\n",
    "import matplotlib.pyplot as plt\n",
    "from matplotlib.ticker import FormatStrFormatter, MaxNLocator\n",
    "\n",
    "class Plotter:\n",
    "    @staticmethod\n",
    "    def make_plotting_function(task, scoring_function):\n",
    "        return Plotter(task, scoring_function).get_score_and_display_plot\n",
    "        \n",
    "    def __init__(self, task, scoring_function):\n",
    "        self.scoring_function = scoring_function\n",
    "        self.current_iteration = 0\n",
    "        self.all_scores = []\n",
    "        self.best_scores = []\n",
    "        self.minimise = task.json.get('goal') == \"min\"\n",
    "        self.better_of = min if self.minimise else max\n",
    "        self.best_score = math.inf if self.minimise else -math.inf        \n",
    "        self.df = pd.DataFrame(columns=[p['name'] for p in task.parameters] + ['score'])\n",
    "\n",
    "    def get_score_and_display_plot(self, **configuration_values):\n",
    "        score = self.scoring_function(**configuration_values)\n",
    "        \n",
    "        self._update_scores(score)\n",
    "        self._update_table(configuration_values, score)\n",
    "        self._plot_scores()\n",
    "\n",
    "        display(plt.gcf())\n",
    "        display(self.df)\n",
    "        plt.close('all')\n",
    "        \n",
    "        self.current_iteration += 1\n",
    "        return score\n",
    "\n",
    "    def _update_scores(self, score):\n",
    "        self.all_scores.append(score)\n",
    "        self.best_score = self.better_of(self.best_score, score)\n",
    "        self.best_scores.append(self.best_score)\n",
    "    \n",
    "    def _update_table(self, configuration_values, score):\n",
    "        values_with_score = configuration_values.copy()\n",
    "        values_with_score['score'] = score\n",
    "        self.df.loc[self.current_iteration] = values_with_score\n",
    "\n",
    "    def _plot_scores(self):\n",
    "        clear_output(wait=True)\n",
    "        plt.clf()\n",
    "        \n",
    "        fig = plt.figure(figsize=(20, 10))\n",
    "        ax = fig.add_subplot(1, 2, 1)\n",
    "        \n",
    "        if self.minimise:\n",
    "            ax.invert_yaxis()\n",
    "            ax.yaxis.set_major_formatter(FormatStrFormatter('%d'))\n",
    "            if all(score >= 0 for score in self.best_scores):\n",
    "                ax.set_yscale('log')\n",
    "\n",
    "        ax.set_ylabel('Score')\n",
    "        ax.xaxis.set_major_locator(MaxNLocator(integer=True))\n",
    "        ax.set_xlabel('Iterations')\n",
    "\n",
    "        ax.plot(self.best_scores, 'g', label='Best so far')\n",
    "        ax.plot(self.all_scores, 'ok')\n",
    "        ax.legend()\n",
    "\n",
    "plotting_function = Plotter.make_plotting_function(task, ackley_function)"
   ]
  },
  {
   "cell_type": "markdown",
   "metadata": {},
   "source": [
    "## Run the Task"
   ]
  },
  {
   "cell_type": "code",
   "execution_count": 5,
   "metadata": {
    "scrolled": false
   },
   "outputs": [
    {
     "data": {
      "image/png": "[encoded data removed]",
      "text/plain": [
       "<Figure size 1440x720 with 1 Axes>"
      ]
     },
     "metadata": {},
     "output_type": "display_data"
    },
    {
     "data": {
      "text/html": [
       "<div>\n",
       "<style scoped>\n",
       "    .dataframe tbody tr th:only-of-type {\n",
       "        vertical-align: middle;\n",
       "    }\n",
       "\n",
       "    .dataframe tbody tr th {\n",
       "        vertical-align: top;\n",
       "    }\n",
       "\n",
       "    .dataframe thead th {\n",
       "        text-align: right;\n",
       "    }\n",
       "</style>\n",
       "<table border=\"1\" class=\"dataframe\">\n",
       "  <thead>\n",
       "    <tr style=\"text-align: right;\">\n",
       "      <th></th>\n",
       "      <th>x</th>\n",
       "      <th>y</th>\n",
       "      <th>score</th>\n",
       "    </tr>\n",
       "  </thead>\n",
       "  <tbody>\n",
       "    <tr>\n",
       "      <th>0</th>\n",
       "      <td>32.768000</td>\n",
       "      <td>32.768000</td>\n",
       "      <td>21.570311</td>\n",
       "    </tr>\n",
       "    <tr>\n",
       "      <th>1</th>\n",
       "      <td>-5.689492</td>\n",
       "      <td>-12.767596</td>\n",
       "      <td>19.070211</td>\n",
       "    </tr>\n",
       "    <tr>\n",
       "      <th>2</th>\n",
       "      <td>-30.576649</td>\n",
       "      <td>23.701804</td>\n",
       "      <td>22.081071</td>\n",
       "    </tr>\n",
       "    <tr>\n",
       "      <th>3</th>\n",
       "      <td>19.588544</td>\n",
       "      <td>-19.718891</td>\n",
       "      <td>21.732203</td>\n",
       "    </tr>\n",
       "    <tr>\n",
       "      <th>4</th>\n",
       "      <td>15.171257</td>\n",
       "      <td>18.819132</td>\n",
       "      <td>20.498177</td>\n",
       "    </tr>\n",
       "    <tr>\n",
       "      <th>5</th>\n",
       "      <td>23.357021</td>\n",
       "      <td>4.100891</td>\n",
       "      <td>20.923471</td>\n",
       "    </tr>\n",
       "    <tr>\n",
       "      <th>6</th>\n",
       "      <td>12.669815</td>\n",
       "      <td>18.904937</td>\n",
       "      <td>20.730211</td>\n",
       "    </tr>\n",
       "    <tr>\n",
       "      <th>7</th>\n",
       "      <td>-25.585381</td>\n",
       "      <td>27.751531</td>\n",
       "      <td>21.968379</td>\n",
       "    </tr>\n",
       "    <tr>\n",
       "      <th>8</th>\n",
       "      <td>9.872069</td>\n",
       "      <td>-8.362855</td>\n",
       "      <td>18.487494</td>\n",
       "    </tr>\n",
       "    <tr>\n",
       "      <th>9</th>\n",
       "      <td>-7.225656</td>\n",
       "      <td>-0.344868</td>\n",
       "      <td>14.713130</td>\n",
       "    </tr>\n",
       "    <tr>\n",
       "      <th>10</th>\n",
       "      <td>-3.471270</td>\n",
       "      <td>1.953761</td>\n",
       "      <td>10.344799</td>\n",
       "    </tr>\n",
       "    <tr>\n",
       "      <th>11</th>\n",
       "      <td>-1.293875</td>\n",
       "      <td>3.161621</td>\n",
       "      <td>9.245107</td>\n",
       "    </tr>\n",
       "    <tr>\n",
       "      <th>12</th>\n",
       "      <td>-1.979362</td>\n",
       "      <td>5.620735</td>\n",
       "      <td>12.965559</td>\n",
       "    </tr>\n",
       "    <tr>\n",
       "      <th>13</th>\n",
       "      <td>-0.073913</td>\n",
       "      <td>0.964441</td>\n",
       "      <td>2.729023</td>\n",
       "    </tr>\n",
       "    <tr>\n",
       "      <th>14</th>\n",
       "      <td>0.966277</td>\n",
       "      <td>-0.624745</td>\n",
       "      <td>4.577621</td>\n",
       "    </tr>\n",
       "    <tr>\n",
       "      <th>15</th>\n",
       "      <td>-0.433555</td>\n",
       "      <td>0.191378</td>\n",
       "      <td>3.256749</td>\n",
       "    </tr>\n",
       "    <tr>\n",
       "      <th>16</th>\n",
       "      <td>0.838337</td>\n",
       "      <td>0.994304</td>\n",
       "      <td>3.933286</td>\n",
       "    </tr>\n",
       "    <tr>\n",
       "      <th>17</th>\n",
       "      <td>-0.013304</td>\n",
       "      <td>0.664896</td>\n",
       "      <td>3.237879</td>\n",
       "    </tr>\n",
       "    <tr>\n",
       "      <th>18</th>\n",
       "      <td>-0.844089</td>\n",
       "      <td>1.068286</td>\n",
       "      <td>4.139130</td>\n",
       "    </tr>\n",
       "    <tr>\n",
       "      <th>19</th>\n",
       "      <td>-0.607797</td>\n",
       "      <td>-1.513021</td>\n",
       "      <td>6.425530</td>\n",
       "    </tr>\n",
       "  </tbody>\n",
       "</table>\n",
       "</div>"
      ],
      "text/plain": [
       "            x          y      score\n",
       "0   32.768000  32.768000  21.570311\n",
       "1   -5.689492 -12.767596  19.070211\n",
       "2  -30.576649  23.701804  22.081071\n",
       "3   19.588544 -19.718891  21.732203\n",
       "4   15.171257  18.819132  20.498177\n",
       "5   23.357021   4.100891  20.923471\n",
       "6   12.669815  18.904937  20.730211\n",
       "7  -25.585381  27.751531  21.968379\n",
       "8    9.872069  -8.362855  18.487494\n",
       "9   -7.225656  -0.344868  14.713130\n",
       "10  -3.471270   1.953761  10.344799\n",
       "11  -1.293875   3.161621   9.245107\n",
       "12  -1.979362   5.620735  12.965559\n",
       "13  -0.073913   0.964441   2.729023\n",
       "14   0.966277  -0.624745   4.577621\n",
       "15  -0.433555   0.191378   3.256749\n",
       "16   0.838337   0.994304   3.933286\n",
       "17  -0.013304   0.664896   3.237879\n",
       "18  -0.844089   1.068286   4.139130\n",
       "19  -0.607797  -1.513021   6.425530"
      ]
     },
     "execution_count": 1,
     "metadata": {},
     "output_type": "execute_result"
    },
    {
     "name": "stdout",
     "output_type": "stream",
     "text": [
      "Iteration: 19    Score: 6.425530366042068\n",
      "Configuration: {'x': -0.6077973848037957, 'y': -1.5130208930594526}\n",
      "\n",
      "Task Completed\n",
      "\n"
     ]
    },
    {
     "data": {
      "text/plain": [
       "({ 'configuration': '8c587fc9-57fc-4660-83d6-8be3c8b9ba56',\n",
       "   'id': 5280,\n",
       "   'score': 2.7290226215315703,\n",
       "   'user_defined_data': None}, { 'id': '8c587fc9-57fc-4660-83d6-8be3c8b9ba56',\n",
       "   'type': 'exploitation',\n",
       "   'values': {'x': -0.07391260560005529, 'y': 0.9644407366439016}})"
      ]
     },
     "execution_count": 5,
     "metadata": {},
     "output_type": "execute_result"
    }
   ],
   "source": [
    "task.run(plotting_function, max_iterations=20)"
   ]
  }
 ],
 "metadata": {
  "kernelspec": {
   "display_name": "Python 3",
   "language": "python",
   "name": "python3"
  },
  "language_info": {
   "codemirror_mode": {
    "name": "ipython",
    "version": 3
   },
   "file_extension": ".py",
   "mimetype": "text/x-python",
   "name": "python",
   "nbconvert_exporter": "python",
   "pygments_lexer": "ipython3",
   "version": "3.6.5"
  }
 },
 "nbformat": 4,
 "nbformat_minor": 2
}
