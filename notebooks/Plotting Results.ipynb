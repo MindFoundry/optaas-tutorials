{
 "cells": [
  {
   "cell_type": "markdown",
   "metadata": {},
   "source": [
    "# OPTaaS: Plotting Results\n",
    "You can use a library like matplotlib to display a live view of your optimization results."
   ]
  },
  {
   "cell_type": "markdown",
   "metadata": {},
   "source": [
    "### Set up matplotlib"
   ]
  },
  {
   "cell_type": "code",
   "execution_count": 5,
   "metadata": {},
   "outputs": [],
   "source": [
    "%matplotlib inline"
   ]
  },
  {
   "cell_type": "markdown",
   "metadata": {},
   "source": [
    "## Define your scoring function\n",
    "For this example we will use the [Ackley function](https://www.sfu.ca/~ssurjano/ackley.html), which is widely used for testing optimization algorithms."
   ]
  },
  {
   "cell_type": "code",
   "execution_count": 6,
   "metadata": {},
   "outputs": [],
   "source": [
    "from math import pi\n",
    "import numpy as np\n",
    "\n",
    "def ackley_function(x, y):\n",
    "    a = 20\n",
    "    b = 0.2\n",
    "    c = pi * 2\n",
    "    d = 2\n",
    "\n",
    "    sum1 = x ** 2 + y ** 2\n",
    "    sum2 = np.cos(c * x) + np.cos(c * y)\n",
    "\n",
    "    term1 = a * np.exp(-b * np.sqrt(sum1 / d))\n",
    "    term2 = np.exp(sum2 / d)\n",
    "\n",
    "    return -term1 - term2 + a + np.exp(1)"
   ]
  },
  {
   "cell_type": "markdown",
   "metadata": {},
   "source": [
    "## Connect to the OPTaaS server and create a Task"
   ]
  },
  {
   "cell_type": "code",
   "execution_count": 7,
   "metadata": {},
   "outputs": [],
   "source": [
    "from mindfoundry.optaas.client.client import OPTaaSClient, Goal\n",
    "from mindfoundry.optaas.client.parameter import FloatParameter\n",
    "\n",
    "client = OPTaaSClient('https://optaas.mindfoundry.ai', '<Your OPTaaS API key>')\n",
    "\n",
    "task = client.create_task(\n",
    "    title='Ackley Optimization',\n",
    "    parameters=[\n",
    "        FloatParameter(name='x', minimum=-32.768, maximum=32.768, default=32.768),\n",
    "        FloatParameter(name='y', minimum=-32.768, maximum=32.768, default=32.768)\n",
    "    ], \n",
    "    goal=Goal.min\n",
    ")"
   ]
  },
  {
   "cell_type": "markdown",
   "metadata": {},
   "source": [
    "## Wrap your scoring function in a Plotting function"
   ]
  },
  {
   "cell_type": "code",
   "execution_count": 8,
   "metadata": {
    "scrolled": true
   },
   "outputs": [],
   "source": [
    "from IPython.display import clear_output\n",
    "import math\n",
    "import pandas as pd\n",
    "import matplotlib.pyplot as plt\n",
    "from matplotlib.ticker import FormatStrFormatter, MaxNLocator\n",
    "\n",
    "class Plotter:\n",
    "    @staticmethod\n",
    "    def make_plotting_function(task, scoring_function):\n",
    "        return Plotter(task, scoring_function).get_score_and_display_plot\n",
    "        \n",
    "    def __init__(self, task, scoring_function):\n",
    "        self.scoring_function = scoring_function\n",
    "        self.current_iteration = 0\n",
    "        self.all_scores = []\n",
    "        self.best_scores = []\n",
    "        self.minimise = task.json.get('goal') == \"min\"\n",
    "        self.better_of = min if self.minimise else max\n",
    "        self.best_score = math.inf if self.minimise else -math.inf        \n",
    "        self.df = pd.DataFrame(columns=[p['name'] for p in task.parameters] + ['score'])\n",
    "\n",
    "    def get_score_and_display_plot(self, **configuration_values):\n",
    "        score = self.scoring_function(**configuration_values)\n",
    "        \n",
    "        self._update_scores(score)\n",
    "        self._update_table(configuration_values, score)\n",
    "        self._plot_scores()\n",
    "\n",
    "        display(plt.gcf())\n",
    "        display(self.df)\n",
    "        plt.close('all')\n",
    "        \n",
    "        self.current_iteration += 1\n",
    "        return score\n",
    "\n",
    "    def _update_scores(self, score):\n",
    "        self.all_scores.append(score)\n",
    "        self.best_score = self.better_of(self.best_score, score)\n",
    "        self.best_scores.append(self.best_score)\n",
    "    \n",
    "    def _update_table(self, configuration_values, score):\n",
    "        values_with_score = configuration_values.copy()\n",
    "        values_with_score['score'] = score\n",
    "        self.df.loc[self.current_iteration] = values_with_score\n",
    "\n",
    "    def _plot_scores(self):\n",
    "        clear_output(wait=True)\n",
    "        plt.clf()\n",
    "        \n",
    "        fig = plt.figure(figsize=(20, 10))\n",
    "        ax = fig.add_subplot(1, 2, 1)\n",
    "        \n",
    "        if self.minimise:\n",
    "            ax.invert_yaxis()\n",
    "            ax.yaxis.set_major_formatter(FormatStrFormatter('%d'))\n",
    "            if all(score >= 0 for score in self.best_scores):\n",
    "                ax.set_yscale('log')\n",
    "\n",
    "        ax.set_ylabel('Score')\n",
    "        ax.xaxis.set_major_locator(MaxNLocator(integer=True))\n",
    "        ax.set_xlabel('Iterations')\n",
    "\n",
    "        ax.plot(self.best_scores, 'g', label='Best so far')\n",
    "        ax.plot(self.all_scores, 'ok')\n",
    "        ax.legend()\n",
    "\n",
    "plotting_function = Plotter.make_plotting_function(task, ackley_function)"
   ]
  },
  {
   "cell_type": "markdown",
   "metadata": {},
   "source": [
    "## Run the Task"
   ]
  },
  {
   "cell_type": "code",
   "execution_count": 9,
   "metadata": {
    "scrolled": false
   },
   "outputs": [
    {
     "data": {
      "image/png": "[encoded data removed]",
      "text/plain": [
       "<Figure size 1440x720 with 1 Axes>"
      ]
     },
     "metadata": {},
     "output_type": "display_data"
    },
    {
     "data": {
      "text/html": [
       "<div>\n",
       "<style scoped>\n",
       "    .dataframe tbody tr th:only-of-type {\n",
       "        vertical-align: middle;\n",
       "    }\n",
       "\n",
       "    .dataframe tbody tr th {\n",
       "        vertical-align: top;\n",
       "    }\n",
       "\n",
       "    .dataframe thead th {\n",
       "        text-align: right;\n",
       "    }\n",
       "</style>\n",
       "<table border=\"1\" class=\"dataframe\">\n",
       "  <thead>\n",
       "    <tr style=\"text-align: right;\">\n",
       "      <th></th>\n",
       "      <th>x</th>\n",
       "      <th>y</th>\n",
       "      <th>score</th>\n",
       "    </tr>\n",
       "  </thead>\n",
       "  <tbody>\n",
       "    <tr>\n",
       "      <th>0</th>\n",
       "      <td>32.768000</td>\n",
       "      <td>32.768000</td>\n",
       "      <td>21.570311</td>\n",
       "    </tr>\n",
       "    <tr>\n",
       "      <th>1</th>\n",
       "      <td>16.384000</td>\n",
       "      <td>-16.384000</td>\n",
       "      <td>21.489017</td>\n",
       "    </tr>\n",
       "    <tr>\n",
       "      <th>2</th>\n",
       "      <td>-16.384000</td>\n",
       "      <td>16.384000</td>\n",
       "      <td>21.489017</td>\n",
       "    </tr>\n",
       "    <tr>\n",
       "      <th>3</th>\n",
       "      <td>-8.192000</td>\n",
       "      <td>-8.192000</td>\n",
       "      <td>17.404273</td>\n",
       "    </tr>\n",
       "    <tr>\n",
       "      <th>4</th>\n",
       "      <td>24.576000</td>\n",
       "      <td>24.576000</td>\n",
       "      <td>22.160175</td>\n",
       "    </tr>\n",
       "    <tr>\n",
       "      <th>5</th>\n",
       "      <td>8.192000</td>\n",
       "      <td>-24.576000</td>\n",
       "      <td>21.438923</td>\n",
       "    </tr>\n",
       "    <tr>\n",
       "      <th>6</th>\n",
       "      <td>-24.576000</td>\n",
       "      <td>8.192000</td>\n",
       "      <td>21.438923</td>\n",
       "    </tr>\n",
       "    <tr>\n",
       "      <th>7</th>\n",
       "      <td>-20.480000</td>\n",
       "      <td>-12.288000</td>\n",
       "      <td>21.494714</td>\n",
       "    </tr>\n",
       "    <tr>\n",
       "      <th>8</th>\n",
       "      <td>12.288000</td>\n",
       "      <td>20.480000</td>\n",
       "      <td>21.494714</td>\n",
       "    </tr>\n",
       "    <tr>\n",
       "      <th>9</th>\n",
       "      <td>28.672000</td>\n",
       "      <td>-28.672000</td>\n",
       "      <td>22.029063</td>\n",
       "    </tr>\n",
       "    <tr>\n",
       "      <th>10</th>\n",
       "      <td>-7.367232</td>\n",
       "      <td>-8.120186</td>\n",
       "      <td>17.447145</td>\n",
       "    </tr>\n",
       "    <tr>\n",
       "      <th>11</th>\n",
       "      <td>-8.524342</td>\n",
       "      <td>-4.884684</td>\n",
       "      <td>16.846763</td>\n",
       "    </tr>\n",
       "    <tr>\n",
       "      <th>12</th>\n",
       "      <td>-7.295838</td>\n",
       "      <td>-1.215655</td>\n",
       "      <td>14.725916</td>\n",
       "    </tr>\n",
       "    <tr>\n",
       "      <th>13</th>\n",
       "      <td>-5.633602</td>\n",
       "      <td>1.484595</td>\n",
       "      <td>13.508681</td>\n",
       "    </tr>\n",
       "    <tr>\n",
       "      <th>14</th>\n",
       "      <td>-6.763066</td>\n",
       "      <td>3.843985</td>\n",
       "      <td>14.685482</td>\n",
       "    </tr>\n",
       "    <tr>\n",
       "      <th>15</th>\n",
       "      <td>-2.028847</td>\n",
       "      <td>1.397656</td>\n",
       "      <td>7.506163</td>\n",
       "    </tr>\n",
       "    <tr>\n",
       "      <th>16</th>\n",
       "      <td>0.633852</td>\n",
       "      <td>1.522870</td>\n",
       "      <td>6.442758</td>\n",
       "    </tr>\n",
       "    <tr>\n",
       "      <th>17</th>\n",
       "      <td>0.003195</td>\n",
       "      <td>2.983727</td>\n",
       "      <td>6.892196</td>\n",
       "    </tr>\n",
       "    <tr>\n",
       "      <th>18</th>\n",
       "      <td>-0.090747</td>\n",
       "      <td>0.545334</td>\n",
       "      <td>3.279615</td>\n",
       "    </tr>\n",
       "    <tr>\n",
       "      <th>19</th>\n",
       "      <td>-0.292813</td>\n",
       "      <td>-0.837126</td>\n",
       "      <td>3.939943</td>\n",
       "    </tr>\n",
       "  </tbody>\n",
       "</table>\n",
       "</div>"
      ],
      "text/plain": [
       "            x          y      score\n",
       "0   32.768000  32.768000  21.570311\n",
       "1   16.384000 -16.384000  21.489017\n",
       "2  -16.384000  16.384000  21.489017\n",
       "3   -8.192000  -8.192000  17.404273\n",
       "4   24.576000  24.576000  22.160175\n",
       "5    8.192000 -24.576000  21.438923\n",
       "6  -24.576000   8.192000  21.438923\n",
       "7  -20.480000 -12.288000  21.494714\n",
       "8   12.288000  20.480000  21.494714\n",
       "9   28.672000 -28.672000  22.029063\n",
       "10  -7.367232  -8.120186  17.447145\n",
       "11  -8.524342  -4.884684  16.846763\n",
       "12  -7.295838  -1.215655  14.725916\n",
       "13  -5.633602   1.484595  13.508681\n",
       "14  -6.763066   3.843985  14.685482\n",
       "15  -2.028847   1.397656   7.506163\n",
       "16   0.633852   1.522870   6.442758\n",
       "17   0.003195   2.983727   6.892196\n",
       "18  -0.090747   0.545334   3.279615\n",
       "19  -0.292813  -0.837126   3.939943"
      ]
     },
     "metadata": {},
     "output_type": "display_data"
    },
    {
     "name": "stdout",
     "output_type": "stream",
     "text": [
      "Iteration: 19    Score: 3.9399429934599373\n",
      "Configuration: {'x': -0.29281331390637777, 'y': -0.837126413229345}\n",
      "\n",
      "Task Completed\n",
      "\n"
     ]
    },
    {
     "data": {
      "text/plain": [
       "{ 'configuration': { 'type': 'exploitation',\n",
       "  'values': {'x': -0.09074710653353395, 'y': 0.5453344121514918}},\n",
       "  'score': 3.2796149515135267,\n",
       "  'user_defined_data': None}"
      ]
     },
     "execution_count": 9,
     "metadata": {},
     "output_type": "execute_result"
    }
   ],
   "source": [
    "task.run(plotting_function, max_iterations=20)"
   ]
  }
 ],
 "metadata": {
  "kernelspec": {
   "display_name": "Python 3",
   "language": "python",
   "name": "python3"
  },
  "language_info": {
   "codemirror_mode": {
    "name": "ipython",
    "version": 3
   },
   "file_extension": ".py",
   "mimetype": "text/x-python",
   "name": "python",
   "nbconvert_exporter": "python",
   "pygments_lexer": "ipython3",
   "version": "3.6.5"
  }
 },
 "nbformat": 4,
 "nbformat_minor": 2
}
