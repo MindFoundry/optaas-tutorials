{
 "cells": [
  {
   "cell_type": "markdown",
   "metadata": {},
   "source": [
    "# OPTaaS Quick Start\n",
    "\n",
    "### <span style=\"color:red\">Note:</span> To run this notebook, you need an API Key. You can get one <a href=\"mailto:charles.brecque@mindfoundry.ai\">here</a>.\n",
    "\n",
    "More tutorials are [available here](./)"
   ]
  },
  {
   "cell_type": "markdown",
   "metadata": {},
   "source": [
    "## Connect to OPTaaS using your API Key"
   ]
  },
  {
   "cell_type": "code",
   "execution_count": 1,
   "metadata": {},
   "outputs": [],
   "source": [
    "from mindfoundry.optaas.client.client import OPTaaSClient\n",
    "\n",
    "client = OPTaaSClient('https://optaas.mindfoundry.ai', '<Your OPTaaS API key>')"
   ]
  },
  {
   "cell_type": "markdown",
   "metadata": {},
   "source": [
    "## Define your parameters"
   ]
  },
  {
   "cell_type": "code",
   "execution_count": 2,
   "metadata": {
    "scrolled": false
   },
   "outputs": [],
   "source": [
    "from mindfoundry.optaas.client.parameter import IntParameter, FloatParameter, CategoricalParameter, BoolParameter, \\\n",
    "    ChoiceParameter, GroupParameter\n",
    "\n",
    "bool_param = BoolParameter('my_bool')\n",
    "cat_param = CategoricalParameter('my_cat', values=['a', 'b', 'c'], default='c')\n",
    "\n",
    "int_param = IntParameter('my_int', minimum=0, maximum=20)\n",
    "optional_int_param = IntParameter('my_optional_int', minimum=-10, maximum=10, optional=True)\n",
    "\n",
    "parameters = [\n",
    "    bool_param,\n",
    "    cat_param,\n",
    "    ChoiceParameter('ints_or_floats', choices=[\n",
    "        GroupParameter('ints', items=[int_param, optional_int_param]),\n",
    "        GroupParameter('floats', items=[\n",
    "            FloatParameter('float1', minimum=0, maximum=1),\n",
    "            FloatParameter('float2', minimum=0.5, maximum=4.5)\n",
    "        ])\n",
    "    ]),\n",
    "]"
   ]
  },
  {
   "cell_type": "markdown",
   "metadata": {},
   "source": [
    "## Define your scoring function\n",
    "\n",
    "**Note:** the argument names in your scoring function must match the parameter names you defined above."
   ]
  },
  {
   "cell_type": "code",
   "execution_count": 3,
   "metadata": {},
   "outputs": [],
   "source": [
    "def scoring_function(my_bool, my_cat, ints_or_floats):\n",
    "    score = 5 if my_bool is True else -5\n",
    "    score += 1 if my_cat == 'a' else 3\n",
    "    if 'ints' in ints_or_floats:\n",
    "        score += sum(ints_or_floats['ints'].values())\n",
    "    else:\n",
    "        score *= sum(ints_or_floats['floats'].values())\n",
    "    return score"
   ]
  },
  {
   "cell_type": "markdown",
   "metadata": {},
   "source": [
    "## Create your Task\n",
    "\n",
    "You can use Goal.max or Goal.min as appropriate. You can also specify the best possible score (if known)."
   ]
  },
  {
   "cell_type": "code",
   "execution_count": 4,
   "metadata": {},
   "outputs": [],
   "source": [
    "from mindfoundry.optaas.client.client import Goal\n",
    "\n",
    "task = client.create_task(\n",
    "    title='Quick Start Example Task',\n",
    "    parameters=parameters,\n",
    "    goal=Goal.max,\n",
    "    target_score=44.0\n",
    ")"
   ]
  },
  {
   "cell_type": "markdown",
   "metadata": {},
   "source": [
    "## Run your Task\n",
    "\n",
    "We will run for a maximum of 50 iterations, but we will stop as soon as we reach our score threshold of 32.\n",
    "\n",
    "The score threshold is optional - you can omit it and simply run as many iterations as you need."
   ]
  },
  {
   "cell_type": "code",
   "execution_count": 5,
   "metadata": {
    "scrolled": false
   },
   "outputs": [
    {
     "name": "stdout",
     "output_type": "stream",
     "text": [
      "Running task \"Quick Start Example Task\" for 50 iterations\n",
      "(or until score is 32 or better)\n",
      "\n",
      "Iteration: 0    Score: -6.0\n",
      "Configuration: {'my_bool': False, 'my_cat': 'c', 'ints_or_floats': {'floats': {'float1': 0.5, 'float2': 2.5}}}\n",
      "\n",
      "Iteration: 1    Score: -9.851439858871426\n",
      "Configuration: {'my_bool': False, 'my_cat': 'b', 'ints_or_floats': {'floats': {'float1': 0.702130686744445, 'float2': 4.2235892426912685}}}\n",
      "\n",
      "Iteration: 2    Score: -9.151805479841533\n",
      "Configuration: {'my_bool': False, 'my_cat': 'a', 'ints_or_floats': {'floats': {'float1': 0.16844261705859787, 'float2': 2.1195087529017855}}}\n",
      "\n",
      "Iteration: 3    Score: 20\n",
      "Configuration: {'my_bool': False, 'my_cat': 'b', 'ints_or_floats': {'ints': {'my_int': 16, 'my_optional_int': 6}}}\n",
      "\n",
      "Iteration: 4    Score: -8.742081535135902\n",
      "Configuration: {'my_bool': False, 'my_cat': 'a', 'ints_or_floats': {'floats': {'float1': 0.18645316439223036, 'float2': 1.9990672193917454}}}\n",
      "\n",
      "Iteration: 5    Score: 13\n",
      "Configuration: {'my_bool': False, 'my_cat': 'b', 'ints_or_floats': {'ints': {'my_int': 15, 'my_optional_int': 0}}}\n",
      "\n",
      "Iteration: 6    Score: 26.52811720481367\n",
      "Configuration: {'my_bool': True, 'my_cat': 'a', 'ints_or_floats': {'floats': {'float1': 0.5430397712451891, 'float2': 3.8783130962237564}}}\n",
      "\n",
      "Iteration: 7    Score: 16\n",
      "Configuration: {'my_bool': True, 'my_cat': 'a', 'ints_or_floats': {'ints': {'my_int': 11, 'my_optional_int': -1}}}\n",
      "\n",
      "Iteration: 8    Score: 22\n",
      "Configuration: {'my_bool': True, 'my_cat': 'a', 'ints_or_floats': {'ints': {'my_int': 15, 'my_optional_int': 1}}}\n",
      "\n",
      "Iteration: 9    Score: 10\n",
      "Configuration: {'my_bool': True, 'my_cat': 'b', 'ints_or_floats': {'ints': {'my_int': 2}}}\n",
      "\n",
      "Iteration: 10    Score: 8\n",
      "Configuration: {'my_bool': False, 'my_cat': 'c', 'ints_or_floats': {'ints': {'my_int': 10}}}\n",
      "\n",
      "Iteration: 11    Score: 8\n",
      "Configuration: {'my_bool': False, 'my_cat': 'c', 'ints_or_floats': {'ints': {'my_int': 10, 'my_optional_int': 0}}}\n",
      "\n",
      "Iteration: 12    Score: 26.645087397947528\n",
      "Configuration: {'my_bool': True, 'my_cat': 'a', 'ints_or_floats': {'floats': {'float1': 0.5625348034341644, 'float2': 3.8783130962237564}}}\n",
      "\n",
      "Iteration: 13    Score: 25.38686967444523\n",
      "Configuration: {'my_bool': True, 'my_cat': 'a', 'ints_or_floats': {'floats': {'float1': 0.6127411552184568, 'float2': 3.6184037905224153}}}\n",
      "\n",
      "Iteration: 14    Score: 27.33803658340348\n",
      "Configuration: {'my_bool': True, 'my_cat': 'a', 'ints_or_floats': {'floats': {'float1': 0.6155885435823384, 'float2': 3.9407508869849077}}}\n",
      "\n",
      "Iteration: 15    Score: 24.891718090025567\n",
      "Configuration: {'my_bool': True, 'my_cat': 'a', 'ints_or_floats': {'floats': {'float1': 0.5889784685816061, 'float2': 3.559641213089322}}}\n",
      "\n",
      "Iteration: 16    Score: 25.34782201849459\n",
      "Configuration: {'my_bool': True, 'my_cat': 'a', 'ints_or_floats': {'floats': {'float1': 0.11000183482178977, 'float2': 4.114635168260642}}}\n",
      "\n",
      "Iteration: 17    Score: 42.3620411428495\n",
      "Configuration: {'my_bool': True, 'my_cat': 'b', 'ints_or_floats': {'floats': {'float1': 0.8075320496942232, 'float2': 4.487723093161964}}}\n",
      "\n",
      "Task Completed\n",
      "\n",
      "Best score: 42.3620411428495\n",
      "Best configuration: {'my_bool': True, 'my_cat': 'b', 'ints_or_floats': {'floats': {'float1': 0.8075320496942232, 'float2': 4.487723093161964}}}\n"
     ]
    }
   ],
   "source": [
    "best_result, best_configuration = task.run(scoring_function, max_iterations=50, score_threshold=32)\n",
    "print(f'Best score: {best_result.score}')\n",
    "print(f'Best configuration: {best_configuration.values}')"
   ]
  }
 ],
 "metadata": {
  "kernelspec": {
   "display_name": "Python 3",
   "language": "python",
   "name": "python3"
  },
  "language_info": {
   "codemirror_mode": {
    "name": "ipython",
    "version": 3
   },
   "file_extension": ".py",
   "mimetype": "text/x-python",
   "name": "python",
   "nbconvert_exporter": "python",
   "pygments_lexer": "ipython3",
   "version": "3.6.4"
  },
  "nav_menu": {},
  "toc": {
   "navigate_menu": true,
   "number_sections": false,
   "sideBar": true,
   "threshold": 6.0,
   "toc_cell": false,
   "toc_section_display": "block",
   "toc_window_display": false
  }
 },
 "nbformat": 4,
 "nbformat_minor": 2
}
