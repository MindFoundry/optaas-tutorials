{
 "cells": [
  {
   "cell_type": "markdown",
   "metadata": {},
   "source": [
    "# OPTaaS Quick Start\n",
    "\n",
    "### <span style=\"color:red\">Note:</span> To run this notebook, you need an API Key. If you don't have one, <a href=\"mailto:optaas@mindfoundry.ai\">email us to start your free trial</a>.\n",
    "\n",
    "More tutorials are [available here](/notebooks)"
   ]
  },
  {
   "cell_type": "markdown",
   "metadata": {},
   "source": [
    "## Connect to OPTaaS using your API Key"
   ]
  },
  {
   "cell_type": "code",
   "execution_count": 1,
   "metadata": {},
   "outputs": [],
   "source": [
    "from mindfoundry.optaas.client.client import OPTaaSClient\n",
    "\n",
    "client = OPTaaSClient('https://optaas.mindfoundry.ai', '<Your OPTaaS API key>')"
   ]
  },
  {
   "cell_type": "markdown",
   "metadata": {},
   "source": [
    "## Define your parameters"
   ]
  },
  {
   "cell_type": "code",
   "execution_count": 2,
   "metadata": {
    "scrolled": false
   },
   "outputs": [],
   "source": [
    "from mindfoundry.optaas.client.parameter import IntParameter, FloatParameter, CategoricalParameter, BoolParameter, \\\n",
    "    ChoiceParameter, GroupParameter\n",
    "\n",
    "bool_param = BoolParameter('my_bool')\n",
    "cat_param = CategoricalParameter('my_cat', values=['a', 'b', 'c'], default='c')\n",
    "\n",
    "int_param = IntParameter('my_int', minimum=0, maximum=20)\n",
    "optional_int_param = IntParameter('my_optional_int', minimum=-10, maximum=10, optional=True)\n",
    "\n",
    "parameters = [\n",
    "    bool_param,\n",
    "    cat_param,\n",
    "    ChoiceParameter('ints_or_floats', choices=[\n",
    "        GroupParameter('ints', items=[int_param, optional_int_param]),\n",
    "        GroupParameter('floats', items=[\n",
    "            FloatParameter('float1', minimum=0, maximum=1),\n",
    "            FloatParameter('float2', minimum=0.5, maximum=4.5)\n",
    "        ])\n",
    "    ]),\n",
    "]"
   ]
  },
  {
   "cell_type": "markdown",
   "metadata": {},
   "source": [
    "## Define your scoring function\n",
    "\n",
    "**Note:** the argument names in your scoring function must match the parameter names you defined above."
   ]
  },
  {
   "cell_type": "code",
   "execution_count": 3,
   "metadata": {},
   "outputs": [],
   "source": [
    "def scoring_function(my_bool, my_cat, ints_or_floats):\n",
    "    score = 5 if my_bool is True else -5\n",
    "    score += 1 if my_cat == 'a' else 3\n",
    "    if 'ints' in ints_or_floats:\n",
    "        score += sum(ints_or_floats['ints'].values())\n",
    "    else:\n",
    "        score *= sum(ints_or_floats['floats'].values())\n",
    "    return score"
   ]
  },
  {
   "cell_type": "markdown",
   "metadata": {},
   "source": [
    "## Create your Task\n",
    "\n",
    "You can use Goal.max or Goal.min as appropriate."
   ]
  },
  {
   "cell_type": "code",
   "execution_count": 4,
   "metadata": {},
   "outputs": [],
   "source": [
    "from mindfoundry.optaas.client.client import Goal\n",
    "\n",
    "task = client.create_task(\n",
    "    title='Quick Start Example Task',\n",
    "    parameters=parameters,\n",
    "    goal=Goal.max,\n",
    ")"
   ]
  },
  {
   "cell_type": "markdown",
   "metadata": {},
   "source": [
    "## Run your Task\n",
    "\n",
    "We will run for a maximum of 50 iterations, but we will stop as soon as we reach our score threshold of 32.\n",
    "\n",
    "The score threshold is optional - you can omit it and simply run as many iterations as you need."
   ]
  },
  {
   "cell_type": "code",
   "execution_count": 5,
   "metadata": {
    "scrolled": false
   },
   "outputs": [
    {
     "name": "stdout",
     "output_type": "stream",
     "text": [
      "Running task \"Quick Start Example Task\" for 50 iterations\n",
      "(or until score is 32 or better)\n",
      "\n",
      "Iteration: 0    Score: -6.0\n",
      "Configuration: {'my_bool': False, 'my_cat': 'c', 'ints_or_floats': {'floats': {'float1': 0.5, 'float2': 2.5}}}\n",
      "\n",
      "Iteration: 1    Score: 17\n",
      "Configuration: {'my_bool': True, 'my_cat': 'c', 'ints_or_floats': {'ints': {'my_int': 9}}}\n",
      "\n",
      "Iteration: 2    Score: -10.008750866716957\n",
      "Configuration: {'my_bool': False, 'my_cat': 'a', 'ints_or_floats': {'floats': {'float1': 0.050884602994662465, 'float2': 2.4513031136845767}}}\n",
      "\n",
      "Iteration: 3    Score: 10\n",
      "Configuration: {'my_bool': True, 'my_cat': 'a', 'ints_or_floats': {'ints': {'my_int': 3, 'my_optional_int': 1}}}\n",
      "\n",
      "Iteration: 4    Score: 20\n",
      "Configuration: {'my_bool': True, 'my_cat': 'b', 'ints_or_floats': {'ints': {'my_int': 12}}}\n",
      "\n",
      "Iteration: 5    Score: 1\n",
      "Configuration: {'my_bool': False, 'my_cat': 'b', 'ints_or_floats': {'ints': {'my_int': 1, 'my_optional_int': 2}}}\n",
      "\n",
      "Iteration: 6    Score: 13\n",
      "Configuration: {'my_bool': True, 'my_cat': 'b', 'ints_or_floats': {'ints': {'my_int': 5}}}\n",
      "\n",
      "Iteration: 7    Score: 4\n",
      "Configuration: {'my_bool': False, 'my_cat': 'b', 'ints_or_floats': {'ints': {'my_int': 8, 'my_optional_int': -2}}}\n",
      "\n",
      "Iteration: 8    Score: 26\n",
      "Configuration: {'my_bool': False, 'my_cat': 'c', 'ints_or_floats': {'ints': {'my_int': 19, 'my_optional_int': 9}}}\n",
      "\n",
      "Iteration: 9    Score: 17.26269192457658\n",
      "Configuration: {'my_bool': True, 'my_cat': 'a', 'ints_or_floats': {'floats': {'float1': 0.9729092290855726, 'float2': 1.9042060916771906}}}\n",
      "\n",
      "Iteration: 10    Score: 8\n",
      "Configuration: {'my_bool': False, 'my_cat': 'c', 'ints_or_floats': {'ints': {'my_int': 10, 'my_optional_int': 0}}}\n",
      "\n",
      "Iteration: 11    Score: 8\n",
      "Configuration: {'my_bool': False, 'my_cat': 'c', 'ints_or_floats': {'ints': {'my_int': 10}}}\n",
      "\n",
      "Iteration: 12    Score: 24\n",
      "Configuration: {'my_bool': False, 'my_cat': 'c', 'ints_or_floats': {'ints': {'my_int': 17, 'my_optional_int': 9}}}\n",
      "\n",
      "Iteration: 13    Score: 23\n",
      "Configuration: {'my_bool': False, 'my_cat': 'c', 'ints_or_floats': {'ints': {'my_int': 19, 'my_optional_int': 6}}}\n",
      "\n",
      "Iteration: 14    Score: 27\n",
      "Configuration: {'my_bool': False, 'my_cat': 'c', 'ints_or_floats': {'ints': {'my_int': 20, 'my_optional_int': 9}}}\n",
      "\n",
      "Iteration: 15    Score: 24\n",
      "Configuration: {'my_bool': False, 'my_cat': 'c', 'ints_or_floats': {'ints': {'my_int': 20, 'my_optional_int': 6}}}\n",
      "\n",
      "Iteration: 16    Score: -4.446349694748248\n",
      "Configuration: {'my_bool': False, 'my_cat': 'c', 'ints_or_floats': {'floats': {'float1': 0.1560636947913302, 'float2': 2.0671111525827937}}}\n",
      "\n",
      "Iteration: 17    Score: 25\n",
      "Configuration: {'my_bool': False, 'my_cat': 'a', 'ints_or_floats': {'ints': {'my_int': 20, 'my_optional_int': 9}}}\n",
      "\n",
      "Iteration: 18    Score: -1.2415735248517834\n",
      "Configuration: {'my_bool': False, 'my_cat': 'c', 'ints_or_floats': {'floats': {'float1': 0.008052196937165992, 'float2': 0.6127345654887257}}}\n",
      "\n",
      "Iteration: 19    Score: -3.0669886157165274\n",
      "Configuration: {'my_bool': False, 'my_cat': 'c', 'ints_or_floats': {'floats': {'float1': 0.01954242737452671, 'float2': 1.513951880483737}}}\n",
      "\n",
      "Iteration: 20    Score: -2.9457931656709526\n",
      "Configuration: {'my_bool': False, 'my_cat': 'c', 'ints_or_floats': {'floats': {'float1': 0.09901115470199828, 'float2': 1.373885428133478}}}\n",
      "\n",
      "Iteration: 21    Score: 22\n",
      "Configuration: {'my_bool': False, 'my_cat': 'c', 'ints_or_floats': {'ints': {'my_int': 20, 'my_optional_int': 4}}}\n",
      "\n",
      "Iteration: 22    Score: 17\n",
      "Configuration: {'my_bool': False, 'my_cat': 'c', 'ints_or_floats': {'ints': {'my_int': 19}}}\n",
      "\n",
      "Iteration: 23    Score: 21\n",
      "Configuration: {'my_bool': False, 'my_cat': 'b', 'ints_or_floats': {'ints': {'my_int': 20, 'my_optional_int': 3}}}\n",
      "\n",
      "Iteration: 24    Score: 17\n",
      "Configuration: {'my_bool': False, 'my_cat': 'c', 'ints_or_floats': {'ints': {'my_int': 19}}}\n",
      "\n",
      "Iteration: 25    Score: 16\n",
      "Configuration: {'my_bool': False, 'my_cat': 'a', 'ints_or_floats': {'ints': {'my_int': 12, 'my_optional_int': 8}}}\n",
      "\n",
      "Iteration: 26    Score: 20\n",
      "Configuration: {'my_bool': False, 'my_cat': 'c', 'ints_or_floats': {'ints': {'my_int': 13, 'my_optional_int': 9}}}\n",
      "\n",
      "Iteration: 27    Score: 19\n",
      "Configuration: {'my_bool': False, 'my_cat': 'a', 'ints_or_floats': {'ints': {'my_int': 13, 'my_optional_int': 10}}}\n",
      "\n",
      "Iteration: 28    Score: 30\n",
      "Configuration: {'my_bool': True, 'my_cat': 'c', 'ints_or_floats': {'ints': {'my_int': 20, 'my_optional_int': 2}}}\n",
      "\n",
      "Iteration: 29    Score: 35\n",
      "Configuration: {'my_bool': True, 'my_cat': 'c', 'ints_or_floats': {'ints': {'my_int': 19, 'my_optional_int': 8}}}\n",
      "\n",
      "Task Completed\n",
      "\n",
      "Best score: 35.0\n",
      "Best configuration: {'my_bool': True, 'my_cat': 'c', 'ints_or_floats': {'ints': {'my_int': 19, 'my_optional_int': 8}}}\n"
     ]
    }
   ],
   "source": [
    "best_result, best_configuration = task.run(scoring_function, max_iterations=50, score_threshold=32)\n",
    "print(f'Best score: {best_result.score}')\n",
    "print(f'Best configuration: {best_configuration.values}')"
   ]
  }
 ],
 "metadata": {
  "kernelspec": {
   "display_name": "Python 3",
   "language": "python",
   "name": "python3"
  },
  "language_info": {
   "codemirror_mode": {
    "name": "ipython",
    "version": 3
   },
   "file_extension": ".py",
   "mimetype": "text/x-python",
   "name": "python",
   "nbconvert_exporter": "python",
   "pygments_lexer": "ipython3",
   "version": "3.6.4"
  },
  "nav_menu": {},
  "toc": {
   "navigate_menu": true,
   "number_sections": false,
   "sideBar": true,
   "threshold": 6.0,
   "toc_cell": false,
   "toc_section_display": "block",
   "toc_window_display": false
  }
 },
 "nbformat": 4,
 "nbformat_minor": 2
}
