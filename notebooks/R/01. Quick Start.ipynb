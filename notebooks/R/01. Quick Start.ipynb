{
 "cells": [
  {
   "cell_type": "markdown",
   "metadata": {},
   "source": [
    "# OPTaaS Quick Start\n",
    "\n",
    "### <span style=\"color:red\">Note:</span> To run this notebook, you need an API Key. You can get one <a href=\"mailto:charles.brecque@mindfoundry.ai\">here</a>."
   ]
  },
  {
   "cell_type": "markdown",
   "metadata": {},
   "source": [
    "## Install the package"
   ]
  },
  {
   "cell_type": "code",
   "execution_count": null,
   "metadata": {},
   "outputs": [],
   "source": [
    "install.packages(\"devtools\")\n",
    "devtools::install_github(\"MindFoundry/optaas-r-client\")\n",
    "library(optaas.client)"
   ]
  },
  {
   "cell_type": "markdown",
   "metadata": {},
   "source": [
    "## Connect to OPTaaS using your API Key"
   ]
  },
  {
   "cell_type": "code",
   "execution_count": 5,
   "metadata": {},
   "outputs": [],
   "source": [
    "client <- OPTaaSClient$new(\"https://optaas.mindfoundry.ai\", \"Your OPTaaS API Key\")"
   ]
  },
  {
   "cell_type": "markdown",
   "metadata": {},
   "source": [
    "## Define your parameters"
   ]
  },
  {
   "cell_type": "code",
   "execution_count": 6,
   "metadata": {
    "scrolled": false
   },
   "outputs": [],
   "source": [
    "bool_param <- BoolParameter('my_bool')\n",
    "cat_param <- CategoricalParameter('my_cat', values=list('a', 'b', 'c'), default='c')\n",
    "\n",
    "int_param <- IntParameter('my_int', minimum=0, maximum=20)\n",
    "optional_int_param <- IntParameter('my_optional_int', minimum=-10, maximum=10, optional=TRUE)\n",
    "\n",
    "parameters <- list(\n",
    "    bool_param,\n",
    "    cat_param,\n",
    "    ChoiceParameter('ints_or_floats', choices=list(\n",
    "        GroupParameter('ints', items=list(int_param, optional_int_param)),\n",
    "        GroupParameter('floats', items=list(\n",
    "            FloatParameter('float1', minimum=0, maximum=1),\n",
    "            FloatParameter('float2', minimum=0.5, maximum=4.5)\n",
    "        ))\n",
    "    ))\n",
    ")"
   ]
  },
  {
   "cell_type": "markdown",
   "metadata": {},
   "source": [
    "## Define your scoring function\n",
    "\n",
    "The argument names in your scoring function must match the parameter names you defined above."
   ]
  },
  {
   "cell_type": "code",
   "execution_count": 7,
   "metadata": {},
   "outputs": [],
   "source": [
    "scoring_function <- function(my_bool, my_cat, ints_or_floats) {\n",
    "    score <- if (isTRUE(my_bool)) 5 else -5\n",
    "    score <- if (my_cat == 'a') score + 1 else score + 3\n",
    "    if (!is.null(ints_or_floats$ints)) {\n",
    "        score <- score + do.call(sum, ints_or_floats$ints)\n",
    "    } else {\n",
    "        score <- score * do.call(sum, ints_or_floats$floats)\n",
    "    }\n",
    "    score\n",
    "}"
   ]
  },
  {
   "cell_type": "markdown",
   "metadata": {},
   "source": [
    "## Create your Task"
   ]
  },
  {
   "cell_type": "code",
   "execution_count": 9,
   "metadata": {},
   "outputs": [],
   "source": [
    "task <- client$create_task(\n",
    "    title=\"Dummy task\",\n",
    "    parameters=parameters,\n",
    "    goal=\"min\",  # optional (default is \"max\")\n",
    "    min_known_score=-22, max_known_score=44  # optional\n",
    ")"
   ]
  },
  {
   "cell_type": "markdown",
   "metadata": {},
   "source": [
    "## Run your Task"
   ]
  },
  {
   "cell_type": "code",
   "execution_count": 10,
   "metadata": {
    "scrolled": false
   },
   "outputs": [
    {
     "name": "stdout",
     "output_type": "stream",
     "text": [
      "[1] \"Iteration: 1   Score: 8\"\n",
      "[1] \"Iteration: 2   Score: 8\"\n",
      "[1] \"Iteration: 3   Score: -6\"\n",
      "[1] \"Iteration: 4   Score: 12\"\n",
      "[1] \"Iteration: 5   Score: -14.1569653059746\"\n",
      "[1] \"Iteration: 6   Score: 8\"\n",
      "[1] \"Iteration: 7   Score: -4.44460902753463\"\n",
      "[1] \"Iteration: 8   Score: -3\"\n",
      "[1] \"Iteration: 9   Score: 16\"\n",
      "[1] \"Iteration: 10   Score: -14.8980253231124\"\n",
      "[1] \"Iteration: 11   Score: 21.8485747749646\"\n",
      "[1] \"Iteration: 12   Score: -15.3696042580995\"\n",
      "[1] \"Iteration: 13   Score: 28.3611758835602\"\n",
      "[1] \"Iteration: 14   Score: -18.8378068272197\"\n",
      "[1] \"Iteration: 15   Score: -18.7707738645363\"\n",
      "[1] \"Iteration: 16   Score: -18.8109038759233\"\n",
      "[1] \"Iteration: 17   Score: -18.0487170869439\"\n",
      "[1] \"Iteration: 18   Score: -18.0385126466368\"\n",
      "[1] \"Iteration: 19   Score: -18.5484304096542\"\n",
      "[1] \"Iteration: 20   Score: -18.2283884619893\"\n",
      "$id\n",
      "[1] 1865\n",
      "\n",
      "$configuration\n",
      "$configuration$id\n",
      "[1] \"ed60ddf1-945d-4728-b049-bb066704a4c4\"\n",
      "\n",
      "$configuration$`_links`\n",
      "$configuration$`_links`$self\n",
      "$configuration$`_links`$self$href\n",
      "[1] \"/api/v1/tasks/f13bf1bc-a12d-46e3-b2b9-1bd7ad1a3f06/configurations/ed60ddf1-945d-4728-b049-bb066704a4c4\"\n",
      "\n",
      "\n",
      "$configuration$`_links`$results\n",
      "$configuration$`_links`$results$href\n",
      "[1] \"/api/v1/tasks/f13bf1bc-a12d-46e3-b2b9-1bd7ad1a3f06/configurations/ed60ddf1-945d-4728-b049-bb066704a4c4/results\"\n",
      "\n",
      "\n",
      "\n",
      "$configuration$values\n",
      "$configuration$values$my_bool\n",
      "[1] FALSE\n",
      "\n",
      "$configuration$values$my_cat\n",
      "[1] \"a\"\n",
      "\n",
      "$configuration$values$ints_or_floats\n",
      "$configuration$values$ints_or_floats$floats\n",
      "$configuration$values$ints_or_floats$floats$float1\n",
      "[1] 0.2439495\n",
      "\n",
      "$configuration$values$ints_or_floats$floats$float2\n",
      "[1] 4.465502\n",
      "\n",
      "\n",
      "\n",
      "\n",
      "$configuration$type\n",
      "[1] \"exploitation\"\n",
      "\n",
      "\n",
      "$datePosted\n",
      "[1] \"2018-09-14T14:50:08+00:00\"\n",
      "\n",
      "$`_links`\n",
      "$`_links`$self\n",
      "$`_links`$self$href\n",
      "[1] \"/api/v1/tasks/f13bf1bc-a12d-46e3-b2b9-1bd7ad1a3f06/results/1865\"\n",
      "\n",
      "\n",
      "$`_links`$configuration\n",
      "$`_links`$configuration$href\n",
      "[1] \"/api/v1/tasks/f13bf1bc-a12d-46e3-b2b9-1bd7ad1a3f06/configurations/ed60ddf1-945d-4728-b049-bb066704a4c4\"\n",
      "\n",
      "\n",
      "\n",
      "$score\n",
      "[1] -18.8378\n",
      "\n",
      "$variance\n",
      "[1] 0\n",
      "\n"
     ]
    }
   ],
   "source": [
    "best_result <- task$run(scoring_function=scoring_function, number_of_iterations=20)\n",
    "print(best_result)"
   ]
  }
 ],
 "metadata": {
  "kernelspec": {
   "display_name": "R",
   "language": "R",
   "name": "ir"
  },
  "language_info": {
   "codemirror_mode": "r",
   "file_extension": ".r",
   "mimetype": "text/x-r-source",
   "name": "R",
   "pygments_lexer": "r",
   "version": "3.5.1"
  },
  "nav_menu": {},
  "toc": {
   "navigate_menu": true,
   "number_sections": false,
   "sideBar": true,
   "threshold": 6,
   "toc_cell": false,
   "toc_section_display": "block",
   "toc_window_display": false
  }
 },
 "nbformat": 4,
 "nbformat_minor": 2
}
