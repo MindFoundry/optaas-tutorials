{
 "cells": [
  {
   "cell_type": "markdown",
   "metadata": {},
   "source": [
    "# OPTaaS Quick Start\n",
    "\n",
    "### <span style=\"color:red\">Note:</span> To run this notebook, you need an API Key. You can get one <a href=\"mailto:charles.brecque@mindfoundry.ai\">here</a>."
   ]
  },
  {
   "cell_type": "markdown",
   "metadata": {},
   "source": [
    "## Connect to OPTaaS using your API Key"
   ]
  },
  {
   "cell_type": "code",
   "execution_count": 1,
   "metadata": {},
   "outputs": [],
   "source": [
    "library(optaas.client)\n",
    "\n",
    "client <- OPTaaSClient$new(\"https://optaas.mindfoundry.ai\", \"Your OPTaaS API Key\")"
   ]
  },
  {
   "cell_type": "markdown",
   "metadata": {},
   "source": [
    "## Define your parameters"
   ]
  },
  {
   "cell_type": "code",
   "execution_count": 2,
   "metadata": {
    "scrolled": false
   },
   "outputs": [],
   "source": [
    "parameters <- list(\n",
    "    BoolParameter('my_bool'),\n",
    "    CategoricalParameter('my_cat', values=list('a', 'b', 'c'), default='c'),\n",
    "    ChoiceParameter('ints_or_floats', choices=list(\n",
    "        GroupParameter('ints', items=list(\n",
    "            IntParameter('my_int', minimum=0, maximum=20),\n",
    "            IntParameter('my_optional_int', minimum=-10, maximum=10, optional=TRUE)\n",
    "        )),\n",
    "        GroupParameter('floats', items=list(\n",
    "            FloatParameter('float1', minimum=0, maximum=1),\n",
    "            FloatParameter('float2', minimum=0.5, maximum=4.5)\n",
    "        ))\n",
    "    ))\n",
    ")"
   ]
  },
  {
   "cell_type": "markdown",
   "metadata": {},
   "source": [
    "## Define your scoring function\n",
    "\n",
    "The argument names in your scoring function must match the parameter names you defined above."
   ]
  },
  {
   "cell_type": "code",
   "execution_count": 3,
   "metadata": {},
   "outputs": [],
   "source": [
    "scoring_function <- function(my_bool, my_cat, ints_or_floats) {\n",
    "    score <- if (isTRUE(my_bool)) 5 else -5\n",
    "    score <- if (my_cat == 'a') score + 1 else score + 3\n",
    "    if (!is.null(ints_or_floats$ints)) {\n",
    "        score <- score + do.call(sum, ints_or_floats$ints)\n",
    "    } else {\n",
    "        score <- score * do.call(sum, ints_or_floats$floats)\n",
    "    }\n",
    "    score\n",
    "}"
   ]
  },
  {
   "cell_type": "markdown",
   "metadata": {},
   "source": [
    "## Create your Task"
   ]
  },
  {
   "cell_type": "code",
   "execution_count": 4,
   "metadata": {},
   "outputs": [],
   "source": [
    "task <- client$create_task(\n",
    "    title=\"Dummy task\",\n",
    "    parameters=parameters,\n",
    "    goal=\"min\",  # optional (default is \"max\")\n",
    "    min_known_score=-22, max_known_score=44  # optional\n",
    ")"
   ]
  },
  {
   "cell_type": "markdown",
   "metadata": {},
   "source": [
    "## Run your Task"
   ]
  },
  {
   "cell_type": "code",
   "execution_count": 5,
   "metadata": {
    "scrolled": false
   },
   "outputs": [
    {
     "name": "stdout",
     "output_type": "stream",
     "text": [
      "[1] \"Iteration: 1   Score: 8\"\n",
      "[1] \"Iteration: 2   Score: -6\"\n",
      "[1] \"Iteration: 3   Score: 8\"\n",
      "[1] \"Iteration: 4   Score: 11\"\n",
      "[1] \"Iteration: 5   Score: 14\"\n",
      "[1] \"Iteration: 6   Score: -5.67974962470235\"\n",
      "[1] \"Iteration: 7   Score: -9\"\n",
      "[1] \"Iteration: 8   Score: -10.2342840194121\"\n",
      "[1] \"Iteration: 9   Score: 17.9309452036351\"\n",
      "[1] \"Iteration: 10   Score: 28\"\n",
      "[1] \"Iteration: 11   Score: -3.71144029257866\"\n",
      "[1] \"Iteration: 12   Score: -6.79407605413269\"\n",
      "[1] \"Iteration: 13   Score: 8\"\n",
      "[1] \"Iteration: 14   Score: 13.9716469365809\"\n",
      "[1] \"Iteration: 15   Score: -4.85055097677501\"\n",
      "[1] \"Iteration: 16   Score: -9.44777782922238\"\n",
      "[1] \"Iteration: 17   Score: -5.8358581073926\"\n",
      "[1] \"Iteration: 18   Score: -2.65079383869822\"\n",
      "[1] \"Iteration: 19   Score: -11\"\n",
      "[1] \"Iteration: 20   Score: -10\"\n",
      "[1] \"Best Score: -11\"\n",
      "[1] \"with configuration:\"\n",
      "$my_bool\n",
      "[1] FALSE\n",
      "\n",
      "$my_cat\n",
      "[1] \"a\"\n",
      "\n",
      "$ints_or_floats\n",
      "$ints_or_floats$ints\n",
      "$ints_or_floats$ints$my_int\n",
      "[1] 0\n",
      "\n",
      "$ints_or_floats$ints$my_optional_int\n",
      "[1] -7\n",
      "\n",
      "\n",
      "\n"
     ]
    }
   ],
   "source": [
    "best_result <- task$run(scoring_function=scoring_function, number_of_iterations=20)\n",
    "\n",
    "print(paste(\"Best Score:\", best_result$score))\n",
    "print(\"with configuration:\")\n",
    "print(best_result$configuration$values)"
   ]
  }
 ],
 "metadata": {
  "kernelspec": {
   "display_name": "R",
   "language": "R",
   "name": "ir"
  },
  "language_info": {
   "codemirror_mode": "r",
   "file_extension": ".r",
   "mimetype": "text/x-r-source",
   "name": "R",
   "pygments_lexer": "r",
   "version": "3.4.1"
  },
  "nav_menu": {},
  "toc": {
   "navigate_menu": true,
   "number_sections": false,
   "sideBar": true,
   "threshold": 6,
   "toc_cell": false,
   "toc_section_display": "block",
   "toc_window_display": false
  }
 },
 "nbformat": 4,
 "nbformat_minor": 2
}
