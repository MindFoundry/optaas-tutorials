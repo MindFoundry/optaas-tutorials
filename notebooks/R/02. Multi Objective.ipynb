{
 "cells": [
  {
   "cell_type": "markdown",
   "metadata": {},
   "source": [
    "# OPTaaS Multi-Objective\n",
    "\n",
    "### <span style=\"color:red\">Note:</span> To run this notebook, you need an API Key. You can get one <a href=\"mailto:charles.brecque@mindfoundry.ai\">here</a>.\n",
    "\n",
    "OPTaaS can optimize multiple objectives within a single Task. Your scoring function should return a named list of scores for each objective.\n",
    "\n",
    "Please note: `ChoiceParameters` and any parameter with `optional=TRUE` are not currently supported for multi-objective tasks."
   ]
  },
  {
   "cell_type": "markdown",
   "metadata": {},
   "source": [
    "## Define your parameters and objectives\n",
    "We will use [this multi-objective optimization example](https://sop.tik.ee.ethz.ch/download/supplementary/testproblems/dtlz2/index.php#Formulation):"
   ]
  },
  {
   "cell_type": "code",
   "execution_count": 1,
   "metadata": {
    "scrolled": false
   },
   "outputs": [],
   "source": [
    "library(optaas.client)\n",
    "\n",
    "parameters <- list(\n",
    "    FloatParameter('x1', minimum=0, maximum=1),\n",
    "    FloatParameter('x2', minimum=0, maximum=1)\n",
    ")\n",
    "\n",
    "objectives <- list(\n",
    "    Objective(id=\"f1\", goal=\"max\"),  # or goal=\"min\" as appropriate\n",
    "    Objective(id=\"f2\", goal=\"max\")   # you can also specify min_known_score and max_known_score\n",
    ")\n",
    "\n",
    "scoring_function <- function(x1, x2) {\n",
    "    g <- ((x1 - 0.5) ** 2) + ((x2 - 0.5) ** 2)\n",
    "    x1_pi2 <- x1 * pi / 2\n",
    "    f1 = (1 + g) * cos(x1_pi2)\n",
    "    f2 = (1 + g) * sin(x1_pi2)\n",
    "    list(f1=f1, f2=f2)\n",
    "}"
   ]
  },
  {
   "cell_type": "markdown",
   "metadata": {},
   "source": [
    "## Connect to OPTaaS using your API Key"
   ]
  },
  {
   "cell_type": "code",
   "execution_count": 2,
   "metadata": {},
   "outputs": [],
   "source": [
    "client <- OPTaaSClient$new(\"https://optaas.mindfoundry.ai\", \"Your OPTaaS API Key\")"
   ]
  },
  {
   "cell_type": "markdown",
   "metadata": {},
   "source": [
    "## Create your Task"
   ]
  },
  {
   "cell_type": "code",
   "execution_count": 3,
   "metadata": {},
   "outputs": [],
   "source": [
    "task <- client$create_task(\n",
    "    title=\"Multi-objective Example\",\n",
    "    parameters=parameters,\n",
    "    objectives=objectives,\n",
    "    initial_configurations=4\n",
    ")"
   ]
  },
  {
   "cell_type": "markdown",
   "metadata": {},
   "source": [
    "## Run your Task\n",
    "At the end we will retrieve the set of Pareto front Results. These are the Results where, for each objective, the score cannot be improved without reducing the score for another objective."
   ]
  },
  {
   "cell_type": "code",
   "execution_count": 4,
   "metadata": {
    "scrolled": false
   },
   "outputs": [
    {
     "name": "stdout",
     "output_type": "stream",
     "text": [
      "[1] \"Iteration: 1   Score: f1=0.707106781186548, f2=0.707106781186547\"\n",
      "[1] \"Iteration: 2   Score: f1=1.0393644740752, f2=0.430518861410726\"\n",
      "[1] \"Iteration: 3   Score: f1=0.430518861410726, f2=1.0393644740752\"\n",
      "[1] \"Iteration: 4   Score: f1=0.857453037687, f2=0.572931802801465\"\n",
      "[1] \"Iteration: 5   Score: f1=4.71238886255462e-08, f2=1.49999996\"\n",
      "[1] \"Iteration: 6   Score: f1=1.5, f2=0\"\n",
      "[1] \"Iteration: 7   Score: f1=4.71238892538648e-08, f2=1.49999998\"\n",
      "[1] \"Iteration: 8   Score: f1=1.49999998, f2=0\"\n",
      "[1] \"Iteration: 9   Score: f1=0.749764108075161, f2=1.01115489688827\"\n",
      "[1] \"Iteration: 10   Score: f1=1.29501004722847, f2=0\"\n",
      "[1] \"Iteration: 11   Score: f1=1.26100661932729, f2=0.433841420194317\"\n",
      "[1] \"Iteration: 12   Score: f1=1.02569520934397, f2=0.733497937723559\"\n",
      "[1] \"Iteration: 13   Score: f1=0.612021192334396, f2=1.12843337184701\"\n",
      "[1] \"Iteration: 14   Score: f1=0.924152745465075, f2=0.842958158006802\"\n",
      "[1] \"Iteration: 15   Score: f1=1.34931704106371, f2=0.296037004233001\"\n",
      "[1] \"Iteration: 16   Score: f1=0.38640816048298, f2=1.29277233092156\"\n",
      "[1] \"Iteration: 17   Score: f1=1.48539267372134, f2=0.0336834257781433\"\n",
      "[1] \"Iteration: 18   Score: f1=0.384531768616176, f2=1.27627106420948\"\n",
      "[1] \"Iteration: 19   Score: f1=1.08471888596999, f2=0.665195628408181\"\n",
      "[1] \"Iteration: 20   Score: f1=4.4631307711914e-08, f2=1.42065864543968\"\n"
     ]
    }
   ],
   "source": [
    "pareto_set <- task$run(scoring_function=scoring_function, number_of_iterations=20)"
   ]
  },
  {
   "cell_type": "markdown",
   "metadata": {},
   "source": [
    "## Plot the Pareto front\n",
    "Points in blue represent all the evaluated Results. The red line represents the Pareto front."
   ]
  },
  {
   "cell_type": "code",
   "execution_count": 5,
   "metadata": {},
   "outputs": [
    {
     "data": {
      "image/png": "[encoded data removed]",
      "text/plain": [
       "plot without title"
      ]
     },
     "metadata": {},
     "output_type": "display_data"
    }
   ],
   "source": [
    "all_results <- task$get_results()\n",
    "f1 <- lapply(all_results, function(result) {result$score$f1})\n",
    "f2 <- lapply(all_results, function(result) {result$score$f2})\n",
    "plot(f1, f2, col=\"blue\")\n",
    "\n",
    "ordered_pareto_set <- pareto_set[order(sapply(pareto_set, function(result) {result$score$f1}))]\n",
    "pareto_f1 <- lapply(ordered_pareto_set, function(result) {result$score$f1})\n",
    "pareto_f2 <- lapply(ordered_pareto_set, function(result) {result$score$f2})\n",
    "lines(pareto_f1, pareto_f2, col=\"red\")"
   ]
  }
 ],
 "metadata": {
  "kernelspec": {
   "display_name": "R",
   "language": "R",
   "name": "ir"
  },
  "language_info": {
   "codemirror_mode": "r",
   "file_extension": ".r",
   "mimetype": "text/x-r-source",
   "name": "R",
   "pygments_lexer": "r",
   "version": "3.4.1"
  },
  "nav_menu": {},
  "toc": {
   "navigate_menu": true,
   "number_sections": false,
   "sideBar": true,
   "threshold": 6,
   "toc_cell": false,
   "toc_section_display": "block",
   "toc_window_display": false
  }
 },
 "nbformat": 4,
 "nbformat_minor": 2
}
