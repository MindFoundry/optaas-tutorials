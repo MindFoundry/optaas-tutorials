{
 "cells": [
  {
   "cell_type": "markdown",
   "metadata": {},
   "source": [
    "# OPTaaS Multi-Objective\n",
    "\n",
    "### <span style=\"color:red\">Note:</span> To run this notebook, you need an API Key. You can get one <a href=\"mailto:charles.brecque@mindfoundry.ai\">here</a>.\n",
    "\n",
    "OPTaaS can optimize multiple objectives within a single Task. Your scoring function should return a named list of scores for each objective.\n",
    "\n",
    "Please note: `ChoiceParameters` and any parameter with `optional=TRUE` are not currently supported for multi-objective tasks."
   ]
  },
  {
   "cell_type": "markdown",
   "metadata": {},
   "source": [
    "## Define your parameters and objectives\n",
    "We will use [this multi-objective optimization example](https://sop.tik.ee.ethz.ch/download/supplementary/testproblems/dtlz2/index.php#Formulation):"
   ]
  },
  {
   "cell_type": "code",
   "execution_count": 2,
   "metadata": {
    "scrolled": false
   },
   "outputs": [],
   "source": [
    "library(optaas.client)\n",
    "\n",
    "parameters <- list(\n",
    "    FloatParameter('x1', minimum=0, maximum=1),\n",
    "    FloatParameter('x2', minimum=0, maximum=1)\n",
    ")\n",
    "\n",
    "objectives <- list(\n",
    "    Objective(id=\"f1\", goal=\"max\"),  # or goal=\"min\" as appropriate\n",
    "    Objective(id=\"f2\", goal=\"max\")   # you can also specify min_known_score and max_known_score\n",
    ")\n",
    "\n",
    "scoring_function = function(x1, x2) {\n",
    "    g <- ((x1 - 0.5) ** 2) + ((x2 - 0.5) ** 2)\n",
    "    x1_pi2 <- x1 * pi / 2\n",
    "    f1 = (1 + g) * cos(x1_pi2)\n",
    "    f2 = (1 + g) * sin(x1_pi2)\n",
    "    list(f1=f1, f2=f2)\n",
    "}"
   ]
  },
  {
   "cell_type": "markdown",
   "metadata": {},
   "source": [
    "## Connect to OPTaaS using your API Key"
   ]
  },
  {
   "cell_type": "code",
   "execution_count": 3,
   "metadata": {},
   "outputs": [],
   "source": [
    "client <- OPTaaSClient$new(\"https://optaas.mindfoundry.ai\", \"Your OPTaaS API Key\")"
   ]
  },
  {
   "cell_type": "markdown",
   "metadata": {},
   "source": [
    "## Create your Task"
   ]
  },
  {
   "cell_type": "code",
   "execution_count": 4,
   "metadata": {},
   "outputs": [],
   "source": [
    "task <- client$create_task(\n",
    "    title=\"Multi-objective Example\",\n",
    "    parameters=parameters,\n",
    "    objectives=objectives,\n",
    "    initial_configurations=4\n",
    ")"
   ]
  },
  {
   "cell_type": "markdown",
   "metadata": {},
   "source": [
    "## Run your Task"
   ]
  },
  {
   "cell_type": "code",
   "execution_count": 5,
   "metadata": {
    "scrolled": false
   },
   "outputs": [
    {
     "name": "stdout",
     "output_type": "stream",
     "text": [
      "[1] \"Iteration: 1   Score: f1=0.707106781186548, f2=0.707106781186547\"\n",
      "[1] \"Iteration: 2   Score: f1=0.430518861410726, f2=1.0393644740752\"\n",
      "[1] \"Iteration: 3   Score: f1=1.0393644740752, f2=0.430518861410726\"\n",
      "[1] \"Iteration: 4   Score: f1=0.857453037687, f2=0.572931802801465\"\n",
      "[1] \"Iteration: 5   Score: f1=1.5, f2=0\"\n",
      "[1] \"Iteration: 6   Score: f1=1.49999998, f2=0\"\n",
      "[1] \"Iteration: 7   Score: f1=1.25310096088711, f2=0\"\n",
      "[1] \"Iteration: 8   Score: f1=4.71238886255462e-08, f2=1.49999996\"\n",
      "[1] \"Iteration: 9   Score: f1=0.769116387612506, f2=0.993609833815864\"\n",
      "[1] \"Iteration: 10   Score: f1=1.37764783875322, f2=0.247382457950115\"\n",
      "[1] \"Iteration: 11   Score: f1=1.25199470741246, f2=0.446914797498054\"\n",
      "[1] \"Iteration: 12   Score: f1=4.71238892538648e-08, f2=1.49999998\"\n",
      "[1] \"Iteration: 13   Score: f1=0.892357492651295, f2=0.875380802301344\"\n",
      "[1] \"Iteration: 14   Score: f1=0.965141558368263, f2=0.799901729747778\"\n",
      "[1] \"Iteration: 15   Score: f1=1.0801549731692, f2=0.670614359134469\"\n",
      "[1] \"Iteration: 16   Score: f1=0.968017970990933, f2=0.796824871939413\"\n",
      "[1] \"Iteration: 17   Score: f1=0.903712096709903, f2=0.863897176361857\"\n",
      "[1] \"Iteration: 18   Score: f1=0.325090002137595, f2=1.33170044735131\"\n",
      "[1] \"Iteration: 19   Score: f1=1.15708549858757, f2=0.575825959860338\"\n",
      "[1] \"Iteration: 20   Score: f1=0.266060664963534, f2=1.36694393696605\"\n"
     ]
    }
   ],
   "source": [
    "task$run(scoring_function=scoring_function, number_of_iterations=20)"
   ]
  }
 ],
 "metadata": {
  "kernelspec": {
   "display_name": "R",
   "language": "R",
   "name": "ir"
  },
  "language_info": {
   "codemirror_mode": "r",
   "file_extension": ".r",
   "mimetype": "text/x-r-source",
   "name": "R",
   "pygments_lexer": "r",
   "version": "3.4.1"
  },
  "nav_menu": {},
  "toc": {
   "navigate_menu": true,
   "number_sections": false,
   "sideBar": true,
   "threshold": 6,
   "toc_cell": false,
   "toc_section_display": "block",
   "toc_window_display": false
  }
 },
 "nbformat": 4,
 "nbformat_minor": 2
}
