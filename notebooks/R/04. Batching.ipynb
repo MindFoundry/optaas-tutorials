{
 "cells": [
  {
   "cell_type": "markdown",
   "metadata": {},
   "source": [
    "# OPTaaS Batching\n",
    "\n",
    "### <span style=\"color:red\">Note:</span> To run this notebook, you need an API Key. You can get one <a href=\"mailto:charles.brecque@mindfoundry.ai\">here</a>.\n",
    "\n",
    "OPTaaS can facilitate parallel computation, where you generate a batch of configurations, pass them to a number of workers to calculate the results, and then store the results to get the next batch of configurations."
   ]
  },
  {
   "cell_type": "markdown",
   "metadata": {},
   "source": [
    "## Connect to OPTaaS using your API Key"
   ]
  },
  {
   "cell_type": "code",
   "execution_count": 1,
   "metadata": {},
   "outputs": [],
   "source": [
    "library(optaas.client)\n",
    "\n",
    "client <- OPTaaSClient$new(\"https://optaas.mindfoundry.ai\", \"Your OPTaaS API Key\")"
   ]
  },
  {
   "cell_type": "markdown",
   "metadata": {},
   "source": [
    "## Create your Task"
   ]
  },
  {
   "cell_type": "code",
   "execution_count": 2,
   "metadata": {},
   "outputs": [],
   "source": [
    "task <- client$create_task(\n",
    "    title=\"Batching Example\",\n",
    "    parameters=list(\n",
    "        FloatParameter('x', minimum = 0, maximum = 1),\n",
    "        FloatParameter('y', minimum = 0.1, maximum = 2)\n",
    "    )\n",
    ")"
   ]
  },
  {
   "cell_type": "markdown",
   "metadata": {},
   "source": [
    "## Set up your workers\n",
    "This is just a simple example of how you would pass a Configuration to a worker and get a Result back. Your process will of course likely be more complex!"
   ]
  },
  {
   "cell_type": "code",
   "execution_count": 3,
   "metadata": {},
   "outputs": [],
   "source": [
    "library(parallel)\n",
    "\n",
    "number_of_workers <- 4\n",
    "\n",
    "scoring_function <- function(configuration) {\n",
    "    x <- configuration$values[[\"x\"]]\n",
    "    y <- configuration$values[[\"y\"]]\n",
    "    Sys.sleep(1)  # Calculating score...\n",
    "    score <- (x * y) - (x / y)\n",
    "    list(configuration=configuration$id, score=score)\n",
    "}\n",
    "\n",
    "spin_off_workers_and_get_results <- function(configurations) {\n",
    "    mclapply(configurations, scoring_function)\n",
    "}"
   ]
  },
  {
   "cell_type": "markdown",
   "metadata": {},
   "source": [
    "## Generate the first batch of configurations"
   ]
  },
  {
   "cell_type": "code",
   "execution_count": 4,
   "metadata": {
    "scrolled": false
   },
   "outputs": [
    {
     "name": "stdout",
     "output_type": "stream",
     "text": [
      "[1] \"list(x = 0.5, y = 1.05)\"     \"list(x = 0.75, y = 0.575)\"  \n",
      "[3] \"list(x = 0.25, y = 1.525)\"   \"list(x = 0.375, y = 0.8125)\"\n"
     ]
    }
   ],
   "source": [
    "configurations <- task$generate_configurations(number_of_workers)\n",
    "print(paste(lapply(configurations, `[[`, \"values\")))"
   ]
  },
  {
   "cell_type": "markdown",
   "metadata": {},
   "source": [
    "## Record results to get the next batch of configurations\n",
    "\n",
    "The next batch will be the same size as the number of results you record."
   ]
  },
  {
   "cell_type": "code",
   "execution_count": 5,
   "metadata": {
    "scrolled": true
   },
   "outputs": [
    {
     "name": "stdout",
     "output_type": "stream",
     "text": [
      "[1] \"Batch 1\"\n",
      "[1] \"list(configuration = \\\"025151df-4967-4949-8cf9-ebd744d5cd24\\\", score = 0.0488095238095239)\"\n",
      "[2] \"list(configuration = \\\"ec7ab627-455f-42d3-bd2b-45cd3e307d43\\\", score = -0.873097826086957)\"\n",
      "[3] \"list(configuration = \\\"4bfe6632-7599-4fc0-aada-21da7a98c6d0\\\", score = 0.217315573770492)\" \n",
      "[4] \"list(configuration = \\\"564244e9-ebd3-4bde-a403-6c28767ae4c6\\\", score = -0.156850961538462)\"\n",
      "[1] \"Batch 2\"\n",
      "[1] \"list(configuration = \\\"d3b0d0b8-d4f5-45ba-9a57-b395572dcc6b\\\", score = 1.04573359929078)\"  \n",
      "[2] \"list(configuration = \\\"96166ed5-dcac-4d48-a582-152dc5c6bb95\\\", score = -1.64091435185185)\" \n",
      "[3] \"list(configuration = \\\"425d6ce4-50be-4d25-982d-8f1032b98d0a\\\", score = 0.0638501213592233)\"\n",
      "[4] \"list(configuration = \\\"aa9460ee-385c-48cb-a57f-70cda8d75bff\\\", score = -0.14019214527027)\" \n",
      "[1] \"Batch 3\"\n",
      "[1] \"list(configuration = \\\"c2419ee9-c899-4428-b973-198ed37cd84a\\\", score = 0.711827174429658)\"\n",
      "[2] \"list(configuration = \\\"764d6065-459a-46b7-a1ea-8c6afd09cd40\\\", score = -4.08063616071429)\"\n",
      "[3] \"list(configuration = \\\"1032a653-5bf8-4434-9571-8213012d1d2a\\\", score = 1.11662804494463)\" \n",
      "[4] \"list(configuration = \\\"7ab230c6-63f2-4f26-845d-e61e9b705dc8\\\", score = 1.499999945)\"      \n"
     ]
    }
   ],
   "source": [
    "for (batch in seq(1, 3)) {\n",
    "    results <- spin_off_workers_and_get_results(configurations)\n",
    "    print(paste(\"Batch\", batch))\n",
    "    print(paste(results))\n",
    "    flush.console()\n",
    "\n",
    "    configurations <- task$record_results(results)\n",
    "}"
   ]
  }
 ],
 "metadata": {
  "kernelspec": {
   "display_name": "R",
   "language": "R",
   "name": "ir"
  },
  "language_info": {
   "codemirror_mode": "r",
   "file_extension": ".r",
   "mimetype": "text/x-r-source",
   "name": "R",
   "pygments_lexer": "r",
   "version": "3.4.1"
  },
  "nav_menu": {},
  "toc": {
   "navigate_menu": true,
   "number_sections": false,
   "sideBar": true,
   "threshold": 6,
   "toc_cell": false,
   "toc_section_display": "block",
   "toc_window_display": false
  }
 },
 "nbformat": 4,
 "nbformat_minor": 2
}
