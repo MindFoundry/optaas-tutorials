{
 "cells": [
  {
   "cell_type": "markdown",
   "metadata": {},
   "source": [
    "# OPTaaS Scikit-learn Pipelines\n",
    "\n",
    "### <span style=\"color:red\">Note:</span> To run this notebook, you need an API Key. You can get one <a href=\"mailto:charles.brecque@mindfoundry.ai\">here</a>.\n",
    "\n",
    "Using the OPTaaS Python Client, you can optimize any scikit-learn pipeline. For each step or estimator in the pipeline, OPTaaS just needs to know what parameters to optimize and what constraints will apply to them.\n",
    "\n",
    "Your pipeline can even include **optional** steps (such as feature selection), **choice** steps (such as choosing between a set of classifiers) and **nested** pipelines.\n",
    "\n",
    "We have provided pre-defined parameters and constraints for some of the most widely used estimators, such as Random Forest and XGBoost. The example below demonstrates how to use them. See also our [tutorial on defining your own custom optimizable estimators](Custom Scikit-learn Estimators.ipynb)."
   ]
  },
  {
   "cell_type": "markdown",
   "metadata": {},
   "source": [
    "## Load your dataset\n",
    "\n",
    "We will run a classification pipeline using the German Credit Data available [here](https://newonlinecourses.science.psu.edu/stat857/node/215/). The data contains 1000 rows, with 20 feature columns and 1 target column which includes 2 classes."
   ]
  },
  {
   "cell_type": "code",
   "execution_count": 1,
   "metadata": {
    "scrolled": false
   },
   "outputs": [],
   "source": [
    "import pandas as pd\n",
    "\n",
    "data = pd.read_csv('../data/german_credit.csv')\n",
    "features = data[data.columns.drop(['Creditability'])]\n",
    "target = data['Creditability']"
   ]
  },
  {
   "cell_type": "markdown",
   "metadata": {},
   "source": [
    "## Create your OptimizablePipeline\n",
    "\n",
    "Our pipeline will include:\n",
    "\n",
    "- An optional feature selection step using PCA\n",
    "\n",
    "- A choice of classifier from: Random Forest, Extra Trees and Linear SVC"
   ]
  },
  {
   "cell_type": "code",
   "execution_count": 2,
   "metadata": {},
   "outputs": [],
   "source": [
    "from mindfoundry.optaas.client.sklearn_pipelines.estimators.pca import PCA\n",
    "from mindfoundry.optaas.client.sklearn_pipelines.estimators.ensemble import RandomForestClassifier, ExtraTreesClassifier\n",
    "from mindfoundry.optaas.client.sklearn_pipelines.estimators.svc import LinearSVC\n",
    "from mindfoundry.optaas.client.sklearn_pipelines.mixin import OptimizablePipeline, choice, optional_step\n",
    "\n",
    "optimizable_pipeline = OptimizablePipeline([\n",
    "    ('feature_selection', optional_step(PCA())),\n",
    "    ('classification', choice(\n",
    "        RandomForestClassifier(),\n",
    "        ExtraTreesClassifier(),\n",
    "        LinearSVC()\n",
    "    ))\n",
    "])"
   ]
  },
  {
   "cell_type": "markdown",
   "metadata": {},
   "source": [
    "## Connect to the OPTaaS server using your API Key\n",
    "\n",
    "We now create a client, and connect to the web service that will perform our optimization. You will need to input your personal API key. Make sure you keep your key private and don't commit it to your version control system. "
   ]
  },
  {
   "cell_type": "code",
   "execution_count": 3,
   "metadata": {},
   "outputs": [],
   "source": [
    "from mindfoundry.optaas.client.client import OPTaaSClient\n",
    "\n",
    "client = OPTaaSClient('https://optaas.mindfoundry.ai', '<Your OPTaaS API key>')"
   ]
  },
  {
   "cell_type": "markdown",
   "metadata": {},
   "source": [
    "## Create your Sklearn Task\n",
    "\n",
    "We don't need to worry about specifying all the parameters and constraints - they are generated based on our OptimizablePipeline. Sometimes we will need to provide additional kwargs, e.g. `feature_count` which is required by PCA.\n",
    "\n",
    "If we do need to optimize any additional parameters that are outside of our pipeline, we can include them in `additional_parameters` and `additional_constraints`."
   ]
  },
  {
   "cell_type": "code",
   "execution_count": 4,
   "metadata": {},
   "outputs": [
    {
     "data": {
      "text/plain": [
       "[{'id': 'pipeline',\n",
       "  'items': [{'id': 'pipeline__feature_selection',\n",
       "    'items': [{'id': 'pipeline__feature_selection__n_components',\n",
       "      'maximum': 20,\n",
       "      'minimum': 1,\n",
       "      'name': 'n_components',\n",
       "      'type': 'integer'},\n",
       "     {'default': False,\n",
       "      'id': 'pipeline__feature_selection__whiten',\n",
       "      'name': 'whiten',\n",
       "      'type': 'boolean'}],\n",
       "    'name': 'feature_selection',\n",
       "    'optional': True,\n",
       "    'type': 'group'},\n",
       "   {'choices': [{'id': 'pipeline__classification__0',\n",
       "      'items': [{'default': 'auto',\n",
       "        'enum': ['auto', 'sqrt', 'log2'],\n",
       "        'id': 'pipeline__classification__0__max_features',\n",
       "        'name': 'max_features',\n",
       "        'type': 'categorical'},\n",
       "       {'default': 2,\n",
       "        'distribution': 'Uniform',\n",
       "        'id': 'pipeline__classification__0__min_samples_split',\n",
       "        'maximum': 20,\n",
       "        'minimum': 2,\n",
       "        'name': 'min_samples_split',\n",
       "        'type': 'integer'},\n",
       "       {'default': 1,\n",
       "        'id': 'pipeline__classification__0__min_samples_leaf',\n",
       "        'maximum': 20,\n",
       "        'minimum': 1,\n",
       "        'name': 'min_samples_leaf',\n",
       "        'type': 'integer'},\n",
       "       {'default': 'gini',\n",
       "        'enum': ['gini', 'entropy'],\n",
       "        'id': 'pipeline__classification__0__criterion',\n",
       "        'name': 'criterion',\n",
       "        'type': 'categorical'},\n",
       "       {'distribution': 'LogUniform',\n",
       "        'id': 'pipeline__classification__0__max_leaf_nodes',\n",
       "        'includeInDefault': False,\n",
       "        'maximum': 10000,\n",
       "        'minimum': 10,\n",
       "        'name': 'max_leaf_nodes',\n",
       "        'optional': True,\n",
       "        'type': 'integer'},\n",
       "       {'distribution': 'LogUniform',\n",
       "        'id': 'pipeline__classification__0__max_depth',\n",
       "        'includeInDefault': False,\n",
       "        'maximum': 100,\n",
       "        'minimum': 1,\n",
       "        'name': 'max_depth',\n",
       "        'optional': True,\n",
       "        'type': 'integer'},\n",
       "       {'default': 0.0,\n",
       "        'id': 'pipeline__classification__0__min_weight_fraction_leaf',\n",
       "        'maximum': 0.5,\n",
       "        'minimum': 0.0,\n",
       "        'name': 'min_weight_fraction_leaf',\n",
       "        'type': 'number'},\n",
       "       {'default': 0.0,\n",
       "        'id': 'pipeline__classification__0__min_impurity_decrease',\n",
       "        'maximum': 1,\n",
       "        'minimum': 0,\n",
       "        'name': 'min_impurity_decrease',\n",
       "        'type': 'number'},\n",
       "       {'default': True,\n",
       "        'id': 'pipeline__classification__0__bootstrap',\n",
       "        'name': 'bootstrap',\n",
       "        'type': 'boolean'},\n",
       "       {'default': 10,\n",
       "        'id': 'pipeline__classification__0__n_estimators',\n",
       "        'maximum': 500,\n",
       "        'minimum': 10,\n",
       "        'name': 'n_estimators',\n",
       "        'type': 'integer'}],\n",
       "      'name': '0',\n",
       "      'type': 'group'},\n",
       "     {'id': 'pipeline__classification__1',\n",
       "      'items': [{'default': 'auto',\n",
       "        'enum': ['auto', 'sqrt', 'log2'],\n",
       "        'id': 'pipeline__classification__1__max_features',\n",
       "        'name': 'max_features',\n",
       "        'type': 'categorical'},\n",
       "       {'default': 2,\n",
       "        'distribution': 'LogUniform',\n",
       "        'id': 'pipeline__classification__1__min_samples_split',\n",
       "        'maximum': 20,\n",
       "        'minimum': 2,\n",
       "        'name': 'min_samples_split',\n",
       "        'type': 'integer'},\n",
       "       {'default': 1,\n",
       "        'id': 'pipeline__classification__1__min_samples_leaf',\n",
       "        'maximum': 20,\n",
       "        'minimum': 1,\n",
       "        'name': 'min_samples_leaf',\n",
       "        'type': 'integer'},\n",
       "       {'default': 'gini',\n",
       "        'enum': ['gini', 'entropy'],\n",
       "        'id': 'pipeline__classification__1__criterion',\n",
       "        'name': 'criterion',\n",
       "        'type': 'categorical'},\n",
       "       {'distribution': 'LogUniform',\n",
       "        'id': 'pipeline__classification__1__max_leaf_nodes',\n",
       "        'includeInDefault': False,\n",
       "        'maximum': 10000,\n",
       "        'minimum': 10,\n",
       "        'name': 'max_leaf_nodes',\n",
       "        'optional': True,\n",
       "        'type': 'integer'},\n",
       "       {'distribution': 'Uniform',\n",
       "        'id': 'pipeline__classification__1__max_depth',\n",
       "        'includeInDefault': False,\n",
       "        'maximum': 100,\n",
       "        'minimum': 1,\n",
       "        'name': 'max_depth',\n",
       "        'optional': True,\n",
       "        'type': 'integer'},\n",
       "       {'default': 0.0,\n",
       "        'id': 'pipeline__classification__1__min_weight_fraction_leaf',\n",
       "        'maximum': 0.5,\n",
       "        'minimum': 0.0,\n",
       "        'name': 'min_weight_fraction_leaf',\n",
       "        'type': 'number'},\n",
       "       {'default': 0.0,\n",
       "        'id': 'pipeline__classification__1__min_impurity_decrease',\n",
       "        'maximum': 1,\n",
       "        'minimum': 0,\n",
       "        'name': 'min_impurity_decrease',\n",
       "        'type': 'number'},\n",
       "       {'default': False,\n",
       "        'id': 'pipeline__classification__1__bootstrap',\n",
       "        'name': 'bootstrap',\n",
       "        'type': 'boolean'},\n",
       "       {'default': 10,\n",
       "        'id': 'pipeline__classification__1__n_estimators',\n",
       "        'maximum': 500,\n",
       "        'minimum': 10,\n",
       "        'name': 'n_estimators',\n",
       "        'type': 'integer'}],\n",
       "      'name': '1',\n",
       "      'type': 'group'},\n",
       "     {'id': 'pipeline__classification__2',\n",
       "      'items': [{'default': 1.0,\n",
       "        'distribution': 'LogUniform',\n",
       "        'id': 'pipeline__classification__2__C',\n",
       "        'maximum': 5.0,\n",
       "        'minimum': 0.2,\n",
       "        'name': 'C',\n",
       "        'type': 'number'},\n",
       "       {'default': 0.0001,\n",
       "        'id': 'pipeline__classification__2__tol',\n",
       "        'maximum': 1,\n",
       "        'minimum': 5e-324,\n",
       "        'name': 'tol',\n",
       "        'type': 'number'},\n",
       "       {'id': 'pipeline__classification__2__class_weight',\n",
       "        'includeInDefault': False,\n",
       "        'name': 'class_weight',\n",
       "        'optional': True,\n",
       "        'type': 'constant',\n",
       "        'value': 'balanced'}],\n",
       "      'name': '2',\n",
       "      'type': 'group'}],\n",
       "    'id': 'classification',\n",
       "    'name': 'classification',\n",
       "    'type': 'choice'}],\n",
       "  'name': 'pipeline',\n",
       "  'type': 'group'},\n",
       " {'id': '2115677954960',\n",
       "  'items': [{'id': 'extra',\n",
       "    'maximum': 10,\n",
       "    'minimum': 0,\n",
       "    'name': 'extra',\n",
       "    'type': 'integer'}],\n",
       "  'name': 'additional',\n",
       "  'type': 'group'}]"
      ]
     },
     "metadata": {},
     "output_type": "display_data"
    },
    {
     "data": {
      "text/plain": [
       "['#extra != 7']"
      ]
     },
     "metadata": {},
     "output_type": "display_data"
    }
   ],
   "source": [
    "from mindfoundry.optaas.client.parameter import IntParameter\n",
    "from mindfoundry.optaas.client.constraint import Constraint\n",
    "\n",
    "my_extra_param = IntParameter('extra', id='extra', minimum=0, maximum=10)\n",
    "my_extra_constraint = Constraint(my_extra_param != 7)\n",
    "\n",
    "task = client.create_sklearn_task(\n",
    "    title='My Sklearn Task', \n",
    "    pipeline=optimizable_pipeline,\n",
    "    feature_count=len(features.columns),\n",
    "    additional_parameters=[my_extra_param],\n",
    "    additional_constraints=[my_extra_constraint],\n",
    "    target_score=1.0  # optional: this is the best possible score\n",
    ")\n",
    "\n",
    "display(task.parameters)\n",
    "display(task.constraints)"
   ]
  },
  {
   "cell_type": "markdown",
   "metadata": {},
   "source": [
    "## Define your scoring function\n",
    "\n",
    "We define a function to run our pipeline and calculate the mean score:"
   ]
  },
  {
   "cell_type": "code",
   "execution_count": 5,
   "metadata": {
    "scrolled": true
   },
   "outputs": [],
   "source": [
    "from sklearn.model_selection import cross_val_score\n",
    "\n",
    "def scoring_function(pipeline):\n",
    "    scores = cross_val_score(pipeline, features, target, scoring='f1_micro')\n",
    "    mean_score = scores.mean()\n",
    "    return mean_score"
   ]
  },
  {
   "cell_type": "markdown",
   "metadata": {},
   "source": [
    "## Run your task\n",
    "\n",
    "We run the task for 20 iterations and review the results:"
   ]
  },
  {
   "cell_type": "code",
   "execution_count": 6,
   "metadata": {
    "scrolled": false
   },
   "outputs": [
    {
     "name": "stdout",
     "output_type": "stream",
     "text": [
      "Running task \"My Sklearn Task\" for 20 iterations\n",
      "(or until target score 1.0 is reached)\n",
      "\n",
      "Iteration: 0    Score: 0.7199894505283727\n",
      "Configuration: {'pipeline': {'classification': {'1': {'max_features': 'auto', 'min_samples_split': 2, 'min_samples_leaf': 1, 'criterion': 'gini', 'min_weight_fraction_leaf': 0.0, 'min_impurity_decrease': 0.0, 'bootstrap': False, 'n_estimators': 10, 'max_leaf_nodes': 5005}}}, 'additional': {'extra': 5}}\n",
      "\n",
      "Iteration: 1    Score: 0.699999400598203\n",
      "Configuration: {'pipeline': {'feature_selection': {'n_components': 20, 'whiten': False}, 'classification': {'1': {'max_features': 'sqrt', 'min_samples_split': 16, 'min_samples_leaf': 18, 'criterion': 'gini', 'min_weight_fraction_leaf': 0.44651697131142454, 'min_impurity_decrease': 0.6861079739913084, 'bootstrap': False, 'n_estimators': 248}}}, 'additional': {'extra': 6}}\n",
      "\n",
      "Iteration: 2    Score: 0.699999400598203\n",
      "Configuration: {'pipeline': {'feature_selection': {'n_components': 19, 'whiten': False}, 'classification': {'1': {'max_features': 'auto', 'min_samples_split': 19, 'min_samples_leaf': 18, 'criterion': 'entropy', 'min_weight_fraction_leaf': 0.2897316679099367, 'min_impurity_decrease': 0.675158008378842, 'bootstrap': False, 'n_estimators': 320, 'max_leaf_nodes': 28}}}, 'additional': {'extra': 8}}\n",
      "\n",
      "Iteration: 3    Score: 0.699999400598203\n",
      "Configuration: {'pipeline': {'classification': {'1': {'max_features': 'sqrt', 'min_samples_split': 10, 'min_samples_leaf': 19, 'criterion': 'entropy', 'min_weight_fraction_leaf': 0.07803382328835728, 'min_impurity_decrease': 0.9388229784078097, 'bootstrap': True, 'n_estimators': 22, 'max_depth': 50}}}, 'additional': {'extra': 9}}\n",
      "\n",
      "Iteration: 4    Score: 0.699999400598203\n",
      "Configuration: {'pipeline': {'classification': {'0': {'max_features': 'auto', 'min_samples_split': 5, 'min_samples_leaf': 5, 'criterion': 'entropy', 'min_weight_fraction_leaf': 0.09147552368485629, 'min_impurity_decrease': 0.5096439965910039, 'bootstrap': True, 'n_estimators': 216, 'max_leaf_nodes': 55}}}, 'additional': {'extra': 4}}\n",
      "\n",
      "Iteration: 5    Score: 0.7519795244346144\n",
      "Configuration: {'pipeline': {'feature_selection': {'n_components': 10, 'whiten': True}, 'classification': {'2': {'C': 2.4658897303086422, 'tol': 0.6558045375842664}}}, 'additional': {'extra': 0}}\n",
      "\n",
      "Iteration: 6    Score: 0.699999400598203\n",
      "Configuration: {'pipeline': {'classification': {'1': {'max_features': 'log2', 'min_samples_split': 4, 'min_samples_leaf': 20, 'criterion': 'entropy', 'min_weight_fraction_leaf': 0.0706514457783119, 'min_impurity_decrease': 0.9605541129620592, 'bootstrap': False, 'n_estimators': 233, 'max_leaf_nodes': 2834}}}, 'additional': {'extra': 8}}\n",
      "\n",
      "Iteration: 7    Score: 0.699999400598203\n",
      "Configuration: {'pipeline': {'classification': {'0': {'max_features': 'log2', 'min_samples_split': 20, 'min_samples_leaf': 2, 'criterion': 'entropy', 'min_weight_fraction_leaf': 0.42146235489520045, 'min_impurity_decrease': 0.9141423167959348, 'bootstrap': False, 'n_estimators': 285, 'max_depth': 2}}}, 'additional': {'extra': 9}}\n",
      "\n",
      "Iteration: 8    Score: 0.5928533323742905\n",
      "Configuration: {'pipeline': {'classification': {'2': {'C': 1.2695055181542394, 'tol': 0.98505512180664}}}, 'additional': {'extra': 6}}\n",
      "\n",
      "Iteration: 9    Score: 0.7109534684384983\n",
      "Configuration: {'pipeline': {'feature_selection': {'n_components': 13, 'whiten': True}, 'classification': {'2': {'C': 2.01429766302875, 'tol': 0.024677911316988155, 'class_weight': 'balanced'}}}, 'additional': {'extra': 5}}\n",
      "\n",
      "Iteration: 10    Score: 0.7139504774235313\n",
      "Configuration: {'pipeline': {'classification': {'0': {'max_features': 'auto', 'min_samples_split': 2, 'min_samples_leaf': 1, 'criterion': 'gini', 'min_weight_fraction_leaf': 0.0, 'min_impurity_decrease': 0.0, 'bootstrap': True, 'n_estimators': 10}}}, 'additional': {'extra': 5}}\n",
      "\n",
      "Iteration: 11    Score: 0.7049804295313278\n",
      "Configuration: {'pipeline': {'classification': {'0': {'max_features': 'auto', 'min_samples_split': 2, 'min_samples_leaf': 1, 'criterion': 'gini', 'min_weight_fraction_leaf': 0.0, 'min_impurity_decrease': 0.0, 'bootstrap': True, 'n_estimators': 10, 'max_leaf_nodes': 5005, 'max_depth': 50}}}, 'additional': {'extra': 5}}\n",
      "\n",
      "Iteration: 12    Score: 0.7429855004705305\n",
      "Configuration: {'pipeline': {'feature_selection': {'n_components': 7, 'whiten': True}, 'classification': {'2': {'C': 2.4658897303086422, 'tol': 0.6558045375842664}}}, 'additional': {'extra': 0}}\n",
      "\n",
      "Iteration: 13    Score: 0.704998411585238\n",
      "Configuration: {'pipeline': {'feature_selection': {'n_components': 4, 'whiten': True}, 'classification': {'2': {'C': 2.664862207651697, 'tol': 0.5084029125052859}}}, 'additional': {'extra': 2}}\n",
      "\n",
      "Iteration: 14    Score: 0.7459765154375934\n",
      "Configuration: {'pipeline': {'feature_selection': {'n_components': 9, 'whiten': True}, 'classification': {'2': {'C': 4.874106245184524, 'tol': 0.7769754122314314}}}, 'additional': {'extra': 1}}\n",
      "\n",
      "Iteration: 15    Score: 0.7579795364226501\n",
      "Configuration: {'pipeline': {'feature_selection': {'n_components': 10, 'whiten': True}, 'classification': {'2': {'C': 2.244152640591454, 'tol': 0.8195090173964242}}}, 'additional': {'extra': 2}}\n",
      "\n",
      "Iteration: 16    Score: 0.7539815264366162\n",
      "Configuration: {'pipeline': {'feature_selection': {'n_components': 9, 'whiten': True}, 'classification': {'2': {'C': 2.4658897303086422, 'tol': 0.6558045375842664}}}, 'additional': {'extra': 0}}\n",
      "\n",
      "Iteration: 17    Score: 0.7449875024725324\n",
      "Configuration: {'pipeline': {'feature_selection': {'n_components': 10, 'whiten': True}, 'classification': {'2': {'C': 3.334411609005889, 'tol': 0.7556572681006877}}}, 'additional': {'extra': 0}}\n",
      "\n",
      "Iteration: 18    Score: 0.7489825154495814\n",
      "Configuration: {'pipeline': {'feature_selection': {'n_components': 9, 'whiten': True}, 'classification': {'2': {'C': 2.839376361233951, 'tol': 0.7797552846191472}}}, 'additional': {'extra': 1}}\n",
      "\n",
      "Iteration: 19    Score: 0.682988377599156\n",
      "Configuration: {'pipeline': {'feature_selection': {'n_components': 10, 'whiten': False}, 'classification': {'2': {'C': 3.7946632296597187, 'tol': 0.8591032903397904}}}, 'additional': {'extra': 1}}\n",
      "\n",
      "Task Completed\n",
      "\n"
     ]
    },
    {
     "data": {
      "text/plain": [
       "'Best Score:'"
      ]
     },
     "metadata": {},
     "output_type": "display_data"
    },
    {
     "data": {
      "text/plain": [
       "0.7579795364226501"
      ]
     },
     "metadata": {},
     "output_type": "display_data"
    },
    {
     "data": {
      "text/plain": [
       "'Best Pipeline:'"
      ]
     },
     "metadata": {},
     "output_type": "display_data"
    },
    {
     "data": {
      "text/plain": [
       "Pipeline(memory=None,\n",
       "     steps=[('feature_selection', PCA(copy=True, iterated_power='auto', n_components=10, random_state=None,\n",
       "  svd_solver='auto', tol=0.0, whiten=True)), ('classification', LinearSVC(C=2.244152640591454, class_weight=None, dual=True,\n",
       "     fit_intercept=True, intercept_scaling=1, loss='squared_hinge',\n",
       "     max_iter=1000, multi_class='ovr', penalty='l2', random_state=None,\n",
       "     tol=0.8195090173964242, verbose=0))])"
      ]
     },
     "metadata": {},
     "output_type": "display_data"
    }
   ],
   "source": [
    "best_result, best_pipeline = task.run(scoring_function, 20)\n",
    "\n",
    "display('Best Score:', best_result.score)\n",
    "display('Best Pipeline:', best_pipeline)"
   ]
  }
 ],
 "metadata": {
  "kernelspec": {
   "display_name": "Python 3",
   "language": "python",
   "name": "python3"
  },
  "language_info": {
   "codemirror_mode": {
    "name": "ipython",
    "version": 3
   },
   "file_extension": ".py",
   "mimetype": "text/x-python",
   "name": "python",
   "nbconvert_exporter": "python",
   "pygments_lexer": "ipython3",
   "version": "3.6.4"
  },
  "nav_menu": {},
  "toc": {
   "navigate_menu": true,
   "number_sections": false,
   "sideBar": true,
   "threshold": 6.0,
   "toc_cell": false,
   "toc_section_display": "block",
   "toc_window_display": false
  }
 },
 "nbformat": 4,
 "nbformat_minor": 2
}
