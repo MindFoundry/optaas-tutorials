{
 "cells": [
  {
   "cell_type": "markdown",
   "metadata": {},
   "source": [
    "# OPTaaS Scikit-learn Pipelines\n",
    "\n",
    "### <span style=\"color:red\">Note:</span> To run this notebook, you need an API Key. You can get one <a href=\"mailto:charles.brecque@mindfoundry.ai\">here</a>.\n",
    "\n",
    "Using the OPTaaS Python Client, you can optimize any scikit-learn pipeline. For each step or estimator in the pipeline, OPTaaS just needs to know what parameters to optimize and what constraints will apply to them.\n",
    "\n",
    "Your pipeline can even include **optional** steps (such as feature selection), **choice** steps (such as choosing between a set of classifiers) and **nested** pipelines.\n",
    "\n",
    "We have provided pre-defined parameters and constraints for some of the most widely used estimators, such as Random Forest and XGBoost. The example below demonstrates how to use them. See also our [tutorial on defining your own custom optimizable estimators](Custom Scikit-learn Estimators.ipynb)."
   ]
  },
  {
   "cell_type": "markdown",
   "metadata": {},
   "source": [
    "## Load your dataset\n",
    "\n",
    "We will run a classification pipeline using the German Credit Data available [here](https://newonlinecourses.science.psu.edu/stat857/node/215/). The data contains 1000 rows, with 20 feature columns and 1 target column which includes 2 classes."
   ]
  },
  {
   "cell_type": "code",
   "execution_count": 1,
   "metadata": {
    "scrolled": false
   },
   "outputs": [],
   "source": [
    "import pandas as pd\n",
    "\n",
    "data = pd.read_csv('../data/german_credit.csv')\n",
    "features = data[data.columns.drop(['Creditability'])]\n",
    "target = data['Creditability']"
   ]
  },
  {
   "cell_type": "markdown",
   "metadata": {},
   "source": [
    "## Create your OptimizablePipeline\n",
    "\n",
    "Our pipeline will include:\n",
    "\n",
    "- An optional feature selection step using PCA\n",
    "\n",
    "- A choice of classifier from: Random Forest, Extra Trees and Linear SVC"
   ]
  },
  {
   "cell_type": "code",
   "execution_count": 2,
   "metadata": {},
   "outputs": [],
   "source": [
    "from mindfoundry.optaas.client.sklearn_pipelines.estimators.pca import PCA\n",
    "from mindfoundry.optaas.client.sklearn_pipelines.estimators.ensemble import RandomForestClassifier, ExtraTreesClassifier\n",
    "from mindfoundry.optaas.client.sklearn_pipelines.estimators.svc import LinearSVC\n",
    "from mindfoundry.optaas.client.sklearn_pipelines.mixin import OptimizablePipeline, choice, optional_step\n",
    "\n",
    "optimizable_pipeline = OptimizablePipeline([\n",
    "    ('feature_selection', optional_step(PCA())),\n",
    "    ('classification', choice(\n",
    "        RandomForestClassifier(),\n",
    "        ExtraTreesClassifier(),\n",
    "        LinearSVC()\n",
    "    ))\n",
    "])"
   ]
  },
  {
   "cell_type": "markdown",
   "metadata": {},
   "source": [
    "## Connect to the OPTaaS server using your API Key\n",
    "\n",
    "We now create a client, and connect to the web service that will perform our optimization. You will need to input your personal API key. Make sure you keep your key private and don't commit it to your version control system. "
   ]
  },
  {
   "cell_type": "code",
   "execution_count": 3,
   "metadata": {},
   "outputs": [],
   "source": [
    "from mindfoundry.optaas.client.client import OPTaaSClient\n",
    "\n",
    "client = OPTaaSClient('https://optaas.mindfoundry.ai', '<Your OPTaaS API key>')"
   ]
  },
  {
   "cell_type": "markdown",
   "metadata": {},
   "source": [
    "## Create your Sklearn Task\n",
    "\n",
    "We don't need to worry about specifying all the parameters and constraints - they are generated based on our OptimizablePipeline. Sometimes we will need to provide additional kwargs, e.g. `feature_count` which is required by PCA.\n",
    "\n",
    "If we do need to optimize any additional parameters that are outside of our pipeline, we can include them in `additional_parameters` and `additional_constraints`."
   ]
  },
  {
   "cell_type": "code",
   "execution_count": 4,
   "metadata": {},
   "outputs": [
    {
     "data": {
      "text/plain": [
       "[{'id': 'pipeline',\n",
       "  'name': 'pipeline',\n",
       "  'type': 'group',\n",
       "  'items': [{'id': 'pipeline__feature_selection',\n",
       "    'name': 'feature_selection',\n",
       "    'type': 'group',\n",
       "    'optional': True,\n",
       "    'items': [{'id': 'pipeline__feature_selection__n_components',\n",
       "      'name': 'n_components',\n",
       "      'type': 'integer',\n",
       "      'minimum': 1,\n",
       "      'maximum': 20},\n",
       "     {'id': 'pipeline__feature_selection__whiten',\n",
       "      'name': 'whiten',\n",
       "      'type': 'boolean',\n",
       "      'default': False}]},\n",
       "   {'id': 'classification',\n",
       "    'name': 'classification',\n",
       "    'type': 'choice',\n",
       "    'choices': [{'id': 'pipeline__classification__0',\n",
       "      'name': '0',\n",
       "      'type': 'group',\n",
       "      'items': [{'id': 'pipeline__classification__0__max_features',\n",
       "        'name': 'max_features',\n",
       "        'type': 'categorical',\n",
       "        'default': 'auto',\n",
       "        'enum': ['auto', 'sqrt', 'log2']},\n",
       "       {'id': 'pipeline__classification__0__min_samples_split',\n",
       "        'name': 'min_samples_split',\n",
       "        'type': 'integer',\n",
       "        'default': 2,\n",
       "        'minimum': 2,\n",
       "        'maximum': 20,\n",
       "        'distribution': 'Uniform'},\n",
       "       {'id': 'pipeline__classification__0__min_samples_leaf',\n",
       "        'name': 'min_samples_leaf',\n",
       "        'type': 'integer',\n",
       "        'default': 1,\n",
       "        'minimum': 1,\n",
       "        'maximum': 20},\n",
       "       {'id': 'pipeline__classification__0__criterion',\n",
       "        'name': 'criterion',\n",
       "        'type': 'categorical',\n",
       "        'default': 'gini',\n",
       "        'enum': ['gini', 'entropy']},\n",
       "       {'id': 'pipeline__classification__0__max_leaf_nodes',\n",
       "        'name': 'max_leaf_nodes',\n",
       "        'type': 'integer',\n",
       "        'optional': True,\n",
       "        'includeInDefault': False,\n",
       "        'minimum': 10,\n",
       "        'maximum': 10000,\n",
       "        'distribution': 'LogUniform'},\n",
       "       {'id': 'pipeline__classification__0__max_depth',\n",
       "        'name': 'max_depth',\n",
       "        'type': 'integer',\n",
       "        'optional': True,\n",
       "        'includeInDefault': False,\n",
       "        'minimum': 1,\n",
       "        'maximum': 100,\n",
       "        'distribution': 'LogUniform'},\n",
       "       {'id': 'pipeline__classification__0__min_weight_fraction_leaf',\n",
       "        'name': 'min_weight_fraction_leaf',\n",
       "        'type': 'number',\n",
       "        'default': 0.0,\n",
       "        'minimum': 0.0,\n",
       "        'maximum': 0.5},\n",
       "       {'id': 'pipeline__classification__0__min_impurity_decrease',\n",
       "        'name': 'min_impurity_decrease',\n",
       "        'type': 'number',\n",
       "        'default': 0.0,\n",
       "        'minimum': 0,\n",
       "        'maximum': 1},\n",
       "       {'id': 'pipeline__classification__0__bootstrap',\n",
       "        'name': 'bootstrap',\n",
       "        'type': 'boolean',\n",
       "        'default': True},\n",
       "       {'id': 'pipeline__classification__0__n_estimators',\n",
       "        'name': 'n_estimators',\n",
       "        'type': 'integer',\n",
       "        'default': 10,\n",
       "        'minimum': 10,\n",
       "        'maximum': 500}]},\n",
       "     {'id': 'pipeline__classification__1',\n",
       "      'name': '1',\n",
       "      'type': 'group',\n",
       "      'items': [{'id': 'pipeline__classification__1__max_features',\n",
       "        'name': 'max_features',\n",
       "        'type': 'categorical',\n",
       "        'default': 'auto',\n",
       "        'enum': ['auto', 'sqrt', 'log2']},\n",
       "       {'id': 'pipeline__classification__1__min_samples_split',\n",
       "        'name': 'min_samples_split',\n",
       "        'type': 'integer',\n",
       "        'default': 2,\n",
       "        'minimum': 2,\n",
       "        'maximum': 20,\n",
       "        'distribution': 'LogUniform'},\n",
       "       {'id': 'pipeline__classification__1__min_samples_leaf',\n",
       "        'name': 'min_samples_leaf',\n",
       "        'type': 'integer',\n",
       "        'default': 1,\n",
       "        'minimum': 1,\n",
       "        'maximum': 20},\n",
       "       {'id': 'pipeline__classification__1__criterion',\n",
       "        'name': 'criterion',\n",
       "        'type': 'categorical',\n",
       "        'default': 'gini',\n",
       "        'enum': ['gini', 'entropy']},\n",
       "       {'id': 'pipeline__classification__1__max_leaf_nodes',\n",
       "        'name': 'max_leaf_nodes',\n",
       "        'type': 'integer',\n",
       "        'optional': True,\n",
       "        'includeInDefault': False,\n",
       "        'minimum': 10,\n",
       "        'maximum': 10000,\n",
       "        'distribution': 'LogUniform'},\n",
       "       {'id': 'pipeline__classification__1__max_depth',\n",
       "        'name': 'max_depth',\n",
       "        'type': 'integer',\n",
       "        'optional': True,\n",
       "        'includeInDefault': False,\n",
       "        'minimum': 1,\n",
       "        'maximum': 100,\n",
       "        'distribution': 'Uniform'},\n",
       "       {'id': 'pipeline__classification__1__min_weight_fraction_leaf',\n",
       "        'name': 'min_weight_fraction_leaf',\n",
       "        'type': 'number',\n",
       "        'default': 0.0,\n",
       "        'minimum': 0.0,\n",
       "        'maximum': 0.5},\n",
       "       {'id': 'pipeline__classification__1__min_impurity_decrease',\n",
       "        'name': 'min_impurity_decrease',\n",
       "        'type': 'number',\n",
       "        'default': 0.0,\n",
       "        'minimum': 0,\n",
       "        'maximum': 1},\n",
       "       {'id': 'pipeline__classification__1__bootstrap',\n",
       "        'name': 'bootstrap',\n",
       "        'type': 'boolean',\n",
       "        'default': False},\n",
       "       {'id': 'pipeline__classification__1__n_estimators',\n",
       "        'name': 'n_estimators',\n",
       "        'type': 'integer',\n",
       "        'default': 10,\n",
       "        'minimum': 10,\n",
       "        'maximum': 500}]},\n",
       "     {'id': 'pipeline__classification__2',\n",
       "      'name': '2',\n",
       "      'type': 'group',\n",
       "      'items': [{'id': 'pipeline__classification__2__C',\n",
       "        'name': 'C',\n",
       "        'type': 'number',\n",
       "        'default': 1.0,\n",
       "        'minimum': 0.2,\n",
       "        'maximum': 5.0,\n",
       "        'distribution': 'LogUniform'},\n",
       "       {'id': 'pipeline__classification__2__tol',\n",
       "        'name': 'tol',\n",
       "        'type': 'number',\n",
       "        'default': 0.0001,\n",
       "        'minimum': 5e-324,\n",
       "        'maximum': 1},\n",
       "       {'id': 'pipeline__classification__2__class_weight',\n",
       "        'name': 'class_weight',\n",
       "        'type': 'constant',\n",
       "        'optional': True,\n",
       "        'includeInDefault': False,\n",
       "        'value': 'balanced'}]}]}]},\n",
       " {'id': '2381735962888',\n",
       "  'name': 'additional',\n",
       "  'type': 'group',\n",
       "  'items': [{'id': 'extra',\n",
       "    'name': 'extra',\n",
       "    'type': 'integer',\n",
       "    'minimum': 0,\n",
       "    'maximum': 10}]}]"
      ]
     },
     "metadata": {},
     "output_type": "display_data"
    },
    {
     "data": {
      "text/plain": [
       "['#extra != 7']"
      ]
     },
     "metadata": {},
     "output_type": "display_data"
    }
   ],
   "source": [
    "from mindfoundry.optaas.client.parameter import IntParameter\n",
    "from mindfoundry.optaas.client.constraint import Constraint\n",
    "\n",
    "my_extra_param = IntParameter('extra', id='extra', minimum=0, maximum=10)\n",
    "my_extra_constraint = Constraint(my_extra_param != 7)\n",
    "\n",
    "task = client.create_sklearn_task(\n",
    "    title='My Sklearn Task', \n",
    "    pipeline=optimizable_pipeline,\n",
    "    feature_count=len(features.columns),\n",
    "    additional_parameters=[my_extra_param],\n",
    "    additional_constraints=[my_extra_constraint],\n",
    "    target_score=1.0  # optional: this is the best possible score\n",
    ")\n",
    "\n",
    "display(task.parameters)\n",
    "display(task.constraints)"
   ]
  },
  {
   "cell_type": "markdown",
   "metadata": {},
   "source": [
    "## Define your scoring function\n",
    "\n",
    "We define a function to run our pipeline and calculate the mean score and variance:"
   ]
  },
  {
   "cell_type": "code",
   "execution_count": 5,
   "metadata": {
    "scrolled": true
   },
   "outputs": [],
   "source": [
    "from sklearn.model_selection import cross_val_score\n",
    "\n",
    "def scoring_function(pipeline):\n",
    "    scores = cross_val_score(pipeline, features, target, scoring='f1_micro')\n",
    "    return scores.mean(), scores.var()"
   ]
  },
  {
   "cell_type": "markdown",
   "metadata": {},
   "source": [
    "## Run your task\n",
    "\n",
    "We run the task for 20 iterations and review the results:"
   ]
  },
  {
   "cell_type": "code",
   "execution_count": 6,
   "metadata": {
    "scrolled": false
   },
   "outputs": [
    {
     "name": "stdout",
     "output_type": "stream",
     "text": [
      "Running task \"My Sklearn Task\" for 20 iterations\n",
      "(or until target score 1.0 is reached)\n",
      "\n",
      "Iteration: 0    Score: 0.683986381591172    Variance: 0.001729502436545314\n",
      "Configuration: {'pipeline': {'classification': {'1': {'max_features': 'auto', 'min_samples_split': 2, 'min_samples_leaf': 1, 'criterion': 'gini', 'min_weight_fraction_leaf': 0.0, 'min_impurity_decrease': 0.0, 'bootstrap': False, 'n_estimators': 10, 'max_depth': 50}}}, 'additional': {'extra': 5}}\n",
      "\n",
      "Iteration: 1    Score: 0.5279560998123872    Variance: 0.025975111220688823\n",
      "Configuration: {'pipeline': {'classification': {'2': {'C': 1.0, 'tol': 0.0001, 'class_weight': 'balanced'}}}, 'additional': {'extra': 5}}\n",
      "\n",
      "Iteration: 2    Score: 0.6939694185203168    Variance: 0.0024155072895950466\n",
      "Configuration: {'pipeline': {'feature_selection': {'n_components': 10, 'whiten': False}, 'classification': {'0': {'max_features': 'auto', 'min_samples_split': 2, 'min_samples_leaf': 1, 'criterion': 'gini', 'min_weight_fraction_leaf': 0.0, 'min_impurity_decrease': 0.0, 'bootstrap': True, 'n_estimators': 10, 'max_leaf_nodes': 5005}}}, 'additional': {'extra': 5}}\n",
      "\n",
      "Iteration: 3    Score: 0.7130064195932458    Variance: 0.001116295873601135\n",
      "Configuration: {'pipeline': {'feature_selection': {'n_components': 10, 'whiten': False}, 'classification': {'0': {'max_features': 'auto', 'min_samples_split': 2, 'min_samples_leaf': 1, 'criterion': 'gini', 'min_weight_fraction_leaf': 0.0, 'min_impurity_decrease': 0.0, 'bootstrap': True, 'n_estimators': 10}}}, 'additional': {'extra': 5}}\n",
      "\n",
      "Iteration: 4    Score: 0.7169624714534893    Variance: 0.0021485832318716906\n",
      "Configuration: {'pipeline': {'classification': {'1': {'max_features': 'auto', 'min_samples_split': 2, 'min_samples_leaf': 1, 'criterion': 'gini', 'min_weight_fraction_leaf': 0.0, 'min_impurity_decrease': 0.0, 'bootstrap': False, 'n_estimators': 10}}}, 'additional': {'extra': 5}}\n",
      "\n",
      "Iteration: 5    Score: 0.7149964335593079    Variance: 0.0022924296032428774\n",
      "Configuration: {'pipeline': {'classification': {'0': {'max_features': 'auto', 'min_samples_split': 2, 'min_samples_leaf': 1, 'criterion': 'gini', 'min_weight_fraction_leaf': 0.0, 'min_impurity_decrease': 0.0, 'bootstrap': True, 'n_estimators': 10, 'max_depth': 50}}}, 'additional': {'extra': 5}}\n",
      "\n",
      "Iteration: 6    Score: 0.6869863875851899    Variance: 0.0004308249323317091\n",
      "Configuration: {'pipeline': {'classification': {'2': {'C': 1.0, 'tol': 0.0001}}}, 'additional': {'extra': 5}}\n",
      "\n",
      "Iteration: 7    Score: 0.6949644255033477    Variance: 0.0018967991955860218\n",
      "Configuration: {'pipeline': {'feature_selection': {'n_components': 10, 'whiten': False}, 'classification': {'1': {'max_features': 'auto', 'min_samples_split': 2, 'min_samples_leaf': 1, 'criterion': 'gini', 'min_weight_fraction_leaf': 0.0, 'min_impurity_decrease': 0.0, 'bootstrap': False, 'n_estimators': 10, 'max_depth': 50}}}, 'additional': {'extra': 5}}\n",
      "\n",
      "Iteration: 8    Score: 0.7029544514574454    Variance: 0.0019767126806756376\n",
      "Configuration: {'pipeline': {'classification': {'0': {'max_features': 'auto', 'min_samples_split': 2, 'min_samples_leaf': 1, 'criterion': 'gini', 'min_weight_fraction_leaf': 0.0, 'min_impurity_decrease': 0.0, 'bootstrap': True, 'n_estimators': 10, 'max_leaf_nodes': 5005, 'max_depth': 50}}}, 'additional': {'extra': 5}}\n",
      "\n",
      "Iteration: 9    Score: 0.7079834325343307    Variance: 0.00043182934252856026\n",
      "Configuration: {'pipeline': {'feature_selection': {'n_components': 10, 'whiten': False}, 'classification': {'1': {'max_features': 'auto', 'min_samples_split': 2, 'min_samples_leaf': 1, 'criterion': 'gini', 'min_weight_fraction_leaf': 0.0, 'min_impurity_decrease': 0.0, 'bootstrap': False, 'n_estimators': 10}}}, 'additional': {'extra': 5}}\n",
      "\n",
      "Iteration: 10    Score: 0.699999400598203    Variance: 1.7964125712735343e-07\n",
      "Configuration: {'pipeline': {'classification': {'1': {'max_features': 'sqrt', 'min_samples_split': 12, 'min_samples_leaf': 1, 'criterion': 'entropy', 'min_weight_fraction_leaf': 0.09681331163138901, 'min_impurity_decrease': 0.9518034561905349, 'bootstrap': False, 'n_estimators': 138, 'max_leaf_nodes': 3617}}}, 'additional': {'extra': 0}}\n",
      "\n",
      "Iteration: 11    Score: 0.7179784574994156    Variance: 0.0005702156795664874\n",
      "Configuration: {'pipeline': {'feature_selection': {'n_components': 10, 'whiten': False}, 'classification': {'0': {'max_features': 'auto', 'min_samples_split': 2, 'min_samples_leaf': 1, 'criterion': 'gini', 'min_weight_fraction_leaf': 0.0, 'min_impurity_decrease': 0.0, 'bootstrap': True, 'n_estimators': 10, 'max_leaf_nodes': 5005, 'max_depth': 50}}}, 'additional': {'extra': 5}}\n",
      "\n",
      "Iteration: 12    Score: 0.6569893246539954    Variance: 0.00027341415502497743\n",
      "Configuration: {'pipeline': {'feature_selection': {'n_components': 15, 'whiten': False}, 'classification': {'2': {'C': 0.3305557674570109, 'tol': 0.06213846981921922}}}, 'additional': {'extra': 1}}\n",
      "\n",
      "Iteration: 13    Score: 0.7169864475253697    Variance: 0.0023779046379401453\n",
      "Configuration: {'pipeline': {'feature_selection': {'n_components': 10, 'whiten': False}, 'classification': {'1': {'max_features': 'auto', 'min_samples_split': 2, 'min_samples_leaf': 1, 'criterion': 'gini', 'min_weight_fraction_leaf': 0.0, 'min_impurity_decrease': 0.0, 'bootstrap': False, 'n_estimators': 10, 'max_depth': 50}}}, 'additional': {'extra': 5}}\n",
      "\n",
      "Iteration: 14    Score: 0.5070279860699022    Variance: 0.026978256761053285\n",
      "Configuration: {'pipeline': {'classification': {'2': {'C': 2.7415193891990812, 'tol': 0.0001}}}, 'additional': {'extra': 5}}\n",
      "\n",
      "Iteration: 15    Score: 0.7180024335712959    Variance: 0.0010986514195054605\n",
      "Configuration: {'pipeline': {'feature_selection': {'n_components': 10, 'whiten': False}, 'classification': {'1': {'max_features': 'auto', 'min_samples_split': 2, 'min_samples_leaf': 1, 'criterion': 'gini', 'min_weight_fraction_leaf': 0.0, 'min_impurity_decrease': 0.0, 'bootstrap': False, 'n_estimators': 10}}}, 'additional': {'extra': 5}}\n",
      "\n",
      "Iteration: 16    Score: 0.5742748736760713    Variance: 0.03783187706068599\n",
      "Configuration: {'pipeline': {'classification': {'2': {'C': 1.7125157915574418, 'tol': 0.0001}}}, 'additional': {'extra': 5}}\n",
      "\n",
      "Iteration: 17    Score: 0.7119754485023946    Variance: 0.0043655122015780375\n",
      "Configuration: {'pipeline': {'feature_selection': {'n_components': 10, 'whiten': False}, 'classification': {'0': {'max_features': 'auto', 'min_samples_split': 2, 'min_samples_leaf': 1, 'criterion': 'gini', 'min_weight_fraction_leaf': 0.0, 'min_impurity_decrease': 0.0, 'bootstrap': True, 'n_estimators': 10, 'max_leaf_nodes': 5005}}}, 'additional': {'extra': 5}}\n",
      "\n",
      "Iteration: 18    Score: 0.699999400598203    Variance: 1.7964125712735343e-07\n",
      "Configuration: {'pipeline': {'feature_selection': {'n_components': 14, 'whiten': True}, 'classification': {'0': {'max_features': 'log2', 'min_samples_split': 17, 'min_samples_leaf': 9, 'criterion': 'gini', 'min_weight_fraction_leaf': 0.39782743795969594, 'min_impurity_decrease': 0.6050334254192434, 'bootstrap': True, 'n_estimators': 388, 'max_depth': 74}}}, 'additional': {'extra': 3}}\n",
      "\n",
      "Iteration: 19    Score: 0.7109864355373338    Variance: 0.0015363846539853815\n",
      "Configuration: {'pipeline': {'classification': {'1': {'max_features': 'auto', 'min_samples_split': 2, 'min_samples_leaf': 1, 'criterion': 'gini', 'min_weight_fraction_leaf': 0.0, 'min_impurity_decrease': 0.0, 'bootstrap': False, 'n_estimators': 10, 'max_leaf_nodes': 5005}}}, 'additional': {'extra': 5}}\n",
      "\n",
      "Task Completed\n",
      "\n"
     ]
    },
    {
     "data": {
      "text/plain": [
       "'Best Score:'"
      ]
     },
     "metadata": {},
     "output_type": "display_data"
    },
    {
     "data": {
      "text/plain": [
       "0.7180024335712959"
      ]
     },
     "metadata": {},
     "output_type": "display_data"
    },
    {
     "data": {
      "text/plain": [
       "'Best Pipeline:'"
      ]
     },
     "metadata": {},
     "output_type": "display_data"
    },
    {
     "data": {
      "text/plain": [
       "Pipeline(memory=None,\n",
       "     steps=[('feature_selection', PCA(copy=True, iterated_power='auto', n_components=10, random_state=None,\n",
       "  svd_solver='auto', tol=0.0, whiten=False)), ('classification', ExtraTreesClassifier(bootstrap=False, class_weight=None, criterion='gini',\n",
       "           max_depth=None, max_features='auto', max_leaf_...timators=10, n_jobs=1,\n",
       "           oob_score=False, random_state=None, verbose=0, warm_start=False))])"
      ]
     },
     "metadata": {},
     "output_type": "display_data"
    }
   ],
   "source": [
    "best_result, best_pipeline = task.run(scoring_function, 20)\n",
    "\n",
    "display('Best Score:', best_result.score)\n",
    "display('Best Pipeline:', best_pipeline)"
   ]
  }
 ],
 "metadata": {
  "kernelspec": {
   "display_name": "Python 3",
   "language": "python",
   "name": "python3"
  },
  "language_info": {
   "codemirror_mode": {
    "name": "ipython",
    "version": 3
   },
   "file_extension": ".py",
   "mimetype": "text/x-python",
   "name": "python",
   "nbconvert_exporter": "python",
   "pygments_lexer": "ipython3",
   "version": "3.6.5"
  },
  "nav_menu": {},
  "toc": {
   "navigate_menu": true,
   "number_sections": false,
   "sideBar": true,
   "threshold": 6,
   "toc_cell": false,
   "toc_section_display": "block",
   "toc_window_display": false
  }
 },
 "nbformat": 4,
 "nbformat_minor": 2
}
