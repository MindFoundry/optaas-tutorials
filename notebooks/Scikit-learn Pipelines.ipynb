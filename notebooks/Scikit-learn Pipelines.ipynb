{
 "cells": [
  {
   "cell_type": "markdown",
   "metadata": {},
   "source": [
    "# OPTaaS Scikit-learn Pipelines\n",
    "\n",
    "### <span style=\"color:red\">Note:</span> To run this notebook, you need an API Key. You can get one <a href=\"mailto:charles.brecque@mindfoundry.ai\">here</a>.\n",
    "\n",
    "Using the OPTaaS Python Client, you can optimize any scikit-learn pipeline. For each step or estimator in the pipeline, OPTaaS just needs to know what parameters to optimize and what constraints will apply to them.\n",
    "\n",
    "Your pipeline can even include **optional** steps (such as feature selection), **choice** steps (such as choosing between a set of classifiers) and **nested** pipelines.\n",
    "\n",
    "We have provided pre-defined parameters and constraints for some of the most widely used estimators, such as Random Forest and XGBoost. The example below demonstrates how to use them. See also our [tutorial on defining your own custom optimizable estimators](Custom Scikit-learn Estimators.ipynb)."
   ]
  },
  {
   "cell_type": "markdown",
   "metadata": {},
   "source": [
    "## Load your dataset\n",
    "\n",
    "We will run a classification pipeline using the German Credit Data available [here](https://newonlinecourses.science.psu.edu/stat857/node/215/). The data contains 1000 rows, with 20 feature columns and 1 target column which includes 2 classes."
   ]
  },
  {
   "cell_type": "code",
   "execution_count": 1,
   "metadata": {
    "scrolled": false
   },
   "outputs": [],
   "source": [
    "import pandas as pd\n",
    "\n",
    "data = pd.read_csv('../data/german_credit.csv')\n",
    "features = data[data.columns.drop(['Creditability'])]\n",
    "target = data['Creditability']"
   ]
  },
  {
   "cell_type": "markdown",
   "metadata": {},
   "source": [
    "## Create your OptimizablePipeline\n",
    "\n",
    "Our pipeline will include:\n",
    "\n",
    "- An optional feature selection step using PCA\n",
    "\n",
    "- A choice of classifier from: Random Forest, Extra Trees and Gradient Boost"
   ]
  },
  {
   "cell_type": "code",
   "execution_count": 2,
   "metadata": {},
   "outputs": [],
   "source": [
    "from mindfoundry.optaas.client.sklearn_pipelines.estimators.pca import PCA\n",
    "from mindfoundry.optaas.client.sklearn_pipelines.estimators.ensemble import RandomForestClassifier, ExtraTreesClassifier, GradientBoostingClassifier\n",
    "from mindfoundry.optaas.client.sklearn_pipelines.mixin import OptimizablePipeline, choice, optional_step\n",
    "\n",
    "optimizable_pipeline = OptimizablePipeline([\n",
    "    ('feature_selection', optional_step(PCA())),\n",
    "    ('classification', choice(\n",
    "        RandomForestClassifier(),\n",
    "        ExtraTreesClassifier(),\n",
    "        GradientBoostingClassifier()\n",
    "    ))\n",
    "])"
   ]
  },
  {
   "cell_type": "markdown",
   "metadata": {},
   "source": [
    "## Connect to the OPTaaS server using your API Key\n",
    "\n",
    "We now create a client, and connect to the web service that will perform our optimization. You will need to input your personal API key. Make sure you keep your key private and don't commit it to your version control system. "
   ]
  },
  {
   "cell_type": "code",
   "execution_count": 3,
   "metadata": {},
   "outputs": [],
   "source": [
    "from mindfoundry.optaas.client.client import OPTaaSClient\n",
    "\n",
    "client = OPTaaSClient('https://optaas.mindfoundry.ai', '<Your OPTaaS API key>')"
   ]
  },
  {
   "cell_type": "markdown",
   "metadata": {},
   "source": [
    "## Create your Sklearn Task\n",
    "\n",
    "We don't need to worry about specifying all the parameters and constraints - they are generated based on our OptimizablePipeline. Sometimes we will need to provide additional kwargs, e.g. `feature_count` which is required by PCA.\n",
    "\n",
    "If we do need to optimize any additional parameters that are outside of our pipeline, we can include them in `additional_parameters` and `additional_constraints`."
   ]
  },
  {
   "cell_type": "code",
   "execution_count": 4,
   "metadata": {},
   "outputs": [
    {
     "data": {
      "text/plain": [
       "[{'id': 'pipeline',\n",
       "  'name': 'pipeline',\n",
       "  'type': 'group',\n",
       "  'items': [{'id': 'pipeline__feature_selection',\n",
       "    'name': 'feature_selection',\n",
       "    'type': 'group',\n",
       "    'optional': True,\n",
       "    'items': [{'id': 'pipeline__feature_selection__n_components',\n",
       "      'name': 'n_components',\n",
       "      'type': 'integer',\n",
       "      'minimum': 1,\n",
       "      'maximum': 20},\n",
       "     {'id': 'pipeline__feature_selection__whiten',\n",
       "      'name': 'whiten',\n",
       "      'type': 'boolean',\n",
       "      'default': False}]},\n",
       "   {'id': 'classification',\n",
       "    'name': 'classification',\n",
       "    'type': 'choice',\n",
       "    'choices': [{'id': 'pipeline__classification__0',\n",
       "      'name': '0',\n",
       "      'type': 'group',\n",
       "      'items': [{'id': 'pipeline__classification__0__max_features',\n",
       "        'name': 'max_features',\n",
       "        'type': 'categorical',\n",
       "        'default': 'auto',\n",
       "        'enum': ['auto', 'sqrt', 'log2']},\n",
       "       {'id': 'pipeline__classification__0__min_samples_split',\n",
       "        'name': 'min_samples_split',\n",
       "        'type': 'integer',\n",
       "        'default': 2,\n",
       "        'minimum': 2,\n",
       "        'maximum': 20,\n",
       "        'distribution': 'Uniform'},\n",
       "       {'id': 'pipeline__classification__0__min_samples_leaf',\n",
       "        'name': 'min_samples_leaf',\n",
       "        'type': 'integer',\n",
       "        'default': 1,\n",
       "        'minimum': 1,\n",
       "        'maximum': 20},\n",
       "       {'id': 'pipeline__classification__0__criterion',\n",
       "        'name': 'criterion',\n",
       "        'type': 'categorical',\n",
       "        'default': 'gini',\n",
       "        'enum': ['gini', 'entropy']},\n",
       "       {'id': 'pipeline__classification__0__max_leaf_nodes',\n",
       "        'name': 'max_leaf_nodes',\n",
       "        'type': 'integer',\n",
       "        'optional': True,\n",
       "        'includeInDefault': False,\n",
       "        'minimum': 10,\n",
       "        'maximum': 10000,\n",
       "        'distribution': 'LogUniform'},\n",
       "       {'id': 'pipeline__classification__0__max_depth',\n",
       "        'name': 'max_depth',\n",
       "        'type': 'integer',\n",
       "        'optional': True,\n",
       "        'includeInDefault': False,\n",
       "        'minimum': 1,\n",
       "        'maximum': 100,\n",
       "        'distribution': 'LogUniform'},\n",
       "       {'id': 'pipeline__classification__0__min_weight_fraction_leaf',\n",
       "        'name': 'min_weight_fraction_leaf',\n",
       "        'type': 'number',\n",
       "        'default': 0.0,\n",
       "        'minimum': 0.0,\n",
       "        'maximum': 0.5},\n",
       "       {'id': 'pipeline__classification__0__min_impurity_decrease',\n",
       "        'name': 'min_impurity_decrease',\n",
       "        'type': 'number',\n",
       "        'default': 0.0,\n",
       "        'minimum': 0,\n",
       "        'maximum': 1},\n",
       "       {'id': 'pipeline__classification__0__bootstrap',\n",
       "        'name': 'bootstrap',\n",
       "        'type': 'boolean',\n",
       "        'default': True},\n",
       "       {'id': 'pipeline__classification__0__n_estimators',\n",
       "        'name': 'n_estimators',\n",
       "        'type': 'integer',\n",
       "        'default': 10,\n",
       "        'minimum': 10,\n",
       "        'maximum': 500}]},\n",
       "     {'id': 'pipeline__classification__1',\n",
       "      'name': '1',\n",
       "      'type': 'group',\n",
       "      'items': [{'id': 'pipeline__classification__1__max_features',\n",
       "        'name': 'max_features',\n",
       "        'type': 'categorical',\n",
       "        'default': 'auto',\n",
       "        'enum': ['auto', 'sqrt', 'log2']},\n",
       "       {'id': 'pipeline__classification__1__min_samples_split',\n",
       "        'name': 'min_samples_split',\n",
       "        'type': 'integer',\n",
       "        'default': 2,\n",
       "        'minimum': 2,\n",
       "        'maximum': 20,\n",
       "        'distribution': 'LogUniform'},\n",
       "       {'id': 'pipeline__classification__1__min_samples_leaf',\n",
       "        'name': 'min_samples_leaf',\n",
       "        'type': 'integer',\n",
       "        'default': 1,\n",
       "        'minimum': 1,\n",
       "        'maximum': 20},\n",
       "       {'id': 'pipeline__classification__1__criterion',\n",
       "        'name': 'criterion',\n",
       "        'type': 'categorical',\n",
       "        'default': 'gini',\n",
       "        'enum': ['gini', 'entropy']},\n",
       "       {'id': 'pipeline__classification__1__max_leaf_nodes',\n",
       "        'name': 'max_leaf_nodes',\n",
       "        'type': 'integer',\n",
       "        'optional': True,\n",
       "        'includeInDefault': False,\n",
       "        'minimum': 10,\n",
       "        'maximum': 10000,\n",
       "        'distribution': 'LogUniform'},\n",
       "       {'id': 'pipeline__classification__1__max_depth',\n",
       "        'name': 'max_depth',\n",
       "        'type': 'integer',\n",
       "        'optional': True,\n",
       "        'includeInDefault': False,\n",
       "        'minimum': 1,\n",
       "        'maximum': 100,\n",
       "        'distribution': 'Uniform'},\n",
       "       {'id': 'pipeline__classification__1__min_weight_fraction_leaf',\n",
       "        'name': 'min_weight_fraction_leaf',\n",
       "        'type': 'number',\n",
       "        'default': 0.0,\n",
       "        'minimum': 0.0,\n",
       "        'maximum': 0.5},\n",
       "       {'id': 'pipeline__classification__1__min_impurity_decrease',\n",
       "        'name': 'min_impurity_decrease',\n",
       "        'type': 'number',\n",
       "        'default': 0.0,\n",
       "        'minimum': 0,\n",
       "        'maximum': 1},\n",
       "       {'id': 'pipeline__classification__1__bootstrap',\n",
       "        'name': 'bootstrap',\n",
       "        'type': 'boolean',\n",
       "        'default': False},\n",
       "       {'id': 'pipeline__classification__1__n_estimators',\n",
       "        'name': 'n_estimators',\n",
       "        'type': 'integer',\n",
       "        'default': 10,\n",
       "        'minimum': 10,\n",
       "        'maximum': 500}]},\n",
       "     {'id': 'pipeline__classification__2',\n",
       "      'name': '2',\n",
       "      'type': 'group',\n",
       "      'items': [{'id': 'pipeline__classification__2__max_features',\n",
       "        'name': 'max_features',\n",
       "        'type': 'categorical',\n",
       "        'enum': ['auto', 'sqrt', 'log2']},\n",
       "       {'id': 'pipeline__classification__2__min_samples_split',\n",
       "        'name': 'min_samples_split',\n",
       "        'type': 'integer',\n",
       "        'default': 2,\n",
       "        'minimum': 2,\n",
       "        'maximum': 20,\n",
       "        'distribution': 'Uniform'},\n",
       "       {'id': 'pipeline__classification__2__min_samples_leaf',\n",
       "        'name': 'min_samples_leaf',\n",
       "        'type': 'integer',\n",
       "        'default': 1,\n",
       "        'minimum': 1,\n",
       "        'maximum': 20},\n",
       "       {'id': 'pipeline__classification__2__criterion',\n",
       "        'name': 'criterion',\n",
       "        'type': 'categorical',\n",
       "        'default': 'friedman_mse',\n",
       "        'enum': ['mse', 'friedman_mse', 'mae']},\n",
       "       {'id': 'pipeline__classification__2__max_leaf_nodes',\n",
       "        'name': 'max_leaf_nodes',\n",
       "        'type': 'integer',\n",
       "        'optional': True,\n",
       "        'includeInDefault': False,\n",
       "        'minimum': 10,\n",
       "        'maximum': 10000,\n",
       "        'distribution': 'LogUniform'},\n",
       "       {'id': 'pipeline__classification__2__max_depth',\n",
       "        'name': 'max_depth',\n",
       "        'type': 'integer',\n",
       "        'optional': True,\n",
       "        'default': 3,\n",
       "        'minimum': 1,\n",
       "        'maximum': 100,\n",
       "        'distribution': 'Uniform'},\n",
       "       {'id': 'pipeline__classification__2__min_weight_fraction_leaf',\n",
       "        'name': 'min_weight_fraction_leaf',\n",
       "        'type': 'number',\n",
       "        'default': 0.0,\n",
       "        'minimum': 0.0,\n",
       "        'maximum': 0.5},\n",
       "       {'id': 'pipeline__classification__2__min_impurity_decrease',\n",
       "        'name': 'min_impurity_decrease',\n",
       "        'type': 'number',\n",
       "        'default': 0.0,\n",
       "        'minimum': 0,\n",
       "        'maximum': 1},\n",
       "       {'id': 'pipeline__classification__2__learning_rate',\n",
       "        'name': 'learning_rate',\n",
       "        'type': 'number',\n",
       "        'default': 0.1,\n",
       "        'minimum': 5e-324,\n",
       "        'maximum': 1},\n",
       "       {'id': 'pipeline__classification__2__n_estimators',\n",
       "        'name': 'n_estimators',\n",
       "        'type': 'integer',\n",
       "        'default': 100,\n",
       "        'minimum': 10,\n",
       "        'maximum': 500},\n",
       "       {'id': 'pipeline__classification__2__subsample',\n",
       "        'name': 'subsample',\n",
       "        'type': 'number',\n",
       "        'default': 1.0,\n",
       "        'minimum': 0,\n",
       "        'maximum': 1}]}]}]},\n",
       " {'id': '2293723866280',\n",
       "  'name': 'additional',\n",
       "  'type': 'group',\n",
       "  'items': [{'id': 'extra',\n",
       "    'name': 'extra',\n",
       "    'type': 'integer',\n",
       "    'minimum': 0,\n",
       "    'maximum': 10}]}]"
      ]
     },
     "metadata": {},
     "output_type": "display_data"
    },
    {
     "data": {
      "text/plain": [
       "['#extra != 7']"
      ]
     },
     "metadata": {},
     "output_type": "display_data"
    }
   ],
   "source": [
    "from mindfoundry.optaas.client.parameter import IntParameter\n",
    "from mindfoundry.optaas.client.constraint import Constraint\n",
    "\n",
    "my_extra_param = IntParameter('extra', id='extra', minimum=0, maximum=10)\n",
    "my_extra_constraint = Constraint(my_extra_param != 7)\n",
    "\n",
    "task = client.create_sklearn_task(\n",
    "    title='My Sklearn Task', \n",
    "    pipeline=optimizable_pipeline,\n",
    "    feature_count=len(features.columns),\n",
    "    additional_parameters=[my_extra_param],\n",
    "    additional_constraints=[my_extra_constraint],\n",
    "    target_score=1.0  # optional: this is the best possible score\n",
    ")\n",
    "\n",
    "display(task.parameters)\n",
    "display(task.constraints)"
   ]
  },
  {
   "cell_type": "markdown",
   "metadata": {},
   "source": [
    "## Define your scoring function\n",
    "\n",
    "We define a function to run our pipeline and calculate the mean score and variance:"
   ]
  },
  {
   "cell_type": "code",
   "execution_count": 5,
   "metadata": {
    "scrolled": true
   },
   "outputs": [],
   "source": [
    "from sklearn.model_selection import cross_val_score\n",
    "\n",
    "def scoring_function(pipeline):\n",
    "    scores = cross_val_score(pipeline, features, target, scoring='f1_micro')\n",
    "    return scores.mean(), scores.var()"
   ]
  },
  {
   "cell_type": "markdown",
   "metadata": {},
   "source": [
    "## Run your task\n",
    "\n",
    "We run the task for 20 iterations and review the results:"
   ]
  },
  {
   "cell_type": "code",
   "execution_count": 6,
   "metadata": {
    "scrolled": false
   },
   "outputs": [
    {
     "name": "stdout",
     "output_type": "stream",
     "text": [
      "Running task \"My Sklearn Task\" for 20 iterations\n",
      "(or until target score 1.0 is reached)\n",
      "\n",
      "Iteration: 0    Score: 0.692992393591196    Variance: 0.0008240181111248598\n",
      "Configuration: {'pipeline': {'feature_selection': {'n_components': 10, 'whiten': False}, 'classification': {'2': {'max_features': 'auto', 'min_samples_split': 2, 'min_samples_leaf': 1, 'criterion': 'friedman_mse', 'min_weight_fraction_leaf': 0.0, 'min_impurity_decrease': 0.0, 'learning_rate': 0.1, 'n_estimators': 100, 'subsample': 1.0}}}, 'additional': {'extra': 5}}\n",
      "\n",
      "Iteration: 1    Score: 0.7079984175792559    Variance: 0.001638023934747848\n",
      "Configuration: {'pipeline': {'feature_selection': {'n_components': 10, 'whiten': False}, 'classification': {'1': {'max_features': 'auto', 'min_samples_split': 2, 'min_samples_leaf': 1, 'criterion': 'gini', 'min_weight_fraction_leaf': 0.0, 'min_impurity_decrease': 0.0, 'bootstrap': False, 'n_estimators': 10, 'max_leaf_nodes': 5005, 'max_depth': 50}}}, 'additional': {'extra': 5}}\n",
      "\n",
      "Iteration: 2    Score: 0.699999400598203    Variance: 1.7964125712735343e-07\n",
      "Configuration: {'pipeline': {'feature_selection': {'n_components': 15, 'whiten': True}, 'classification': {'0': {'max_features': 'sqrt', 'min_samples_split': 13, 'min_samples_leaf': 6, 'criterion': 'gini', 'min_weight_fraction_leaf': 0.2753666359703223, 'min_impurity_decrease': 0.6158423140912122, 'bootstrap': False, 'n_estimators': 63, 'max_leaf_nodes': 491, 'max_depth': 44}}}, 'additional': {'extra': 0}}\n",
      "\n",
      "Iteration: 3    Score: 0.699999400598203    Variance: 1.7964125712735343e-07\n",
      "Configuration: {'pipeline': {'classification': {'0': {'max_features': 'log2', 'min_samples_split': 20, 'min_samples_leaf': 6, 'criterion': 'entropy', 'min_weight_fraction_leaf': 0.0047617618986141586, 'min_impurity_decrease': 0.5528939968691118, 'bootstrap': False, 'n_estimators': 139}}}, 'additional': {'extra': 10}}\n",
      "\n",
      "Iteration: 4    Score: 0.7389904874934815    Variance: 0.00029925165164746987\n",
      "Configuration: {'pipeline': {'classification': {'2': {'max_features': 'log2', 'min_samples_split': 19, 'min_samples_leaf': 13, 'criterion': 'friedman_mse', 'min_weight_fraction_leaf': 0.06147312196593441, 'min_impurity_decrease': 0.7623844285402049, 'learning_rate': 0.04607140948395827, 'n_estimators': 381, 'subsample': 0.3557249351363936, 'max_depth': 81}}}, 'additional': {'extra': 4}}\n",
      "\n",
      "Iteration: 5    Score: 0.699999400598203    Variance: 1.7964125712735343e-07\n",
      "Configuration: {'pipeline': {'feature_selection': {'n_components': 10, 'whiten': False}, 'classification': {'2': {'max_features': 'sqrt', 'min_samples_split': 10, 'min_samples_leaf': 3, 'criterion': 'mse', 'min_weight_fraction_leaf': 0.4676364727663747, 'min_impurity_decrease': 0.20698248456959378, 'learning_rate': 0.41601197315661487, 'n_estimators': 245, 'subsample': 0.9411642494513954}}}, 'additional': {'extra': 5}}\n",
      "\n",
      "Iteration: 6    Score: 0.6520023017029004    Variance: 4.151922627104846e-06\n",
      "Configuration: {'pipeline': {'feature_selection': {'n_components': 2, 'whiten': False}, 'classification': {'2': {'max_features': 'sqrt', 'min_samples_split': 4, 'min_samples_leaf': 11, 'criterion': 'friedman_mse', 'min_weight_fraction_leaf': 0.21547023764177725, 'min_impurity_decrease': 0.11477651796157451, 'learning_rate': 0.6322997288331739, 'n_estimators': 387, 'subsample': 0.6138524596816141}}}, 'additional': {'extra': 6}}\n",
      "\n",
      "Iteration: 7    Score: 0.699999400598203    Variance: 1.7964125712735343e-07\n",
      "Configuration: {'pipeline': {'classification': {'0': {'max_features': 'auto', 'min_samples_split': 14, 'min_samples_leaf': 9, 'criterion': 'entropy', 'min_weight_fraction_leaf': 0.4476773352826744, 'min_impurity_decrease': 0.7574225794045536, 'bootstrap': False, 'n_estimators': 350}}}, 'additional': {'extra': 6}}\n",
      "\n",
      "Iteration: 8    Score: 0.699999400598203    Variance: 1.7964125712735343e-07\n",
      "Configuration: {'pipeline': {'feature_selection': {'n_components': 20, 'whiten': True}, 'classification': {'1': {'max_features': 'log2', 'min_samples_split': 5, 'min_samples_leaf': 12, 'criterion': 'gini', 'min_weight_fraction_leaf': 0.4099490046578235, 'min_impurity_decrease': 0.573531967768996, 'bootstrap': True, 'n_estimators': 90, 'max_depth': 18}}}, 'additional': {'extra': 10}}\n",
      "\n",
      "Iteration: 9    Score: 0.699999400598203    Variance: 1.7964125712735343e-07\n",
      "Configuration: {'pipeline': {'feature_selection': {'n_components': 14, 'whiten': False}, 'classification': {'1': {'max_features': 'log2', 'min_samples_split': 4, 'min_samples_leaf': 12, 'criterion': 'gini', 'min_weight_fraction_leaf': 0.4675613524047289, 'min_impurity_decrease': 0.9887571681024604, 'bootstrap': True, 'n_estimators': 267, 'max_depth': 38}}}, 'additional': {'extra': 2}}\n",
      "\n",
      "Iteration: 10    Score: 0.699999400598203    Variance: 1.7964125712735343e-07\n",
      "Configuration: {'pipeline': {'classification': {'2': {'max_features': 'log2', 'min_samples_split': 7, 'min_samples_leaf': 16, 'criterion': 'mae', 'min_weight_fraction_leaf': 0.07639984447334308, 'min_impurity_decrease': 0.8065400973408599, 'learning_rate': 0.28728695518682124, 'n_estimators': 250, 'subsample': 0.02330735567220854, 'max_leaf_nodes': 2260, 'max_depth': 64}}}, 'additional': {'extra': 2}}\n",
      "\n",
      "Iteration: 11    Score: 0.7270024515533499    Variance: 0.0004373733591495216\n",
      "Configuration: {'pipeline': {'feature_selection': {'n_components': 5, 'whiten': False}, 'classification': {'2': {'max_features': 'log2', 'min_samples_split': 19, 'min_samples_leaf': 13, 'criterion': 'friedman_mse', 'min_weight_fraction_leaf': 0.06147312196593441, 'min_impurity_decrease': 0.7623844285402049, 'learning_rate': 0.04607140948395827, 'n_estimators': 381, 'subsample': 0.3557249351363936, 'max_depth': 81}}}, 'additional': {'extra': 4}}\n",
      "\n",
      "Iteration: 12    Score: 0.7389844934755114    Variance: 0.0005545944530933314\n",
      "Configuration: {'pipeline': {'classification': {'2': {'max_features': 'log2', 'min_samples_split': 16, 'min_samples_leaf': 12, 'criterion': 'friedman_mse', 'min_weight_fraction_leaf': 0.19086542132579176, 'min_impurity_decrease': 0.7623844285402049, 'learning_rate': 0.04607140948395827, 'n_estimators': 381, 'subsample': 0.5073692775798349, 'max_depth': 81}}}, 'additional': {'extra': 4}}\n",
      "\n",
      "Iteration: 13    Score: 0.7179874485263706    Variance: 0.00017496203351821237\n",
      "Configuration: {'pipeline': {'classification': {'2': {'max_features': 'log2', 'min_samples_split': 17, 'min_samples_leaf': 13, 'criterion': 'friedman_mse', 'min_weight_fraction_leaf': 0.06147312196593441, 'min_impurity_decrease': 0.7623844285402049, 'learning_rate': 0.5558026629530798, 'n_estimators': 381, 'subsample': 0.3557249351363936, 'max_depth': 81}}}, 'additional': {'extra': 4}}\n",
      "\n",
      "Iteration: 14    Score: 0.7299754844665024    Variance: 0.00045080614193597376\n",
      "Configuration: {'pipeline': {'classification': {'2': {'max_features': 'log2', 'min_samples_split': 19, 'min_samples_leaf': 12, 'criterion': 'friedman_mse', 'min_weight_fraction_leaf': 0.26564903353933705, 'min_impurity_decrease': 0.7623844285402049, 'learning_rate': 0.04607140948395827, 'n_estimators': 381, 'subsample': 0.5073692775798349, 'max_depth': 81}}}, 'additional': {'extra': 6}}\n",
      "\n",
      "Iteration: 15    Score: 0.7159764554974136    Variance: 0.0005311795625362088\n",
      "Configuration: {'pipeline': {'classification': {'2': {'max_features': 'log2', 'min_samples_split': 4, 'min_samples_leaf': 2, 'criterion': 'friedman_mse', 'min_weight_fraction_leaf': 0.13473594069579525, 'min_impurity_decrease': 0.7350902418581096, 'learning_rate': 0.15098713725599133, 'n_estimators': 436, 'subsample': 0.9748046459722194, 'max_depth': 10}}}, 'additional': {'extra': 5}}\n",
      "\n",
      "Iteration: 16    Score: 0.699999400598203    Variance: 1.7964125712735343e-07\n",
      "Configuration: {'pipeline': {'classification': {'2': {'max_features': 'log2', 'min_samples_split': 13, 'min_samples_leaf': 8, 'criterion': 'mae', 'min_weight_fraction_leaf': 0.22492393950168155, 'min_impurity_decrease': 0.7711753359619322, 'learning_rate': 0.05273792890983431, 'n_estimators': 404, 'subsample': 0.3799380648416125, 'max_depth': 75}}}, 'additional': {'extra': 3}}\n",
      "\n",
      "Iteration: 17    Score: 0.699999400598203    Variance: 1.7964125712735343e-07\n",
      "Configuration: {'pipeline': {'feature_selection': {'n_components': 1, 'whiten': False}, 'classification': {'2': {'max_features': 'log2', 'min_samples_split': 17, 'min_samples_leaf': 10, 'criterion': 'friedman_mse', 'min_weight_fraction_leaf': 0.1749281933507731, 'min_impurity_decrease': 0.7623844285402049, 'learning_rate': 0.04607140948395827, 'n_estimators': 381, 'subsample': 0.4644226968113939, 'max_depth': 81}}}, 'additional': {'extra': 5}}\n",
      "\n"
     ]
    },
    {
     "name": "stdout",
     "output_type": "stream",
     "text": [
      "Iteration: 18    Score: 0.7259984535433638    Variance: 0.0002552035255792119\n",
      "Configuration: {'pipeline': {'classification': {'2': {'max_features': 'log2', 'min_samples_split': 20, 'min_samples_leaf': 12, 'criterion': 'friedman_mse', 'min_weight_fraction_leaf': 0.22770891172170005, 'min_impurity_decrease': 0.7623844285402049, 'learning_rate': 0.04607140948395827, 'n_estimators': 391, 'subsample': 0.5073692775798349}}}, 'additional': {'extra': 4}}\n",
      "\n",
      "Iteration: 19    Score: 0.7189854525183866    Variance: 0.0003222472595104568\n",
      "Configuration: {'pipeline': {'classification': {'2': {'max_features': 'log2', 'min_samples_split': 3, 'min_samples_leaf': 13, 'criterion': 'friedman_mse', 'min_weight_fraction_leaf': 0.1900392486697446, 'min_impurity_decrease': 0.7648193759348436, 'learning_rate': 0.011896091807658965, 'n_estimators': 371, 'subsample': 0.8016405875262133, 'max_depth': 91}}}, 'additional': {'extra': 4}}\n",
      "\n",
      "Task Completed\n",
      "\n"
     ]
    },
    {
     "data": {
      "text/plain": [
       "'Best Score:'"
      ]
     },
     "metadata": {},
     "output_type": "display_data"
    },
    {
     "data": {
      "text/plain": [
       "0.7389904874934815"
      ]
     },
     "metadata": {},
     "output_type": "display_data"
    },
    {
     "data": {
      "text/plain": [
       "'Best Pipeline:'"
      ]
     },
     "metadata": {},
     "output_type": "display_data"
    },
    {
     "data": {
      "text/plain": [
       "Pipeline(memory=None,\n",
       "     steps=[('classification', GradientBoostingClassifier(criterion='friedman_mse', init=None,\n",
       "              learning_rate=0.04607140948395827, loss='deviance',\n",
       "              max_depth=81, max_features='log2', max_leaf_nodes=None,\n",
       "              min_impurity_decrease=0.7623844285402049,\n",
       "              min_...auto', random_state=None,\n",
       "              subsample=0.3557249351363936, verbose=0, warm_start=False))])"
      ]
     },
     "metadata": {},
     "output_type": "display_data"
    }
   ],
   "source": [
    "best_result, best_pipeline = task.run(scoring_function, 20)\n",
    "\n",
    "display('Best Score:', best_result.score)\n",
    "display('Best Pipeline:', best_pipeline)"
   ]
  }
 ],
 "metadata": {
  "kernelspec": {
   "display_name": "Python 3",
   "language": "python",
   "name": "python3"
  },
  "language_info": {
   "codemirror_mode": {
    "name": "ipython",
    "version": 3
   },
   "file_extension": ".py",
   "mimetype": "text/x-python",
   "name": "python",
   "nbconvert_exporter": "python",
   "pygments_lexer": "ipython3",
   "version": "3.6.5"
  },
  "nav_menu": {},
  "toc": {
   "navigate_menu": true,
   "number_sections": false,
   "sideBar": true,
   "threshold": 6,
   "toc_cell": false,
   "toc_section_display": "block",
   "toc_window_display": false
  }
 },
 "nbformat": 4,
 "nbformat_minor": 2
}
