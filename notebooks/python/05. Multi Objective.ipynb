{
 "cells": [
  {
   "cell_type": "markdown",
   "metadata": {},
   "source": [
    "# OPTaaS Multi-Objective\n",
    "\n",
    "### <span style=\"color:red\">Note:</span> To run this notebook, you need an API Key. You can get one <a href=\"mailto:charles.brecque@mindfoundry.ai\">here</a>.\n",
    "\n",
    "OPTaaS can optimize multiple objectives within a single Task. Your scoring function should return a dictionary of scores for each objective. You can also optionally return a dictionary of variances for each objective (i.e. return a tuple of dictionaries).\n",
    "\n",
    "Please note: `ChoiceParameters` and any parameter with `optional=True` are not currently supported for multi-objective tasks."
   ]
  },
  {
   "cell_type": "markdown",
   "metadata": {},
   "source": [
    "## Define your parameters and objectives\n",
    "We will use [this multi-objective optimization example](https://sop.tik.ee.ethz.ch/download/supplementary/testproblems/dtlz2/index.php#Formulation):"
   ]
  },
  {
   "cell_type": "code",
   "execution_count": 1,
   "metadata": {},
   "outputs": [],
   "source": [
    "import math\n",
    "\n",
    "from mindfoundry.optaas.client.parameter import FloatParameter\n",
    "from mindfoundry.optaas.client.objective import Objective\n",
    "from mindfoundry.optaas.client.goal import Goal\n",
    "\n",
    "parameters=[\n",
    "    FloatParameter('x1', minimum=0, maximum=1),\n",
    "    FloatParameter('x2', minimum=0, maximum=1)\n",
    "]\n",
    "\n",
    "objectives = [\n",
    "    Objective(\"f1\", goal=Goal.max),  # or goal=Goal.min as appropriate\n",
    "    Objective(\"f2\", goal=Goal.max)   # you can also specify known_min_score and known_max_score\n",
    "]\n",
    "\n",
    "def scoring_function(x1, x2):\n",
    "    g = ((x1 - 0.5) ** 2) + ((x2 - 0.5) ** 2)\n",
    "    x1_pi2 = x1 * math.pi / 2\n",
    "    f1 = ((1 + g) * math.cos(x1_pi2))\n",
    "    f2 = ((1 + g) * math.sin(x1_pi2))\n",
    "    return {\"f1\": f1, \"f2\": f2}"
   ]
  },
  {
   "cell_type": "markdown",
   "metadata": {},
   "source": [
    "## Connect to OPTaaS using your API Key"
   ]
  },
  {
   "cell_type": "code",
   "execution_count": 2,
   "metadata": {},
   "outputs": [],
   "source": [
    "from mindfoundry.optaas.client.client import OPTaaSClient\n",
    "\n",
    "client = OPTaaSClient('https://optaas.mindfoundry.ai', '<Your OPTaaS API key>')"
   ]
  },
  {
   "cell_type": "markdown",
   "metadata": {},
   "source": [
    "## Create your Task"
   ]
  },
  {
   "cell_type": "code",
   "execution_count": 3,
   "metadata": {},
   "outputs": [],
   "source": [
    "task = client.create_task(\n",
    "    title='Multi-objective Example',\n",
    "    parameters=parameters,\n",
    "    objectives=objectives,\n",
    "    initial_configurations=4\n",
    ")"
   ]
  },
  {
   "cell_type": "markdown",
   "metadata": {},
   "source": [
    "## Run your Task\n",
    "At the end we will retrieve the set of Pareto front Results. These are the Results where, for each objective, the score cannot be improved without reducing the score for another objective."
   ]
  },
  {
   "cell_type": "code",
   "execution_count": 4,
   "metadata": {
    "scrolled": false
   },
   "outputs": [
    {
     "name": "stdout",
     "output_type": "stream",
     "text": [
      "Running task \"Multi-objective Example\" for 30 iterations\n",
      "\n",
      "Iteration: 0    Score: {'f1': 0.7071067811865476, 'f2': 0.7071067811865475}\n",
      "Configuration: {'x1': 0.5, 'x2': 0.5}\n",
      "\n",
      "Iteration: 1    Score: {'f1': 1.0393644740751975, 'f2': 0.430518861410726}\n",
      "Configuration: {'x1': 0.25, 'x2': 0.75}\n",
      "\n",
      "Iteration: 2    Score: {'f1': 0.43051886141072604, 'f2': 1.0393644740751975}\n",
      "Configuration: {'x1': 0.75, 'x2': 0.25}\n",
      "\n",
      "Iteration: 3    Score: {'f1': 0.8574530376869998, 'f2': 0.5729318028014647}\n",
      "Configuration: {'x1': 0.375, 'x2': 0.375}\n",
      "\n",
      "Iteration: 4    Score: {'f1': 4.118843994562698e-08, 'f2': 1.311068760938587}\n",
      "Configuration: {'x1': 0.99999998, 'x2': 0.7471209844157051}\n",
      "\n",
      "Iteration: 5    Score: {'f1': 0.09592193816780585, 'f2': 1.4567384014126048}\n",
      "Configuration: {'x1': 0.9581408891314421, 'x2': 0.0}\n",
      "\n",
      "Iteration: 6    Score: {'f1': 1.1752659197219903, 'f2': 0.5522576509385636}\n",
      "Configuration: {'x1': 0.2796537691999611, 'x2': 0.0}\n",
      "\n",
      "Iteration: 7    Score: {'f1': 0.4164848656933371, 'f2': 1.2727990678700287}\n",
      "Configuration: {'x1': 0.7986765186547115, 'x2': 0.99999998}\n",
      "\n",
      "Iteration: 8    Score: {'f1': 0.6372316613982189, 'f2': 1.1079497568369399}\n",
      "Configuration: {'x1': 0.6677206544264276, 'x2': 0.0}\n",
      "\n",
      "Iteration: 9    Score: {'f1': 0.7853418846852135, 'f2': 0.9786915387002382}\n",
      "Configuration: {'x1': 0.5695002799034684, 'x2': 0.99999998}\n",
      "\n",
      "Iteration: 10    Score: {'f1': 0.2996334146590194, 'f2': 1.3471648754563859}\n",
      "Configuration: {'x1': 0.860672395860025, 'x2': 0.99999998}\n",
      "\n",
      "Iteration: 11    Score: {'f1': 0.27096842792228526, 'f2': 1.364096007108697}\n",
      "Configuration: {'x1': 0.8751648295134814, 'x2': 0.0}\n",
      "\n",
      "Iteration: 12    Score: {'f1': 0.6765313066411998, 'f2': 1.0751481701020844}\n",
      "Configuration: {'x1': 0.6424451308839596, 'x2': 0.99999998}\n",
      "\n",
      "Iteration: 13    Score: {'f1': 0.7795915234218058, 'f2': 0.9840004819662557}\n",
      "Configuration: {'x1': 0.5734595718837381, 'x2': 0.0}\n",
      "\n",
      "Iteration: 14    Score: {'f1': 0.7788805899434732, 'f2': 0.9846551702225278}\n",
      "Configuration: {'x1': 0.5739482921665194, 'x2': 0.0}\n",
      "\n",
      "Iteration: 15    Score: {'f1': 0.27668935894543406, 'f2': 1.3607574498971329}\n",
      "Configuration: {'x1': 0.8722940463621401, 'x2': 0.99999998}\n",
      "\n",
      "Iteration: 16    Score: {'f1': 0.4113293194354817, 'f2': 1.2762642468118035}\n",
      "Configuration: {'x1': 0.8015144651650478, 'x2': 0.0}\n",
      "\n",
      "Iteration: 17    Score: {'f1': 1.16208933052274, 'f2': 0.5693873859019918}\n",
      "Configuration: {'x1': 0.2900378594243644, 'x2': 0.99999998}\n",
      "\n",
      "Iteration: 18    Score: {'f1': 0.49868273799395746, 'f2': 1.2152080249424346}\n",
      "Configuration: {'x1': 0.7520923609477937, 'x2': 0.99999998}\n",
      "\n",
      "Iteration: 19    Score: {'f1': 0.823213807070615, 'f2': 0.9431211120917674}\n",
      "Configuration: {'x1': 0.5431506072927972, 'x2': 0.0}\n",
      "\n",
      "Iteration: 20    Score: {'f1': 0.8270894739656314, 'f2': 0.9394209151689157}\n",
      "Configuration: {'x1': 0.5404278743492107, 'x2': 0.99999998}\n",
      "\n",
      "Iteration: 21    Score: {'f1': 0.6831757365569862, 'f2': 1.0694969008566544}\n",
      "Configuration: {'x1': 0.6381142020364394, 'x2': 0.0}\n",
      "\n",
      "Iteration: 22    Score: {'f1': 0.8370902299430105, 'f2': 0.9298208432046696}\n",
      "Configuration: {'x1': 0.533380305465506, 'x2': 0.0}\n",
      "\n",
      "Iteration: 23    Score: {'f1': 0.7429468741187083, 'f2': 1.0172717043616415}\n",
      "Configuration: {'x1': 0.5984235477977614, 'x2': 0.99999998}\n",
      "\n",
      "Iteration: 24    Score: {'f1': 0.6740670480706229, 'f2': 1.0772363132257081}\n",
      "Configuration: {'x1': 0.6440471663477743, 'x2': 0.99999998}\n",
      "\n",
      "Iteration: 25    Score: {'f1': 0.5965258202153979, 'f2': 1.1408083469630266}\n",
      "Configuration: {'x1': 0.6932782772637422, 'x2': 0.0}\n",
      "\n",
      "Iteration: 26    Score: {'f1': 0.30016699935835744, 'f2': 1.3468449043351842}\n",
      "Configuration: {'x1': 0.8604000451071535, 'x2': 0.0}\n",
      "\n",
      "Iteration: 27    Score: {'f1': 0.16080975748499476, 'f2': 1.4245097056049982}\n",
      "Configuration: {'x1': 0.9284363664329726, 'x2': 0.99999998}\n",
      "\n",
      "Iteration: 28    Score: {'f1': 0.6050539453579511, 'f2': 1.1340177648914858}\n",
      "Configuration: {'x1': 0.6879766387152254, 'x2': 0.99999998}\n",
      "\n",
      "Iteration: 29    Score: {'f1': 0.6799645231375991, 'f2': 1.0722319646634353}\n",
      "Configuration: {'x1': 0.6402093797980355, 'x2': 0.0}\n",
      "\n",
      "Task Completed\n",
      "\n"
     ]
    }
   ],
   "source": [
    "pareto_set = task.run(scoring_function, max_iterations=30)"
   ]
  },
  {
   "cell_type": "markdown",
   "metadata": {},
   "source": [
    "## Plot your results"
   ]
  },
  {
   "cell_type": "code",
   "execution_count": 5,
   "metadata": {},
   "outputs": [
    {
     "data": {
      "image/png": "[encoded data removed]",
      "text/plain": [
       "<Figure size 1152x576 with 1 Axes>"
      ]
     },
     "metadata": {},
     "output_type": "display_data"
    }
   ],
   "source": [
    "%matplotlib inline\n",
    "from matplotlib import pyplot as plt\n",
    "\n",
    "all_results = task.get_results()\n",
    "all_f1_scores = [result.score['f1'] for result in all_results]\n",
    "all_f2_scores = [result.score['f2'] for result in all_results]\n",
    "\n",
    "ordered_pareto_set = sorted(pareto_set, key=lambda result: result.score['f1'])\n",
    "pareto_f1_scores = [result.score['f1'] for result in ordered_pareto_set]\n",
    "pareto_f2_scores = [result.score['f2'] for result in ordered_pareto_set]\n",
    "\n",
    "plt.figure(figsize=(16,8))\n",
    "plt.plot(all_f1_scores, all_f2_scores, 'xb', label='All Results')\n",
    "plt.plot(pareto_f1_scores, pareto_f2_scores, 'r', label='Pareto Front')\n",
    "plt.xlabel('f1')\n",
    "plt.ylabel('f2')\n",
    "plt.legend()\n",
    "plt.show()"
   ]
  },
  {
   "cell_type": "markdown",
   "metadata": {},
   "source": [
    "## Plot the domain space"
   ]
  },
  {
   "cell_type": "code",
   "execution_count": 14,
   "metadata": {},
   "outputs": [
    {
     "data": {
      "image/png": "[encoded data removed]",
      "text/plain": [
       "<Figure size 1152x576 with 1 Axes>"
      ]
     },
     "metadata": {},
     "output_type": "display_data"
    }
   ],
   "source": [
    "all_x1_values = [result.configuration.values['x1'] for result in all_results]\n",
    "all_x2_values = [result.configuration.values['x2'] for result in all_results]\n",
    "\n",
    "pareto_x1_values = [result.configuration.values['x1'] for result in pareto_set]\n",
    "pareto_x2_values = [result.configuration.values['x2'] for result in pareto_set]\n",
    "\n",
    "plt.figure(figsize=(16,8))\n",
    "plt.plot(all_x1_values, all_x2_values, 'ob', label='All Results')\n",
    "plt.plot(pareto_x1_values, pareto_x2_values, '.r', label='Pareto Set')\n",
    "plt.xlabel('x1')\n",
    "plt.ylabel('x2')\n",
    "plt.legend()\n",
    "plt.show()"
   ]
  }
 ],
 "metadata": {
  "kernelspec": {
   "display_name": "Python 3",
   "language": "python",
   "name": "python3"
  },
  "language_info": {
   "codemirror_mode": {
    "name": "ipython",
    "version": 3
   },
   "file_extension": ".py",
   "mimetype": "text/x-python",
   "name": "python",
   "nbconvert_exporter": "python",
   "pygments_lexer": "ipython3",
   "version": "3.6.3"
  },
  "nav_menu": {},
  "toc": {
   "navigate_menu": true,
   "number_sections": false,
   "sideBar": true,
   "threshold": 6,
   "toc_cell": false,
   "toc_section_display": "block",
   "toc_window_display": false
  }
 },
 "nbformat": 4,
 "nbformat_minor": 2
}
