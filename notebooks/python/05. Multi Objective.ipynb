{
 "cells": [
  {
   "cell_type": "markdown",
   "metadata": {},
   "source": [
    "# OPTaaS Multi-Objective\n",
    "\n",
    "### <span style=\"color:red\">Note:</span> To run this notebook, you need an API Key. You can get one <a href=\"mailto:charles.brecque@mindfoundry.ai\">here</a>.\n",
    "\n",
    "OPTaaS can optimize multiple objectives within a single Task. Your scoring function should return a dictionary of scores for each objective. You can also optionally return a dictionary of variances for each objective (i.e. return a tuple of dictionaries).\n",
    "\n",
    "Please note: `ChoiceParameters` and any parameter with `optional=True` are not currently supported for multi-objective tasks."
   ]
  },
  {
   "cell_type": "markdown",
   "metadata": {},
   "source": [
    "## Define your parameters and objectives\n",
    "We will use [this multi-objective optimization example](https://sop.tik.ee.ethz.ch/download/supplementary/testproblems/dtlz2/index.php#Formulation):"
   ]
  },
  {
   "cell_type": "code",
   "execution_count": 1,
   "metadata": {},
   "outputs": [],
   "source": [
    "import math\n",
    "\n",
    "from mindfoundry.optaas.client.parameter import FloatParameter\n",
    "from mindfoundry.optaas.client.objective import Objective\n",
    "from mindfoundry.optaas.client.goal import Goal\n",
    "\n",
    "parameters=[\n",
    "    FloatParameter('x1', minimum=0, maximum=1),\n",
    "    FloatParameter('x2', minimum=0, maximum=1)\n",
    "]\n",
    "\n",
    "objectives = [\n",
    "    Objective(\"f1\", goal=Goal.max),  # or goal=Goal.min as appropriate\n",
    "    Objective(\"f2\", goal=Goal.max)   # you can also specify known_min_score and known_max_score\n",
    "]\n",
    "\n",
    "def scoring_function(x1, x2):\n",
    "    g = ((x1 - 0.5) ** 2) + ((x2 - 0.5) ** 2)\n",
    "    x1_pi2 = x1 * math.pi / 2\n",
    "    f1 = ((1 + g) * math.cos(x1_pi2))\n",
    "    f2 = ((1 + g) * math.sin(x1_pi2))\n",
    "    return {\"f1\": f1, \"f2\": f2}"
   ]
  },
  {
   "cell_type": "markdown",
   "metadata": {},
   "source": [
    "## Connect to OPTaaS using your API Key"
   ]
  },
  {
   "cell_type": "code",
   "execution_count": 2,
   "metadata": {},
   "outputs": [],
   "source": [
    "from mindfoundry.optaas.client.client import OPTaaSClient\n",
    "\n",
    "client = OPTaaSClient('https://optaas.mindfoundry.ai', '<Your OPTaaS API key>')"
   ]
  },
  {
   "cell_type": "markdown",
   "metadata": {},
   "source": [
    "## Create your Task"
   ]
  },
  {
   "cell_type": "code",
   "execution_count": 3,
   "metadata": {},
   "outputs": [],
   "source": [
    "task = client.create_task(\n",
    "    title='Multi-objective Example',\n",
    "    parameters=parameters,\n",
    "    objectives=objectives,\n",
    "    initial_configurations=4\n",
    ")"
   ]
  },
  {
   "cell_type": "markdown",
   "metadata": {},
   "source": [
    "## Run your Task\n",
    "At the end we will retrieve the set of Pareto front Results. These are the Results where, for each objective, the score cannot be improved without reducing the score for another objective."
   ]
  },
  {
   "cell_type": "code",
   "execution_count": 4,
   "metadata": {
    "scrolled": false
   },
   "outputs": [
    {
     "name": "stdout",
     "output_type": "stream",
     "text": [
      "Running task \"Multi-objective Example\" for 30 iterations\n",
      "(no score threshold set)\n",
      "\n",
      "Iteration: 0    Score: {'f1': 0.7071067811865476, 'f2': 0.7071067811865476}\n",
      "Configuration: {'x1': 0.5, 'x2': 0.5}\n",
      "\n",
      "Iteration: 1    Score: {'f1': 0.43051886141072604, 'f2': 1.0393644740751975}\n",
      "Configuration: {'x1': 0.75, 'x2': 0.25}\n",
      "\n",
      "Iteration: 2    Score: {'f1': 1.0393644740751975, 'f2': 0.430518861410726}\n",
      "Configuration: {'x1': 0.25, 'x2': 0.75}\n",
      "\n",
      "Iteration: 3    Score: {'f1': 0.8574530376869998, 'f2': 0.5729318028014647}\n",
      "Configuration: {'x1': 0.375, 'x2': 0.375}\n",
      "\n",
      "Iteration: 4    Score: {'f1': 4.118845038729693e-08, 'f2': 1.3110690933072637}\n",
      "Configuration: {'x1': 0.99999998, 'x2': 0.7471216568964848}\n",
      "\n",
      "Iteration: 5    Score: {'f1': 0.35079648038431066, 'f2': 1.3156711121752496}\n",
      "Configuration: {'x1': 0.8341175681986398, 'x2': 0.0}\n",
      "\n",
      "Iteration: 6    Score: {'f1': 1.4999999800000003, 'f2': 0.0}\n",
      "Configuration: {'x1': 0.0, 'x2': 0.99999998}\n",
      "\n",
      "Iteration: 7    Score: {'f1': 1.5, 'f2': 0.0}\n",
      "Configuration: {'x1': 0.0, 'x2': 0.0}\n",
      "\n",
      "Iteration: 8    Score: {'f1': 1.0495855912267966, 'f2': 0.7063043290212564}\n",
      "Configuration: {'x1': 0.37708938680288906, 'x2': 0.99999998}\n",
      "\n",
      "Iteration: 9    Score: {'f1': 1.3918652540840217, 'f2': 0.2219783085213154}\n",
      "Configuration: {'x1': 0.10068189421204124, 'x2': 0.0}\n",
      "\n",
      "Iteration: 10    Score: {'f1': 0.9504967776891087, 'f2': 0.8154529521090241}\n",
      "Configuration: {'x1': 0.45141165573662306, 'x2': 0.0}\n",
      "\n",
      "Iteration: 11    Score: {'f1': 0.21583692369180985, 'f2': 1.395243690032084}\n",
      "Configuration: {'x1': 0.9022927223465956, 'x2': 0.99999998}\n",
      "\n",
      "Iteration: 12    Score: {'f1': 0.7037626749349095, 'f2': 1.0517919576227932}\n",
      "Configuration: {'x1': 0.6245910336282336, 'x2': 0.99999998}\n",
      "\n",
      "Iteration: 13    Score: {'f1': 1.1104710740916957, 'f2': 0.6341571692922051}\n",
      "Configuration: {'x1': 0.33032676711394193, 'x2': 0.0}\n",
      "\n",
      "Iteration: 14    Score: {'f1': 0.5471830130005172, 'f2': 1.1791315518456944}\n",
      "Configuration: {'x1': 0.7234006901942756, 'x2': 0.0}\n",
      "\n",
      "Iteration: 15    Score: {'f1': 0.22827340127859427, 'f2': 1.388378636569629}\n",
      "Configuration: {'x1': 0.8962569108370078, 'x2': 0.0}\n",
      "\n",
      "Iteration: 16    Score: {'f1': 0.4790411422911622, 'f2': 1.2293734035625923}\n",
      "Configuration: {'x1': 0.7634553931161034, 'x2': 0.99999998}\n",
      "\n",
      "Iteration: 17    Score: {'f1': 0.12326909528747322, 'f2': 1.4434524888937188}\n",
      "Configuration: {'x1': 0.9457650309827127, 'x2': 0.99999998}\n",
      "\n",
      "Iteration: 18    Score: {'f1': 1.1360229835194413, 'f2': 0.6025420811253079}\n",
      "Configuration: {'x1': 0.3104589067538141, 'x2': 0.99999998}\n",
      "\n",
      "Iteration: 19    Score: {'f1': 0.7840102301153457, 'f2': 0.9799231307211674}\n",
      "Configuration: {'x1': 0.5704181629041606, 'x2': 0.0}\n",
      "\n",
      "Iteration: 20    Score: {'f1': 1.4014871293121542, 'f2': 0.20437738283452536}\n",
      "Configuration: {'x1': 0.09218776117659044, 'x2': 0.99999998}\n",
      "\n",
      "Iteration: 21    Score: {'f1': 0.8219538499520991, 'f2': 0.9443215649420849}\n",
      "Configuration: {'x1': 0.5440347117885305, 'x2': 0.99999998}\n",
      "\n",
      "Iteration: 22    Score: {'f1': 0.37582158501698626, 'f2': 1.2996642072075966}\n",
      "Configuration: {'x1': 0.8207979020811177, 'x2': 0.99999998}\n",
      "\n",
      "Iteration: 23    Score: {'f1': 1.1964784105177528, 'f2': 0.5241254763332559}\n",
      "Configuration: {'x1': 0.2628460906247329, 'x2': 0.0}\n",
      "\n",
      "Iteration: 24    Score: {'f1': 0.6011599001400593, 'f2': 1.1371245473678613}\n",
      "Configuration: {'x1': 0.6904009127167576, 'x2': 0.99999998}\n",
      "\n",
      "Iteration: 25    Score: {'f1': 1.1570564963247927, 'f2': 0.5758631732077194}\n",
      "Configuration: {'x1': 0.2939930820277406, 'x2': 0.99999998}\n",
      "\n",
      "Iteration: 26    Score: {'f1': 1.3948391409935508, 'f2': 0.21657453579827385}\n",
      "Configuration: {'x1': 0.0980639282777608, 'x2': 0.0}\n",
      "\n",
      "Iteration: 27    Score: {'f1': 0.4433252825688133, 'f2': 1.254480208054131}\n",
      "Configuration: {'x1': 0.7837435290017966, 'x2': 0.0}\n",
      "\n",
      "Iteration: 28    Score: {'f1': 1.414680369878557, 'f2': 0.1796719892245976}\n",
      "Configuration: {'x1': 0.08042354735394969, 'x2': 0.99999998}\n",
      "\n",
      "Iteration: 29    Score: {'f1': 0.49287877195884083, 'f2': 1.2194203750283215}\n",
      "Configuration: {'x1': 0.7554653686599905, 'x2': 0.99999998}\n",
      "\n",
      "Task Completed\n",
      "\n"
     ]
    }
   ],
   "source": [
    "pareto_set = task.run(scoring_function, max_iterations=30)"
   ]
  },
  {
   "cell_type": "markdown",
   "metadata": {},
   "source": [
    "## Plot your results"
   ]
  },
  {
   "cell_type": "code",
   "execution_count": 5,
   "metadata": {},
   "outputs": [
    {
     "data": {
      "image/png": "[encoded data removed]",
      "text/plain": [
       "<Figure size 1152x576 with 1 Axes>"
      ]
     },
     "metadata": {},
     "output_type": "display_data"
    }
   ],
   "source": [
    "%matplotlib inline\n",
    "from matplotlib import pyplot as plt\n",
    "\n",
    "all_results = task.get_results()\n",
    "all_f1_scores = [result.score['f1'] for result in all_results]\n",
    "all_f2_scores = [result.score['f2'] for result in all_results]\n",
    "\n",
    "ordered_pareto_set = sorted(pareto_set, key=lambda result: result.score['f1'])\n",
    "pareto_f1_scores = [result.score['f1'] for result in ordered_pareto_set]\n",
    "pareto_f2_scores = [result.score['f2'] for result in ordered_pareto_set]\n",
    "\n",
    "plt.figure(figsize=(16,8))\n",
    "plt.plot(all_f1_scores, all_f2_scores, 'xb', label='All Results')\n",
    "plt.plot(pareto_f1_scores, pareto_f2_scores, 'r', label='Pareto Front')\n",
    "plt.xlabel('f1')\n",
    "plt.ylabel('f2')\n",
    "plt.legend()\n",
    "plt.show()"
   ]
  }
 ],
 "metadata": {
  "kernelspec": {
   "display_name": "Python 3",
   "language": "python",
   "name": "python3"
  },
  "language_info": {
   "codemirror_mode": {
    "name": "ipython",
    "version": 3
   },
   "file_extension": ".py",
   "mimetype": "text/x-python",
   "name": "python",
   "nbconvert_exporter": "python",
   "pygments_lexer": "ipython3",
   "version": "3.6.5"
  },
  "nav_menu": {},
  "toc": {
   "navigate_menu": true,
   "number_sections": false,
   "sideBar": true,
   "threshold": 6.0,
   "toc_cell": false,
   "toc_section_display": "block",
   "toc_window_display": false
  }
 },
 "nbformat": 4,
 "nbformat_minor": 2
}
