{
 "cells": [
  {
   "cell_type": "markdown",
   "metadata": {},
   "source": [
    "# OPTaaS Scikit-learn Pipelines\n",
    "\n",
    "Using the OPTaaS Python Client, you can optimize any scikit-learn pipeline. For each step or estimator in the pipeline, OPTaaS just needs to know what parameters to optimize and what constraints will apply to them.\n",
    "\n",
    "Your pipeline can even include **optional** steps (such as feature selection), **choice** steps (such as choosing between a set of classifiers) and **nested** pipelines.\n",
    "\n",
    "We have provided pre-defined parameters and constraints for some of the most widely used estimators, such as Random Forest and XGBoost. The example below demonstrates how to use them. See also our [tutorial on defining your own custom optimizable estimators](sklearn_custom.ipynb)."
   ]
  },
  {
   "cell_type": "markdown",
   "metadata": {},
   "source": [
    "## Load your dataset\n",
    "\n",
    "We will run a classification pipeline using the German Credit Data available [here](https://newonlinecourses.science.psu.edu/stat857/node/215/). The data contains 1000 rows, with 20 feature columns and 1 target column which includes 2 classes."
   ]
  },
  {
   "cell_type": "code",
   "execution_count": 1,
   "metadata": {
    "scrolled": false
   },
   "outputs": [],
   "source": [
    "import pandas as pd\n",
    "\n",
    "data = pd.read_csv('german_credit.csv')\n",
    "features = data[data.columns.drop(['Creditability'])]\n",
    "target = data['Creditability']"
   ]
  },
  {
   "cell_type": "markdown",
   "metadata": {},
   "source": [
    "## Specify your estimators\n",
    "\n",
    "Our pipeline will include:\n",
    "\n",
    "- An optional feature selection step using PCA\n",
    "\n",
    "- A choice of classifier from: Random Forest, Extra Trees and Linear SVC"
   ]
  },
  {
   "cell_type": "code",
   "execution_count": 2,
   "metadata": {},
   "outputs": [],
   "source": [
    "from mindfoundry.optaas.client.sklearn_pipelines.estimators.pca import PCA\n",
    "from mindfoundry.optaas.client.sklearn_pipelines.estimators.ensemble import RandomForestClassifier, ExtraTreesClassifier\n",
    "from mindfoundry.optaas.client.sklearn_pipelines.estimators.svc import LinearSVC\n",
    "from mindfoundry.optaas.client.sklearn_pipelines.mixin import choice, optional_step\n",
    "\n",
    "estimators = [\n",
    "    ('feature_selection', optional_step(PCA())),\n",
    "    ('classification', choice(\n",
    "        RandomForestClassifier(),\n",
    "        ExtraTreesClassifier(),\n",
    "        LinearSVC()\n",
    "    ))\n",
    "]"
   ]
  },
  {
   "cell_type": "markdown",
   "metadata": {},
   "source": [
    "## Connect to the OPTaaS server using your API Key\n",
    "\n",
    "We now create a client, and connect to the web service that will perform our optimization. You will need to input your personal API key. Make sure you keep your key private and don't commit it to your version control system. "
   ]
  },
  {
   "cell_type": "code",
   "execution_count": 3,
   "metadata": {},
   "outputs": [],
   "source": [
    "from mindfoundry.optaas.client.client import OPTaaSClient\n",
    "\n",
    "client = OPTaaSClient('https://optaas.mindfoundry.ai', '<Your OPTaaS API key>')"
   ]
  },
  {
   "cell_type": "markdown",
   "metadata": {},
   "source": [
    "## Create your Sklearn Task\n",
    "\n",
    "We don't need to worry about specifying all the parameters and constraints - they are generated based on our estimators. Sometimes we will need to provide additional kwargs, e.g. `feature_count` which is required by PCA.\n",
    "\n",
    "If we do need to optimize any additional parameters that are outside of our pipeline, we can include them in `additional_parameters` and `additional_constraints`."
   ]
  },
  {
   "cell_type": "code",
   "execution_count": 4,
   "metadata": {},
   "outputs": [
    {
     "data": {
      "text/plain": [
       "[{'id': '2998940367728',\n",
       "  'items': [{'id': 'feature_selection',\n",
       "    'items': [{'default': 'auto',\n",
       "      'enum': ['arpack', 'auto', 'full', 'randomized'],\n",
       "      'id': 'feature_selection__svd_solver',\n",
       "      'name': 'svd_solver',\n",
       "      'type': 'categorical'},\n",
       "     {'choices': [{'id': 'feature_selection__n_components_int',\n",
       "        'maximum': 20,\n",
       "        'minimum': 1,\n",
       "        'name': 'n_components_int',\n",
       "        'type': 'integer'},\n",
       "       {'id': 'feature_selection__n_components_float',\n",
       "        'maximum': 0.9999999999999999,\n",
       "        'minimum': 5e-324,\n",
       "        'name': 'n_components_float',\n",
       "        'type': 'number'},\n",
       "       {'id': 'feature_selection__n_components_mle',\n",
       "        'name': 'n_components_mle',\n",
       "        'type': 'constant',\n",
       "        'value': 'mle'}],\n",
       "      'id': 'feature_selection__n_components',\n",
       "      'includeInDefault': False,\n",
       "      'name': 'n_components',\n",
       "      'optional': True,\n",
       "      'type': 'choice'},\n",
       "     {'default': False,\n",
       "      'id': 'feature_selection__whiten',\n",
       "      'name': 'whiten',\n",
       "      'type': 'boolean'},\n",
       "     {'default': 0.0,\n",
       "      'id': 'feature_selection__tol',\n",
       "      'maximum': 1,\n",
       "      'minimum': 0,\n",
       "      'name': 'tol',\n",
       "      'optional': True,\n",
       "      'type': 'number'},\n",
       "     {'choices': [{'id': 'feature_selection__iterated_power_int',\n",
       "        'maximum': 99,\n",
       "        'minimum': 0,\n",
       "        'name': 'iterated_power_int',\n",
       "        'type': 'integer'},\n",
       "       {'id': 'feature_selection__iterated_power_auto',\n",
       "        'name': 'iterated_power_auto',\n",
       "        'type': 'constant',\n",
       "        'value': 'auto'}],\n",
       "      'default': '#feature_selection__iterated_power_auto',\n",
       "      'id': 'feature_selection__iterated_power',\n",
       "      'name': 'iterated_power',\n",
       "      'type': 'choice'}],\n",
       "    'name': 'feature_selection',\n",
       "    'optional': True,\n",
       "    'type': 'group'},\n",
       "   {'choices': [{'id': 'classification__0',\n",
       "      'items': [{'choices': [{'id': 'classification__0__max_features_float',\n",
       "          'maximum': 1.0,\n",
       "          'minimum': 0.0,\n",
       "          'name': 'max_features_float',\n",
       "          'type': 'number'},\n",
       "         {'default': 'auto',\n",
       "          'enum': ['auto', 'sqrt', 'log2'],\n",
       "          'id': 'classification__0__max_features_string',\n",
       "          'name': 'max_features_string',\n",
       "          'type': 'categorical'}],\n",
       "        'default': '#classification__0__max_features_string',\n",
       "        'id': 'classification__0__max_features',\n",
       "        'name': 'max_features',\n",
       "        'type': 'choice'},\n",
       "       {'choices': [{'default': 2,\n",
       "          'distribution': 'Uniform',\n",
       "          'id': 'classification__0__min_samples_split_int',\n",
       "          'maximum': 20,\n",
       "          'minimum': 2,\n",
       "          'name': 'min_samples_split_int',\n",
       "          'type': 'integer'},\n",
       "         {'id': 'classification__0__min_samples_split_float',\n",
       "          'maximum': 1.0,\n",
       "          'minimum': 0.0,\n",
       "          'name': 'min_samples_split_float',\n",
       "          'type': 'number'}],\n",
       "        'default': '#classification__0__min_samples_split_int',\n",
       "        'id': 'classification__0__min_samples_split',\n",
       "        'name': 'min_samples_split',\n",
       "        'type': 'choice'},\n",
       "       {'choices': [{'default': 1,\n",
       "          'id': 'classification__0__min_samples_leaf_int',\n",
       "          'maximum': 20,\n",
       "          'minimum': 1,\n",
       "          'name': 'min_samples_leaf_int',\n",
       "          'type': 'integer'},\n",
       "         {'id': 'classification__0__min_samples_leaf_float',\n",
       "          'maximum': 0.5,\n",
       "          'minimum': 5e-324,\n",
       "          'name': 'min_samples_leaf_float',\n",
       "          'type': 'number'}],\n",
       "        'default': '#classification__0__min_samples_leaf_int',\n",
       "        'id': 'classification__0__min_samples_leaf',\n",
       "        'name': 'min_samples_leaf',\n",
       "        'type': 'choice'},\n",
       "       {'default': 'gini',\n",
       "        'enum': ['gini', 'entropy'],\n",
       "        'id': 'classification__0__criterion',\n",
       "        'name': 'criterion',\n",
       "        'type': 'categorical'},\n",
       "       {'distribution': 'LogUniform',\n",
       "        'id': 'classification__0__max_leaf_nodes',\n",
       "        'includeInDefault': False,\n",
       "        'maximum': 10000,\n",
       "        'minimum': 10,\n",
       "        'name': 'max_leaf_nodes',\n",
       "        'optional': True,\n",
       "        'type': 'integer'},\n",
       "       {'distribution': 'LogUniform',\n",
       "        'id': 'classification__0__max_depth',\n",
       "        'includeInDefault': False,\n",
       "        'maximum': 100,\n",
       "        'minimum': 1,\n",
       "        'name': 'max_depth',\n",
       "        'optional': True,\n",
       "        'type': 'integer'},\n",
       "       {'default': 0.0,\n",
       "        'id': 'classification__0__min_weight_fraction_leaf',\n",
       "        'maximum': 0.5,\n",
       "        'minimum': 0.0,\n",
       "        'name': 'min_weight_fraction_leaf',\n",
       "        'type': 'number'},\n",
       "       {'default': 0.0,\n",
       "        'id': 'classification__0__min_impurity_decrease',\n",
       "        'maximum': 1,\n",
       "        'minimum': 0,\n",
       "        'name': 'min_impurity_decrease',\n",
       "        'type': 'number'},\n",
       "       {'default': True,\n",
       "        'id': 'classification__0__bootstrap',\n",
       "        'name': 'bootstrap',\n",
       "        'type': 'boolean'},\n",
       "       {'default': False,\n",
       "        'id': 'classification__0__oob_score',\n",
       "        'name': 'oob_score',\n",
       "        'type': 'boolean'},\n",
       "       {'default': 10,\n",
       "        'distribution': 'LogUniform',\n",
       "        'id': 'classification__0__n_estimators',\n",
       "        'maximum': 500,\n",
       "        'minimum': 10,\n",
       "        'name': 'n_estimators',\n",
       "        'type': 'integer'}],\n",
       "      'name': '0',\n",
       "      'type': 'group'},\n",
       "     {'id': 'classification__1',\n",
       "      'items': [{'choices': [{'id': 'classification__1__max_features_float',\n",
       "          'maximum': 1.0,\n",
       "          'minimum': 0.0,\n",
       "          'name': 'max_features_float',\n",
       "          'type': 'number'},\n",
       "         {'default': 'auto',\n",
       "          'enum': ['auto', 'sqrt', 'log2'],\n",
       "          'id': 'classification__1__max_features_string',\n",
       "          'name': 'max_features_string',\n",
       "          'type': 'categorical'}],\n",
       "        'default': '#classification__1__max_features_string',\n",
       "        'id': 'classification__1__max_features',\n",
       "        'name': 'max_features',\n",
       "        'type': 'choice'},\n",
       "       {'choices': [{'default': 2,\n",
       "          'distribution': 'LogUniform',\n",
       "          'id': 'classification__1__min_samples_split_int',\n",
       "          'maximum': 20,\n",
       "          'minimum': 2,\n",
       "          'name': 'min_samples_split_int',\n",
       "          'type': 'integer'},\n",
       "         {'id': 'classification__1__min_samples_split_float',\n",
       "          'maximum': 1.0,\n",
       "          'minimum': 0.0,\n",
       "          'name': 'min_samples_split_float',\n",
       "          'type': 'number'}],\n",
       "        'default': '#classification__1__min_samples_split_int',\n",
       "        'id': 'classification__1__min_samples_split',\n",
       "        'name': 'min_samples_split',\n",
       "        'type': 'choice'},\n",
       "       {'choices': [{'default': 1,\n",
       "          'id': 'classification__1__min_samples_leaf_int',\n",
       "          'maximum': 20,\n",
       "          'minimum': 1,\n",
       "          'name': 'min_samples_leaf_int',\n",
       "          'type': 'integer'},\n",
       "         {'id': 'classification__1__min_samples_leaf_float',\n",
       "          'maximum': 0.5,\n",
       "          'minimum': 5e-324,\n",
       "          'name': 'min_samples_leaf_float',\n",
       "          'type': 'number'}],\n",
       "        'default': '#classification__1__min_samples_leaf_int',\n",
       "        'id': 'classification__1__min_samples_leaf',\n",
       "        'name': 'min_samples_leaf',\n",
       "        'type': 'choice'},\n",
       "       {'default': 'gini',\n",
       "        'enum': ['gini', 'entropy'],\n",
       "        'id': 'classification__1__criterion',\n",
       "        'name': 'criterion',\n",
       "        'type': 'categorical'},\n",
       "       {'distribution': 'LogUniform',\n",
       "        'id': 'classification__1__max_leaf_nodes',\n",
       "        'includeInDefault': False,\n",
       "        'maximum': 10000,\n",
       "        'minimum': 10,\n",
       "        'name': 'max_leaf_nodes',\n",
       "        'optional': True,\n",
       "        'type': 'integer'},\n",
       "       {'distribution': 'Uniform',\n",
       "        'id': 'classification__1__max_depth',\n",
       "        'includeInDefault': False,\n",
       "        'maximum': 100,\n",
       "        'minimum': 1,\n",
       "        'name': 'max_depth',\n",
       "        'optional': True,\n",
       "        'type': 'integer'},\n",
       "       {'default': 0.0,\n",
       "        'id': 'classification__1__min_weight_fraction_leaf',\n",
       "        'maximum': 0.5,\n",
       "        'minimum': 0.0,\n",
       "        'name': 'min_weight_fraction_leaf',\n",
       "        'type': 'number'},\n",
       "       {'default': 0.0,\n",
       "        'id': 'classification__1__min_impurity_decrease',\n",
       "        'maximum': 1,\n",
       "        'minimum': 0,\n",
       "        'name': 'min_impurity_decrease',\n",
       "        'type': 'number'},\n",
       "       {'default': False,\n",
       "        'id': 'classification__1__bootstrap',\n",
       "        'name': 'bootstrap',\n",
       "        'type': 'boolean'},\n",
       "       {'default': False,\n",
       "        'id': 'classification__1__oob_score',\n",
       "        'name': 'oob_score',\n",
       "        'type': 'boolean'},\n",
       "       {'default': 10,\n",
       "        'distribution': 'LogUniform',\n",
       "        'id': 'classification__1__n_estimators',\n",
       "        'maximum': 500,\n",
       "        'minimum': 10,\n",
       "        'name': 'n_estimators',\n",
       "        'type': 'integer'}],\n",
       "      'name': '1',\n",
       "      'type': 'group'},\n",
       "     {'id': 'classification__2',\n",
       "      'items': [{'default': 1.0,\n",
       "        'distribution': 'LogUniform',\n",
       "        'id': 'classification__2__C',\n",
       "        'maximum': 5.0,\n",
       "        'minimum': 0.2,\n",
       "        'name': 'C',\n",
       "        'type': 'number'},\n",
       "       {'default': 0.0001,\n",
       "        'id': 'classification__2__tol',\n",
       "        'maximum': 1,\n",
       "        'minimum': 0,\n",
       "        'name': 'tol',\n",
       "        'type': 'number'},\n",
       "       {'id': 'classification__2__class_weight',\n",
       "        'includeInDefault': False,\n",
       "        'name': 'class_weight',\n",
       "        'optional': True,\n",
       "        'type': 'constant',\n",
       "        'value': 'balanced'},\n",
       "       {'default': True,\n",
       "        'id': 'classification__2__dual',\n",
       "        'name': 'dual',\n",
       "        'optional': True,\n",
       "        'type': 'boolean'},\n",
       "       {'default': 'l2',\n",
       "        'enum': ['l1', 'l2'],\n",
       "        'id': 'classification__2__penalty',\n",
       "        'name': 'penalty',\n",
       "        'optional': True,\n",
       "        'type': 'categorical'},\n",
       "       {'default': 'squared_hinge',\n",
       "        'enum': ['hinge', 'squared_hinge'],\n",
       "        'id': 'classification__2__loss',\n",
       "        'name': 'loss',\n",
       "        'optional': True,\n",
       "        'type': 'categorical'},\n",
       "       {'default': 'ovr',\n",
       "        'enum': ['ovr', 'crammer_singer'],\n",
       "        'id': 'classification__2__multi_class',\n",
       "        'name': 'multi_class',\n",
       "        'type': 'categorical'},\n",
       "       {'default': True,\n",
       "        'id': 'classification__2__fit_intercept',\n",
       "        'name': 'fit_intercept',\n",
       "        'type': 'boolean'},\n",
       "       {'default': 1,\n",
       "        'id': 'classification__2__intercept_scaling',\n",
       "        'maximum': 1,\n",
       "        'minimum': 0,\n",
       "        'name': 'intercept_scaling',\n",
       "        'optional': True,\n",
       "        'type': 'number'}],\n",
       "      'name': '2',\n",
       "      'type': 'group'}],\n",
       "    'id': 'classification',\n",
       "    'name': 'classification',\n",
       "    'type': 'choice'}],\n",
       "  'name': 'pipeline',\n",
       "  'type': 'group'},\n",
       " {'id': '2998940377272',\n",
       "  'items': [{'id': 'extra',\n",
       "    'maximum': 10,\n",
       "    'minimum': 0,\n",
       "    'name': 'extra',\n",
       "    'type': 'integer'}],\n",
       "  'name': 'additional',\n",
       "  'type': 'group'}]"
      ]
     },
     "metadata": {},
     "output_type": "display_data"
    },
    {
     "data": {
      "text/plain": [
       "[\"if #feature_selection__svd_solver == 'arpack' then ( #feature_selection__n_components_int < 20 ) && #feature_selection__tol is_present\",\n",
       " \"if ( #feature_selection__svd_solver == 'auto' ) || ( #feature_selection__svd_solver == 'randomized' ) then #feature_selection__n_components is_absent || ( #feature_selection__n_components == #feature_selection__n_components_int )\",\n",
       " 'if #classification__0__bootstrap == false then #classification__0__oob_score != true',\n",
       " 'if #classification__1__bootstrap == false then #classification__1__oob_score != true',\n",
       " \"if #classification__2__dual == true then #classification__2__penalty == 'l2'\",\n",
       " \"if #classification__2__dual == false then #classification__2__loss == 'squared_hinge'\",\n",
       " \"if #classification__2__multi_class == 'ovr' then ( #classification__2__dual is_present && #classification__2__penalty is_present ) && #classification__2__loss is_present\",\n",
       " \"if #classification__2__multi_class == 'crammer_singer' then ( #classification__2__dual is_absent && #classification__2__penalty is_absent ) && #classification__2__loss is_absent\",\n",
       " 'if #classification__2__fit_intercept == true then #classification__2__intercept_scaling is_present',\n",
       " 'if #classification__2__fit_intercept == false then #classification__2__intercept_scaling is_absent',\n",
       " '#extra != 7']"
      ]
     },
     "metadata": {},
     "output_type": "display_data"
    }
   ],
   "source": [
    "from mindfoundry.optaas.client.parameter import IntParameter\n",
    "from mindfoundry.optaas.client.constraint import Constraint\n",
    "\n",
    "my_extra_param = IntParameter('extra', id='extra', minimum=0, maximum=10)\n",
    "my_extra_constraint = Constraint(my_extra_param != 7)\n",
    "\n",
    "task = client.create_sklearn_task(\n",
    "    title='My Sklearn Task', \n",
    "    estimators=estimators,\n",
    "    feature_count=len(features.columns),\n",
    "    additional_parameters=[my_extra_param],\n",
    "    additional_constraints=[my_extra_constraint],\n",
    ")\n",
    "\n",
    "display(task.parameters)\n",
    "display(task.constraints)"
   ]
  },
  {
   "cell_type": "markdown",
   "metadata": {},
   "source": [
    "## Generate the first pipeline\n",
    "\n",
    "We get the first configuration from OPTaaS and use it to generate a pipeline:"
   ]
  },
  {
   "cell_type": "code",
   "execution_count": 5,
   "metadata": {
    "scrolled": false
   },
   "outputs": [
    {
     "data": {
      "text/plain": [
       "Pipeline(memory=None,\n",
       "     steps=[('feature_selection', PCA(copy=True, iterated_power='auto', n_components=None, random_state=None,\n",
       "  svd_solver='auto', tol=0.0, whiten=False)), ('classification', RandomForestClassifier(bootstrap=True, class_weight=None, criterion='gini',\n",
       "            max_depth=None, max_features='auto', max_l...n_jobs=1,\n",
       "            oob_score=False, random_state=None, verbose=0,\n",
       "            warm_start=False))])"
      ]
     },
     "metadata": {},
     "output_type": "display_data"
    }
   ],
   "source": [
    "configuration = task.generate_configurations()[0]\n",
    "pipeline = task.make_pipeline(configuration)\n",
    "\n",
    "display(pipeline)"
   ]
  },
  {
   "cell_type": "markdown",
   "metadata": {},
   "source": [
    "## Run your pipeline and calculate the result\n",
    "\n",
    "We define a function to run our pipeline and calculate the mean score:"
   ]
  },
  {
   "cell_type": "code",
   "execution_count": 6,
   "metadata": {
    "scrolled": true
   },
   "outputs": [
    {
     "data": {
      "text/plain": [
       "'Mean score: 0.682'"
      ]
     },
     "metadata": {},
     "output_type": "display_data"
    }
   ],
   "source": [
    "from sklearn.model_selection import cross_val_score\n",
    "\n",
    "def get_result(pipeline):\n",
    "    scores = cross_val_score(pipeline, features, target, scoring='f1_micro')\n",
    "    mean_score = scores.mean()\n",
    "    return mean_score\n",
    "\n",
    "mean_score = get_result(pipeline)\n",
    "\n",
    "display(f'Mean score: {mean_score:.3f}')"
   ]
  },
  {
   "cell_type": "markdown",
   "metadata": {},
   "source": [
    "## Record the result in OPTaaS and generate the next pipeline"
   ]
  },
  {
   "cell_type": "code",
   "execution_count": 7,
   "metadata": {
    "scrolled": false
   },
   "outputs": [],
   "source": [
    "configuration = task.record_result(configuration, score=mean_score)\n",
    "pipeline = task.make_pipeline(configuration)"
   ]
  },
  {
   "cell_type": "markdown",
   "metadata": {},
   "source": [
    "## Repeat as necessary"
   ]
  },
  {
   "cell_type": "code",
   "execution_count": 8,
   "metadata": {
    "scrolled": true
   },
   "outputs": [
    {
     "data": {
      "text/plain": [
       "'OPTaaS recommendation:'"
      ]
     },
     "metadata": {},
     "output_type": "display_data"
    },
    {
     "data": {
      "text/plain": [
       "Pipeline(memory=None,\n",
       "     steps=[('classification', ExtraTreesClassifier(bootstrap=True, class_weight=None, criterion='gini',\n",
       "           max_depth=None, max_features='sqrt', max_leaf_nodes=None,\n",
       "           min_impurity_decrease=0.4262724261194766,\n",
       "           min_impurity_split=None, min_samples_leaf=0.2813308852905662,\n",
       "     ...5,\n",
       "           n_jobs=1, oob_score=True, random_state=None, verbose=0,\n",
       "           warm_start=False))])"
      ]
     },
     "metadata": {},
     "output_type": "display_data"
    },
    {
     "data": {
      "text/plain": [
       "'Mean score: 0.700'"
      ]
     },
     "metadata": {},
     "output_type": "display_data"
    },
    {
     "data": {
      "text/plain": [
       "'OPTaaS recommendation:'"
      ]
     },
     "metadata": {},
     "output_type": "display_data"
    },
    {
     "data": {
      "text/plain": [
       "Pipeline(memory=None,\n",
       "     steps=[('feature_selection', PCA(copy=True, iterated_power='auto', n_components=None, random_state=None,\n",
       "  svd_solver='randomized', tol=0.020663447656042555, whiten=True)), ('classification', ExtraTreesClassifier(bootstrap=False, class_weight=None, criterion='entropy',\n",
       "           max_depth=None, max...,\n",
       "           n_jobs=1, oob_score=False, random_state=None, verbose=0,\n",
       "           warm_start=False))])"
      ]
     },
     "metadata": {},
     "output_type": "display_data"
    },
    {
     "data": {
      "text/plain": [
       "'Mean score: 0.700'"
      ]
     },
     "metadata": {},
     "output_type": "display_data"
    },
    {
     "data": {
      "text/plain": [
       "'OPTaaS recommendation:'"
      ]
     },
     "metadata": {},
     "output_type": "display_data"
    },
    {
     "data": {
      "text/plain": [
       "Pipeline(memory=None,\n",
       "     steps=[('feature_selection', PCA(copy=True, iterated_power='auto', n_components=None, random_state=None,\n",
       "  svd_solver='auto', tol=0.5030968539752759, whiten=False)), ('classification', ExtraTreesClassifier(bootstrap=True, class_weight=None, criterion='gini',\n",
       "           max_depth=81, max_features='lo...,\n",
       "           n_jobs=1, oob_score=False, random_state=None, verbose=0,\n",
       "           warm_start=False))])"
      ]
     },
     "metadata": {},
     "output_type": "display_data"
    },
    {
     "data": {
      "text/plain": [
       "'Mean score: 0.700'"
      ]
     },
     "metadata": {},
     "output_type": "display_data"
    },
    {
     "data": {
      "text/plain": [
       "'OPTaaS recommendation:'"
      ]
     },
     "metadata": {},
     "output_type": "display_data"
    },
    {
     "data": {
      "text/plain": [
       "Pipeline(memory=None,\n",
       "     steps=[('feature_selection', PCA(copy=True, iterated_power='auto', n_components='mle', random_state=None,\n",
       "  svd_solver='full', tol=None, whiten=False)), ('classification', RandomForestClassifier(bootstrap=False, class_weight=None,\n",
       "            criterion='entropy', max_depth=92, max_features='log2',\n",
       " ...            n_jobs=1, oob_score=False, random_state=None, verbose=0,\n",
       "            warm_start=False))])"
      ]
     },
     "metadata": {},
     "output_type": "display_data"
    },
    {
     "data": {
      "text/plain": [
       "'Mean score: 0.700'"
      ]
     },
     "metadata": {},
     "output_type": "display_data"
    },
    {
     "data": {
      "text/plain": [
       "'OPTaaS recommendation:'"
      ]
     },
     "metadata": {},
     "output_type": "display_data"
    },
    {
     "data": {
      "text/plain": [
       "Pipeline(memory=None,\n",
       "     steps=[('classification', RandomForestClassifier(bootstrap=True, class_weight=None, criterion='entropy',\n",
       "            max_depth=19, max_features='log2', max_leaf_nodes=73,\n",
       "            min_impurity_decrease=0.3766117078705701,\n",
       "            min_impurity_split=None, min_samples_leaf=0.46218877826303906,\n",
       "...\n",
       "            n_jobs=1, oob_score=True, random_state=None, verbose=0,\n",
       "            warm_start=False))])"
      ]
     },
     "metadata": {},
     "output_type": "display_data"
    },
    {
     "data": {
      "text/plain": [
       "'Mean score: 0.700'"
      ]
     },
     "metadata": {},
     "output_type": "display_data"
    },
    {
     "data": {
      "text/plain": [
       "'OPTaaS recommendation:'"
      ]
     },
     "metadata": {},
     "output_type": "display_data"
    },
    {
     "data": {
      "text/plain": [
       "Pipeline(memory=None,\n",
       "     steps=[('feature_selection', PCA(copy=True, iterated_power=14, n_components=6, random_state=None,\n",
       "  svd_solver='arpack', tol=0.9654135855156393, whiten=True)), ('classification', ExtraTreesClassifier(bootstrap=True, class_weight=None, criterion='gini',\n",
       "           max_depth=None, max_features='sqrt',...7,\n",
       "           n_jobs=1, oob_score=True, random_state=None, verbose=0,\n",
       "           warm_start=False))])"
      ]
     },
     "metadata": {},
     "output_type": "display_data"
    },
    {
     "data": {
      "text/plain": [
       "'Mean score: 0.700'"
      ]
     },
     "metadata": {},
     "output_type": "display_data"
    },
    {
     "data": {
      "text/plain": [
       "'OPTaaS recommendation:'"
      ]
     },
     "metadata": {},
     "output_type": "display_data"
    },
    {
     "data": {
      "text/plain": [
       "Pipeline(memory=None,\n",
       "     steps=[('classification', RandomForestClassifier(bootstrap=False, class_weight=None, criterion='gini',\n",
       "            max_depth=None, max_features='auto', max_leaf_nodes=1600,\n",
       "            min_impurity_decrease=0.6708937057707017,\n",
       "            min_impurity_split=None, min_samples_leaf=19,\n",
       "            min_samples_split=15,\n",
       "            min_weight_fraction_leaf=0.08411084385190043, n_estimators=185,\n",
       "            n_jobs=1, oob_score=False, random_state=None, verbose=0,\n",
       "            warm_start=False))])"
      ]
     },
     "metadata": {},
     "output_type": "display_data"
    },
    {
     "data": {
      "text/plain": [
       "'Mean score: 0.700'"
      ]
     },
     "metadata": {},
     "output_type": "display_data"
    },
    {
     "data": {
      "text/plain": [
       "'OPTaaS recommendation:'"
      ]
     },
     "metadata": {},
     "output_type": "display_data"
    },
    {
     "data": {
      "text/plain": [
       "Pipeline(memory=None,\n",
       "     steps=[('classification', ExtraTreesClassifier(bootstrap=False, class_weight=None, criterion='gini',\n",
       "           max_depth=None, max_features='log2', max_leaf_nodes=53,\n",
       "           min_impurity_decrease=0.8617758328892033,\n",
       "           min_impurity_split=None, min_samples_leaf=11,\n",
       "           min_samples_split=4,\n",
       "           min_weight_fraction_leaf=0.39905301281346783, n_estimators=346,\n",
       "           n_jobs=1, oob_score=False, random_state=None, verbose=0,\n",
       "           warm_start=False))])"
      ]
     },
     "metadata": {},
     "output_type": "display_data"
    },
    {
     "data": {
      "text/plain": [
       "'Mean score: 0.700'"
      ]
     },
     "metadata": {},
     "output_type": "display_data"
    },
    {
     "data": {
      "text/plain": [
       "'OPTaaS recommendation:'"
      ]
     },
     "metadata": {},
     "output_type": "display_data"
    },
    {
     "data": {
      "text/plain": [
       "Pipeline(memory=None,\n",
       "     steps=[('classification', RandomForestClassifier(bootstrap=True, class_weight=None, criterion='entropy',\n",
       "            max_depth=None, max_features=0.33409943503560924,\n",
       "            max_leaf_nodes=9043, min_impurity_decrease=0.6053501516934395,\n",
       "            min_impurity_split=None, min_samples_leaf=6,\n",
       " ...\n",
       "            n_jobs=1, oob_score=True, random_state=None, verbose=0,\n",
       "            warm_start=False))])"
      ]
     },
     "metadata": {},
     "output_type": "display_data"
    },
    {
     "data": {
      "text/plain": [
       "'Mean score: 0.700'"
      ]
     },
     "metadata": {},
     "output_type": "display_data"
    },
    {
     "data": {
      "text/plain": [
       "'OPTaaS recommendation:'"
      ]
     },
     "metadata": {},
     "output_type": "display_data"
    },
    {
     "data": {
      "text/plain": [
       "Pipeline(memory=None,\n",
       "     steps=[('feature_selection', PCA(copy=True, iterated_power='auto', n_components=9, random_state=None,\n",
       "  svd_solver='full', tol=0.07952956047335424, whiten=False)), ('classification', RandomForestClassifier(bootstrap=False, class_weight=None, criterion='gini',\n",
       "            max_depth=2, max_features=0....            n_jobs=1, oob_score=False, random_state=None, verbose=0,\n",
       "            warm_start=False))])"
      ]
     },
     "metadata": {},
     "output_type": "display_data"
    },
    {
     "data": {
      "text/plain": [
       "'Mean score: 0.700'"
      ]
     },
     "metadata": {},
     "output_type": "display_data"
    },
    {
     "data": {
      "text/plain": [
       "'OPTaaS recommendation:'"
      ]
     },
     "metadata": {},
     "output_type": "display_data"
    },
    {
     "data": {
      "text/plain": [
       "Pipeline(memory=None,\n",
       "     steps=[('classification', RandomForestClassifier(bootstrap=True, class_weight=None, criterion='entropy',\n",
       "            max_depth=None, max_features='auto', max_leaf_nodes=None,\n",
       "            min_impurity_decrease=0.6510417656479421,\n",
       "            min_impurity_split=None, min_samples_leaf=20,\n",
       "            m...mators=101, n_jobs=1, oob_score=False, random_state=None,\n",
       "            verbose=0, warm_start=False))])"
      ]
     },
     "metadata": {},
     "output_type": "display_data"
    },
    {
     "data": {
      "text/plain": [
       "'Mean score: 0.700'"
      ]
     },
     "metadata": {},
     "output_type": "display_data"
    },
    {
     "data": {
      "text/plain": [
       "'OPTaaS recommendation:'"
      ]
     },
     "metadata": {},
     "output_type": "display_data"
    },
    {
     "data": {
      "text/plain": [
       "Pipeline(memory=None,\n",
       "     steps=[('feature_selection', PCA(copy=True, iterated_power='auto', n_components=0.6519867987279353,\n",
       "  random_state=None, svd_solver='full', tol=None, whiten=False)), ('classification', RandomForestClassifier(bootstrap=False, class_weight=None, criterion='gini',\n",
       "            max_depth=2, max_features=...            n_jobs=1, oob_score=False, random_state=None, verbose=0,\n",
       "            warm_start=False))])"
      ]
     },
     "metadata": {},
     "output_type": "display_data"
    },
    {
     "data": {
      "text/plain": [
       "'Mean score: 0.700'"
      ]
     },
     "metadata": {},
     "output_type": "display_data"
    },
    {
     "data": {
      "text/plain": [
       "'OPTaaS recommendation:'"
      ]
     },
     "metadata": {},
     "output_type": "display_data"
    },
    {
     "data": {
      "text/plain": [
       "Pipeline(memory=None,\n",
       "     steps=[('feature_selection', PCA(copy=True, iterated_power=12, n_components=None, random_state=None,\n",
       "  svd_solver='randomized', tol=0.6922541313460272, whiten=True)), ('classification', RandomForestClassifier(bootstrap=True, class_weight=None, criterion='gini',\n",
       "            max_depth=10, max_features...\n",
       "            n_jobs=1, oob_score=True, random_state=None, verbose=0,\n",
       "            warm_start=False))])"
      ]
     },
     "metadata": {},
     "output_type": "display_data"
    },
    {
     "data": {
      "text/plain": [
       "'Mean score: 0.700'"
      ]
     },
     "metadata": {},
     "output_type": "display_data"
    },
    {
     "data": {
      "text/plain": [
       "'OPTaaS recommendation:'"
      ]
     },
     "metadata": {},
     "output_type": "display_data"
    },
    {
     "data": {
      "text/plain": [
       "Pipeline(memory=None,\n",
       "     steps=[('feature_selection', PCA(copy=True, iterated_power='auto', n_components='mle', random_state=None,\n",
       "  svd_solver='full', tol=None, whiten=True)), ('classification', RandomForestClassifier(bootstrap=False, class_weight=None, criterion='gini',\n",
       "            max_depth=31, max_features=0.46303138577...            n_jobs=1, oob_score=False, random_state=None, verbose=0,\n",
       "            warm_start=False))])"
      ]
     },
     "metadata": {},
     "output_type": "display_data"
    },
    {
     "data": {
      "text/plain": [
       "'Mean score: 0.700'"
      ]
     },
     "metadata": {},
     "output_type": "display_data"
    },
    {
     "data": {
      "text/plain": [
       "'OPTaaS recommendation:'"
      ]
     },
     "metadata": {},
     "output_type": "display_data"
    },
    {
     "data": {
      "text/plain": [
       "Pipeline(memory=None,\n",
       "     steps=[('feature_selection', PCA(copy=True, iterated_power='auto', n_components=None, random_state=None,\n",
       "  svd_solver='auto', tol=None, whiten=False)), ('classification', RandomForestClassifier(bootstrap=True, class_weight=None, criterion='entropy',\n",
       "            max_depth=19, max_features='log2', max...\n",
       "            n_jobs=1, oob_score=True, random_state=None, verbose=0,\n",
       "            warm_start=False))])"
      ]
     },
     "metadata": {},
     "output_type": "display_data"
    },
    {
     "data": {
      "text/plain": [
       "'Mean score: 0.700'"
      ]
     },
     "metadata": {},
     "output_type": "display_data"
    },
    {
     "data": {
      "text/plain": [
       "'OPTaaS recommendation:'"
      ]
     },
     "metadata": {},
     "output_type": "display_data"
    },
    {
     "data": {
      "text/plain": [
       "Pipeline(memory=None,\n",
       "     steps=[('classification', RandomForestClassifier(bootstrap=True, class_weight=None, criterion='entropy',\n",
       "            max_depth=None, max_features=0.7060871330848637,\n",
       "            max_leaf_nodes=24, min_impurity_decrease=0.7148429195989859,\n",
       "            min_impurity_split=None, min_samples_leaf=12,\n",
       "   ...\n",
       "            n_jobs=1, oob_score=True, random_state=None, verbose=0,\n",
       "            warm_start=False))])"
      ]
     },
     "metadata": {},
     "output_type": "display_data"
    },
    {
     "data": {
      "text/plain": [
       "'Mean score: 0.700'"
      ]
     },
     "metadata": {},
     "output_type": "display_data"
    },
    {
     "data": {
      "text/plain": [
       "'OPTaaS recommendation:'"
      ]
     },
     "metadata": {},
     "output_type": "display_data"
    },
    {
     "data": {
      "text/plain": [
       "Pipeline(memory=None,\n",
       "     steps=[('feature_selection', PCA(copy=True, iterated_power=13, n_components=None, random_state=None,\n",
       "  svd_solver='full', tol=0.4177194778128077, whiten=False)), ('classification', RandomForestClassifier(bootstrap=True, class_weight=None, criterion='gini',\n",
       "            max_depth=40, max_features='log...            n_jobs=1, oob_score=False, random_state=None, verbose=0,\n",
       "            warm_start=False))])"
      ]
     },
     "metadata": {},
     "output_type": "display_data"
    },
    {
     "data": {
      "text/plain": [
       "'Mean score: 0.700'"
      ]
     },
     "metadata": {},
     "output_type": "display_data"
    },
    {
     "data": {
      "text/plain": [
       "'OPTaaS recommendation:'"
      ]
     },
     "metadata": {},
     "output_type": "display_data"
    },
    {
     "data": {
      "text/plain": [
       "Pipeline(memory=None,\n",
       "     steps=[('classification', RandomForestClassifier(bootstrap=False, class_weight=None, criterion='gini',\n",
       "            max_depth=4, max_features='sqrt', max_leaf_nodes=14,\n",
       "            min_impurity_decrease=0.7993314670630849,\n",
       "            min_impurity_split=None, min_samples_leaf=13,\n",
       "            min_samples_split=2,\n",
       "            min_weight_fraction_leaf=0.4287521909463183, n_estimators=209,\n",
       "            n_jobs=1, oob_score=False, random_state=None, verbose=0,\n",
       "            warm_start=False))])"
      ]
     },
     "metadata": {},
     "output_type": "display_data"
    },
    {
     "data": {
      "text/plain": [
       "'Mean score: 0.700'"
      ]
     },
     "metadata": {},
     "output_type": "display_data"
    },
    {
     "data": {
      "text/plain": [
       "'OPTaaS recommendation:'"
      ]
     },
     "metadata": {},
     "output_type": "display_data"
    },
    {
     "data": {
      "text/plain": [
       "Pipeline(memory=None,\n",
       "     steps=[('feature_selection', PCA(copy=True, iterated_power='auto', n_components=6, random_state=None,\n",
       "  svd_solver='arpack', tol=0.0, whiten=False)), ('classification', RandomForestClassifier(bootstrap=True, class_weight=None, criterion='gini',\n",
       "            max_depth=None, max_features='auto', max_le...n_jobs=1,\n",
       "            oob_score=False, random_state=None, verbose=0,\n",
       "            warm_start=False))])"
      ]
     },
     "metadata": {},
     "output_type": "display_data"
    },
    {
     "data": {
      "text/plain": [
       "'Mean score: 0.731'"
      ]
     },
     "metadata": {},
     "output_type": "display_data"
    },
    {
     "data": {
      "text/plain": [
       "'OPTaaS recommendation:'"
      ]
     },
     "metadata": {},
     "output_type": "display_data"
    },
    {
     "data": {
      "text/plain": [
       "Pipeline(memory=None,\n",
       "     steps=[('feature_selection', PCA(copy=True, iterated_power=44, n_components='mle', random_state=None,\n",
       "  svd_solver='full', tol=0.6419821711016938, whiten=False)), ('classification', RandomForestClassifier(bootstrap=True, class_weight=None, criterion='entropy',\n",
       "            max_depth=None, max_feature...            n_jobs=1, oob_score=False, random_state=None, verbose=0,\n",
       "            warm_start=False))])"
      ]
     },
     "metadata": {},
     "output_type": "display_data"
    },
    {
     "data": {
      "text/plain": [
       "'Mean score: 0.700'"
      ]
     },
     "metadata": {},
     "output_type": "display_data"
    }
   ],
   "source": [
    "number_of_iterations = 20\n",
    "\n",
    "for _ in range(number_of_iterations):\n",
    "    display(\"OPTaaS recommendation:\", pipeline)\n",
    "    mean_score = get_result(pipeline)\n",
    "    display(f'Mean score: {mean_score:.3f}')\n",
    "    configuration = task.record_result(configuration, score=mean_score)\n",
    "    pipeline = task.make_pipeline(configuration)"
   ]
  },
  {
   "cell_type": "markdown",
   "metadata": {},
   "source": [
    "## Complete your task"
   ]
  },
  {
   "cell_type": "code",
   "execution_count": 9,
   "metadata": {},
   "outputs": [
    {
     "data": {
      "text/plain": [
       "{ 'configuration': 'eda6d42b-24c6-4cd7-88c5-675ef049d9f6',\n",
       "  'id': 2691,\n",
       "  'score': 0.7309704914495333,\n",
       "  'user_defined_data': None}"
      ]
     },
     "metadata": {},
     "output_type": "display_data"
    },
    {
     "data": {
      "text/plain": [
       "Pipeline(memory=None,\n",
       "     steps=[('feature_selection', PCA(copy=True, iterated_power='auto', n_components=6, random_state=None,\n",
       "  svd_solver='arpack', tol=0.0, whiten=False)), ('classification', RandomForestClassifier(bootstrap=True, class_weight=None, criterion='gini',\n",
       "            max_depth=None, max_features='auto', max_le...n_jobs=1,\n",
       "            oob_score=False, random_state=None, verbose=0,\n",
       "            warm_start=False))])"
      ]
     },
     "metadata": {},
     "output_type": "display_data"
    }
   ],
   "source": [
    "task.complete()\n",
    "\n",
    "best_result, best_configuration = task.get_best_result_and_configuration()\n",
    "best_pipeline = task.make_pipeline(best_configuration)\n",
    "\n",
    "display(best_result, best_pipeline)"
   ]
  }
 ],
 "metadata": {
  "kernelspec": {
   "display_name": "Python 3",
   "language": "python",
   "name": "python3"
  },
  "language_info": {
   "codemirror_mode": {
    "name": "ipython",
    "version": 3
   },
   "file_extension": ".py",
   "mimetype": "text/x-python",
   "name": "python",
   "nbconvert_exporter": "python",
   "pygments_lexer": "ipython3",
   "version": "3.6.4"
  },
  "nav_menu": {},
  "toc": {
   "navigate_menu": true,
   "number_sections": false,
   "sideBar": true,
   "threshold": 6,
   "toc_cell": false,
   "toc_section_display": "block",
   "toc_window_display": false
  }
 },
 "nbformat": 4,
 "nbformat_minor": 2
}
