{
 "cells": [
  {
   "cell_type": "markdown",
   "metadata": {},
   "source": [
    "# OPTaaS Scikit-learn Pipelines\n",
    "\n",
    "Using the OPTaaS Python Client, you can optimize any scikit-learn pipeline. For each step or estimator in the pipeline, OPTaaS just needs to know what parameters to optimize and what constraints will apply to them.\n",
    "\n",
    "Your pipeline can even include **optional** steps (such as feature selection), **choice** steps (such as choosing between a set of classifiers) and **nested** pipelines.\n",
    "\n",
    "We have provided pre-defined parameters and constraints for some of the most widely used estimators, such as Random Forest and XGBoost. The example below demonstrates how to use them. See also our [tutorial on defining your own custom optimizable estimators](sklearn_custom.ipynb)."
   ]
  },
  {
   "cell_type": "markdown",
   "metadata": {},
   "source": [
    "## Load your dataset\n",
    "\n",
    "We will run a classification pipeline using the German Credit Data available [here](https://newonlinecourses.science.psu.edu/stat857/node/215/). The data contains 1000 rows, with 20 feature columns and 1 target column which includes 2 classes."
   ]
  },
  {
   "cell_type": "code",
   "execution_count": 1,
   "metadata": {
    "scrolled": false
   },
   "outputs": [],
   "source": [
    "import pandas as pd\n",
    "\n",
    "data = pd.read_csv('german_credit.csv')\n",
    "features = data[data.columns.drop(['Creditability'])]\n",
    "target = data['Creditability']"
   ]
  },
  {
   "cell_type": "markdown",
   "metadata": {},
   "source": [
    "## Create your OptimizablePipeline\n",
    "\n",
    "Our pipeline will include:\n",
    "\n",
    "- An optional feature selection step using PCA\n",
    "\n",
    "- A choice of classifier from: Random Forest, Extra Trees and Linear SVC"
   ]
  },
  {
   "cell_type": "code",
   "execution_count": 2,
   "metadata": {},
   "outputs": [],
   "source": [
    "from mindfoundry.optaas.client.sklearn_pipelines.estimators.pca import PCA\n",
    "from mindfoundry.optaas.client.sklearn_pipelines.estimators.ensemble import RandomForestClassifier, ExtraTreesClassifier\n",
    "from mindfoundry.optaas.client.sklearn_pipelines.estimators.svc import LinearSVC\n",
    "from mindfoundry.optaas.client.sklearn_pipelines.mixin import OptimizablePipeline, choice, optional_step\n",
    "\n",
    "pipeline = OptimizablePipeline([\n",
    "    ('feature_selection', optional_step(PCA())),\n",
    "    ('classification', choice(\n",
    "        RandomForestClassifier(),\n",
    "        ExtraTreesClassifier(),\n",
    "        LinearSVC()\n",
    "    ))\n",
    "])"
   ]
  },
  {
   "cell_type": "markdown",
   "metadata": {},
   "source": [
    "## Connect to the OPTaaS server using your API Key\n",
    "\n",
    "We now create a client, and connect to the web service that will perform our optimization. You will need to input your personal API key. Make sure you keep your key private and don't commit it to your version control system. "
   ]
  },
  {
   "cell_type": "code",
   "execution_count": 3,
   "metadata": {},
   "outputs": [],
   "source": [
    "from mindfoundry.optaas.client.client import OPTaaSClient\n",
    "\n",
    "client = OPTaaSClient('https://optaas.mindfoundry.ai', '<Your OPTaaS API key>')"
   ]
  },
  {
   "cell_type": "markdown",
   "metadata": {},
   "source": [
    "## Create your Sklearn Task\n",
    "\n",
    "We don't need to worry about specifying all the parameters and constraints - they are generated based on our OptimizablePipeline. Sometimes we will need to provide additional kwargs, e.g. `feature_count` which is required by PCA.\n",
    "\n",
    "If we do need to optimize any additional parameters that are outside of our pipeline, we can include them in `additional_parameters` and `additional_constraints`."
   ]
  },
  {
   "cell_type": "code",
   "execution_count": 4,
   "metadata": {},
   "outputs": [
    {
     "data": {
      "text/plain": [
       "[{'id': '3055515155592',\n",
       "  'items': [{'id': 'feature_selection',\n",
       "    'items': [{'id': 'feature_selection__n_components',\n",
       "      'maximum': 20,\n",
       "      'minimum': 1,\n",
       "      'name': 'n_components',\n",
       "      'type': 'integer'},\n",
       "     {'default': False,\n",
       "      'id': 'feature_selection__whiten',\n",
       "      'name': 'whiten',\n",
       "      'type': 'boolean'}],\n",
       "    'name': 'feature_selection',\n",
       "    'optional': True,\n",
       "    'type': 'group'},\n",
       "   {'choices': [{'id': 'classification__0',\n",
       "      'items': [{'default': 'auto',\n",
       "        'enum': ['auto', 'sqrt', 'log2'],\n",
       "        'id': 'classification__0__max_features',\n",
       "        'name': 'max_features',\n",
       "        'type': 'categorical'},\n",
       "       {'default': 2,\n",
       "        'distribution': 'Uniform',\n",
       "        'id': 'classification__0__min_samples_split',\n",
       "        'maximum': 20,\n",
       "        'minimum': 2,\n",
       "        'name': 'min_samples_split',\n",
       "        'type': 'integer'},\n",
       "       {'default': 1,\n",
       "        'id': 'classification__0__min_samples_leaf',\n",
       "        'maximum': 20,\n",
       "        'minimum': 1,\n",
       "        'name': 'min_samples_leaf',\n",
       "        'type': 'integer'},\n",
       "       {'default': 'gini',\n",
       "        'enum': ['gini', 'entropy'],\n",
       "        'id': 'classification__0__criterion',\n",
       "        'name': 'criterion',\n",
       "        'type': 'categorical'},\n",
       "       {'distribution': 'LogUniform',\n",
       "        'id': 'classification__0__max_leaf_nodes',\n",
       "        'includeInDefault': False,\n",
       "        'maximum': 10000,\n",
       "        'minimum': 10,\n",
       "        'name': 'max_leaf_nodes',\n",
       "        'optional': True,\n",
       "        'type': 'integer'},\n",
       "       {'distribution': 'LogUniform',\n",
       "        'id': 'classification__0__max_depth',\n",
       "        'includeInDefault': False,\n",
       "        'maximum': 100,\n",
       "        'minimum': 1,\n",
       "        'name': 'max_depth',\n",
       "        'optional': True,\n",
       "        'type': 'integer'},\n",
       "       {'default': 0.0,\n",
       "        'id': 'classification__0__min_weight_fraction_leaf',\n",
       "        'maximum': 0.5,\n",
       "        'minimum': 0.0,\n",
       "        'name': 'min_weight_fraction_leaf',\n",
       "        'type': 'number'},\n",
       "       {'default': 0.0,\n",
       "        'id': 'classification__0__min_impurity_decrease',\n",
       "        'maximum': 1,\n",
       "        'minimum': 0,\n",
       "        'name': 'min_impurity_decrease',\n",
       "        'type': 'number'},\n",
       "       {'default': True,\n",
       "        'id': 'classification__0__bootstrap',\n",
       "        'name': 'bootstrap',\n",
       "        'type': 'boolean'},\n",
       "       {'default': 10,\n",
       "        'id': 'classification__0__n_estimators',\n",
       "        'maximum': 500,\n",
       "        'minimum': 10,\n",
       "        'name': 'n_estimators',\n",
       "        'type': 'integer'}],\n",
       "      'name': '0',\n",
       "      'type': 'group'},\n",
       "     {'id': 'classification__1',\n",
       "      'items': [{'default': 'auto',\n",
       "        'enum': ['auto', 'sqrt', 'log2'],\n",
       "        'id': 'classification__1__max_features',\n",
       "        'name': 'max_features',\n",
       "        'type': 'categorical'},\n",
       "       {'default': 2,\n",
       "        'distribution': 'LogUniform',\n",
       "        'id': 'classification__1__min_samples_split',\n",
       "        'maximum': 20,\n",
       "        'minimum': 2,\n",
       "        'name': 'min_samples_split',\n",
       "        'type': 'integer'},\n",
       "       {'default': 1,\n",
       "        'id': 'classification__1__min_samples_leaf',\n",
       "        'maximum': 20,\n",
       "        'minimum': 1,\n",
       "        'name': 'min_samples_leaf',\n",
       "        'type': 'integer'},\n",
       "       {'default': 'gini',\n",
       "        'enum': ['gini', 'entropy'],\n",
       "        'id': 'classification__1__criterion',\n",
       "        'name': 'criterion',\n",
       "        'type': 'categorical'},\n",
       "       {'distribution': 'LogUniform',\n",
       "        'id': 'classification__1__max_leaf_nodes',\n",
       "        'includeInDefault': False,\n",
       "        'maximum': 10000,\n",
       "        'minimum': 10,\n",
       "        'name': 'max_leaf_nodes',\n",
       "        'optional': True,\n",
       "        'type': 'integer'},\n",
       "       {'distribution': 'Uniform',\n",
       "        'id': 'classification__1__max_depth',\n",
       "        'includeInDefault': False,\n",
       "        'maximum': 100,\n",
       "        'minimum': 1,\n",
       "        'name': 'max_depth',\n",
       "        'optional': True,\n",
       "        'type': 'integer'},\n",
       "       {'default': 0.0,\n",
       "        'id': 'classification__1__min_weight_fraction_leaf',\n",
       "        'maximum': 0.5,\n",
       "        'minimum': 0.0,\n",
       "        'name': 'min_weight_fraction_leaf',\n",
       "        'type': 'number'},\n",
       "       {'default': 0.0,\n",
       "        'id': 'classification__1__min_impurity_decrease',\n",
       "        'maximum': 1,\n",
       "        'minimum': 0,\n",
       "        'name': 'min_impurity_decrease',\n",
       "        'type': 'number'},\n",
       "       {'default': False,\n",
       "        'id': 'classification__1__bootstrap',\n",
       "        'name': 'bootstrap',\n",
       "        'type': 'boolean'},\n",
       "       {'default': 10,\n",
       "        'id': 'classification__1__n_estimators',\n",
       "        'maximum': 500,\n",
       "        'minimum': 10,\n",
       "        'name': 'n_estimators',\n",
       "        'type': 'integer'}],\n",
       "      'name': '1',\n",
       "      'type': 'group'},\n",
       "     {'id': 'classification__2',\n",
       "      'items': [{'default': 1.0,\n",
       "        'distribution': 'LogUniform',\n",
       "        'id': 'classification__2__C',\n",
       "        'maximum': 5.0,\n",
       "        'minimum': 0.2,\n",
       "        'name': 'C',\n",
       "        'type': 'number'},\n",
       "       {'default': 0.0001,\n",
       "        'id': 'classification__2__tol',\n",
       "        'maximum': 1,\n",
       "        'minimum': 5e-324,\n",
       "        'name': 'tol',\n",
       "        'type': 'number'},\n",
       "       {'id': 'classification__2__class_weight',\n",
       "        'includeInDefault': False,\n",
       "        'name': 'class_weight',\n",
       "        'optional': True,\n",
       "        'type': 'constant',\n",
       "        'value': 'balanced'}],\n",
       "      'name': '2',\n",
       "      'type': 'group'}],\n",
       "    'id': 'classification',\n",
       "    'name': 'classification',\n",
       "    'type': 'choice'}],\n",
       "  'name': 'pipeline',\n",
       "  'type': 'group'},\n",
       " {'id': '3055515156096',\n",
       "  'items': [{'id': 'extra',\n",
       "    'maximum': 10,\n",
       "    'minimum': 0,\n",
       "    'name': 'extra',\n",
       "    'type': 'integer'}],\n",
       "  'name': 'additional',\n",
       "  'type': 'group'}]"
      ]
     },
     "metadata": {},
     "output_type": "display_data"
    },
    {
     "data": {
      "text/plain": [
       "['#extra != 7']"
      ]
     },
     "metadata": {},
     "output_type": "display_data"
    }
   ],
   "source": [
    "from mindfoundry.optaas.client.parameter import IntParameter\n",
    "from mindfoundry.optaas.client.constraint import Constraint\n",
    "\n",
    "my_extra_param = IntParameter('extra', id='extra', minimum=0, maximum=10)\n",
    "my_extra_constraint = Constraint(my_extra_param != 7)\n",
    "\n",
    "task = client.create_sklearn_task(\n",
    "    title='My Sklearn Task', \n",
    "    pipeline=pipeline,\n",
    "    feature_count=len(features.columns),\n",
    "    additional_parameters=[my_extra_param],\n",
    "    additional_constraints=[my_extra_constraint],\n",
    ")\n",
    "\n",
    "display(task.parameters)\n",
    "display(task.constraints)"
   ]
  },
  {
   "cell_type": "markdown",
   "metadata": {},
   "source": [
    "## Generate the first pipeline\n",
    "\n",
    "We get the first configuration from OPTaaS and use it to generate a pipeline:"
   ]
  },
  {
   "cell_type": "code",
   "execution_count": 5,
   "metadata": {
    "scrolled": false
   },
   "outputs": [
    {
     "data": {
      "text/plain": [
       "Pipeline(memory=None,\n",
       "     steps=[('feature_selection', PCA(copy=True, iterated_power='auto', n_components=10, random_state=None,\n",
       "  svd_solver='auto', tol=0.0, whiten=False)), ('classification', RandomForestClassifier(bootstrap=True, class_weight=None, criterion='gini',\n",
       "            max_depth=None, max_features='auto', max_lea...n_jobs=1,\n",
       "            oob_score=False, random_state=None, verbose=0,\n",
       "            warm_start=False))])"
      ]
     },
     "metadata": {},
     "output_type": "display_data"
    }
   ],
   "source": [
    "configuration = task.generate_configurations()[0]\n",
    "pipeline = task.make_pipeline(configuration)\n",
    "\n",
    "display(pipeline)"
   ]
  },
  {
   "cell_type": "markdown",
   "metadata": {},
   "source": [
    "## Run your pipeline and calculate the result\n",
    "\n",
    "We define a function to run our pipeline and calculate the mean score:"
   ]
  },
  {
   "cell_type": "code",
   "execution_count": 6,
   "metadata": {
    "scrolled": true
   },
   "outputs": [
    {
     "data": {
      "text/plain": [
       "'Mean score: 0.706'"
      ]
     },
     "metadata": {},
     "output_type": "display_data"
    }
   ],
   "source": [
    "from sklearn.model_selection import cross_val_score\n",
    "\n",
    "def get_result(pipeline):\n",
    "    scores = cross_val_score(pipeline, features, target, scoring='f1_micro')\n",
    "    mean_score = scores.mean()\n",
    "    return mean_score\n",
    "\n",
    "mean_score = get_result(pipeline)\n",
    "\n",
    "display(f'Mean score: {mean_score:.3f}')"
   ]
  },
  {
   "cell_type": "markdown",
   "metadata": {},
   "source": [
    "## Record the result in OPTaaS and generate the next pipeline"
   ]
  },
  {
   "cell_type": "code",
   "execution_count": 7,
   "metadata": {
    "scrolled": false
   },
   "outputs": [],
   "source": [
    "configuration = task.record_result(configuration, score=mean_score)\n",
    "pipeline = task.make_pipeline(configuration)"
   ]
  },
  {
   "cell_type": "markdown",
   "metadata": {},
   "source": [
    "## Repeat as necessary"
   ]
  },
  {
   "cell_type": "code",
   "execution_count": 8,
   "metadata": {
    "scrolled": true
   },
   "outputs": [
    {
     "data": {
      "text/plain": [
       "'OPTaaS recommendation:'"
      ]
     },
     "metadata": {},
     "output_type": "display_data"
    },
    {
     "data": {
      "text/plain": [
       "Pipeline(memory=None,\n",
       "     steps=[('classification', LinearSVC(C=0.21062529888941453, class_weight='balanced', dual=True,\n",
       "     fit_intercept=True, intercept_scaling=1, loss='squared_hinge',\n",
       "     max_iter=1000, multi_class='ovr', penalty='l2', random_state=None,\n",
       "     tol=0.09512838099432841, verbose=0))])"
      ]
     },
     "metadata": {},
     "output_type": "display_data"
    },
    {
     "data": {
      "text/plain": [
       "'Mean score: 0.705'"
      ]
     },
     "metadata": {},
     "output_type": "display_data"
    },
    {
     "data": {
      "text/plain": [
       "'OPTaaS recommendation:'"
      ]
     },
     "metadata": {},
     "output_type": "display_data"
    },
    {
     "data": {
      "text/plain": [
       "Pipeline(memory=None,\n",
       "     steps=[('feature_selection', PCA(copy=True, iterated_power='auto', n_components=20, random_state=None,\n",
       "  svd_solver='auto', tol=0.0, whiten=True)), ('classification', ExtraTreesClassifier(bootstrap=True, class_weight=None, criterion='entropy',\n",
       "           max_depth=42, max_features='sqrt', max_leaf_n...,\n",
       "           n_jobs=1, oob_score=False, random_state=None, verbose=0,\n",
       "           warm_start=False))])"
      ]
     },
     "metadata": {},
     "output_type": "display_data"
    },
    {
     "data": {
      "text/plain": [
       "'Mean score: 0.700'"
      ]
     },
     "metadata": {},
     "output_type": "display_data"
    },
    {
     "data": {
      "text/plain": [
       "'OPTaaS recommendation:'"
      ]
     },
     "metadata": {},
     "output_type": "display_data"
    },
    {
     "data": {
      "text/plain": [
       "Pipeline(memory=None,\n",
       "     steps=[('feature_selection', PCA(copy=True, iterated_power='auto', n_components=2, random_state=None,\n",
       "  svd_solver='auto', tol=0.0, whiten=True)), ('classification', LinearSVC(C=0.36565754103432074, class_weight=None, dual=True,\n",
       "     fit_intercept=True, intercept_scaling=1, loss='squared_hinge',\n",
       "     max_iter=1000, multi_class='ovr', penalty='l2', random_state=None,\n",
       "     tol=0.9887648473530326, verbose=0))])"
      ]
     },
     "metadata": {},
     "output_type": "display_data"
    },
    {
     "data": {
      "text/plain": [
       "'Mean score: 0.702'"
      ]
     },
     "metadata": {},
     "output_type": "display_data"
    },
    {
     "data": {
      "text/plain": [
       "'OPTaaS recommendation:'"
      ]
     },
     "metadata": {},
     "output_type": "display_data"
    },
    {
     "data": {
      "text/plain": [
       "Pipeline(memory=None,\n",
       "     steps=[('classification', ExtraTreesClassifier(bootstrap=False, class_weight=None, criterion='gini',\n",
       "           max_depth=None, max_features='sqrt', max_leaf_nodes=37,\n",
       "           min_impurity_decrease=0.8133994651972326,\n",
       "           min_impurity_split=None, min_samples_leaf=19,\n",
       "           min_samples_split=12,\n",
       "           min_weight_fraction_leaf=0.20079446488913916, n_estimators=175,\n",
       "           n_jobs=1, oob_score=False, random_state=None, verbose=0,\n",
       "           warm_start=False))])"
      ]
     },
     "metadata": {},
     "output_type": "display_data"
    },
    {
     "data": {
      "text/plain": [
       "'Mean score: 0.700'"
      ]
     },
     "metadata": {},
     "output_type": "display_data"
    },
    {
     "data": {
      "text/plain": [
       "'OPTaaS recommendation:'"
      ]
     },
     "metadata": {},
     "output_type": "display_data"
    },
    {
     "data": {
      "text/plain": [
       "Pipeline(memory=None,\n",
       "     steps=[('classification', ExtraTreesClassifier(bootstrap=True, class_weight=None, criterion='gini',\n",
       "           max_depth=None, max_features='log2', max_leaf_nodes=None,\n",
       "           min_impurity_decrease=0.09158563385970342,\n",
       "           min_impurity_split=None, min_samples_leaf=10,\n",
       "           min_samples_split=19,\n",
       "           min_weight_fraction_leaf=0.47738939401239966, n_estimators=74,\n",
       "           n_jobs=1, oob_score=False, random_state=None, verbose=0,\n",
       "           warm_start=False))])"
      ]
     },
     "metadata": {},
     "output_type": "display_data"
    },
    {
     "data": {
      "text/plain": [
       "'Mean score: 0.700'"
      ]
     },
     "metadata": {},
     "output_type": "display_data"
    },
    {
     "data": {
      "text/plain": [
       "'OPTaaS recommendation:'"
      ]
     },
     "metadata": {},
     "output_type": "display_data"
    },
    {
     "data": {
      "text/plain": [
       "Pipeline(memory=None,\n",
       "     steps=[('feature_selection', PCA(copy=True, iterated_power='auto', n_components=15, random_state=None,\n",
       "  svd_solver='auto', tol=0.0, whiten=False)), ('classification', LinearSVC(C=0.8053148570732813, class_weight=None, dual=True,\n",
       "     fit_intercept=True, intercept_scaling=1, loss='squared_hinge',\n",
       "     max_iter=1000, multi_class='ovr', penalty='l2', random_state=None,\n",
       "     tol=0.6883050048383437, verbose=0))])"
      ]
     },
     "metadata": {},
     "output_type": "display_data"
    },
    {
     "data": {
      "text/plain": [
       "'Mean score: 0.665'"
      ]
     },
     "metadata": {},
     "output_type": "display_data"
    },
    {
     "data": {
      "text/plain": [
       "'OPTaaS recommendation:'"
      ]
     },
     "metadata": {},
     "output_type": "display_data"
    },
    {
     "data": {
      "text/plain": [
       "Pipeline(memory=None,\n",
       "     steps=[('classification', LinearSVC(C=0.24301287894579482, class_weight='balanced', dual=True,\n",
       "     fit_intercept=True, intercept_scaling=1, loss='squared_hinge',\n",
       "     max_iter=1000, multi_class='ovr', penalty='l2', random_state=None,\n",
       "     tol=0.37696701731239435, verbose=0))])"
      ]
     },
     "metadata": {},
     "output_type": "display_data"
    },
    {
     "data": {
      "text/plain": [
       "'Mean score: 0.455'"
      ]
     },
     "metadata": {},
     "output_type": "display_data"
    },
    {
     "data": {
      "text/plain": [
       "'OPTaaS recommendation:'"
      ]
     },
     "metadata": {},
     "output_type": "display_data"
    },
    {
     "data": {
      "text/plain": [
       "Pipeline(memory=None,\n",
       "     steps=[('feature_selection', PCA(copy=True, iterated_power='auto', n_components=5, random_state=None,\n",
       "  svd_solver='auto', tol=0.0, whiten=False)), ('classification', LinearSVC(C=0.8714089705476243, class_weight=None, dual=True,\n",
       "     fit_intercept=True, intercept_scaling=1, loss='squared_hinge',\n",
       "     max_iter=1000, multi_class='ovr', penalty='l2', random_state=None,\n",
       "     tol=0.9482406190641433, verbose=0))])"
      ]
     },
     "metadata": {},
     "output_type": "display_data"
    },
    {
     "data": {
      "text/plain": [
       "'Mean score: 0.617'"
      ]
     },
     "metadata": {},
     "output_type": "display_data"
    },
    {
     "data": {
      "text/plain": [
       "'OPTaaS recommendation:'"
      ]
     },
     "metadata": {},
     "output_type": "display_data"
    },
    {
     "data": {
      "text/plain": [
       "Pipeline(memory=None,\n",
       "     steps=[('feature_selection', PCA(copy=True, iterated_power='auto', n_components=13, random_state=None,\n",
       "  svd_solver='auto', tol=0.0, whiten=True)), ('classification', LinearSVC(C=0.9749660854408546, class_weight='balanced', dual=True,\n",
       "     fit_intercept=True, intercept_scaling=1, loss='squared_hinge',\n",
       "     max_iter=1000, multi_class='ovr', penalty='l2', random_state=None,\n",
       "     tol=0.5492155166491252, verbose=0))])"
      ]
     },
     "metadata": {},
     "output_type": "display_data"
    },
    {
     "data": {
      "text/plain": [
       "'Mean score: 0.718'"
      ]
     },
     "metadata": {},
     "output_type": "display_data"
    },
    {
     "data": {
      "text/plain": [
       "'OPTaaS recommendation:'"
      ]
     },
     "metadata": {},
     "output_type": "display_data"
    },
    {
     "data": {
      "text/plain": [
       "Pipeline(memory=None,\n",
       "     steps=[('feature_selection', PCA(copy=True, iterated_power='auto', n_components=18, random_state=None,\n",
       "  svd_solver='auto', tol=0.0, whiten=False)), ('classification', RandomForestClassifier(bootstrap=True, class_weight=None, criterion='gini',\n",
       "            max_depth=None, max_features='sqrt', max_lea...            n_jobs=1, oob_score=False, random_state=None, verbose=0,\n",
       "            warm_start=False))])"
      ]
     },
     "metadata": {},
     "output_type": "display_data"
    },
    {
     "data": {
      "text/plain": [
       "'Mean score: 0.700'"
      ]
     },
     "metadata": {},
     "output_type": "display_data"
    },
    {
     "data": {
      "text/plain": [
       "'OPTaaS recommendation:'"
      ]
     },
     "metadata": {},
     "output_type": "display_data"
    },
    {
     "data": {
      "text/plain": [
       "Pipeline(memory=None,\n",
       "     steps=[('feature_selection', PCA(copy=True, iterated_power='auto', n_components=12, random_state=None,\n",
       "  svd_solver='auto', tol=0.0, whiten=True)), ('classification', LinearSVC(C=0.22912759002173816, class_weight='balanced', dual=True,\n",
       "     fit_intercept=True, intercept_scaling=1, loss='squared_hinge',\n",
       "     max_iter=1000, multi_class='ovr', penalty='l2', random_state=None,\n",
       "     tol=0.37074263128895024, verbose=0))])"
      ]
     },
     "metadata": {},
     "output_type": "display_data"
    },
    {
     "data": {
      "text/plain": [
       "'Mean score: 0.722'"
      ]
     },
     "metadata": {},
     "output_type": "display_data"
    },
    {
     "data": {
      "text/plain": [
       "'OPTaaS recommendation:'"
      ]
     },
     "metadata": {},
     "output_type": "display_data"
    },
    {
     "data": {
      "text/plain": [
       "Pipeline(memory=None,\n",
       "     steps=[('classification', LinearSVC(C=0.2641622410128078, class_weight='balanced', dual=True,\n",
       "     fit_intercept=True, intercept_scaling=1, loss='squared_hinge',\n",
       "     max_iter=1000, multi_class='ovr', penalty='l2', random_state=None,\n",
       "     tol=0.3591045353912287, verbose=0))])"
      ]
     },
     "metadata": {},
     "output_type": "display_data"
    },
    {
     "data": {
      "text/plain": [
       "'Mean score: 0.702'"
      ]
     },
     "metadata": {},
     "output_type": "display_data"
    },
    {
     "data": {
      "text/plain": [
       "'OPTaaS recommendation:'"
      ]
     },
     "metadata": {},
     "output_type": "display_data"
    },
    {
     "data": {
      "text/plain": [
       "Pipeline(memory=None,\n",
       "     steps=[('classification', LinearSVC(C=0.22912759002173816, class_weight='balanced', dual=True,\n",
       "     fit_intercept=True, intercept_scaling=1, loss='squared_hinge',\n",
       "     max_iter=1000, multi_class='ovr', penalty='l2', random_state=None,\n",
       "     tol=0.3935615574840446, verbose=0))])"
      ]
     },
     "metadata": {},
     "output_type": "display_data"
    },
    {
     "data": {
      "text/plain": [
       "'Mean score: 0.700'"
      ]
     },
     "metadata": {},
     "output_type": "display_data"
    },
    {
     "data": {
      "text/plain": [
       "'OPTaaS recommendation:'"
      ]
     },
     "metadata": {},
     "output_type": "display_data"
    },
    {
     "data": {
      "text/plain": [
       "Pipeline(memory=None,\n",
       "     steps=[('feature_selection', PCA(copy=True, iterated_power='auto', n_components=12, random_state=None,\n",
       "  svd_solver='auto', tol=0.0, whiten=True)), ('classification', LinearSVC(C=0.2647476176502994, class_weight='balanced', dual=True,\n",
       "     fit_intercept=True, intercept_scaling=1, loss='squared_hinge',\n",
       "     max_iter=1000, multi_class='ovr', penalty='l2', random_state=None,\n",
       "     tol=0.45457990084672045, verbose=0))])"
      ]
     },
     "metadata": {},
     "output_type": "display_data"
    },
    {
     "data": {
      "text/plain": [
       "'Mean score: 0.717'"
      ]
     },
     "metadata": {},
     "output_type": "display_data"
    },
    {
     "data": {
      "text/plain": [
       "'OPTaaS recommendation:'"
      ]
     },
     "metadata": {},
     "output_type": "display_data"
    },
    {
     "data": {
      "text/plain": [
       "Pipeline(memory=None,\n",
       "     steps=[('feature_selection', PCA(copy=True, iterated_power='auto', n_components=12, random_state=None,\n",
       "  svd_solver='auto', tol=0.0, whiten=True)), ('classification', LinearSVC(C=0.9497943437100475, class_weight='balanced', dual=True,\n",
       "     fit_intercept=True, intercept_scaling=1, loss='squared_hinge',\n",
       "     max_iter=1000, multi_class='ovr', penalty='l2', random_state=None,\n",
       "     tol=0.45556320307173037, verbose=0))])"
      ]
     },
     "metadata": {},
     "output_type": "display_data"
    },
    {
     "data": {
      "text/plain": [
       "'Mean score: 0.723'"
      ]
     },
     "metadata": {},
     "output_type": "display_data"
    },
    {
     "data": {
      "text/plain": [
       "'OPTaaS recommendation:'"
      ]
     },
     "metadata": {},
     "output_type": "display_data"
    },
    {
     "data": {
      "text/plain": [
       "Pipeline(memory=None,\n",
       "     steps=[('feature_selection', PCA(copy=True, iterated_power='auto', n_components=15, random_state=None,\n",
       "  svd_solver='auto', tol=0.0, whiten=True)), ('classification', LinearSVC(C=0.2647476176502994, class_weight='balanced', dual=True,\n",
       "     fit_intercept=True, intercept_scaling=1, loss='squared_hinge',\n",
       "     max_iter=1000, multi_class='ovr', penalty='l2', random_state=None,\n",
       "     tol=0.5921572888944902, verbose=0))])"
      ]
     },
     "metadata": {},
     "output_type": "display_data"
    },
    {
     "data": {
      "text/plain": [
       "'Mean score: 0.709'"
      ]
     },
     "metadata": {},
     "output_type": "display_data"
    },
    {
     "data": {
      "text/plain": [
       "'OPTaaS recommendation:'"
      ]
     },
     "metadata": {},
     "output_type": "display_data"
    },
    {
     "data": {
      "text/plain": [
       "Pipeline(memory=None,\n",
       "     steps=[('feature_selection', PCA(copy=True, iterated_power='auto', n_components=12, random_state=None,\n",
       "  svd_solver='auto', tol=0.0, whiten=True)), ('classification', LinearSVC(C=0.9497943437100475, class_weight='balanced', dual=True,\n",
       "     fit_intercept=True, intercept_scaling=1, loss='squared_hinge',\n",
       "     max_iter=1000, multi_class='ovr', penalty='l2', random_state=None,\n",
       "     tol=0.46292784216128025, verbose=0))])"
      ]
     },
     "metadata": {},
     "output_type": "display_data"
    },
    {
     "data": {
      "text/plain": [
       "'Mean score: 0.729'"
      ]
     },
     "metadata": {},
     "output_type": "display_data"
    },
    {
     "data": {
      "text/plain": [
       "'OPTaaS recommendation:'"
      ]
     },
     "metadata": {},
     "output_type": "display_data"
    },
    {
     "data": {
      "text/plain": [
       "Pipeline(memory=None,\n",
       "     steps=[('feature_selection', PCA(copy=True, iterated_power='auto', n_components=13, random_state=None,\n",
       "  svd_solver='auto', tol=0.0, whiten=True)), ('classification', LinearSVC(C=0.24301287894579482, class_weight='balanced', dual=True,\n",
       "     fit_intercept=True, intercept_scaling=1, loss='squared_hinge',\n",
       "     max_iter=1000, multi_class='ovr', penalty='l2', random_state=None,\n",
       "     tol=0.47438267347884994, verbose=0))])"
      ]
     },
     "metadata": {},
     "output_type": "display_data"
    },
    {
     "data": {
      "text/plain": [
       "'Mean score: 0.719'"
      ]
     },
     "metadata": {},
     "output_type": "display_data"
    },
    {
     "data": {
      "text/plain": [
       "'OPTaaS recommendation:'"
      ]
     },
     "metadata": {},
     "output_type": "display_data"
    },
    {
     "data": {
      "text/plain": [
       "Pipeline(memory=None,\n",
       "     steps=[('feature_selection', PCA(copy=True, iterated_power='auto', n_components=12, random_state=None,\n",
       "  svd_solver='auto', tol=0.0, whiten=True)), ('classification', LinearSVC(C=0.8779242530560565, class_weight='balanced', dual=True,\n",
       "     fit_intercept=True, intercept_scaling=1, loss='squared_hinge',\n",
       "     max_iter=1000, multi_class='ovr', penalty='l2', random_state=None,\n",
       "     tol=0.37696701731239435, verbose=0))])"
      ]
     },
     "metadata": {},
     "output_type": "display_data"
    },
    {
     "data": {
      "text/plain": [
       "'Mean score: 0.725'"
      ]
     },
     "metadata": {},
     "output_type": "display_data"
    },
    {
     "data": {
      "text/plain": [
       "'OPTaaS recommendation:'"
      ]
     },
     "metadata": {},
     "output_type": "display_data"
    },
    {
     "data": {
      "text/plain": [
       "Pipeline(memory=None,\n",
       "     steps=[('feature_selection', PCA(copy=True, iterated_power='auto', n_components=12, random_state=None,\n",
       "  svd_solver='auto', tol=0.0, whiten=False)), ('classification', LinearSVC(C=0.9399946144684908, class_weight='balanced', dual=True,\n",
       "     fit_intercept=True, intercept_scaling=1, loss='squared_hinge',\n",
       "     max_iter=1000, multi_class='ovr', penalty='l2', random_state=None,\n",
       "     tol=0.46292784216128025, verbose=0))])"
      ]
     },
     "metadata": {},
     "output_type": "display_data"
    },
    {
     "data": {
      "text/plain": [
       "'Mean score: 0.707'"
      ]
     },
     "metadata": {},
     "output_type": "display_data"
    }
   ],
   "source": [
    "number_of_iterations = 20\n",
    "\n",
    "for _ in range(number_of_iterations):\n",
    "    display(\"OPTaaS recommendation:\", pipeline)\n",
    "    mean_score = get_result(pipeline)\n",
    "    display(f'Mean score: {mean_score:.3f}')\n",
    "    configuration = task.record_result(configuration, score=mean_score)\n",
    "    pipeline = task.make_pipeline(configuration)"
   ]
  },
  {
   "cell_type": "markdown",
   "metadata": {},
   "source": [
    "## Complete your task"
   ]
  },
  {
   "cell_type": "code",
   "execution_count": 9,
   "metadata": {},
   "outputs": [
    {
     "data": {
      "text/plain": [
       "{ 'configuration': '043a3f9b-a3cc-46df-8f0d-1921657f3bf6',\n",
       "  'id': 3849,\n",
       "  'score': 0.7289565014115912,\n",
       "  'user_defined_data': None}"
      ]
     },
     "metadata": {},
     "output_type": "display_data"
    },
    {
     "data": {
      "text/plain": [
       "Pipeline(memory=None,\n",
       "     steps=[('feature_selection', PCA(copy=True, iterated_power='auto', n_components=12, random_state=None,\n",
       "  svd_solver='auto', tol=0.0, whiten=True)), ('classification', LinearSVC(C=0.9497943437100475, class_weight='balanced', dual=True,\n",
       "     fit_intercept=True, intercept_scaling=1, loss='squared_hinge',\n",
       "     max_iter=1000, multi_class='ovr', penalty='l2', random_state=None,\n",
       "     tol=0.46292784216128025, verbose=0))])"
      ]
     },
     "metadata": {},
     "output_type": "display_data"
    }
   ],
   "source": [
    "task.complete()\n",
    "\n",
    "best_result, best_configuration = task.get_best_result_and_configuration()\n",
    "best_pipeline = task.make_pipeline(best_configuration)\n",
    "\n",
    "display(best_result, best_pipeline)"
   ]
  }
 ],
 "metadata": {
  "kernelspec": {
   "display_name": "Python 3",
   "language": "python",
   "name": "python3"
  },
  "language_info": {
   "codemirror_mode": {
    "name": "ipython",
    "version": 3
   },
   "file_extension": ".py",
   "mimetype": "text/x-python",
   "name": "python",
   "nbconvert_exporter": "python",
   "pygments_lexer": "ipython3",
   "version": "3.6.4"
  },
  "nav_menu": {},
  "toc": {
   "navigate_menu": true,
   "number_sections": false,
   "sideBar": true,
   "threshold": 6,
   "toc_cell": false,
   "toc_section_display": "block",
   "toc_window_display": false
  }
 },
 "nbformat": 4,
 "nbformat_minor": 2
}
