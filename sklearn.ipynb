{
 "cells": [
  {
   "cell_type": "markdown",
   "metadata": {},
   "source": [
    "# OPTaaS Scikit-learn Pipelines\n",
    "\n",
    "You can use OPTaaS to optimize any scikit-learn pipeline. The OPTaaS Python client will generate parameters and constraints for you based on the estimators that you want to include in your pipeline."
   ]
  },
  {
   "cell_type": "markdown",
   "metadata": {},
   "source": [
    "## Load your dataset\n",
    "\n",
    "Let's load a classic data set, \"iris\", which comes packaged in scikit-learn. The dataset contains three types of flowers, and 50 measurements of four characteristics of these flowers (sepal length, sepal width, petal length and petal width). So we have 150 rows (50 per flower type), 4 input columns (the four features), and one target column (the name of the flower)."
   ]
  },
  {
   "cell_type": "code",
   "execution_count": 1,
   "metadata": {
    "scrolled": false
   },
   "outputs": [],
   "source": [
    "from sklearn import datasets\n",
    "\n",
    "iris = datasets.load_iris()"
   ]
  },
  {
   "cell_type": "markdown",
   "metadata": {},
   "source": [
    "## Create your estimators\n",
    "\n",
    "We will use PCA to reduce the input dimensions, and then discover the type of flower with a Random Forest Classifier.\n",
    "\n",
    "You can also use ExtraTreesClassifier, LinearSVC and VotingClassifier."
   ]
  },
  {
   "cell_type": "code",
   "execution_count": 2,
   "metadata": {},
   "outputs": [],
   "source": [
    "from sklearn.pipeline import Pipeline\n",
    "from sklearn.decomposition import PCA\n",
    "from sklearn.ensemble import RandomForestClassifier\n",
    "\n",
    "estimators =[('pca', PCA()), ('rf', RandomForestClassifier())]"
   ]
  },
  {
   "cell_type": "markdown",
   "metadata": {},
   "source": [
    "## Connect to the OPTaaS server using your API Key\n",
    "\n",
    "We now create a client, and connect to the web service that will perform our optimization. You will need to input your personal API key. Make sure you keep your key private and don't commit it to your version control system. "
   ]
  },
  {
   "cell_type": "code",
   "execution_count": 3,
   "metadata": {},
   "outputs": [],
   "source": [
    "from mindfoundry.optaas.client.sklearn_pipelines.client import OPTaaSSklearnClient\n",
    "\n",
    "client = OPTaaSSklearnClient('<URL of your OPTaaS server>', '<Your OPTaaS API key>')"
   ]
  },
  {
   "cell_type": "markdown",
   "metadata": {},
   "source": [
    "## Create your Task\n",
    "We create the task by providing only our estimators. The parameters and constraints will be generated automatically."
   ]
  },
  {
   "cell_type": "code",
   "execution_count": 4,
   "metadata": {},
   "outputs": [
    {
     "data": {
      "text/plain": [
       "[{'default': 'auto',\n",
       "  'enum': ['arpack', 'auto', 'full', 'randomized'],\n",
       "  'id': 'pca__svd_solver',\n",
       "  'name': 'pca__svd_solver',\n",
       "  'type': 'categorical'},\n",
       " {'choices': [{'id': 'pca__n_components_int',\n",
       "    'maximum': 4,\n",
       "    'minimum': 1,\n",
       "    'name': 'pca__n_components_int',\n",
       "    'type': 'integer'},\n",
       "   {'id': 'pca__n_components_float',\n",
       "    'maximum': 0.9999999999999999,\n",
       "    'minimum': 5e-324,\n",
       "    'name': 'pca__n_components_float',\n",
       "    'type': 'number'},\n",
       "   {'id': 'pca__n_components_mle',\n",
       "    'name': 'pca__n_components_mle',\n",
       "    'type': 'constant',\n",
       "    'value': 'mle'}],\n",
       "  'id': 'pca__n_components',\n",
       "  'includeInDefault': False,\n",
       "  'name': 'pca__n_components',\n",
       "  'optional': True,\n",
       "  'type': 'choice'},\n",
       " {'default': False,\n",
       "  'id': 'pca__whiten',\n",
       "  'name': 'pca__whiten',\n",
       "  'type': 'boolean'},\n",
       " {'default': 0.0,\n",
       "  'id': 'pca__tol',\n",
       "  'maximum': 1,\n",
       "  'minimum': 0,\n",
       "  'name': 'pca__tol',\n",
       "  'optional': True,\n",
       "  'type': 'number'},\n",
       " {'id': 'pca__iterated_power',\n",
       "  'includeInDefault': False,\n",
       "  'maximum': 99,\n",
       "  'minimum': 0,\n",
       "  'name': 'pca__iterated_power',\n",
       "  'optional': True,\n",
       "  'type': 'integer'},\n",
       " {'default': True,\n",
       "  'id': 'rf__bootstrap',\n",
       "  'name': 'rf__bootstrap',\n",
       "  'type': 'boolean'},\n",
       " {'default': False,\n",
       "  'id': 'rf__oob_score',\n",
       "  'name': 'rf__oob_score',\n",
       "  'type': 'boolean'},\n",
       " {'choices': [{'id': 'rf__max_features_float',\n",
       "    'maximum': 1.0,\n",
       "    'minimum': 0.0,\n",
       "    'name': 'rf__max_features_float',\n",
       "    'type': 'number'},\n",
       "   {'default': 'auto',\n",
       "    'enum': ['auto', 'sqrt', 'log2'],\n",
       "    'id': 'rf__max_features_string',\n",
       "    'name': 'rf__max_features_string',\n",
       "    'type': 'categorical'}],\n",
       "  'id': 'rf__max_features',\n",
       "  'name': 'rf__max_features',\n",
       "  'type': 'choice'},\n",
       " {'default': 10,\n",
       "  'distribution': 'LogUniform',\n",
       "  'id': 'rf__n_estimators',\n",
       "  'maximum': 100,\n",
       "  'minimum': 10,\n",
       "  'name': 'rf__n_estimators',\n",
       "  'type': 'integer'},\n",
       " {'default': 'gini',\n",
       "  'enum': ['gini', 'entropy'],\n",
       "  'id': 'rf__criterion',\n",
       "  'name': 'rf__criterion',\n",
       "  'type': 'categorical'},\n",
       " {'default': 2,\n",
       "  'distribution': 'Uniform',\n",
       "  'id': 'rf__min_samples_split',\n",
       "  'maximum': 20,\n",
       "  'minimum': 2,\n",
       "  'name': 'rf__min_samples_split',\n",
       "  'type': 'integer'},\n",
       " {'default': 1,\n",
       "  'id': 'rf__min_samples_leaf',\n",
       "  'maximum': 20,\n",
       "  'minimum': 1,\n",
       "  'name': 'rf__min_samples_leaf',\n",
       "  'type': 'integer'},\n",
       " {'distribution': 'LogUniform',\n",
       "  'id': 'rf__max_leaf_nodes',\n",
       "  'includeInDefault': False,\n",
       "  'maximum': 10000,\n",
       "  'minimum': 10,\n",
       "  'name': 'rf__max_leaf_nodes',\n",
       "  'optional': True,\n",
       "  'type': 'integer'},\n",
       " {'distribution': 'LogUniform',\n",
       "  'id': 'rf__max_depth',\n",
       "  'includeInDefault': False,\n",
       "  'maximum': 100,\n",
       "  'minimum': 1,\n",
       "  'name': 'rf__max_depth',\n",
       "  'optional': True,\n",
       "  'type': 'integer'},\n",
       " {'default': 0.0,\n",
       "  'id': 'rf__min_weight_fraction_leaf',\n",
       "  'maximum': 0.5,\n",
       "  'minimum': 0.0,\n",
       "  'name': 'rf__min_weight_fraction_leaf',\n",
       "  'type': 'number'},\n",
       " {'default': 0.0,\n",
       "  'id': 'rf__min_impurity_decrease',\n",
       "  'maximum': 1,\n",
       "  'minimum': 0,\n",
       "  'name': 'rf__min_impurity_decrease',\n",
       "  'type': 'number'}]"
      ]
     },
     "execution_count": 4,
     "metadata": {},
     "output_type": "execute_result"
    }
   ],
   "source": [
    "task = client.create_sklearn_task(\n",
    "    title='My Pipeline Optimization', \n",
    "    estimators=estimators,\n",
    "    feature_count=len(iris.feature_names)\n",
    ")\n",
    "\n",
    "display(task.parameters)"
   ]
  },
  {
   "cell_type": "markdown",
   "metadata": {},
   "source": [
    "## Generate the first configuration\n",
    "\n",
    "Here OPTaaS gives us the first configuration (set of parameter values) for our problem. "
   ]
  },
  {
   "cell_type": "code",
   "execution_count": 5,
   "metadata": {
    "scrolled": false
   },
   "outputs": [
    {
     "data": {
      "text/plain": [
       "{ 'id': '0d56a685-4159-4ece-b67c-545d746216fb',\n",
       "  'type': 'default',\n",
       "  'values': { 'pca__svd_solver': 'auto',\n",
       "              'pca__tol': 0.0,\n",
       "              'pca__whiten': False,\n",
       "              'rf__bootstrap': True,\n",
       "              'rf__criterion': 'gini',\n",
       "              'rf__max_features': {'rf__max_features_float': 0.5},\n",
       "              'rf__min_impurity_decrease': 0.0,\n",
       "              'rf__min_samples_leaf': 1,\n",
       "              'rf__min_samples_split': 2,\n",
       "              'rf__min_weight_fraction_leaf': 0.0,\n",
       "              'rf__n_estimators': 10,\n",
       "              'rf__oob_score': False}}"
      ]
     },
     "execution_count": 5,
     "metadata": {},
     "output_type": "execute_result"
    }
   ],
   "source": [
    "configuration = task.generate_configuration()"
   ]
  },
  {
   "cell_type": "markdown",
   "metadata": {},
   "source": [
    "## Use the configuration to create and run a pipeline\n",
    "\n",
    "Our task can parse the configuration and use it to generate a Pipeline, which we can then run on our \"iris\" dataset. \n",
    "\n",
    "We wrapped this into a function so that we can call it multiple times."
   ]
  },
  {
   "cell_type": "code",
   "execution_count": 6,
   "metadata": {
    "scrolled": true
   },
   "outputs": [
    {
     "data": {
      "text/plain": [
       "[0.9607843137254902, 0.9019607843137255, 0.9583333333333334]"
      ]
     },
     "metadata": {},
     "output_type": "display_data"
    },
    {
     "data": {
      "text/plain": [
       "0.9403594771241831"
      ]
     },
     "metadata": {},
     "output_type": "display_data"
    }
   ],
   "source": [
    "from sklearn.model_selection import cross_val_score\n",
    "\n",
    "def get_result(configuration):\n",
    "    pipeline = task.make_pipeline(configuration)\n",
    "    scores = cross_val_score(pipeline, iris.data, iris.target, scoring='f1_micro')\n",
    "    mean_score = scores.mean()\n",
    "    return list(scores), mean_score\n",
    "\n",
    "scores, mean_score = get_result(configuration)"
   ]
  },
  {
   "cell_type": "markdown",
   "metadata": {},
   "source": [
    "## Record the result in OPTaaS and generate the next configuration to try\n",
    "\n",
    "The score we obtained must now be passed back to OPTaaS, which will use it to generate and return a new configuration.\n",
    "\n",
    "You can store additional user-defined data along with your result, but that's entirely optional and for your convenience only. For example, you can store the individual scores for each category so you can easily reference them later."
   ]
  },
  {
   "cell_type": "code",
   "execution_count": 7,
   "metadata": {
    "scrolled": false
   },
   "outputs": [
    {
     "data": {
      "text/plain": [
       "{ 'id': '0c4c1603-b450-45a2-a965-6432bb97c1b0',\n",
       "  'type': 'exploration',\n",
       "  'values': { 'pca__iterated_power': 20,\n",
       "              'pca__n_components': { 'pca__n_components_float': 0.5204439958233601},\n",
       "              'pca__svd_solver': 'full',\n",
       "              'pca__whiten': False,\n",
       "              'rf__bootstrap': True,\n",
       "              'rf__criterion': 'entropy',\n",
       "              'rf__max_features': {'rf__max_features_float': 0.866710457590781},\n",
       "              'rf__max_leaf_nodes': 370,\n",
       "              'rf__min_impurity_decrease': 0.927463600189984,\n",
       "              'rf__min_samples_leaf': 10,\n",
       "              'rf__min_samples_split': 19,\n",
       "              'rf__min_weight_fraction_leaf': 0.15123365104252168,\n",
       "              'rf__n_estimators': 83,\n",
       "              'rf__oob_score': True}}"
      ]
     },
     "execution_count": 7,
     "metadata": {},
     "output_type": "execute_result"
    }
   ],
   "source": [
    "configuration = task.record_result(configuration, score=mean_score, user_defined_data=scores)"
   ]
  },
  {
   "cell_type": "markdown",
   "metadata": {},
   "source": [
    "## Repeat as necessary\n",
    "\n",
    "Repeat the process until you're happy with the result or you've run out of time"
   ]
  },
  {
   "cell_type": "code",
   "execution_count": null,
   "metadata": {
    "scrolled": true
   },
   "outputs": [],
   "source": [
    "for _ in range(number_of_iterations):\n",
    "    scores, mean_score = get_result(configuration)\n",
    "    configuration = task.record_result(configuration, score=mean_score, user_defined_data=scores)"
   ]
  },
  {
   "cell_type": "markdown",
   "metadata": {},
   "source": [
    "## Complete your task\n",
    "\n",
    "Tell OPTaaS that you're satisfied and you won't run any more experiments, then go ahead and get your final result out. Job done!"
   ]
  },
  {
   "cell_type": "code",
   "execution_count": 9,
   "metadata": {},
   "outputs": [
    {
     "data": {
      "text/plain": [
       "{ 'configuration': '0d56a685-4159-4ece-b67c-545d746216fb',\n",
       "  'id': 101,\n",
       "  'score': 0.9403594771241831,\n",
       "  'user_defined_data': [ 0.9607843137254902,\n",
       "                         0.9019607843137255,\n",
       "                         0.9583333333333334]}"
      ]
     },
     "metadata": {},
     "output_type": "display_data"
    },
    {
     "data": {
      "text/plain": [
       "{ 'id': '0d56a685-4159-4ece-b67c-545d746216fb',\n",
       "  'type': 'default',\n",
       "  'values': { 'pca__svd_solver': 'auto',\n",
       "              'pca__tol': 0.0,\n",
       "              'pca__whiten': False,\n",
       "              'rf__bootstrap': True,\n",
       "              'rf__criterion': 'gini',\n",
       "              'rf__max_features': {'rf__max_features_float': 0.5},\n",
       "              'rf__min_impurity_decrease': 0.0,\n",
       "              'rf__min_samples_leaf': 1,\n",
       "              'rf__min_samples_split': 2,\n",
       "              'rf__min_weight_fraction_leaf': 0.0,\n",
       "              'rf__n_estimators': 10,\n",
       "              'rf__oob_score': False}}"
      ]
     },
     "metadata": {},
     "output_type": "display_data"
    }
   ],
   "source": [
    "task.complete()\n",
    "\n",
    "best_result, best_configuration = task.get_best_result_and_configuration()"
   ]
  }
 ],
 "metadata": {
  "kernelspec": {
   "display_name": "Python 3",
   "language": "python",
   "name": "python3"
  },
  "language_info": {
   "codemirror_mode": {
    "name": "ipython",
    "version": 3
   },
   "file_extension": ".py",
   "mimetype": "text/x-python",
   "name": "python",
   "nbconvert_exporter": "python",
   "pygments_lexer": "ipython3",
   "version": "3.6.4"
  },
  "nav_menu": {},
  "toc": {
   "navigate_menu": true,
   "number_sections": false,
   "sideBar": true,
   "threshold": 6,
   "toc_cell": false,
   "toc_section_display": "block",
   "toc_window_display": false
  }
 },
 "nbformat": 4,
 "nbformat_minor": 2
}
