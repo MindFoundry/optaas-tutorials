{
 "cells": [
  {
   "cell_type": "markdown",
   "metadata": {},
   "source": [
    "# OPTaaS Scikit-learn Pipelines\n",
    "\n",
    "Using the OPTaaS Python Client, you can optimize any scikit-learn pipeline. For each step or estimator in the pipeline, OPTaaS just needs to know what parameters to optimize and what constraints will apply to them.\n",
    "\n",
    "Your pipeline can even include **optional** steps (such as feature selection), and **choice** steps (such as choosing between a set of classifiers).\n",
    "\n",
    "We have provided pre-defined parameters and constraints for some of the most widely used estimators, such as Random Forest and XGBoost. The example below demonstrates how to use them. See also our [tutorial on defining your own custom optimizable estimators](sklearn_custom.ipynb)."
   ]
  },
  {
   "cell_type": "markdown",
   "metadata": {},
   "source": [
    "## Load your dataset\n",
    "\n",
    "We will run a classification pipeline using the German Credit Data available [here](https://newonlinecourses.science.psu.edu/stat857/node/215/). The data contains 1000 rows, with 20 feature columns and 1 target column which includes 2 classes."
   ]
  },
  {
   "cell_type": "code",
   "execution_count": 1,
   "metadata": {
    "scrolled": false
   },
   "outputs": [],
   "source": [
    "import pandas as pd\n",
    "\n",
    "data = pd.read_csv('german_credit.csv')\n",
    "features = data[data.columns.drop(['Creditability'])]\n",
    "target = data['Creditability']"
   ]
  },
  {
   "cell_type": "markdown",
   "metadata": {},
   "source": [
    "## Specify your estimators\n",
    "\n",
    "Our pipeline will include:\n",
    "\n",
    "- An optional feature selection step using PCA\n",
    "\n",
    "- A choice of classifier from: Random Forest, Extra Trees and Linear SVC"
   ]
  },
  {
   "cell_type": "code",
   "execution_count": 2,
   "metadata": {},
   "outputs": [],
   "source": [
    "from mindfoundry.optaas.client.sklearn_pipelines.estimators.pca import PCA\n",
    "from mindfoundry.optaas.client.sklearn_pipelines.estimators.ensemble import RandomForestClassifier, ExtraTreesClassifier\n",
    "from mindfoundry.optaas.client.sklearn_pipelines.estimators.svc import LinearSVC\n",
    "from mindfoundry.optaas.client.sklearn_pipelines.mixin import choice, optional_step\n",
    "\n",
    "estimators = [\n",
    "    ('feature_selection', optional_step(PCA())),\n",
    "    ('classification', choice(\n",
    "        RandomForestClassifier(),\n",
    "        ExtraTreesClassifier(),\n",
    "        LinearSVC()\n",
    "    ))\n",
    "]"
   ]
  },
  {
   "cell_type": "markdown",
   "metadata": {},
   "source": [
    "## Connect to the OPTaaS server using your API Key\n",
    "\n",
    "We now create a client, and connect to the web service that will perform our optimization. You will need to input your personal API key. Make sure you keep your key private and don't commit it to your version control system. "
   ]
  },
  {
   "cell_type": "code",
   "execution_count": 3,
   "metadata": {},
   "outputs": [],
   "source": [
    "from mindfoundry.optaas.client.client import OPTaaSClient\n",
    "\n",
    "client = OPTaaSClient('https://optaas.mindfoundry.ai', '<Your OPTaaS API key>')"
   ]
  },
  {
   "cell_type": "markdown",
   "metadata": {},
   "source": [
    "## Create your Sklearn Task\n",
    "\n",
    "We don't need to worry about specifying all the parameters and constraints - they are generated based on the estimators and any additional parameters we specify. In this case we specify the `feature_count` and we set `gpu_enabled` to False."
   ]
  },
  {
   "cell_type": "code",
   "execution_count": 4,
   "metadata": {},
   "outputs": [
    {
     "data": {
      "text/plain": [
       "[{'id': 'feature_selection',\n",
       "  'items': [{'default': 'auto',\n",
       "    'enum': ['arpack', 'auto', 'full', 'randomized'],\n",
       "    'id': 'feature_selection__svd_solver',\n",
       "    'name': 'svd_solver',\n",
       "    'type': 'categorical'},\n",
       "   {'choices': [{'id': 'feature_selection__n_components_int',\n",
       "      'maximum': 20,\n",
       "      'minimum': 1,\n",
       "      'name': 'n_components_int',\n",
       "      'type': 'integer'},\n",
       "     {'id': 'feature_selection__n_components_float',\n",
       "      'maximum': 0.9999999999999999,\n",
       "      'minimum': 5e-324,\n",
       "      'name': 'n_components_float',\n",
       "      'type': 'number'},\n",
       "     {'id': 'feature_selection__n_components_mle',\n",
       "      'name': 'n_components_mle',\n",
       "      'type': 'constant',\n",
       "      'value': 'mle'}],\n",
       "    'id': 'feature_selection__n_components',\n",
       "    'includeInDefault': False,\n",
       "    'name': 'n_components',\n",
       "    'optional': True,\n",
       "    'type': 'choice'},\n",
       "   {'default': False,\n",
       "    'id': 'feature_selection__whiten',\n",
       "    'name': 'whiten',\n",
       "    'type': 'boolean'},\n",
       "   {'default': 0.0,\n",
       "    'id': 'feature_selection__tol',\n",
       "    'maximum': 1,\n",
       "    'minimum': 0,\n",
       "    'name': 'tol',\n",
       "    'optional': True,\n",
       "    'type': 'number'},\n",
       "   {'choices': [{'id': 'feature_selection__iterated_power_int',\n",
       "      'maximum': 99,\n",
       "      'minimum': 0,\n",
       "      'name': 'iterated_power_int',\n",
       "      'type': 'integer'},\n",
       "     {'id': 'feature_selection__iterated_power_auto',\n",
       "      'name': 'iterated_power_auto',\n",
       "      'type': 'constant',\n",
       "      'value': 'auto'}],\n",
       "    'default': '#feature_selection__iterated_power_auto',\n",
       "    'id': 'feature_selection__iterated_power',\n",
       "    'name': 'iterated_power',\n",
       "    'type': 'choice'}],\n",
       "  'name': 'feature_selection',\n",
       "  'optional': True,\n",
       "  'type': 'group'},\n",
       " {'choices': [{'id': 'classification__0',\n",
       "    'items': [{'choices': [{'id': 'classification__0__max_features_float',\n",
       "        'maximum': 1.0,\n",
       "        'minimum': 0.0,\n",
       "        'name': 'max_features_float',\n",
       "        'type': 'number'},\n",
       "       {'default': 'auto',\n",
       "        'enum': ['auto', 'sqrt', 'log2'],\n",
       "        'id': 'classification__0__max_features_string',\n",
       "        'name': 'max_features_string',\n",
       "        'type': 'categorical'}],\n",
       "      'default': '#classification__0__max_features_string',\n",
       "      'id': 'classification__0__max_features',\n",
       "      'name': 'max_features',\n",
       "      'type': 'choice'},\n",
       "     {'choices': [{'default': 2,\n",
       "        'distribution': 'Uniform',\n",
       "        'id': 'classification__0__min_samples_split_int',\n",
       "        'maximum': 20,\n",
       "        'minimum': 2,\n",
       "        'name': 'min_samples_split_int',\n",
       "        'type': 'integer'},\n",
       "       {'id': 'classification__0__min_samples_split_float',\n",
       "        'maximum': 1.0,\n",
       "        'minimum': 0.0,\n",
       "        'name': 'min_samples_split_float',\n",
       "        'type': 'number'}],\n",
       "      'default': '#classification__0__min_samples_split_int',\n",
       "      'id': 'classification__0__min_samples_split',\n",
       "      'name': 'min_samples_split',\n",
       "      'type': 'choice'},\n",
       "     {'choices': [{'default': 1,\n",
       "        'id': 'classification__0__min_samples_leaf_int',\n",
       "        'maximum': 20,\n",
       "        'minimum': 1,\n",
       "        'name': 'min_samples_leaf_int',\n",
       "        'type': 'integer'},\n",
       "       {'id': 'classification__0__min_samples_leaf_float',\n",
       "        'maximum': 0.5,\n",
       "        'minimum': 5e-324,\n",
       "        'name': 'min_samples_leaf_float',\n",
       "        'type': 'number'}],\n",
       "      'default': '#classification__0__min_samples_leaf_int',\n",
       "      'id': 'classification__0__min_samples_leaf',\n",
       "      'name': 'min_samples_leaf',\n",
       "      'type': 'choice'},\n",
       "     {'default': 'gini',\n",
       "      'enum': ['gini', 'entropy'],\n",
       "      'id': 'classification__0__criterion',\n",
       "      'name': 'criterion',\n",
       "      'type': 'categorical'},\n",
       "     {'distribution': 'LogUniform',\n",
       "      'id': 'classification__0__max_leaf_nodes',\n",
       "      'includeInDefault': False,\n",
       "      'maximum': 10000,\n",
       "      'minimum': 10,\n",
       "      'name': 'max_leaf_nodes',\n",
       "      'optional': True,\n",
       "      'type': 'integer'},\n",
       "     {'distribution': 'LogUniform',\n",
       "      'id': 'classification__0__max_depth',\n",
       "      'includeInDefault': False,\n",
       "      'maximum': 100,\n",
       "      'minimum': 1,\n",
       "      'name': 'max_depth',\n",
       "      'optional': True,\n",
       "      'type': 'integer'},\n",
       "     {'default': 0.0,\n",
       "      'id': 'classification__0__min_weight_fraction_leaf',\n",
       "      'maximum': 0.5,\n",
       "      'minimum': 0.0,\n",
       "      'name': 'min_weight_fraction_leaf',\n",
       "      'type': 'number'},\n",
       "     {'default': 0.0,\n",
       "      'id': 'classification__0__min_impurity_decrease',\n",
       "      'maximum': 1,\n",
       "      'minimum': 0,\n",
       "      'name': 'min_impurity_decrease',\n",
       "      'type': 'number'},\n",
       "     {'default': True,\n",
       "      'id': 'classification__0__bootstrap',\n",
       "      'name': 'bootstrap',\n",
       "      'type': 'boolean'},\n",
       "     {'default': False,\n",
       "      'id': 'classification__0__oob_score',\n",
       "      'name': 'oob_score',\n",
       "      'type': 'boolean'},\n",
       "     {'default': 10,\n",
       "      'distribution': 'LogUniform',\n",
       "      'id': 'classification__0__n_estimators',\n",
       "      'maximum': 500,\n",
       "      'minimum': 10,\n",
       "      'name': 'n_estimators',\n",
       "      'type': 'integer'}],\n",
       "    'name': 'classification__0',\n",
       "    'type': 'group'},\n",
       "   {'id': 'classification__1',\n",
       "    'items': [{'choices': [{'id': 'classification__1__max_features_float',\n",
       "        'maximum': 1.0,\n",
       "        'minimum': 0.0,\n",
       "        'name': 'max_features_float',\n",
       "        'type': 'number'},\n",
       "       {'default': 'auto',\n",
       "        'enum': ['auto', 'sqrt', 'log2'],\n",
       "        'id': 'classification__1__max_features_string',\n",
       "        'name': 'max_features_string',\n",
       "        'type': 'categorical'}],\n",
       "      'default': '#classification__1__max_features_string',\n",
       "      'id': 'classification__1__max_features',\n",
       "      'name': 'max_features',\n",
       "      'type': 'choice'},\n",
       "     {'choices': [{'default': 2,\n",
       "        'distribution': 'LogUniform',\n",
       "        'id': 'classification__1__min_samples_split_int',\n",
       "        'maximum': 20,\n",
       "        'minimum': 2,\n",
       "        'name': 'min_samples_split_int',\n",
       "        'type': 'integer'},\n",
       "       {'id': 'classification__1__min_samples_split_float',\n",
       "        'maximum': 1.0,\n",
       "        'minimum': 0.0,\n",
       "        'name': 'min_samples_split_float',\n",
       "        'type': 'number'}],\n",
       "      'default': '#classification__1__min_samples_split_int',\n",
       "      'id': 'classification__1__min_samples_split',\n",
       "      'name': 'min_samples_split',\n",
       "      'type': 'choice'},\n",
       "     {'choices': [{'default': 1,\n",
       "        'id': 'classification__1__min_samples_leaf_int',\n",
       "        'maximum': 20,\n",
       "        'minimum': 1,\n",
       "        'name': 'min_samples_leaf_int',\n",
       "        'type': 'integer'},\n",
       "       {'id': 'classification__1__min_samples_leaf_float',\n",
       "        'maximum': 0.5,\n",
       "        'minimum': 5e-324,\n",
       "        'name': 'min_samples_leaf_float',\n",
       "        'type': 'number'}],\n",
       "      'default': '#classification__1__min_samples_leaf_int',\n",
       "      'id': 'classification__1__min_samples_leaf',\n",
       "      'name': 'min_samples_leaf',\n",
       "      'type': 'choice'},\n",
       "     {'default': 'gini',\n",
       "      'enum': ['gini', 'entropy'],\n",
       "      'id': 'classification__1__criterion',\n",
       "      'name': 'criterion',\n",
       "      'type': 'categorical'},\n",
       "     {'distribution': 'LogUniform',\n",
       "      'id': 'classification__1__max_leaf_nodes',\n",
       "      'includeInDefault': False,\n",
       "      'maximum': 10000,\n",
       "      'minimum': 10,\n",
       "      'name': 'max_leaf_nodes',\n",
       "      'optional': True,\n",
       "      'type': 'integer'},\n",
       "     {'distribution': 'Uniform',\n",
       "      'id': 'classification__1__max_depth',\n",
       "      'includeInDefault': False,\n",
       "      'maximum': 100,\n",
       "      'minimum': 1,\n",
       "      'name': 'max_depth',\n",
       "      'optional': True,\n",
       "      'type': 'integer'},\n",
       "     {'default': 0.0,\n",
       "      'id': 'classification__1__min_weight_fraction_leaf',\n",
       "      'maximum': 0.5,\n",
       "      'minimum': 0.0,\n",
       "      'name': 'min_weight_fraction_leaf',\n",
       "      'type': 'number'},\n",
       "     {'default': 0.0,\n",
       "      'id': 'classification__1__min_impurity_decrease',\n",
       "      'maximum': 1,\n",
       "      'minimum': 0,\n",
       "      'name': 'min_impurity_decrease',\n",
       "      'type': 'number'},\n",
       "     {'default': False,\n",
       "      'id': 'classification__1__bootstrap',\n",
       "      'name': 'bootstrap',\n",
       "      'type': 'boolean'},\n",
       "     {'default': False,\n",
       "      'id': 'classification__1__oob_score',\n",
       "      'name': 'oob_score',\n",
       "      'type': 'boolean'},\n",
       "     {'default': 10,\n",
       "      'distribution': 'LogUniform',\n",
       "      'id': 'classification__1__n_estimators',\n",
       "      'maximum': 500,\n",
       "      'minimum': 10,\n",
       "      'name': 'n_estimators',\n",
       "      'type': 'integer'}],\n",
       "    'name': 'classification__1',\n",
       "    'type': 'group'},\n",
       "   {'id': 'classification__2',\n",
       "    'items': [{'default': 1.0,\n",
       "      'distribution': 'LogUniform',\n",
       "      'id': 'classification__2__C',\n",
       "      'maximum': 5.0,\n",
       "      'minimum': 0.2,\n",
       "      'name': 'C',\n",
       "      'type': 'number'},\n",
       "     {'default': 0.0001,\n",
       "      'id': 'classification__2__tol',\n",
       "      'maximum': 1,\n",
       "      'minimum': 0,\n",
       "      'name': 'tol',\n",
       "      'type': 'number'},\n",
       "     {'id': 'classification__2__class_weight',\n",
       "      'includeInDefault': False,\n",
       "      'name': 'class_weight',\n",
       "      'optional': True,\n",
       "      'type': 'constant',\n",
       "      'value': 'balanced'},\n",
       "     {'default': True,\n",
       "      'id': 'classification__2__dual',\n",
       "      'name': 'dual',\n",
       "      'optional': True,\n",
       "      'type': 'boolean'},\n",
       "     {'default': 'l2',\n",
       "      'enum': ['l1', 'l2'],\n",
       "      'id': 'classification__2__penalty',\n",
       "      'name': 'penalty',\n",
       "      'optional': True,\n",
       "      'type': 'categorical'},\n",
       "     {'default': 'squared_hinge',\n",
       "      'enum': ['hinge', 'squared_hinge'],\n",
       "      'id': 'classification__2__loss',\n",
       "      'name': 'loss',\n",
       "      'optional': True,\n",
       "      'type': 'categorical'},\n",
       "     {'default': 'ovr',\n",
       "      'enum': ['ovr', 'crammer_singer'],\n",
       "      'id': 'classification__2__multi_class',\n",
       "      'name': 'multi_class',\n",
       "      'type': 'categorical'},\n",
       "     {'default': True,\n",
       "      'id': 'classification__2__fit_intercept',\n",
       "      'name': 'fit_intercept',\n",
       "      'type': 'boolean'},\n",
       "     {'default': 1,\n",
       "      'id': 'classification__2__intercept_scaling',\n",
       "      'maximum': 1,\n",
       "      'minimum': 0,\n",
       "      'name': 'intercept_scaling',\n",
       "      'optional': True,\n",
       "      'type': 'number'}],\n",
       "    'name': 'classification__2',\n",
       "    'type': 'group'}],\n",
       "  'id': 'classification',\n",
       "  'name': 'classification',\n",
       "  'type': 'choice'}]"
      ]
     },
     "metadata": {},
     "output_type": "display_data"
    },
    {
     "data": {
      "text/plain": [
       "[\"if #feature_selection__svd_solver == 'arpack' then ( #feature_selection__n_components_int < 20 ) && #feature_selection__tol is_present\",\n",
       " \"if ( #feature_selection__svd_solver == 'auto' ) || ( #feature_selection__svd_solver == 'randomized' ) then #feature_selection__n_components is_absent || ( #feature_selection__n_components == #feature_selection__n_components_int )\",\n",
       " 'if #classification__0__bootstrap == false then #classification__0__oob_score != true',\n",
       " 'if #classification__1__bootstrap == false then #classification__1__oob_score != true',\n",
       " \"if #classification__2__dual == true then #classification__2__penalty == 'l2'\",\n",
       " \"if #classification__2__dual == false then #classification__2__loss == 'squared_hinge'\",\n",
       " \"if #classification__2__multi_class == 'ovr' then ( #classification__2__dual is_present && #classification__2__penalty is_present ) && #classification__2__loss is_present\",\n",
       " \"if #classification__2__multi_class == 'crammer_singer' then ( #classification__2__dual is_absent && #classification__2__penalty is_absent ) && #classification__2__loss is_absent\",\n",
       " 'if #classification__2__fit_intercept == true then #classification__2__intercept_scaling is_present',\n",
       " 'if #classification__2__fit_intercept == false then #classification__2__intercept_scaling is_absent']"
      ]
     },
     "metadata": {},
     "output_type": "display_data"
    }
   ],
   "source": [
    "task = client.create_sklearn_task(\n",
    "    title='My Sklearn Task', \n",
    "    estimators=estimators,\n",
    "    feature_count=len(features.columns)\n",
    ")\n",
    "\n",
    "display(task.parameters)\n",
    "display(task.constraints)"
   ]
  },
  {
   "cell_type": "markdown",
   "metadata": {},
   "source": [
    "## Generate the first pipeline\n",
    "\n",
    "We get the first configuration from OPTaaS and use it to generate a pipeline:"
   ]
  },
  {
   "cell_type": "code",
   "execution_count": 5,
   "metadata": {
    "scrolled": false
   },
   "outputs": [
    {
     "data": {
      "text/plain": [
       "Pipeline(memory=None,\n",
       "     steps=[('feature_selection', PCA(copy=True, iterated_power='auto', n_components=None, random_state=None,\n",
       "  svd_solver='auto', tol=0.0, whiten=False)), ('classification', RandomForestClassifier(bootstrap=True, class_weight=None, criterion='gini',\n",
       "            max_depth=None, max_features='auto', max_l...n_jobs=1,\n",
       "            oob_score=False, random_state=None, verbose=0,\n",
       "            warm_start=False))])"
      ]
     },
     "metadata": {},
     "output_type": "display_data"
    }
   ],
   "source": [
    "configuration = task.generate_configurations()[0]\n",
    "pipeline = task.make_pipeline(configuration)\n",
    "\n",
    "display(pipeline)"
   ]
  },
  {
   "cell_type": "markdown",
   "metadata": {},
   "source": [
    "## Run your pipeline and calculate the result\n",
    "\n",
    "We define a function to run our pipeline and calculate the mean score:"
   ]
  },
  {
   "cell_type": "code",
   "execution_count": 6,
   "metadata": {
    "scrolled": true
   },
   "outputs": [
    {
     "data": {
      "text/plain": [
       "'Mean score: 0.684'"
      ]
     },
     "metadata": {},
     "output_type": "display_data"
    }
   ],
   "source": [
    "from sklearn.model_selection import cross_val_score\n",
    "\n",
    "def get_result(pipeline):\n",
    "    scores = cross_val_score(pipeline, features, target, scoring='f1_micro')\n",
    "    mean_score = scores.mean()\n",
    "    return mean_score\n",
    "\n",
    "mean_score = get_result(pipeline)\n",
    "\n",
    "display(f'Mean score: {mean_score:.3f}')"
   ]
  },
  {
   "cell_type": "markdown",
   "metadata": {},
   "source": [
    "## Record the result in OPTaaS and generate the next pipeline"
   ]
  },
  {
   "cell_type": "code",
   "execution_count": 7,
   "metadata": {
    "scrolled": false
   },
   "outputs": [],
   "source": [
    "configuration = task.record_result(configuration, score=mean_score)\n",
    "pipeline = task.make_pipeline(configuration)"
   ]
  },
  {
   "cell_type": "markdown",
   "metadata": {},
   "source": [
    "## Repeat as necessary"
   ]
  },
  {
   "cell_type": "code",
   "execution_count": 8,
   "metadata": {
    "scrolled": true
   },
   "outputs": [
    {
     "data": {
      "text/plain": [
       "'OPTaaS recommendation:'"
      ]
     },
     "metadata": {},
     "output_type": "display_data"
    },
    {
     "data": {
      "text/plain": [
       "Pipeline(memory=None,\n",
       "     steps=[('classification', ExtraTreesClassifier(bootstrap=True, class_weight=None, criterion='gini',\n",
       "           max_depth=88, max_features=0.8347809045688854,\n",
       "           max_leaf_nodes=None, min_impurity_decrease=0.7945820764661936,\n",
       "           min_impurity_split=None, min_samples_leaf=14,\n",
       "           min_samples_split=8,\n",
       "           min_weight_fraction_leaf=0.0900039391054861, n_estimators=14,\n",
       "           n_jobs=1, oob_score=True, random_state=None, verbose=0,\n",
       "           warm_start=False))])"
      ]
     },
     "metadata": {},
     "output_type": "display_data"
    },
    {
     "name": "stderr",
     "output_type": "stream",
     "text": [
      "C:\\ProgramData\\Anaconda3\\envs\\py36\\lib\\site-packages\\sklearn\\ensemble\\forest.py:453: UserWarning: Some inputs do not have OOB scores. This probably means too few trees were used to compute any reliable oob estimates.\n",
      "  warn(\"Some inputs do not have OOB scores. \"\n",
      "C:\\ProgramData\\Anaconda3\\envs\\py36\\lib\\site-packages\\sklearn\\ensemble\\forest.py:458: RuntimeWarning: invalid value encountered in true_divide\n",
      "  predictions[k].sum(axis=1)[:, np.newaxis])\n"
     ]
    },
    {
     "data": {
      "text/plain": [
       "'Mean score: 0.700'"
      ]
     },
     "metadata": {},
     "output_type": "display_data"
    },
    {
     "data": {
      "text/plain": [
       "'OPTaaS recommendation:'"
      ]
     },
     "metadata": {},
     "output_type": "display_data"
    },
    {
     "data": {
      "text/plain": [
       "Pipeline(memory=None,\n",
       "     steps=[('classification', RandomForestClassifier(bootstrap=True, class_weight=None, criterion='gini',\n",
       "            max_depth=None, max_features=0.6971715530810846,\n",
       "            max_leaf_nodes=None, min_impurity_decrease=0.11162448326459773,\n",
       "            min_impurity_split=None, min_samples_leaf=0.07487...            n_jobs=1, oob_score=False, random_state=None, verbose=0,\n",
       "            warm_start=False))])"
      ]
     },
     "metadata": {},
     "output_type": "display_data"
    },
    {
     "data": {
      "text/plain": [
       "'Mean score: 0.700'"
      ]
     },
     "metadata": {},
     "output_type": "display_data"
    },
    {
     "data": {
      "text/plain": [
       "'OPTaaS recommendation:'"
      ]
     },
     "metadata": {},
     "output_type": "display_data"
    },
    {
     "data": {
      "text/plain": [
       "Pipeline(memory=None,\n",
       "     steps=[('classification', RandomForestClassifier(bootstrap=False, class_weight=None,\n",
       "            criterion='entropy', max_depth=None, max_features='sqrt',\n",
       "            max_leaf_nodes=6580, min_impurity_decrease=0.24478696548136247,\n",
       "            min_impurity_split=None, min_samples_leaf=16,\n",
       "            min_samples_split=8,\n",
       "            min_weight_fraction_leaf=0.3843510059011472, n_estimators=167,\n",
       "            n_jobs=1, oob_score=False, random_state=None, verbose=0,\n",
       "            warm_start=False))])"
      ]
     },
     "metadata": {},
     "output_type": "display_data"
    },
    {
     "data": {
      "text/plain": [
       "'Mean score: 0.700'"
      ]
     },
     "metadata": {},
     "output_type": "display_data"
    },
    {
     "data": {
      "text/plain": [
       "'OPTaaS recommendation:'"
      ]
     },
     "metadata": {},
     "output_type": "display_data"
    },
    {
     "data": {
      "text/plain": [
       "Pipeline(memory=None,\n",
       "     steps=[('classification', RandomForestClassifier(bootstrap=True, class_weight=None, criterion='entropy',\n",
       "            max_depth=15, max_features='auto', max_leaf_nodes=None,\n",
       "            min_impurity_decrease=0.9728838363652157,\n",
       "            min_impurity_split=None, min_samples_leaf=0.24365195679239393...            n_jobs=1, oob_score=False, random_state=None, verbose=0,\n",
       "            warm_start=False))])"
      ]
     },
     "metadata": {},
     "output_type": "display_data"
    },
    {
     "data": {
      "text/plain": [
       "'Mean score: 0.700'"
      ]
     },
     "metadata": {},
     "output_type": "display_data"
    },
    {
     "data": {
      "text/plain": [
       "'OPTaaS recommendation:'"
      ]
     },
     "metadata": {},
     "output_type": "display_data"
    },
    {
     "data": {
      "text/plain": [
       "Pipeline(memory=None,\n",
       "     steps=[('classification', ExtraTreesClassifier(bootstrap=True, class_weight=None, criterion='gini',\n",
       "           max_depth=None, max_features='auto', max_leaf_nodes=942,\n",
       "           min_impurity_decrease=0.8632421089796949,\n",
       "           min_impurity_split=None, min_samples_leaf=15,\n",
       "           min_samples_split=0.20737671197302388,\n",
       "           min_weight_fraction_leaf=0.13565324953115132, n_estimators=457,\n",
       "           n_jobs=1, oob_score=True, random_state=None, verbose=0,\n",
       "           warm_start=False))])"
      ]
     },
     "metadata": {},
     "output_type": "display_data"
    },
    {
     "data": {
      "text/plain": [
       "'Mean score: 0.700'"
      ]
     },
     "metadata": {},
     "output_type": "display_data"
    },
    {
     "data": {
      "text/plain": [
       "'OPTaaS recommendation:'"
      ]
     },
     "metadata": {},
     "output_type": "display_data"
    },
    {
     "data": {
      "text/plain": [
       "Pipeline(memory=None,\n",
       "     steps=[('classification', ExtraTreesClassifier(bootstrap=True, class_weight=None, criterion='entropy',\n",
       "           max_depth=90, max_features=0.003646868480661869,\n",
       "           max_leaf_nodes=95, min_impurity_decrease=0.1978619738503251,\n",
       "           min_impurity_split=None, min_samples_leaf=3,\n",
       "         ...6,\n",
       "           n_jobs=1, oob_score=True, random_state=None, verbose=0,\n",
       "           warm_start=False))])"
      ]
     },
     "metadata": {},
     "output_type": "display_data"
    },
    {
     "data": {
      "text/plain": [
       "'Mean score: 0.700'"
      ]
     },
     "metadata": {},
     "output_type": "display_data"
    },
    {
     "data": {
      "text/plain": [
       "'OPTaaS recommendation:'"
      ]
     },
     "metadata": {},
     "output_type": "display_data"
    },
    {
     "data": {
      "text/plain": [
       "Pipeline(memory=None,\n",
       "     steps=[('feature_selection', PCA(copy=True, iterated_power=13, n_components=None, random_state=None,\n",
       "  svd_solver='full', tol=0.3607130914658494, whiten=True)), ('classification', ExtraTreesClassifier(bootstrap=True, class_weight=None, criterion='gini',\n",
       "           max_depth=27, max_features='sqrt', ...0,\n",
       "           n_jobs=1, oob_score=True, random_state=None, verbose=0,\n",
       "           warm_start=False))])"
      ]
     },
     "metadata": {},
     "output_type": "display_data"
    },
    {
     "data": {
      "text/plain": [
       "'Mean score: 0.700'"
      ]
     },
     "metadata": {},
     "output_type": "display_data"
    },
    {
     "data": {
      "text/plain": [
       "'OPTaaS recommendation:'"
      ]
     },
     "metadata": {},
     "output_type": "display_data"
    },
    {
     "data": {
      "text/plain": [
       "Pipeline(memory=None,\n",
       "     steps=[('classification', RandomForestClassifier(bootstrap=True, class_weight=None, criterion='entropy',\n",
       "            max_depth=19, max_features=0.2980724139146793,\n",
       "            max_leaf_nodes=None, min_impurity_decrease=0.6131634029682336,\n",
       "            min_impurity_split=None, min_samples_leaf=0.45927...            n_jobs=1, oob_score=False, random_state=None, verbose=0,\n",
       "            warm_start=False))])"
      ]
     },
     "metadata": {},
     "output_type": "display_data"
    },
    {
     "data": {
      "text/plain": [
       "'Mean score: 0.700'"
      ]
     },
     "metadata": {},
     "output_type": "display_data"
    },
    {
     "data": {
      "text/plain": [
       "'OPTaaS recommendation:'"
      ]
     },
     "metadata": {},
     "output_type": "display_data"
    },
    {
     "data": {
      "text/plain": [
       "Pipeline(memory=None,\n",
       "     steps=[('feature_selection', PCA(copy=True, iterated_power=7, n_components=None, random_state=None,\n",
       "  svd_solver='full', tol=0.7032527640397433, whiten=False)), ('classification', ExtraTreesClassifier(bootstrap=True, class_weight=None, criterion='entropy',\n",
       "           max_depth=None, max_features=0.1...9,\n",
       "           n_jobs=1, oob_score=True, random_state=None, verbose=0,\n",
       "           warm_start=False))])"
      ]
     },
     "metadata": {},
     "output_type": "display_data"
    },
    {
     "data": {
      "text/plain": [
       "'Mean score: 0.700'"
      ]
     },
     "metadata": {},
     "output_type": "display_data"
    },
    {
     "data": {
      "text/plain": [
       "'OPTaaS recommendation:'"
      ]
     },
     "metadata": {},
     "output_type": "display_data"
    },
    {
     "data": {
      "text/plain": [
       "Pipeline(memory=None,\n",
       "     steps=[('feature_selection', PCA(copy=True, iterated_power=55, n_components='mle', random_state=None,\n",
       "  svd_solver='full', tol=0.1699494461779577, whiten=True)), ('classification', RandomForestClassifier(bootstrap=True, class_weight=None, criterion='gini',\n",
       "            max_depth=None, max_features='a...\n",
       "            n_jobs=1, oob_score=True, random_state=None, verbose=0,\n",
       "            warm_start=False))])"
      ]
     },
     "metadata": {},
     "output_type": "display_data"
    },
    {
     "data": {
      "text/plain": [
       "'Mean score: 0.700'"
      ]
     },
     "metadata": {},
     "output_type": "display_data"
    },
    {
     "data": {
      "text/plain": [
       "'OPTaaS recommendation:'"
      ]
     },
     "metadata": {},
     "output_type": "display_data"
    },
    {
     "data": {
      "text/plain": [
       "Pipeline(memory=None,\n",
       "     steps=[('classification', RandomForestClassifier(bootstrap=True, class_weight=None, criterion='entropy',\n",
       "            max_depth=None, max_features='auto', max_leaf_nodes=None,\n",
       "            min_impurity_decrease=0.0, min_impurity_split=None,\n",
       "            min_samples_leaf=0.047590580336390964, min_samples_split=2,\n",
       "            min_weight_fraction_leaf=0.0, n_estimators=24, n_jobs=1,\n",
       "            oob_score=False, random_state=None, verbose=0,\n",
       "            warm_start=False))])"
      ]
     },
     "metadata": {},
     "output_type": "display_data"
    },
    {
     "data": {
      "text/plain": [
       "'Mean score: 0.722'"
      ]
     },
     "metadata": {},
     "output_type": "display_data"
    },
    {
     "data": {
      "text/plain": [
       "'OPTaaS recommendation:'"
      ]
     },
     "metadata": {},
     "output_type": "display_data"
    },
    {
     "data": {
      "text/plain": [
       "Pipeline(memory=None,\n",
       "     steps=[('feature_selection', PCA(copy=True, iterated_power=54, n_components=None, random_state=None,\n",
       "  svd_solver='auto', tol=None, whiten=False)), ('classification', RandomForestClassifier(bootstrap=True, class_weight=None, criterion='entropy',\n",
       "            max_depth=None, max_features='sqrt', max_l...            n_jobs=1, oob_score=False, random_state=None, verbose=0,\n",
       "            warm_start=False))])"
      ]
     },
     "metadata": {},
     "output_type": "display_data"
    },
    {
     "data": {
      "text/plain": [
       "'Mean score: 0.700'"
      ]
     },
     "metadata": {},
     "output_type": "display_data"
    }
   ],
   "source": [
    "number_of_iterations = 12\n",
    "\n",
    "for _ in range(number_of_iterations):\n",
    "    display(\"OPTaaS recommendation:\", pipeline)\n",
    "    mean_score = get_result(pipeline)\n",
    "    display(f'Mean score: {mean_score:.3f}')\n",
    "    configuration = task.record_result(configuration, score=mean_score)\n",
    "    pipeline = task.make_pipeline(configuration)"
   ]
  },
  {
   "cell_type": "markdown",
   "metadata": {},
   "source": [
    "## Complete your task"
   ]
  },
  {
   "cell_type": "code",
   "execution_count": 9,
   "metadata": {},
   "outputs": [
    {
     "data": {
      "text/plain": [
       "{ 'configuration': '9298d7c8-f6a1-4559-8d09-5fe35c2dd080',\n",
       "  'id': 2373,\n",
       "  'score': 0.7219884555213896,\n",
       "  'user_defined_data': None}"
      ]
     },
     "metadata": {},
     "output_type": "display_data"
    },
    {
     "data": {
      "text/plain": [
       "Pipeline(memory=None,\n",
       "     steps=[('classification', RandomForestClassifier(bootstrap=True, class_weight=None, criterion='entropy',\n",
       "            max_depth=None, max_features='auto', max_leaf_nodes=None,\n",
       "            min_impurity_decrease=0.0, min_impurity_split=None,\n",
       "            min_samples_leaf=0.047590580336390964, min_samples_split=2,\n",
       "            min_weight_fraction_leaf=0.0, n_estimators=24, n_jobs=1,\n",
       "            oob_score=False, random_state=None, verbose=0,\n",
       "            warm_start=False))])"
      ]
     },
     "metadata": {},
     "output_type": "display_data"
    }
   ],
   "source": [
    "task.complete()\n",
    "\n",
    "best_result, best_configuration = task.get_best_result_and_configuration()\n",
    "best_pipeline = task.make_pipeline(best_configuration)\n",
    "\n",
    "display(best_result, best_pipeline)"
   ]
  }
 ],
 "metadata": {
  "kernelspec": {
   "display_name": "Python 3",
   "language": "python",
   "name": "python3"
  },
  "language_info": {
   "codemirror_mode": {
    "name": "ipython",
    "version": 3
   },
   "file_extension": ".py",
   "mimetype": "text/x-python",
   "name": "python",
   "nbconvert_exporter": "python",
   "pygments_lexer": "ipython3",
   "version": "3.6.4"
  },
  "nav_menu": {},
  "toc": {
   "navigate_menu": true,
   "number_sections": false,
   "sideBar": true,
   "threshold": 6,
   "toc_cell": false,
   "toc_section_display": "block",
   "toc_window_display": false
  }
 },
 "nbformat": 4,
 "nbformat_minor": 2
}
