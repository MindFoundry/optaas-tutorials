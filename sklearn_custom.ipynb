{
 "cells": [
  {
   "cell_type": "markdown",
   "metadata": {},
   "source": [
    "# OPTaaS Scikit-learn Custom Optimizable Estimators\n",
    "\n",
    "Using the OPTaaS Python Client, you can optimize any scikit-learn pipeline. For each step or estimator in the pipeline, OPTaaS just needs to know what parameters to optimize and what constraints will apply to them.\n",
    "\n",
    "We have provided pre-defined parameters and constraints for some of the most widely used estimators, such as Random Forest and XGBoost, but you can easily optimize your own custom estimator using our `OptimizableBaseEstimator` mixin. Here's an example:"
   ]
  },
  {
   "cell_type": "markdown",
   "metadata": {},
   "source": [
    "## Creating an Optimizable PCA\n",
    "\n",
    "We will take scikit-learn's PCA class and make it optimizable by OPTaaS. First we create a class that extends both the base PCA class from scikit-learn, and also our OptimizableBaseEstimator mixin. You'll notice there is an abstract method that we will need to implement:"
   ]
  },
  {
   "cell_type": "code",
   "execution_count": 1,
   "metadata": {
    "scrolled": false
   },
   "outputs": [],
   "source": [
    "from sklearn.decomposition import PCA as BasePCA\n",
    "\n",
    "from mindfoundry.optaas.client.sklearn_pipelines.mixin import OptimizableBaseEstimator, ParametersAndConstraints\n",
    "from mindfoundry.optaas.client.sklearn_pipelines.parameter_maker import SklearnParameterMaker\n",
    "\n",
    "class OptimizablePCA(BasePCA, OptimizableBaseEstimator):\n",
    "    def make_parameters_and_constraints(self, sk: SklearnParameterMaker, **kwargs) -> ParametersAndConstraints:\n",
    "        pass"
   ]
  },
  {
   "cell_type": "markdown",
   "metadata": {},
   "source": [
    "## Define some Parameters\n",
    "\n",
    "Using the [scikit-learn docs](http://scikit-learn.org/stable/modules/generated/sklearn.decomposition.PCA.html) as a guide, we create some OPTaaS parameters for optimization. These will be returned from `make_parameters_and_constraints` (we'll leave the constraints as an empty list for now).\n",
    "\n",
    "You'll notice the first argument to the method is a `SklearnParameterMaker`. We will use this to create our parameters, i.e. we call `sk.CategoricalParameter` instead of just `CategoricalParameter`.\n",
    "\n",
    "This will ensure that each parameter is automatically assigned the correct default value, which is based on the estimator's `get_params` method. Therefore, if you specify parameter values in the estimator's constructor, it will override the default."
   ]
  },
  {
   "cell_type": "code",
   "execution_count": 2,
   "metadata": {},
   "outputs": [
    {
     "data": {
      "text/plain": [
       "OptimizablePCA(copy=True, iterated_power='auto', n_components=None,\n",
       "        random_state=None, svd_solver='full', tol=0.0, whiten=False)"
      ]
     },
     "execution_count": 2,
     "metadata": {},
     "output_type": "execute_result"
    }
   ],
   "source": [
    "class OptimizablePCA(BasePCA, OptimizableBaseEstimator):\n",
    "    def make_parameters_and_constraints(self, sk: SklearnParameterMaker, **kwargs) -> ParametersAndConstraints:\n",
    "        svd_solver = sk.CategoricalParameter(\"svd_solver\", values=['arpack', 'auto', 'full', 'randomized'])\n",
    "        whiten = sk.BoolParameter('whiten')\n",
    "        tol = sk.FloatParameter('tol', minimum=0, maximum=1, optional=True)\n",
    "        \n",
    "        return [svd_solver, whiten, tol], []\n",
    "\n",
    "# This estimator will use 'full' as the default value for svd_solver\n",
    "OptimizablePCA(svd_solver='full')"
   ]
  },
  {
   "cell_type": "markdown",
   "metadata": {},
   "source": [
    "## Multi-type Parameters\n",
    "\n",
    "Some parameters might be multi-type, e.g. `n_components` can be an integer, a float, or the constant 'mle'. We model this using a `ChoiceParameter`, and our SklearnParameterMaker will handle setting the default value correctly. We will do the same for `iterated_power`.\n",
    "\n",
    "In order to set the maximum int value for `n_components`, we also need to know how many features are in our dataset. We will therefore expect a `feature_count` value to be provided when the task is created (in the `OPTaaSClient.create_sklearn_task` method), and this will be made available to us here in `kwargs`.\n",
    "\n",
    "The range of floating point values for `n_components` needs to be >0 and <1. Since OPTaaS ranges are inclusive of the bounds, we use numpy to generate the smallest value above 0 and the largest value below 1."
   ]
  },
  {
   "cell_type": "code",
   "execution_count": 3,
   "metadata": {},
   "outputs": [],
   "source": [
    "import numpy\n",
    "\n",
    "class OptimizablePCA(BasePCA, OptimizableBaseEstimator):\n",
    "    def make_parameters_and_constraints(self, sk: SklearnParameterMaker, **kwargs) -> ParametersAndConstraints:\n",
    "        feature_count = self._get_required_kwarg(kwargs, 'feature_count')\n",
    "\n",
    "        mle = sk.ConstantParameter('n_components_mle', value='mle')\n",
    "        n_components_int = sk.IntParameter('n_components_int', minimum=1, maximum=feature_count)\n",
    "        n_components_float = sk.FloatParameter('n_components_float', minimum=numpy.nextafter(0.0, 1),\n",
    "                                               maximum=numpy.nextafter(1.0, 0))\n",
    "        n_components = sk.ChoiceParameter('n_components', optional=True,\n",
    "                                          choices=[n_components_int, n_components_float, mle])\n",
    "\n",
    "        iterated_power_auto = sk.ConstantParameter('iterated_power_auto', value='auto')\n",
    "        iterated_power_int = sk.IntParameter('iterated_power_int', minimum=0, maximum=99)\n",
    "        iterated_power = sk.ChoiceParameter('iterated_power', choices=[iterated_power_auto, iterated_power_int])\n",
    "\n",
    "        svd_solver = sk.CategoricalParameter(\"svd_solver\", values=['arpack', 'auto', 'full', 'randomized'])\n",
    "        whiten = sk.BoolParameter('whiten')\n",
    "        tol = sk.FloatParameter('tol', minimum=0, maximum=1, optional=True)\n",
    "        \n",
    "        return [svd_solver, whiten, tol, n_components, iterated_power], []"
   ]
  },
  {
   "cell_type": "markdown",
   "metadata": {},
   "source": [
    "## Constraints\n",
    "\n",
    "Finally, we implement some constraints that will prevent OPTaaS from generating invalid configurations. Here we specify how the `svd_solver` value affects other parameters:"
   ]
  },
  {
   "cell_type": "code",
   "execution_count": 4,
   "metadata": {},
   "outputs": [],
   "source": [
    "from mindfoundry.optaas.client.constraint import Constraint\n",
    "\n",
    "class OptimizablePCA(BasePCA, OptimizableBaseEstimator):\n",
    "    def make_parameters_and_constraints(self, sk: SklearnParameterMaker, **kwargs) -> ParametersAndConstraints:\n",
    "        feature_count = self._get_required_kwarg(kwargs, 'feature_count')\n",
    "\n",
    "        mle = sk.ConstantParameter('n_components_mle', value='mle')\n",
    "        n_components_int = sk.IntParameter('n_components_int', minimum=1, maximum=feature_count)\n",
    "        n_components_float = sk.FloatParameter('n_components_float', minimum=numpy.nextafter(0.0, 1),\n",
    "                                               maximum=numpy.nextafter(1.0, 0))\n",
    "        n_components = sk.ChoiceParameter('n_components', optional=True,\n",
    "                                          choices=[n_components_int, n_components_float, mle])\n",
    "\n",
    "        iterated_power_auto = sk.ConstantParameter('iterated_power_auto', value='auto')\n",
    "        iterated_power_int = sk.IntParameter('iterated_power_int', minimum=0, maximum=99)\n",
    "        iterated_power = sk.ChoiceParameter('iterated_power', choices=[iterated_power_auto, iterated_power_int])\n",
    "\n",
    "        svd_solver = sk.CategoricalParameter(\"svd_solver\", values=['arpack', 'auto', 'full', 'randomized'])\n",
    "        whiten = sk.BoolParameter('whiten')\n",
    "        tol = sk.FloatParameter('tol', minimum=0, maximum=1, optional=True)\n",
    "        \n",
    "        return [svd_solver, whiten, tol, n_components, iterated_power], [\n",
    "            Constraint(when=svd_solver == 'arpack', then=(n_components_int < feature_count) & tol.is_present()),\n",
    "            Constraint(when=(svd_solver == 'auto') | (svd_solver == 'randomized'),\n",
    "                       then=n_components.is_absent() | (n_components == n_components_int))\n",
    "        ]"
   ]
  },
  {
   "cell_type": "markdown",
   "metadata": {},
   "source": [
    "## Creating our Task\n",
    "\n",
    "We now create a task using our new estimator. As you can see, all the parameters and constraints have been generated as expected, and the defaults have been set."
   ]
  },
  {
   "cell_type": "code",
   "execution_count": 5,
   "metadata": {},
   "outputs": [
    {
     "data": {
      "text/plain": [
       "[{'id': 'pca',\n",
       "  'items': [{'default': 'full',\n",
       "    'enum': ['arpack', 'auto', 'full', 'randomized'],\n",
       "    'id': 'pca__svd_solver',\n",
       "    'name': 'svd_solver',\n",
       "    'type': 'categorical'},\n",
       "   {'default': False,\n",
       "    'id': 'pca__whiten',\n",
       "    'name': 'whiten',\n",
       "    'type': 'boolean'},\n",
       "   {'default': 0.0,\n",
       "    'id': 'pca__tol',\n",
       "    'maximum': 1,\n",
       "    'minimum': 0,\n",
       "    'name': 'tol',\n",
       "    'optional': True,\n",
       "    'type': 'number'},\n",
       "   {'choices': [{'id': 'pca__n_components_int',\n",
       "      'maximum': 20,\n",
       "      'minimum': 1,\n",
       "      'name': 'n_components_int',\n",
       "      'type': 'integer'},\n",
       "     {'id': 'pca__n_components_float',\n",
       "      'maximum': 0.9999999999999999,\n",
       "      'minimum': 5e-324,\n",
       "      'name': 'n_components_float',\n",
       "      'type': 'number'},\n",
       "     {'id': 'pca__n_components_mle',\n",
       "      'name': 'n_components_mle',\n",
       "      'type': 'constant',\n",
       "      'value': 'mle'}],\n",
       "    'default': '#pca__n_components_mle',\n",
       "    'id': 'pca__n_components',\n",
       "    'name': 'n_components',\n",
       "    'optional': True,\n",
       "    'type': 'choice'},\n",
       "   {'choices': [{'id': 'pca__iterated_power_auto',\n",
       "      'name': 'iterated_power_auto',\n",
       "      'type': 'constant',\n",
       "      'value': 'auto'},\n",
       "     {'id': 'pca__iterated_power_int',\n",
       "      'maximum': 99,\n",
       "      'minimum': 0,\n",
       "      'name': 'iterated_power_int',\n",
       "      'type': 'integer'}],\n",
       "    'default': '#pca__iterated_power_auto',\n",
       "    'id': 'pca__iterated_power',\n",
       "    'name': 'iterated_power',\n",
       "    'type': 'choice'}],\n",
       "  'name': 'pca',\n",
       "  'type': 'group'}]"
      ]
     },
     "metadata": {},
     "output_type": "display_data"
    },
    {
     "data": {
      "text/plain": [
       "[\"if #pca__svd_solver == 'arpack' then ( #pca__n_components_int < 20 ) && #pca__tol is_present\",\n",
       " \"if ( #pca__svd_solver == 'auto' ) || ( #pca__svd_solver == 'randomized' ) then #pca__n_components is_absent || ( #pca__n_components == #pca__n_components_int )\"]"
      ]
     },
     "metadata": {},
     "output_type": "display_data"
    }
   ],
   "source": [
    "from mindfoundry.optaas.client.client import OPTaaSClient\n",
    "\n",
    "client = OPTaaSClient('https://optaas.mindfoundry.ai', '<Your OPTaaS API key>')\n",
    "\n",
    "task = client.create_sklearn_task(\n",
    "    title='My Task with OptimizablePCA', \n",
    "    estimators=[('pca', OptimizablePCA(n_components='mle', svd_solver='full'))],\n",
    "    feature_count=20\n",
    ")\n",
    "\n",
    "display(task.parameters, task.constraints)"
   ]
  },
  {
   "cell_type": "markdown",
   "metadata": {},
   "source": [
    "## Optional Estimators\n",
    "\n",
    "Any estimator can be an optional step in a pipeline by simply calling `optional_step(estimator)` as demonstrated [here](sklearn.ipynb).\n",
    "\n",
    "However, if you want your estimator to **always** be optional, you can simply use the `OptionalStepMixin` instead of `OptimizableBaseEstimator`:"
   ]
  },
  {
   "cell_type": "code",
   "execution_count": 6,
   "metadata": {},
   "outputs": [],
   "source": [
    "from mindfoundry.optaas.client.sklearn_pipelines.mixin import OptionalStepMixin\n",
    "\n",
    "class OptionalPCA(BasePCA, OptionalStepMixin):\n",
    "    pass"
   ]
  }
 ],
 "metadata": {
  "kernelspec": {
   "display_name": "Python 3",
   "language": "python",
   "name": "python3"
  },
  "language_info": {
   "codemirror_mode": {
    "name": "ipython",
    "version": 3
   },
   "file_extension": ".py",
   "mimetype": "text/x-python",
   "name": "python",
   "nbconvert_exporter": "python",
   "pygments_lexer": "ipython3",
   "version": "3.6.4"
  },
  "nav_menu": {},
  "toc": {
   "navigate_menu": true,
   "number_sections": false,
   "sideBar": true,
   "threshold": 6,
   "toc_cell": false,
   "toc_section_display": "block",
   "toc_window_display": false
  }
 },
 "nbformat": 4,
 "nbformat_minor": 2
}
