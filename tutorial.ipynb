{
 "cells": [
  {
   "cell_type": "markdown",
   "metadata": {},
   "source": [
    "# OPTaaS Tutorial\n",
    "\n",
    "OPTaaS is an optimization service developed by Mind Foundry. It can be used to optimize any function you wish to use; all it needs to know is the parameter space over which the function operates.\n",
    "\n",
    "The procedure is simple: you create a task, which is the definition of the parameters of the function, and send it to OPTaaS. The service will then suggest a configuration (set of values for your parameters) to evaluate. You evaluate the configuration locally and send the score you obtained back to OPTaaS. You then repeat the process until you're happy that the score is good, or that there hasn't been enough progress in a while. \n",
    "\n",
    "Here we demonstrate how to use OPTaaS to optimize a scikit-learn classification pipeline."
   ]
  },
  {
   "cell_type": "markdown",
   "metadata": {},
   "source": [
    "## Load your dataset\n",
    "\n",
    "We will run a classification pipeline using the German Credit Data available [here](https://newonlinecourses.science.psu.edu/stat857/node/215/). The data contains 1000 rows, with 20 feature columns and 1 target column which includes 2 classes."
   ]
  },
  {
   "cell_type": "code",
   "execution_count": 1,
   "metadata": {
    "scrolled": false
   },
   "outputs": [],
   "source": [
    "import pandas as pd\n",
    "\n",
    "data = pd.read_csv('german_credit.csv')\n",
    "features = data[data.columns.drop(['Creditability'])]\n",
    "target = data['Creditability']"
   ]
  },
  {
   "cell_type": "markdown",
   "metadata": {},
   "source": [
    "## Create your pipeline\n",
    "\n",
    "We can then assemble a simple pipeline: we reduce the input dimensions with PCA, and then classify the data with a Random Forest Classifier.\n",
    "\n",
    "We create a function that will set the parameters of our pipeline based on the values that OPTaaS will generate."
   ]
  },
  {
   "cell_type": "code",
   "execution_count": 2,
   "metadata": {},
   "outputs": [
    {
     "data": {
      "text/plain": [
       "Pipeline(memory=None,\n",
       "     steps=[('pca', PCA(copy=True, iterated_power='auto', n_components=None, random_state=None,\n",
       "  svd_solver='auto', tol=0.0, whiten=False)), ('rf', RandomForestClassifier(bootstrap=True, class_weight=None, criterion='gini',\n",
       "            max_depth=None, max_features='auto', max_leaf_nodes=None,\n",
       "          ...n_jobs=1,\n",
       "            oob_score=False, random_state=None, verbose=0,\n",
       "            warm_start=False))])"
      ]
     },
     "execution_count": 2,
     "metadata": {},
     "output_type": "execute_result"
    }
   ],
   "source": [
    "from sklearn.pipeline import Pipeline\n",
    "from sklearn.decomposition import PCA\n",
    "from sklearn.ensemble import RandomForestClassifier\n",
    "\n",
    "def make_pipeline(**params):\n",
    "    pipeline = Pipeline([('pca', PCA()), ('rf', RandomForestClassifier())])\n",
    "    pipeline.set_params(**params)\n",
    "    return pipeline\n",
    "\n",
    "make_pipeline()"
   ]
  },
  {
   "cell_type": "markdown",
   "metadata": {},
   "source": [
    "## Define the parameters to be optimized\n",
    "\n",
    "Let's now define the parameters for our task. A list of available parameter types can be found [here](autogen/mindfoundry.optaas.client.html#module-mindfoundry.optaas.client.parameter).\n",
    "\n",
    "We can use *constraints* to make sure that the parameter values are always valid, e.g. that `max_features` in our classifier will never be larger than `n_components` in PCA. (see also: [Constraints](constraints.ipynb))\n",
    "\n",
    "scikit-learn pipelines follow a naming convention, so we abide to that convention here. This allows us to plug them in directly into `Pipeline.set_params()`.\n",
    "\n",
    "Note that you don't have to define every single parameter of your pipelines, just the ones you would like to optimize. If you don't know what parameters will lead to better results, give them all to OPTaaS and let it do the hard work for you. However, the more parameters you have, the harder it is to optimize over them, so you will need more iterations to achieve comparable results. "
   ]
  },
  {
   "cell_type": "code",
   "execution_count": 3,
   "metadata": {
    "scrolled": true
   },
   "outputs": [
    {
     "data": {
      "text/plain": [
       "[{'id': '2818768346080', 'name': 'pca__n_components', 'type': 'integer', 'minimum': 1, 'maximum': 20},\n",
       " {'id': '2818768505824', 'name': 'pca__whiten', 'type': 'boolean'},\n",
       " {'id': '2818768346472', 'name': 'rf__max_features', 'type': 'integer', 'optional': True, 'includeInDefault': False, 'minimum': 1, 'maximum': 20},\n",
       " {'id': '2818768505880', 'name': 'rf__n_estimators', 'type': 'integer', 'default': 10, 'minimum': 10, 'maximum': 1000, 'distribution': 'LogUniform'},\n",
       " {'id': '2818768505936', 'name': 'rf__criterion', 'type': 'categorical', 'enum': ['entropy', 'gini']},\n",
       " {'id': '2818768505992', 'name': 'rf__max_depth', 'type': 'integer', 'optional': True, 'minimum': 1, 'maximum': 100},\n",
       " {'id': '2818768506048', 'name': 'rf__min_samples_split', 'type': 'integer', 'minimum': 2, 'maximum': 20},\n",
       " {'id': '2818768506104', 'name': 'rf__min_samples_leaf', 'type': 'integer', 'minimum': 1, 'maximum': 20}]"
      ]
     },
     "metadata": {},
     "output_type": "display_data"
    }
   ],
   "source": [
    "from mindfoundry.optaas.client.parameter import IntParameter, BoolParameter, CategoricalParameter, Distribution\n",
    "from mindfoundry.optaas.client.constraint import Constraint\n",
    "\n",
    "feature_count = len(features.columns)\n",
    "n_components = IntParameter('pca__n_components', minimum=1, maximum=feature_count)\n",
    "max_features = IntParameter('rf__max_features', minimum=1, maximum=feature_count, optional=True, include_in_default=False)\n",
    "constraint = Constraint(when=max_features.is_present(), then=max_features < n_components) \n",
    "\n",
    "parameters = [\n",
    "    # PCA parameters\n",
    "    n_components,\n",
    "    BoolParameter('pca__whiten'),\n",
    "    \n",
    "    # Random Forest parameters\n",
    "    max_features,\n",
    "    IntParameter('rf__n_estimators', minimum=10, maximum=1000, default=10, distribution=Distribution.LOGUNIFORM),\n",
    "    CategoricalParameter('rf__criterion', values=['entropy', 'gini']),\n",
    "    IntParameter('rf__max_depth', minimum=1, maximum=100, optional=True),\n",
    "    IntParameter('rf__min_samples_split', minimum=2, maximum=20),\n",
    "    IntParameter('rf__min_samples_leaf', minimum=1, maximum=20),\n",
    "]\n",
    "\n",
    "display(parameters)"
   ]
  },
  {
   "cell_type": "markdown",
   "metadata": {},
   "source": [
    "## Connect to the OPTaaS server using your API Key\n",
    "\n",
    "We now create a client, and connect to the web service that will perform our optimization. You will need to input your personal API key. Make sure you keep your key private and don't commit it to your version control system. "
   ]
  },
  {
   "cell_type": "code",
   "execution_count": 4,
   "metadata": {},
   "outputs": [],
   "source": [
    "from mindfoundry.optaas.client.client import OPTaaSClient\n",
    "\n",
    "client = OPTaaSClient('https://optaas.mindfoundry.ai', '<Your OPTaaS API key>')"
   ]
  },
  {
   "cell_type": "markdown",
   "metadata": {},
   "source": [
    "## Create your Task"
   ]
  },
  {
   "cell_type": "code",
   "execution_count": 5,
   "metadata": {},
   "outputs": [],
   "source": [
    "task = client.create_task(\n",
    "    title='My Pipeline Optimization', \n",
    "    parameters=parameters,\n",
    "    constraints=[constraint]\n",
    ")"
   ]
  },
  {
   "cell_type": "markdown",
   "metadata": {},
   "source": [
    "## Generate the first batch of configurations\n",
    "\n",
    "Here OPTaaS gives us the first 5 configurations (sets of parameter values) for our problem."
   ]
  },
  {
   "cell_type": "code",
   "execution_count": 6,
   "metadata": {
    "scrolled": false
   },
   "outputs": [
    {
     "data": {
      "text/plain": [
       "[{ 'id': 'b28e2056-b957-4838-85d5-93cd9856053f',\n",
       "   'type': 'default',\n",
       "   'values': { 'pca__n_components': 10,\n",
       "               'pca__whiten': False,\n",
       "               'rf__criterion': 'entropy',\n",
       "               'rf__max_depth': 50,\n",
       "               'rf__min_samples_leaf': 10,\n",
       "               'rf__min_samples_split': 11,\n",
       "               'rf__n_estimators': 10}},\n",
       " { 'id': '12d16ead-41fc-407f-897b-35ad2dc2a6c7',\n",
       "   'type': 'exploration',\n",
       "   'values': { 'pca__n_components': 4,\n",
       "               'pca__whiten': True,\n",
       "               'rf__criterion': 'gini',\n",
       "               'rf__min_samples_leaf': 2,\n",
       "               'rf__min_samples_split': 13,\n",
       "               'rf__n_estimators': 46}},\n",
       " { 'id': '8b3e7c4f-5300-41a5-95f1-e2b0a7b4bdc6',\n",
       "   'type': 'exploration',\n",
       "   'values': { 'pca__n_components': 16,\n",
       "               'pca__whiten': True,\n",
       "               'rf__criterion': 'entropy',\n",
       "               'rf__max_depth': 57,\n",
       "               'rf__min_samples_leaf': 10,\n",
       "               'rf__min_samples_split': 4,\n",
       "               'rf__n_estimators': 64}},\n",
       " { 'id': 'c0dfe193-4fa4-4111-bb5c-0a6362394050',\n",
       "   'type': 'exploration',\n",
       "   'values': { 'pca__n_components': 14,\n",
       "               'pca__whiten': True,\n",
       "               'rf__criterion': 'gini',\n",
       "               'rf__min_samples_leaf': 14,\n",
       "               'rf__min_samples_split': 17,\n",
       "               'rf__n_estimators': 174}},\n",
       " { 'id': '28f1e187-c49e-447a-8160-f7441de3e36d',\n",
       "   'type': 'exploration',\n",
       "   'values': { 'pca__n_components': 2,\n",
       "               'pca__whiten': False,\n",
       "               'rf__criterion': 'entropy',\n",
       "               'rf__min_samples_leaf': 6,\n",
       "               'rf__min_samples_split': 9,\n",
       "               'rf__n_estimators': 26}}]"
      ]
     },
     "metadata": {},
     "output_type": "display_data"
    }
   ],
   "source": [
    "configurations = task.generate_configurations(5)\n",
    "\n",
    "display(configurations)"
   ]
  },
  {
   "cell_type": "markdown",
   "metadata": {},
   "source": [
    "## Use the configurations to set pipeline parameters and calculate the result\n",
    "\n",
    "We can plug this configuration into our pipeline, run it and score it. We wrapped this into a function so that we can call it multiple times."
   ]
  },
  {
   "cell_type": "code",
   "execution_count": 7,
   "metadata": {
    "scrolled": true
   },
   "outputs": [
    {
     "data": {
      "text/plain": [
       "'Mean score: 0.689'"
      ]
     },
     "metadata": {},
     "output_type": "display_data"
    }
   ],
   "source": [
    "from sklearn.model_selection import cross_val_score\n",
    "\n",
    "def get_result(configuration):\n",
    "    pipeline = make_pipeline(**configuration.values)\n",
    "    scores = cross_val_score(pipeline, features, target, scoring='f1_micro')\n",
    "    mean_score = scores.mean()\n",
    "    return list(scores), mean_score\n",
    "\n",
    "scores, mean_score = get_result(configurations[0])\n",
    "\n",
    "display(f'Mean score: {mean_score:.3f}')"
   ]
  },
  {
   "cell_type": "markdown",
   "metadata": {},
   "source": [
    "## Record the result in OPTaaS and generate the next configuration to try\n",
    "\n",
    "The score we obtained must now be passed back to OPTaaS, which will use it to generate and return a new configuration.\n",
    "\n",
    "You can store additional user-defined data along with your result, but that's entirely optional and for your convenience only. For example, you can store the individual scores for each category so you can easily reference them later."
   ]
  },
  {
   "cell_type": "code",
   "execution_count": 8,
   "metadata": {
    "scrolled": false
   },
   "outputs": [],
   "source": [
    "next_configuration = task.record_result(configurations[0], score=mean_score, user_defined_data=scores)\n",
    "configurations.append(next_configuration)"
   ]
  },
  {
   "cell_type": "markdown",
   "metadata": {},
   "source": [
    "## Repeat as necessary\n",
    "\n",
    "Repeat the process until you're happy with the result or you've run out of time. How many times should we run it? There is no single answer to this question, but you can look for a certain amount of improvement at each iteration, and stop when you haven't improved in a while. Again this is up to you, and depending on how long you are prepared to wait and perhaps even on how much it costs to run each evaluation on your hardware, especially if you're using a cloud computing service. The more the better (remembering that harder problems, i.e. problems with more parameters, will need more iterations to find a decent solution)."
   ]
  },
  {
   "cell_type": "code",
   "execution_count": 9,
   "metadata": {
    "scrolled": true
   },
   "outputs": [
    {
     "data": {
      "text/plain": [
       "'OPTaaS recommendation:'"
      ]
     },
     "metadata": {},
     "output_type": "display_data"
    },
    {
     "data": {
      "text/plain": [
       "{ 'id': '12d16ead-41fc-407f-897b-35ad2dc2a6c7',\n",
       "  'type': 'exploration',\n",
       "  'values': { 'pca__n_components': 4,\n",
       "              'pca__whiten': True,\n",
       "              'rf__criterion': 'gini',\n",
       "              'rf__min_samples_leaf': 2,\n",
       "              'rf__min_samples_split': 13,\n",
       "              'rf__n_estimators': 46}}"
      ]
     },
     "metadata": {},
     "output_type": "display_data"
    },
    {
     "data": {
      "text/plain": [
       "'Mean score: 0.720'"
      ]
     },
     "metadata": {},
     "output_type": "display_data"
    },
    {
     "data": {
      "text/plain": [
       "'OPTaaS recommendation:'"
      ]
     },
     "metadata": {},
     "output_type": "display_data"
    },
    {
     "data": {
      "text/plain": [
       "{ 'id': '8b3e7c4f-5300-41a5-95f1-e2b0a7b4bdc6',\n",
       "  'type': 'exploration',\n",
       "  'values': { 'pca__n_components': 16,\n",
       "              'pca__whiten': True,\n",
       "              'rf__criterion': 'entropy',\n",
       "              'rf__max_depth': 57,\n",
       "              'rf__min_samples_leaf': 10,\n",
       "              'rf__min_samples_split': 4,\n",
       "              'rf__n_estimators': 64}}"
      ]
     },
     "metadata": {},
     "output_type": "display_data"
    },
    {
     "data": {
      "text/plain": [
       "'Mean score: 0.673'"
      ]
     },
     "metadata": {},
     "output_type": "display_data"
    },
    {
     "data": {
      "text/plain": [
       "'OPTaaS recommendation:'"
      ]
     },
     "metadata": {},
     "output_type": "display_data"
    },
    {
     "data": {
      "text/plain": [
       "{ 'id': 'c0dfe193-4fa4-4111-bb5c-0a6362394050',\n",
       "  'type': 'exploration',\n",
       "  'values': { 'pca__n_components': 14,\n",
       "              'pca__whiten': True,\n",
       "              'rf__criterion': 'gini',\n",
       "              'rf__min_samples_leaf': 14,\n",
       "              'rf__min_samples_split': 17,\n",
       "              'rf__n_estimators': 174}}"
      ]
     },
     "metadata": {},
     "output_type": "display_data"
    },
    {
     "data": {
      "text/plain": [
       "'Mean score: 0.693'"
      ]
     },
     "metadata": {},
     "output_type": "display_data"
    },
    {
     "data": {
      "text/plain": [
       "'OPTaaS recommendation:'"
      ]
     },
     "metadata": {},
     "output_type": "display_data"
    },
    {
     "data": {
      "text/plain": [
       "{ 'id': '28f1e187-c49e-447a-8160-f7441de3e36d',\n",
       "  'type': 'exploration',\n",
       "  'values': { 'pca__n_components': 2,\n",
       "              'pca__whiten': False,\n",
       "              'rf__criterion': 'entropy',\n",
       "              'rf__min_samples_leaf': 6,\n",
       "              'rf__min_samples_split': 9,\n",
       "              'rf__n_estimators': 26}}"
      ]
     },
     "metadata": {},
     "output_type": "display_data"
    },
    {
     "data": {
      "text/plain": [
       "'Mean score: 0.700'"
      ]
     },
     "metadata": {},
     "output_type": "display_data"
    },
    {
     "data": {
      "text/plain": [
       "'OPTaaS recommendation:'"
      ]
     },
     "metadata": {},
     "output_type": "display_data"
    },
    {
     "data": {
      "text/plain": [
       "{ 'id': '4dd81fd5-b880-47b2-a1f0-d8d3d862af8a',\n",
       "  'type': 'exploration',\n",
       "  'values': { 'pca__n_components': 13,\n",
       "              'pca__whiten': False,\n",
       "              'rf__criterion': 'gini',\n",
       "              'rf__min_samples_leaf': 15,\n",
       "              'rf__min_samples_split': 2,\n",
       "              'rf__n_estimators': 21}}"
      ]
     },
     "metadata": {},
     "output_type": "display_data"
    },
    {
     "data": {
      "text/plain": [
       "'Mean score: 0.708'"
      ]
     },
     "metadata": {},
     "output_type": "display_data"
    },
    {
     "data": {
      "text/plain": [
       "'OPTaaS recommendation:'"
      ]
     },
     "metadata": {},
     "output_type": "display_data"
    },
    {
     "data": {
      "text/plain": [
       "{ 'id': 'd15ffba6-038d-40f7-9118-ca53ff93d869',\n",
       "  'type': 'exploration',\n",
       "  'values': { 'pca__n_components': 9,\n",
       "              'pca__whiten': True,\n",
       "              'rf__criterion': 'gini',\n",
       "              'rf__min_samples_leaf': 9,\n",
       "              'rf__min_samples_split': 8,\n",
       "              'rf__n_estimators': 453}}"
      ]
     },
     "metadata": {},
     "output_type": "display_data"
    },
    {
     "data": {
      "text/plain": [
       "'Mean score: 0.691'"
      ]
     },
     "metadata": {},
     "output_type": "display_data"
    },
    {
     "data": {
      "text/plain": [
       "'OPTaaS recommendation:'"
      ]
     },
     "metadata": {},
     "output_type": "display_data"
    },
    {
     "data": {
      "text/plain": [
       "{ 'id': '86cc7bb9-2127-4739-9c31-48af131c9fdb',\n",
       "  'type': 'exploration',\n",
       "  'values': { 'pca__n_components': 7,\n",
       "              'pca__whiten': False,\n",
       "              'rf__criterion': 'gini',\n",
       "              'rf__min_samples_leaf': 14,\n",
       "              'rf__min_samples_split': 2,\n",
       "              'rf__n_estimators': 261}}"
      ]
     },
     "metadata": {},
     "output_type": "display_data"
    },
    {
     "data": {
      "text/plain": [
       "'Mean score: 0.711'"
      ]
     },
     "metadata": {},
     "output_type": "display_data"
    },
    {
     "data": {
      "text/plain": [
       "'OPTaaS recommendation:'"
      ]
     },
     "metadata": {},
     "output_type": "display_data"
    },
    {
     "data": {
      "text/plain": [
       "{ 'id': '7599d674-f9d9-4aad-813d-b2c09a21ccc9',\n",
       "  'type': 'exploration',\n",
       "  'values': { 'pca__n_components': 8,\n",
       "              'pca__whiten': False,\n",
       "              'rf__criterion': 'gini',\n",
       "              'rf__max_features': 6,\n",
       "              'rf__min_samples_leaf': 18,\n",
       "              'rf__min_samples_split': 9,\n",
       "              'rf__n_estimators': 23}}"
      ]
     },
     "metadata": {},
     "output_type": "display_data"
    },
    {
     "data": {
      "text/plain": [
       "'Mean score: 0.675'"
      ]
     },
     "metadata": {},
     "output_type": "display_data"
    },
    {
     "data": {
      "text/plain": [
       "'OPTaaS recommendation:'"
      ]
     },
     "metadata": {},
     "output_type": "display_data"
    },
    {
     "data": {
      "text/plain": [
       "{ 'id': 'f7e47036-cd44-44d8-a479-a05c9f0445e5',\n",
       "  'type': 'exploration',\n",
       "  'values': { 'pca__n_components': 20,\n",
       "              'pca__whiten': False,\n",
       "              'rf__criterion': 'entropy',\n",
       "              'rf__min_samples_leaf': 16,\n",
       "              'rf__min_samples_split': 9,\n",
       "              'rf__n_estimators': 235}}"
      ]
     },
     "metadata": {},
     "output_type": "display_data"
    },
    {
     "data": {
      "text/plain": [
       "'Mean score: 0.690'"
      ]
     },
     "metadata": {},
     "output_type": "display_data"
    },
    {
     "data": {
      "text/plain": [
       "'OPTaaS recommendation:'"
      ]
     },
     "metadata": {},
     "output_type": "display_data"
    },
    {
     "data": {
      "text/plain": [
       "{ 'id': 'e7da2a86-bea1-4afd-8b02-36a445630c13',\n",
       "  'type': 'exploitation',\n",
       "  'values': { 'pca__n_components': 4,\n",
       "              'pca__whiten': True,\n",
       "              'rf__criterion': 'entropy',\n",
       "              'rf__min_samples_leaf': 6,\n",
       "              'rf__min_samples_split': 13,\n",
       "              'rf__n_estimators': 46}}"
      ]
     },
     "metadata": {},
     "output_type": "display_data"
    },
    {
     "data": {
      "text/plain": [
       "'Mean score: 0.693'"
      ]
     },
     "metadata": {},
     "output_type": "display_data"
    },
    {
     "data": {
      "text/plain": [
       "'OPTaaS recommendation:'"
      ]
     },
     "metadata": {},
     "output_type": "display_data"
    },
    {
     "data": {
      "text/plain": [
       "{ 'id': 'a197c10b-74bd-4c52-afd4-372e5fcbe506',\n",
       "  'type': 'exploitation',\n",
       "  'values': { 'pca__n_components': 7,\n",
       "              'pca__whiten': True,\n",
       "              'rf__criterion': 'gini',\n",
       "              'rf__min_samples_leaf': 3,\n",
       "              'rf__min_samples_split': 5,\n",
       "              'rf__n_estimators': 80}}"
      ]
     },
     "metadata": {},
     "output_type": "display_data"
    },
    {
     "data": {
      "text/plain": [
       "'Mean score: 0.684'"
      ]
     },
     "metadata": {},
     "output_type": "display_data"
    },
    {
     "data": {
      "text/plain": [
       "'OPTaaS recommendation:'"
      ]
     },
     "metadata": {},
     "output_type": "display_data"
    },
    {
     "data": {
      "text/plain": [
       "{ 'id': '28e00eed-7d8a-40d8-893d-00a978af2eb7',\n",
       "  'type': 'exploitation',\n",
       "  'values': { 'pca__n_components': 5,\n",
       "              'pca__whiten': True,\n",
       "              'rf__criterion': 'gini',\n",
       "              'rf__max_depth': 77,\n",
       "              'rf__min_samples_leaf': 2,\n",
       "              'rf__min_samples_split': 13,\n",
       "              'rf__n_estimators': 46}}"
      ]
     },
     "metadata": {},
     "output_type": "display_data"
    },
    {
     "data": {
      "text/plain": [
       "'Mean score: 0.690'"
      ]
     },
     "metadata": {},
     "output_type": "display_data"
    },
    {
     "data": {
      "text/plain": [
       "'OPTaaS recommendation:'"
      ]
     },
     "metadata": {},
     "output_type": "display_data"
    },
    {
     "data": {
      "text/plain": [
       "{ 'id': '9b5857be-f9f9-4833-b5a0-88b0b15a639d',\n",
       "  'type': 'exploitation',\n",
       "  'values': { 'pca__n_components': 5,\n",
       "              'pca__whiten': True,\n",
       "              'rf__criterion': 'gini',\n",
       "              'rf__max_depth': 30,\n",
       "              'rf__min_samples_leaf': 4,\n",
       "              'rf__min_samples_split': 14,\n",
       "              'rf__n_estimators': 43}}"
      ]
     },
     "metadata": {},
     "output_type": "display_data"
    },
    {
     "data": {
      "text/plain": [
       "'Mean score: 0.684'"
      ]
     },
     "metadata": {},
     "output_type": "display_data"
    },
    {
     "data": {
      "text/plain": [
       "'OPTaaS recommendation:'"
      ]
     },
     "metadata": {},
     "output_type": "display_data"
    },
    {
     "data": {
      "text/plain": [
       "{ 'id': '9883dbad-a7ad-4f59-bc75-f35f4f028172',\n",
       "  'type': 'exploitation',\n",
       "  'values': { 'pca__n_components': 5,\n",
       "              'pca__whiten': True,\n",
       "              'rf__criterion': 'gini',\n",
       "              'rf__max_features': 3,\n",
       "              'rf__min_samples_leaf': 1,\n",
       "              'rf__min_samples_split': 13,\n",
       "              'rf__n_estimators': 46}}"
      ]
     },
     "metadata": {},
     "output_type": "display_data"
    },
    {
     "data": {
      "text/plain": [
       "'Mean score: 0.682'"
      ]
     },
     "metadata": {},
     "output_type": "display_data"
    },
    {
     "data": {
      "text/plain": [
       "'OPTaaS recommendation:'"
      ]
     },
     "metadata": {},
     "output_type": "display_data"
    },
    {
     "data": {
      "text/plain": [
       "{ 'id': '0425df60-7a26-4188-b3f2-a85941707440',\n",
       "  'type': 'exploitation',\n",
       "  'values': { 'pca__n_components': 5,\n",
       "              'pca__whiten': True,\n",
       "              'rf__criterion': 'gini',\n",
       "              'rf__max_depth': 98,\n",
       "              'rf__max_features': 2,\n",
       "              'rf__min_samples_leaf': 2,\n",
       "              'rf__min_samples_split': 13,\n",
       "              'rf__n_estimators': 66}}"
      ]
     },
     "metadata": {},
     "output_type": "display_data"
    },
    {
     "data": {
      "text/plain": [
       "'Mean score: 0.682'"
      ]
     },
     "metadata": {},
     "output_type": "display_data"
    },
    {
     "data": {
      "text/plain": [
       "'OPTaaS recommendation:'"
      ]
     },
     "metadata": {},
     "output_type": "display_data"
    },
    {
     "data": {
      "text/plain": [
       "{ 'id': '1749e0d1-7bab-4652-8812-5c1e655c68b3',\n",
       "  'type': 'exploitation',\n",
       "  'values': { 'pca__n_components': 5,\n",
       "              'pca__whiten': True,\n",
       "              'rf__criterion': 'gini',\n",
       "              'rf__max_features': 3,\n",
       "              'rf__min_samples_leaf': 2,\n",
       "              'rf__min_samples_split': 10,\n",
       "              'rf__n_estimators': 55}}"
      ]
     },
     "metadata": {},
     "output_type": "display_data"
    },
    {
     "data": {
      "text/plain": [
       "'Mean score: 0.717'"
      ]
     },
     "metadata": {},
     "output_type": "display_data"
    },
    {
     "data": {
      "text/plain": [
       "'OPTaaS recommendation:'"
      ]
     },
     "metadata": {},
     "output_type": "display_data"
    },
    {
     "data": {
      "text/plain": [
       "{ 'id': '5997cb03-51ce-4cdd-a96f-0972cceaae13',\n",
       "  'type': 'exploitation',\n",
       "  'values': { 'pca__n_components': 5,\n",
       "              'pca__whiten': True,\n",
       "              'rf__criterion': 'gini',\n",
       "              'rf__max_features': 2,\n",
       "              'rf__min_samples_leaf': 2,\n",
       "              'rf__min_samples_split': 14,\n",
       "              'rf__n_estimators': 22}}"
      ]
     },
     "metadata": {},
     "output_type": "display_data"
    },
    {
     "data": {
      "text/plain": [
       "'Mean score: 0.705'"
      ]
     },
     "metadata": {},
     "output_type": "display_data"
    },
    {
     "data": {
      "text/plain": [
       "'OPTaaS recommendation:'"
      ]
     },
     "metadata": {},
     "output_type": "display_data"
    },
    {
     "data": {
      "text/plain": [
       "{ 'id': '49adb2dc-e7ea-45c6-9c84-ed5871d280cb',\n",
       "  'type': 'exploitation',\n",
       "  'values': { 'pca__n_components': 4,\n",
       "              'pca__whiten': True,\n",
       "              'rf__criterion': 'gini',\n",
       "              'rf__max_features': 1,\n",
       "              'rf__min_samples_leaf': 2,\n",
       "              'rf__min_samples_split': 12,\n",
       "              'rf__n_estimators': 54}}"
      ]
     },
     "metadata": {},
     "output_type": "display_data"
    },
    {
     "data": {
      "text/plain": [
       "'Mean score: 0.698'"
      ]
     },
     "metadata": {},
     "output_type": "display_data"
    },
    {
     "data": {
      "text/plain": [
       "'OPTaaS recommendation:'"
      ]
     },
     "metadata": {},
     "output_type": "display_data"
    },
    {
     "data": {
      "text/plain": [
       "{ 'id': '8dd67531-1e0a-462a-be1e-c15e3276cd92',\n",
       "  'type': 'exploitation',\n",
       "  'values': { 'pca__n_components': 4,\n",
       "              'pca__whiten': True,\n",
       "              'rf__criterion': 'gini',\n",
       "              'rf__min_samples_leaf': 1,\n",
       "              'rf__min_samples_split': 4,\n",
       "              'rf__n_estimators': 63}}"
      ]
     },
     "metadata": {},
     "output_type": "display_data"
    },
    {
     "data": {
      "text/plain": [
       "'Mean score: 0.708'"
      ]
     },
     "metadata": {},
     "output_type": "display_data"
    }
   ],
   "source": [
    "number_of_iterations = 20\n",
    "\n",
    "for i in range(1, number_of_iterations):\n",
    "    configuration = configurations[i]\n",
    "    display(\"OPTaaS recommendation:\", configuration)\n",
    "    \n",
    "    scores, mean_score = get_result(configuration)\n",
    "    display(f'Mean score: {mean_score:.3f}')\n",
    "    \n",
    "    next_configuration = task.record_result(configuration, score=mean_score, user_defined_data=scores)\n",
    "    configurations.append(next_configuration)"
   ]
  },
  {
   "cell_type": "markdown",
   "metadata": {},
   "source": [
    "## Complete your task\n",
    "\n",
    "Tell OPTaaS that you're satisfied and you won't run any more experiments, then go ahead and get your final result out. Job done!"
   ]
  },
  {
   "cell_type": "code",
   "execution_count": 10,
   "metadata": {},
   "outputs": [
    {
     "data": {
      "text/plain": [
       "{ 'configuration': '12d16ead-41fc-407f-897b-35ad2dc2a6c7',\n",
       "  'id': 946,\n",
       "  'score': 0.7199864535193875,\n",
       "  'user_defined_data': [ 0.7335329341317365,\n",
       "                         0.7147147147147147,\n",
       "                         0.7117117117117117]}"
      ]
     },
     "metadata": {},
     "output_type": "display_data"
    },
    {
     "data": {
      "text/plain": [
       "{ 'id': '12d16ead-41fc-407f-897b-35ad2dc2a6c7',\n",
       "  'type': 'exploration',\n",
       "  'values': { 'pca__n_components': 4,\n",
       "              'pca__whiten': True,\n",
       "              'rf__criterion': 'gini',\n",
       "              'rf__min_samples_leaf': 2,\n",
       "              'rf__min_samples_split': 13,\n",
       "              'rf__n_estimators': 46}}"
      ]
     },
     "metadata": {},
     "output_type": "display_data"
    }
   ],
   "source": [
    "task.complete()\n",
    "\n",
    "best_result, best_configuration = task.get_best_result_and_configuration()\n",
    "\n",
    "display(best_result, best_configuration)"
   ]
  }
 ],
 "metadata": {
  "kernelspec": {
   "display_name": "Python 3",
   "language": "python",
   "name": "python3"
  },
  "language_info": {
   "codemirror_mode": {
    "name": "ipython",
    "version": 3
   },
   "file_extension": ".py",
   "mimetype": "text/x-python",
   "name": "python",
   "nbconvert_exporter": "python",
   "pygments_lexer": "ipython3",
   "version": "3.6.4"
  },
  "nav_menu": {},
  "toc": {
   "navigate_menu": true,
   "number_sections": false,
   "sideBar": true,
   "threshold": 6.0,
   "toc_cell": false,
   "toc_section_display": "block",
   "toc_window_display": false
  }
 },
 "nbformat": 4,
 "nbformat_minor": 2
}
