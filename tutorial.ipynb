{
 "cells": [
  {
   "cell_type": "markdown",
   "metadata": {},
   "source": [
    "# OPTaaS Tutorial\n",
    "\n",
    "OPTaaS is an optimization service developed by Mind Foundry. It can be used to optimize any function you wish to use; all it needs to know is the parameter space over which the function operates.\n",
    "\n",
    "The procedure is simple: you create a task, which is the definition of the parameters of the function, and send it to OPTaaS. The service will then suggest a configuration (set of values for your parameters) to evaluate. You evaluate the configuration locally and send the score you obtained back to OPTaaS. You then repeat the process until you're happy that the score is good, or that there hasn't been enough progress in a while. \n",
    "\n",
    "Here we demonstrate how to use OPTaaS to optimize a scikit-learn classification pipeline."
   ]
  },
  {
   "cell_type": "markdown",
   "metadata": {},
   "source": [
    "## Load your dataset\n",
    "\n",
    "We will run a classification pipeline using the German Credit Data available [here](https://newonlinecourses.science.psu.edu/stat857/node/215/). The data contains 1000 rows, with 20 feature columns and 1 target column which includes 2 classes."
   ]
  },
  {
   "cell_type": "code",
   "execution_count": 1,
   "metadata": {
    "scrolled": false
   },
   "outputs": [],
   "source": [
    "import pandas as pd\n",
    "\n",
    "data = pd.read_csv('german_credit.csv')\n",
    "features = data[data.columns.drop(['Creditability'])]\n",
    "target = data['Creditability']"
   ]
  },
  {
   "cell_type": "markdown",
   "metadata": {},
   "source": [
    "## Create your pipeline\n",
    "\n",
    "We can then assemble a simple pipeline: we reduce the input dimensions with PCA, and then discover the type of flower with a Random Forest Classifier.\n",
    "\n",
    "We create a function that will set the parameters of our pipeline based on the values that OPTaaS will generate."
   ]
  },
  {
   "cell_type": "code",
   "execution_count": 2,
   "metadata": {},
   "outputs": [
    {
     "data": {
      "text/plain": [
       "Pipeline(memory=None,\n",
       "     steps=[('pca', PCA(copy=True, iterated_power='auto', n_components=None, random_state=None,\n",
       "  svd_solver='auto', tol=0.0, whiten=False)), ('rf', RandomForestClassifier(bootstrap=True, class_weight=None, criterion='gini',\n",
       "            max_depth=None, max_features='auto', max_leaf_nodes=None,\n",
       "          ...n_jobs=1,\n",
       "            oob_score=False, random_state=None, verbose=0,\n",
       "            warm_start=False))])"
      ]
     },
     "execution_count": 2,
     "metadata": {},
     "output_type": "execute_result"
    }
   ],
   "source": [
    "from sklearn.pipeline import Pipeline\n",
    "from sklearn.decomposition import PCA\n",
    "from sklearn.ensemble import RandomForestClassifier\n",
    "\n",
    "def make_pipeline(**params):\n",
    "    pipeline = Pipeline([('pca', PCA()), ('rf', RandomForestClassifier())])\n",
    "    pipeline.set_params(**params)\n",
    "    return pipeline\n",
    "\n",
    "make_pipeline()"
   ]
  },
  {
   "cell_type": "markdown",
   "metadata": {},
   "source": [
    "## Define the parameters to be optimized\n",
    "\n",
    "Let's now define the parameters for our task. A list of available parameter types can be found [here](autogen/mindfoundry.optaas.client.html#module-mindfoundry.optaas.client.parameter).\n",
    "\n",
    "We can use *constraints* to make sure that the parameter values are always valid, e.g. that `max_features` in our classifier will never be larger than `n_components` in PCA. (see also: [Constraints](constraints.ipynb))\n",
    "\n",
    "scikit-learn pipelines follow a naming convention, so we abide to that convention here. This allows us to plug them in directly into `Pipeline.set_params()`.\n",
    "\n",
    "Note that you don't have to define every single parameter of your pipelines, just the ones you would like to optimize. If you don't know what parameters will lead to better results, give them all to OPTaaS and let it do the hard work for you. However, the more parameters you have, the harder it is to optimize over them, so you will need more iterations to achieve comparable results. "
   ]
  },
  {
   "cell_type": "code",
   "execution_count": 3,
   "metadata": {
    "scrolled": true
   },
   "outputs": [
    {
     "data": {
      "text/plain": [
       "[{'id': '2592603269720', 'name': 'pca__n_components', 'type': 'integer', 'minimum': 1, 'maximum': 20},\n",
       " {'id': '2592603252832', 'name': 'pca__whiten', 'type': 'boolean'},\n",
       " {'id': '2592603269888', 'name': 'rf__max_features', 'type': 'integer', 'optional': True, 'includeInDefault': False, 'minimum': 1, 'maximum': 20},\n",
       " {'id': '2592603252888', 'name': 'rf__n_estimators', 'type': 'integer', 'default': 10, 'minimum': 10, 'maximum': 1000, 'distribution': 'LogUniform'},\n",
       " {'id': '2592603252944', 'name': 'rf__criterion', 'type': 'categorical', 'enum': ['entropy', 'gini']},\n",
       " {'id': '2592603253000', 'name': 'rf__max_depth', 'type': 'integer', 'optional': True, 'minimum': 1, 'maximum': 100},\n",
       " {'id': '2592603253056', 'name': 'rf__min_samples_split', 'type': 'integer', 'minimum': 2, 'maximum': 20},\n",
       " {'id': '2592603253112', 'name': 'rf__min_samples_leaf', 'type': 'integer', 'minimum': 1, 'maximum': 20}]"
      ]
     },
     "metadata": {},
     "output_type": "display_data"
    }
   ],
   "source": [
    "from mindfoundry.optaas.client.parameter import IntParameter, BoolParameter, CategoricalParameter, Distribution\n",
    "from mindfoundry.optaas.client.constraint import Constraint\n",
    "\n",
    "feature_count = len(features.columns)\n",
    "n_components = IntParameter('pca__n_components', minimum=1, maximum=feature_count)\n",
    "max_features = IntParameter('rf__max_features', minimum=1, maximum=feature_count, optional=True, include_in_default=False)\n",
    "constraint = Constraint(when=max_features.is_present(), then=max_features < n_components) \n",
    "\n",
    "parameters = [\n",
    "    # PCA parameters\n",
    "    n_components,\n",
    "    BoolParameter('pca__whiten'),\n",
    "    \n",
    "    # Random Forest parameters\n",
    "    max_features,\n",
    "    IntParameter('rf__n_estimators', minimum=10, maximum=1000, default=10, distribution=Distribution.LOGUNIFORM),\n",
    "    CategoricalParameter('rf__criterion', values=['entropy', 'gini']),\n",
    "    IntParameter('rf__max_depth', minimum=1, maximum=100, optional=True),\n",
    "    IntParameter('rf__min_samples_split', minimum=2, maximum=20),\n",
    "    IntParameter('rf__min_samples_leaf', minimum=1, maximum=20),\n",
    "]\n",
    "\n",
    "display(parameters)"
   ]
  },
  {
   "cell_type": "markdown",
   "metadata": {},
   "source": [
    "## Connect to the OPTaaS server using your API Key\n",
    "\n",
    "We now create a client, and connect to the web service that will perform our optimization. You will need to input your personal API key. Make sure you keep your key private and don't commit it to your version control system. "
   ]
  },
  {
   "cell_type": "code",
   "execution_count": 4,
   "metadata": {},
   "outputs": [],
   "source": [
    "from mindfoundry.optaas.client.client import OPTaaSClient\n",
    "\n",
    "client = OPTaaSClient('<URL of your OPTaaS server>', '<Your OPTaaS API key>')"
   ]
  },
  {
   "cell_type": "markdown",
   "metadata": {},
   "source": [
    "## Create your Task"
   ]
  },
  {
   "cell_type": "code",
   "execution_count": 5,
   "metadata": {},
   "outputs": [],
   "source": [
    "task = client.create_task(\n",
    "    title='My Pipeline Optimization', \n",
    "    parameters=parameters,\n",
    "    constraints=[constraint]\n",
    ")"
   ]
  },
  {
   "cell_type": "markdown",
   "metadata": {},
   "source": [
    "## Generate the first configuration\n",
    "\n",
    "Here OPTaaS gives us the first configuration (set of parameter values) for our problem. "
   ]
  },
  {
   "cell_type": "code",
   "execution_count": 6,
   "metadata": {
    "scrolled": false
   },
   "outputs": [
    {
     "data": {
      "text/plain": [
       "{ 'id': 'a485cfc1-0140-4e34-bb46-32b026a5ab8b',\n",
       "  'type': 'default',\n",
       "  'values': { 'pca__n_components': 10,\n",
       "              'pca__whiten': False,\n",
       "              'rf__criterion': 'entropy',\n",
       "              'rf__max_depth': 50,\n",
       "              'rf__min_samples_leaf': 10,\n",
       "              'rf__min_samples_split': 11,\n",
       "              'rf__n_estimators': 10}}"
      ]
     },
     "metadata": {},
     "output_type": "display_data"
    }
   ],
   "source": [
    "configuration = task.generate_configuration()\n",
    "\n",
    "display(configuration)"
   ]
  },
  {
   "cell_type": "markdown",
   "metadata": {},
   "source": [
    "## Use the configuration to set pipeline parameters and calculate the result\n",
    "\n",
    "We can plug this configuration into our pipeline, run it and score it. We wrapped this into a function so that we can call it multiple times."
   ]
  },
  {
   "cell_type": "code",
   "execution_count": 7,
   "metadata": {
    "scrolled": true
   },
   "outputs": [
    {
     "data": {
      "text/plain": [
       "'Mean score: 0.692'"
      ]
     },
     "metadata": {},
     "output_type": "display_data"
    }
   ],
   "source": [
    "from sklearn.model_selection import cross_val_score\n",
    "\n",
    "def get_result(configuration):\n",
    "    pipeline = make_pipeline()\n",
    "    scores = cross_val_score(pipeline, features, target, scoring='f1_micro')\n",
    "    mean_score = scores.mean()\n",
    "    return list(scores), mean_score\n",
    "\n",
    "scores, mean_score = get_result(configuration)\n",
    "\n",
    "display(f'Mean score: {mean_score:.3f}')"
   ]
  },
  {
   "cell_type": "markdown",
   "metadata": {},
   "source": [
    "## Record the result in OPTaaS and generate the next configuration to try\n",
    "\n",
    "The score we obtained must now be passed back to OPTaaS, which will use it to generate and return a new configuration.\n",
    "\n",
    "You can store additional user-defined data along with your result, but that's entirely optional and for your convenience only. For example, you can store the individual scores for each category so you can easily reference them later."
   ]
  },
  {
   "cell_type": "code",
   "execution_count": 8,
   "metadata": {
    "scrolled": false
   },
   "outputs": [],
   "source": [
    "configuration = task.record_result(configuration, score=mean_score, user_defined_data=scores)"
   ]
  },
  {
   "cell_type": "markdown",
   "metadata": {},
   "source": [
    "## Repeat as necessary\n",
    "\n",
    "Repeat the process until you're happy with the result or you've run out of time. How many times should we run it? There is no single answer to this question, but you can look for a certain amount of improvement at each iteration, and stop when you haven't improved in a while. Again this is up to you, and depending on how long you are prepared to wait and perhaps even on how much it costs to run each evaluation on your hardware, especially if you're using a cloud computing service. The more the better (remembering that harder problems, i.e. problems with more parameters, will need more iterations to find a decent solution)."
   ]
  },
  {
   "cell_type": "code",
   "execution_count": 9,
   "metadata": {
    "scrolled": true
   },
   "outputs": [
    {
     "data": {
      "text/plain": [
       "'OPTaaS recommendation:'"
      ]
     },
     "metadata": {},
     "output_type": "display_data"
    },
    {
     "data": {
      "text/plain": [
       "{ 'id': '7b00c6ea-3237-43a5-9429-227c24837485',\n",
       "  'type': 'exploration',\n",
       "  'values': { 'pca__n_components': 1,\n",
       "              'pca__whiten': True,\n",
       "              'rf__criterion': 'entropy',\n",
       "              'rf__min_samples_leaf': 1,\n",
       "              'rf__min_samples_split': 7,\n",
       "              'rf__n_estimators': 12}}"
      ]
     },
     "metadata": {},
     "output_type": "display_data"
    },
    {
     "data": {
      "text/plain": [
       "'Mean score: 0.682'"
      ]
     },
     "metadata": {},
     "output_type": "display_data"
    },
    {
     "data": {
      "text/plain": [
       "'OPTaaS recommendation:'"
      ]
     },
     "metadata": {},
     "output_type": "display_data"
    },
    {
     "data": {
      "text/plain": [
       "{ 'id': '887f4904-96a0-44e4-8c37-3043f5007f4d',\n",
       "  'type': 'exploration',\n",
       "  'values': { 'pca__n_components': 19,\n",
       "              'pca__whiten': True,\n",
       "              'rf__criterion': 'gini',\n",
       "              'rf__min_samples_leaf': 20,\n",
       "              'rf__min_samples_split': 2,\n",
       "              'rf__n_estimators': 113}}"
      ]
     },
     "metadata": {},
     "output_type": "display_data"
    },
    {
     "data": {
      "text/plain": [
       "'Mean score: 0.690'"
      ]
     },
     "metadata": {},
     "output_type": "display_data"
    },
    {
     "data": {
      "text/plain": [
       "'OPTaaS recommendation:'"
      ]
     },
     "metadata": {},
     "output_type": "display_data"
    },
    {
     "data": {
      "text/plain": [
       "{ 'id': 'a75f17b0-fa8f-4acd-8b22-53ed38184c28',\n",
       "  'type': 'exploration',\n",
       "  'values': { 'pca__n_components': 11,\n",
       "              'pca__whiten': False,\n",
       "              'rf__criterion': 'entropy',\n",
       "              'rf__min_samples_leaf': 16,\n",
       "              'rf__min_samples_split': 3,\n",
       "              'rf__n_estimators': 160}}"
      ]
     },
     "metadata": {},
     "output_type": "display_data"
    },
    {
     "data": {
      "text/plain": [
       "'Mean score: 0.705'"
      ]
     },
     "metadata": {},
     "output_type": "display_data"
    },
    {
     "data": {
      "text/plain": [
       "'OPTaaS recommendation:'"
      ]
     },
     "metadata": {},
     "output_type": "display_data"
    },
    {
     "data": {
      "text/plain": [
       "{ 'id': '676d1ed9-e7c1-4871-a12d-7eca95968247',\n",
       "  'type': 'exploration',\n",
       "  'values': { 'pca__n_components': 18,\n",
       "              'pca__whiten': True,\n",
       "              'rf__criterion': 'entropy',\n",
       "              'rf__min_samples_leaf': 19,\n",
       "              'rf__min_samples_split': 9,\n",
       "              'rf__n_estimators': 22}}"
      ]
     },
     "metadata": {},
     "output_type": "display_data"
    },
    {
     "data": {
      "text/plain": [
       "'Mean score: 0.671'"
      ]
     },
     "metadata": {},
     "output_type": "display_data"
    },
    {
     "data": {
      "text/plain": [
       "'OPTaaS recommendation:'"
      ]
     },
     "metadata": {},
     "output_type": "display_data"
    },
    {
     "data": {
      "text/plain": [
       "{ 'id': 'f31170ae-4b1c-40e9-b2ee-876c65a8e4dc',\n",
       "  'type': 'exploration',\n",
       "  'values': { 'pca__n_components': 8,\n",
       "              'pca__whiten': False,\n",
       "              'rf__criterion': 'gini',\n",
       "              'rf__min_samples_leaf': 14,\n",
       "              'rf__min_samples_split': 2,\n",
       "              'rf__n_estimators': 12}}"
      ]
     },
     "metadata": {},
     "output_type": "display_data"
    },
    {
     "data": {
      "text/plain": [
       "'Mean score: 0.706'"
      ]
     },
     "metadata": {},
     "output_type": "display_data"
    },
    {
     "data": {
      "text/plain": [
       "'OPTaaS recommendation:'"
      ]
     },
     "metadata": {},
     "output_type": "display_data"
    },
    {
     "data": {
      "text/plain": [
       "{ 'id': '9aa4c6f1-72f0-4521-887f-901af26d840f',\n",
       "  'type': 'exploration',\n",
       "  'values': { 'pca__n_components': 20,\n",
       "              'pca__whiten': False,\n",
       "              'rf__criterion': 'gini',\n",
       "              'rf__min_samples_leaf': 14,\n",
       "              'rf__min_samples_split': 7,\n",
       "              'rf__n_estimators': 104}}"
      ]
     },
     "metadata": {},
     "output_type": "display_data"
    },
    {
     "data": {
      "text/plain": [
       "'Mean score: 0.688'"
      ]
     },
     "metadata": {},
     "output_type": "display_data"
    },
    {
     "data": {
      "text/plain": [
       "'OPTaaS recommendation:'"
      ]
     },
     "metadata": {},
     "output_type": "display_data"
    },
    {
     "data": {
      "text/plain": [
       "{ 'id': '84eac1df-83e3-4691-bb8f-39abc9f67f24',\n",
       "  'type': 'exploration',\n",
       "  'values': { 'pca__n_components': 8,\n",
       "              'pca__whiten': False,\n",
       "              'rf__criterion': 'gini',\n",
       "              'rf__min_samples_leaf': 14,\n",
       "              'rf__min_samples_split': 10,\n",
       "              'rf__n_estimators': 677}}"
      ]
     },
     "metadata": {},
     "output_type": "display_data"
    },
    {
     "data": {
      "text/plain": [
       "'Mean score: 0.702'"
      ]
     },
     "metadata": {},
     "output_type": "display_data"
    },
    {
     "data": {
      "text/plain": [
       "'OPTaaS recommendation:'"
      ]
     },
     "metadata": {},
     "output_type": "display_data"
    },
    {
     "data": {
      "text/plain": [
       "{ 'id': 'd9d69638-0b9c-46cb-a2f9-a623ad3fdcc4',\n",
       "  'type': 'exploration',\n",
       "  'values': { 'pca__n_components': 20,\n",
       "              'pca__whiten': False,\n",
       "              'rf__criterion': 'gini',\n",
       "              'rf__min_samples_leaf': 15,\n",
       "              'rf__min_samples_split': 13,\n",
       "              'rf__n_estimators': 119}}"
      ]
     },
     "metadata": {},
     "output_type": "display_data"
    },
    {
     "data": {
      "text/plain": [
       "'Mean score: 0.693'"
      ]
     },
     "metadata": {},
     "output_type": "display_data"
    },
    {
     "data": {
      "text/plain": [
       "'OPTaaS recommendation:'"
      ]
     },
     "metadata": {},
     "output_type": "display_data"
    },
    {
     "data": {
      "text/plain": [
       "{ 'id': 'd94c5a38-5b02-47b1-9e22-34953cb7a819',\n",
       "  'type': 'exploration',\n",
       "  'values': { 'pca__n_components': 12,\n",
       "              'pca__whiten': True,\n",
       "              'rf__criterion': 'gini',\n",
       "              'rf__min_samples_leaf': 6,\n",
       "              'rf__min_samples_split': 3,\n",
       "              'rf__n_estimators': 49}}"
      ]
     },
     "metadata": {},
     "output_type": "display_data"
    },
    {
     "data": {
      "text/plain": [
       "'Mean score: 0.691'"
      ]
     },
     "metadata": {},
     "output_type": "display_data"
    },
    {
     "data": {
      "text/plain": [
       "'OPTaaS recommendation:'"
      ]
     },
     "metadata": {},
     "output_type": "display_data"
    },
    {
     "data": {
      "text/plain": [
       "{ 'id': '0087dbfb-1f08-4705-b8da-822420fdd97f',\n",
       "  'type': 'exploitation',\n",
       "  'values': { 'pca__n_components': 2,\n",
       "              'pca__whiten': False,\n",
       "              'rf__criterion': 'entropy',\n",
       "              'rf__min_samples_leaf': 19,\n",
       "              'rf__min_samples_split': 2,\n",
       "              'rf__n_estimators': 160}}"
      ]
     },
     "metadata": {},
     "output_type": "display_data"
    },
    {
     "data": {
      "text/plain": [
       "'Mean score: 0.678'"
      ]
     },
     "metadata": {},
     "output_type": "display_data"
    },
    {
     "data": {
      "text/plain": [
       "'OPTaaS recommendation:'"
      ]
     },
     "metadata": {},
     "output_type": "display_data"
    },
    {
     "data": {
      "text/plain": [
       "{ 'id': '3a219e17-6dc5-4b27-ac32-20a2c0364b1c',\n",
       "  'type': 'exploration',\n",
       "  'values': { 'pca__n_components': 8,\n",
       "              'pca__whiten': False,\n",
       "              'rf__criterion': 'gini',\n",
       "              'rf__max_depth': 95,\n",
       "              'rf__max_features': 6,\n",
       "              'rf__min_samples_leaf': 15,\n",
       "              'rf__min_samples_split': 9,\n",
       "              'rf__n_estimators': 16}}"
      ]
     },
     "metadata": {},
     "output_type": "display_data"
    },
    {
     "data": {
      "text/plain": [
       "'Mean score: 0.711'"
      ]
     },
     "metadata": {},
     "output_type": "display_data"
    },
    {
     "data": {
      "text/plain": [
       "'OPTaaS recommendation:'"
      ]
     },
     "metadata": {},
     "output_type": "display_data"
    },
    {
     "data": {
      "text/plain": [
       "{ 'id': 'bcae2e00-8485-433c-8e0d-40d70ca5f7a5',\n",
       "  'type': 'exploitation',\n",
       "  'values': { 'pca__n_components': 8,\n",
       "              'pca__whiten': False,\n",
       "              'rf__criterion': 'entropy',\n",
       "              'rf__min_samples_leaf': 18,\n",
       "              'rf__min_samples_split': 2,\n",
       "              'rf__n_estimators': 407}}"
      ]
     },
     "metadata": {},
     "output_type": "display_data"
    },
    {
     "data": {
      "text/plain": [
       "'Mean score: 0.710'"
      ]
     },
     "metadata": {},
     "output_type": "display_data"
    },
    {
     "data": {
      "text/plain": [
       "'OPTaaS recommendation:'"
      ]
     },
     "metadata": {},
     "output_type": "display_data"
    },
    {
     "data": {
      "text/plain": [
       "{ 'id': '3b318220-871e-4fcb-b8a2-6abe9b708c15',\n",
       "  'type': 'exploration',\n",
       "  'values': { 'pca__n_components': 12,\n",
       "              'pca__whiten': False,\n",
       "              'rf__criterion': 'entropy',\n",
       "              'rf__max_depth': 38,\n",
       "              'rf__max_features': 2,\n",
       "              'rf__min_samples_leaf': 9,\n",
       "              'rf__min_samples_split': 6,\n",
       "              'rf__n_estimators': 44}}"
      ]
     },
     "metadata": {},
     "output_type": "display_data"
    },
    {
     "data": {
      "text/plain": [
       "'Mean score: 0.699'"
      ]
     },
     "metadata": {},
     "output_type": "display_data"
    },
    {
     "data": {
      "text/plain": [
       "'OPTaaS recommendation:'"
      ]
     },
     "metadata": {},
     "output_type": "display_data"
    },
    {
     "data": {
      "text/plain": [
       "{ 'id': 'd51959d1-2e59-4c1f-ae73-48d1fe0645b0',\n",
       "  'type': 'exploitation',\n",
       "  'values': { 'pca__n_components': 6,\n",
       "              'pca__whiten': False,\n",
       "              'rf__criterion': 'entropy',\n",
       "              'rf__max_depth': 74,\n",
       "              'rf__max_features': 2,\n",
       "              'rf__min_samples_leaf': 18,\n",
       "              'rf__min_samples_split': 6,\n",
       "              'rf__n_estimators': 407}}"
      ]
     },
     "metadata": {},
     "output_type": "display_data"
    },
    {
     "data": {
      "text/plain": [
       "'Mean score: 0.701'"
      ]
     },
     "metadata": {},
     "output_type": "display_data"
    },
    {
     "data": {
      "text/plain": [
       "'OPTaaS recommendation:'"
      ]
     },
     "metadata": {},
     "output_type": "display_data"
    },
    {
     "data": {
      "text/plain": [
       "{ 'id': 'e562bccd-b2e4-479e-8112-1140793dfdd6',\n",
       "  'type': 'exploration',\n",
       "  'values': { 'pca__n_components': 7,\n",
       "              'pca__whiten': True,\n",
       "              'rf__criterion': 'entropy',\n",
       "              'rf__min_samples_leaf': 9,\n",
       "              'rf__min_samples_split': 4,\n",
       "              'rf__n_estimators': 218}}"
      ]
     },
     "metadata": {},
     "output_type": "display_data"
    },
    {
     "data": {
      "text/plain": [
       "'Mean score: 0.676'"
      ]
     },
     "metadata": {},
     "output_type": "display_data"
    },
    {
     "data": {
      "text/plain": [
       "'OPTaaS recommendation:'"
      ]
     },
     "metadata": {},
     "output_type": "display_data"
    },
    {
     "data": {
      "text/plain": [
       "{ 'id': '63daf59c-b212-4d3e-b297-462bf9b0f67b',\n",
       "  'type': 'exploitation',\n",
       "  'values': { 'pca__n_components': 9,\n",
       "              'pca__whiten': False,\n",
       "              'rf__criterion': 'entropy',\n",
       "              'rf__max_features': 6,\n",
       "              'rf__min_samples_leaf': 18,\n",
       "              'rf__min_samples_split': 2,\n",
       "              'rf__n_estimators': 25}}"
      ]
     },
     "metadata": {},
     "output_type": "display_data"
    },
    {
     "data": {
      "text/plain": [
       "'Mean score: 0.706'"
      ]
     },
     "metadata": {},
     "output_type": "display_data"
    },
    {
     "data": {
      "text/plain": [
       "'OPTaaS recommendation:'"
      ]
     },
     "metadata": {},
     "output_type": "display_data"
    },
    {
     "data": {
      "text/plain": [
       "{ 'id': 'd8600a7a-3f5b-469b-a70b-0fca521ac48e',\n",
       "  'type': 'exploration',\n",
       "  'values': { 'pca__n_components': 14,\n",
       "              'pca__whiten': False,\n",
       "              'rf__criterion': 'entropy',\n",
       "              'rf__min_samples_leaf': 20,\n",
       "              'rf__min_samples_split': 18,\n",
       "              'rf__n_estimators': 109}}"
      ]
     },
     "metadata": {},
     "output_type": "display_data"
    },
    {
     "data": {
      "text/plain": [
       "'Mean score: 0.731'"
      ]
     },
     "metadata": {},
     "output_type": "display_data"
    },
    {
     "data": {
      "text/plain": [
       "'OPTaaS recommendation:'"
      ]
     },
     "metadata": {},
     "output_type": "display_data"
    },
    {
     "data": {
      "text/plain": [
       "{ 'id': '50f983a6-4d4f-4a57-8e9a-dc57657455ff',\n",
       "  'type': 'exploitation',\n",
       "  'values': { 'pca__n_components': 14,\n",
       "              'pca__whiten': False,\n",
       "              'rf__criterion': 'entropy',\n",
       "              'rf__max_depth': 97,\n",
       "              'rf__max_features': 10,\n",
       "              'rf__min_samples_leaf': 20,\n",
       "              'rf__min_samples_split': 17,\n",
       "              'rf__n_estimators': 22}}"
      ]
     },
     "metadata": {},
     "output_type": "display_data"
    },
    {
     "data": {
      "text/plain": [
       "'Mean score: 0.697'"
      ]
     },
     "metadata": {},
     "output_type": "display_data"
    },
    {
     "data": {
      "text/plain": [
       "'OPTaaS recommendation:'"
      ]
     },
     "metadata": {},
     "output_type": "display_data"
    },
    {
     "data": {
      "text/plain": [
       "{ 'id': '6b7fb4c7-1127-449a-8621-a4840f1ce4a8',\n",
       "  'type': 'exploration',\n",
       "  'values': { 'pca__n_components': 11,\n",
       "              'pca__whiten': True,\n",
       "              'rf__criterion': 'entropy',\n",
       "              'rf__max_depth': 69,\n",
       "              'rf__min_samples_leaf': 1,\n",
       "              'rf__min_samples_split': 2,\n",
       "              'rf__n_estimators': 440}}"
      ]
     },
     "metadata": {},
     "output_type": "display_data"
    },
    {
     "data": {
      "text/plain": [
       "'Mean score: 0.707'"
      ]
     },
     "metadata": {},
     "output_type": "display_data"
    },
    {
     "data": {
      "text/plain": [
       "'OPTaaS recommendation:'"
      ]
     },
     "metadata": {},
     "output_type": "display_data"
    },
    {
     "data": {
      "text/plain": [
       "{ 'id': '16154785-688d-4cbc-8208-e9d7da97c048',\n",
       "  'type': 'exploitation',\n",
       "  'values': { 'pca__n_components': 17,\n",
       "              'pca__whiten': False,\n",
       "              'rf__criterion': 'entropy',\n",
       "              'rf__min_samples_leaf': 20,\n",
       "              'rf__min_samples_split': 18,\n",
       "              'rf__n_estimators': 22}}"
      ]
     },
     "metadata": {},
     "output_type": "display_data"
    },
    {
     "data": {
      "text/plain": [
       "'Mean score: 0.695'"
      ]
     },
     "metadata": {},
     "output_type": "display_data"
    }
   ],
   "source": [
    "number_of_iterations = 20\n",
    "\n",
    "for _ in range(number_of_iterations):\n",
    "    display(\"OPTaaS recommendation:\", configuration)\n",
    "    scores, mean_score = get_result(configuration)\n",
    "    display(f'Mean score: {mean_score:.3f}')\n",
    "    configuration = task.record_result(configuration, score=mean_score, user_defined_data=scores)"
   ]
  },
  {
   "cell_type": "markdown",
   "metadata": {},
   "source": [
    "## Complete your task\n",
    "\n",
    "Tell OPTaaS that you're satisfied and you won't run any more experiments, then go ahead and get your final result out. Job done!"
   ]
  },
  {
   "cell_type": "code",
   "execution_count": 10,
   "metadata": {},
   "outputs": [
    {
     "data": {
      "text/plain": [
       "{ 'configuration': 'd8600a7a-3f5b-469b-a70b-0fca521ac48e',\n",
       "  'id': 102,\n",
       "  'score': 0.7309644974315632,\n",
       "  'user_defined_data': [ 0.7664670658682635,\n",
       "                         0.7087087087087086,\n",
       "                         0.7177177177177178]}"
      ]
     },
     "metadata": {},
     "output_type": "display_data"
    },
    {
     "data": {
      "text/plain": [
       "{ 'id': 'd8600a7a-3f5b-469b-a70b-0fca521ac48e',\n",
       "  'type': 'exploration',\n",
       "  'values': { 'pca__n_components': 14,\n",
       "              'pca__whiten': False,\n",
       "              'rf__criterion': 'entropy',\n",
       "              'rf__min_samples_leaf': 20,\n",
       "              'rf__min_samples_split': 18,\n",
       "              'rf__n_estimators': 109}}"
      ]
     },
     "metadata": {},
     "output_type": "display_data"
    }
   ],
   "source": [
    "task.complete()\n",
    "\n",
    "best_result, best_configuration = task.get_best_result_and_configuration()\n",
    "\n",
    "display(best_result, best_configuration)"
   ]
  }
 ],
 "metadata": {
  "kernelspec": {
   "display_name": "Python 3",
   "language": "python",
   "name": "python3"
  },
  "language_info": {
   "codemirror_mode": {
    "name": "ipython",
    "version": 3
   },
   "file_extension": ".py",
   "mimetype": "text/x-python",
   "name": "python",
   "nbconvert_exporter": "python",
   "pygments_lexer": "ipython3",
   "version": "3.6.4"
  },
  "nav_menu": {},
  "toc": {
   "navigate_menu": true,
   "number_sections": false,
   "sideBar": true,
   "threshold": 6,
   "toc_cell": false,
   "toc_section_display": "block",
   "toc_window_display": false
  }
 },
 "nbformat": 4,
 "nbformat_minor": 2
}
